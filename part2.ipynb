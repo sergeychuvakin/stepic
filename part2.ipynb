{
 "cells": [
  {
   "cell_type": "markdown",
   "metadata": {},
   "source": [
    "## регулярные выражения"
   ]
  },
  {
   "cell_type": "markdown",
   "metadata": {},
   "source": [
    "#### сырые и обычные строки"
   ]
  },
  {
   "cell_type": "code",
   "execution_count": 9,
   "metadata": {},
   "outputs": [
    {
     "name": "stdout",
     "output_type": "stream",
     "text": [
      "hello\n",
      "world\n",
      "hello'world\n",
      "          \n",
      "hello\\nworld\n",
      "hello\\'world\n"
     ]
    }
   ],
   "source": [
    "# обычные строки\n",
    "x = 'hello\\nworld'\n",
    "print(x)\n",
    "x = 'hello\\'world'\n",
    "print(x)\n",
    "# но если мы не хотим, чтобы интерпретатор считывал служебные символы, строка станет сырой\n",
    "print('          ')\n",
    "# для шаблона именно такие и нужны\n",
    "x = r'hello\\nworld'\n",
    "print(x)\n",
    "x = r'hello\\'world' # r - raw\n",
    "print(x)"
   ]
  },
  {
   "cell_type": "markdown",
   "metadata": {},
   "source": [
    "#### шаблон регуляных выражений - сырые строки"
   ]
  },
  {
   "cell_type": "code",
   "execution_count": 10,
   "metadata": {},
   "outputs": [
    {
     "name": "stdout",
     "output_type": "stream",
     "text": [
      "<function match at 0x7f17d4b0bf28>\n",
      "<function search at 0x7f17d4ad26a8>\n",
      "<function findall at 0x7f17d4ad28c8>\n",
      "<function sub at 0x7f17d4ad2730>\n"
     ]
    }
   ],
   "source": [
    "import re\n",
    "\n",
    "print(re.match) # берет шаблон, берет строку и проверяет подходит ли строка под шаблон(начиная с 0го символа)\n",
    "print(re.search) # находит первую подстроку, которая подходит под наш шаблон \n",
    "print(re.findall) # будет находить все подстроки нашей строки, которые подходят под наш шаблон \n",
    "print(re.sub) # заменить все вхождения подстрок которые подходят под наш шаблол чем нибудь другим"
   ]
  },
  {
   "cell_type": "code",
   "execution_count": 17,
   "metadata": {},
   "outputs": [
    {
     "name": "stdout",
     "output_type": "stream",
     "text": [
      "<_sre.SRE_Match object; span=(0, 3), match='abc'>\n"
     ]
    }
   ],
   "source": [
    "pattern = r'abc'\n",
    "string = 'abcсссabcabc'\n",
    "match_obj = re.match(pattern, string)\n",
    "print(match_obj)"
   ]
  },
  {
   "cell_type": "markdown",
   "metadata": {},
   "source": [
    "match - наш шаблон <br>\n",
    "span - с какой по какую строки находятся наше вхождение (первое как я понял). И функция ищет по началу строки.<br>\n",
    "Для того, чтобы искать не сначала, нужна функция search"
   ]
  },
  {
   "cell_type": "code",
   "execution_count": 18,
   "metadata": {},
   "outputs": [
    {
     "name": "stdout",
     "output_type": "stream",
     "text": [
      "<_sre.SRE_Match object; span=(3, 6), match='abc'>\n"
     ]
    }
   ],
   "source": [
    "pattern = r'abc'\n",
    "string = 'bbbabcсссabcabc'\n",
    "match_obj = re.search(pattern, string)\n",
    "print(match_obj)"
   ]
  },
  {
   "cell_type": "markdown",
   "metadata": {},
   "source": [
    "Здесь span показывает только первое вхождение. Значения span можно использовать для слайсинга"
   ]
  },
  {
   "cell_type": "markdown",
   "metadata": {},
   "source": [
    "### метасимволы"
   ]
  },
  {
   "cell_type": "code",
   "execution_count": 30,
   "metadata": {},
   "outputs": [],
   "source": [
    "# . ^ $ * + {} [] \\ | ()"
   ]
  },
  {
   "cell_type": "markdown",
   "metadata": {},
   "source": [
    "#### [  ] - указывается множетсво подходящих символов"
   ]
  },
  {
   "cell_type": "code",
   "execution_count": 23,
   "metadata": {},
   "outputs": [
    {
     "name": "stdout",
     "output_type": "stream",
     "text": [
      "<_sre.SRE_Match object; span=(3, 6), match='abc'>\n"
     ]
    }
   ],
   "source": [
    "pattern = r'a[acb]c' # запись означает, что вторым символов может быть a b c \n",
    "string = 'bbbabcсссabcabc'\n",
    "match_obj = re.search(pattern, string)\n",
    "print(match_obj)"
   ]
  },
  {
   "cell_type": "markdown",
   "metadata": {},
   "source": [
    "#### findall"
   ]
  },
  {
   "cell_type": "code",
   "execution_count": 24,
   "metadata": {},
   "outputs": [
    {
     "name": "stdout",
     "output_type": "stream",
     "text": [
      "['abc', 'acc', 'aac']\n"
     ]
    }
   ],
   "source": [
    "pattern = r'a[acb]c' # запись означает, что вторым символов может быть a b c \n",
    "string = 'abc, acc, aac'\n",
    "all_inclusions = re.findall(pattern, string)\n",
    "print(all_inclusions) # возвращается список"
   ]
  },
  {
   "cell_type": "markdown",
   "metadata": {},
   "source": [
    "#### sub"
   ]
  },
  {
   "cell_type": "code",
   "execution_count": 26,
   "metadata": {},
   "outputs": [
    {
     "name": "stdout",
     "output_type": "stream",
     "text": [
      "'abc, abc, abc'\n"
     ]
    }
   ],
   "source": [
    "pattern = r'a[acb]c' # запись означает, что вторым символов может быть a b c \n",
    "string = 'abc, acc, aac'\n",
    "fixed_typos = re.sub(pattern,'abc', string) # второй аргумент, на что надо заменить найденный шаблон\n",
    "print(repr(fixed_typos))\n"
   ]
  },
  {
   "cell_type": "markdown",
   "metadata": {},
   "source": [
    "#### ? "
   ]
  },
  {
   "cell_type": "code",
   "execution_count": 29,
   "metadata": {},
   "outputs": [
    {
     "name": "stdout",
     "output_type": "stream",
     "text": [
      "<_sre.SRE_Match object; span=(12, 21), match=' english?'>\n"
     ]
    }
   ],
   "source": [
    "import re\n",
    "\n",
    "pattern = r' english\\?'\n",
    "string = 'Do you speak english?'\n",
    "match = re.search(pattern, string)\n",
    "print(match)"
   ]
  },
  {
   "cell_type": "markdown",
   "metadata": {},
   "source": [
    "чтобы использовать метасимволы в качестве обычных символов, нужно заключить их в обратный слэш"
   ]
  },
  {
   "cell_type": "markdown",
   "metadata": {},
   "source": [
    "#### - диапозон"
   ]
  },
  {
   "cell_type": "code",
   "execution_count": 32,
   "metadata": {},
   "outputs": [
    {
     "name": "stdout",
     "output_type": "stream",
     "text": [
      "<_sre.SRE_Match object; span=(0, 3), match='acc'>\n",
      "['abc', 'acc', 'aac', 'adc']\n",
      "'abc, abc, abc'\n"
     ]
    }
   ],
   "source": [
    "pattern = r'a[a-zA-z]c'# здесь важен регистр. A-Z - все большие буквы алфавита\n",
    "string = 'acc'\n",
    "match_obj = re.match(pattern, string)\n",
    "print(match_obj)\n",
    "\n",
    "string = 'abc, acc, aac, adc'\n",
    "all_inclusions = re.findall(pattern, string)\n",
    "print(all_inclusions)\n",
    "\n",
    "string = 'abc, acc, aac'\n",
    "fixed_typos = re.sub(pattern,'abc', string) \n",
    "print(repr(fixed_typos))"
   ]
  },
  {
   "cell_type": "markdown",
   "metadata": {},
   "source": [
    "#### ^ -  cirkoflex, отрицание, мы им указываем, что не подходит "
   ]
  },
  {
   "cell_type": "code",
   "execution_count": 35,
   "metadata": {},
   "outputs": [
    {
     "name": "stdout",
     "output_type": "stream",
     "text": [
      "None\n",
      "['a-c', 'a.c']\n",
      "'abc, acc, aac'\n"
     ]
    }
   ],
   "source": [
    "pattern = r'a[^a-zA-z]c' \n",
    "string = 'acc'\n",
    "match_obj = re.match(pattern, string)\n",
    "print(match_obj)\n",
    "\n",
    "string = 'abc, acc, a_c, a-c, a.c'\n",
    "all_inclusions = re.findall(pattern, string)\n",
    "print(all_inclusions)\n",
    "\n",
    "string = 'abc, acc, aac'\n",
    "fixed_typos = re.sub(pattern,'abc', string) \n",
    "print(repr(fixed_typos))"
   ]
  },
  {
   "cell_type": "markdown",
   "metadata": {},
   "source": [
    "#### символьные сокращения <br>\n",
    "**[]** - множество подходящих символов <br>\n",
    "**\\b - ** включить любые символы перед строкой, кроме цифр и букв, используется для того,чтобы показать что слово закончилось  <br>\n",
    "**\\B - ** Или цифра или буква <br>\n",
    "**\\d - [0-9]**- все цифры <br>\n",
    "**\\D - [^0-9]** - все кроме цифр <br>\n",
    "**\\s - [\\t\\n\\r\\f\\v]** - все пробельные символы <br>\n",
    "**\\S - [^\\t\\n\\r\\f\\v]** - все кроме пробельных символов <br>\n",
    "**\\w - [a-zA-Z0-9_]** - цифры+буквы+_ <br>\n",
    "**\\W - [^a-zA-Z0-9_]** - все кроме цифры+буквы+_ "
   ]
  },
  {
   "cell_type": "code",
   "execution_count": 36,
   "metadata": {},
   "outputs": [
    {
     "name": "stdout",
     "output_type": "stream",
     "text": [
      "<_sre.SRE_Match object; span=(0, 3), match='acc'>\n",
      "['abc', 'acc', 'a_c']\n",
      "'abc, abc, abc'\n"
     ]
    }
   ],
   "source": [
    "#pattern = r'a[a-zA-z]c' \n",
    "pattern = r'a\\wc' # тоже самое что и выше, только с цифрами и нижним подчеркиванием\n",
    "pattern = r'a[\\w.]c' # слайсы для множества\n",
    "string = 'acc'\n",
    "match_obj = re.match(pattern, string)\n",
    "print(match_obj)\n",
    "\n",
    "string = 'abc, acc, a_c, a-c, a.c'\n",
    "all_inclusions = re.findall(pattern, string)\n",
    "print(all_inclusions)\n",
    "\n",
    "string = 'abc, acc, aac'\n",
    "fixed_typos = re.sub(pattern,'abc', string) \n",
    "print(repr(fixed_typos))"
   ]
  },
  {
   "cell_type": "markdown",
   "metadata": {},
   "source": [
    "#### . - любой символ"
   ]
  },
  {
   "cell_type": "code",
   "execution_count": 37,
   "metadata": {},
   "outputs": [
    {
     "name": "stdout",
     "output_type": "stream",
     "text": [
      "<_sre.SRE_Match object; span=(0, 3), match='acc'>\n",
      "['abc', 'acc', 'a_c', 'a-c', 'a.c']\n",
      "'abc, abc, abc'\n"
     ]
    }
   ],
   "source": [
    "pattern = r'a.c'\n",
    "string = 'acc'\n",
    "match_obj = re.match(pattern, string)\n",
    "print(match_obj)\n",
    "\n",
    "string = 'abc, acc, a_c, a-c, a.c'\n",
    "all_inclusions = re.findall(pattern, string)\n",
    "print(all_inclusions)\n",
    "\n",
    "string = 'abc, acc, aac'\n",
    "fixed_typos = re.sub(pattern,'abc', string) \n",
    "print(repr(fixed_typos))"
   ]
  },
  {
   "cell_type": "markdown",
   "metadata": {},
   "source": [
    "#### Метасимволы связанные с количеством искомых символов\n",
    "\\* - любое количество включая ноль <br>\n",
    "\\+ - только положительное число включений <br>\n",
    "\\? - 0 или 1 вхождение <br>\n",
    "{\\d} - конкретное количество вхождений цифрами. Второй аргумент в скобках верхняя граница. \n",
    "##### по дефолту, символы повтора являются \"жадными\", то есть пытаются завлечь в себя как можно больше символов"
   ]
  },
  {
   "cell_type": "code",
   "execution_count": 38,
   "metadata": {},
   "outputs": [
    {
     "name": "stdout",
     "output_type": "stream",
     "text": [
      "['aa', 'aba', 'abba']\n"
     ]
    }
   ],
   "source": [
    "pattern = r'ab*a'\n",
    "string = 'aa, aba, abba'\n",
    "all_inclusions = re.findall(pattern, string)\n",
    "print(all_inclusions)"
   ]
  },
  {
   "cell_type": "code",
   "execution_count": 41,
   "metadata": {},
   "outputs": [
    {
     "name": "stdout",
     "output_type": "stream",
     "text": [
      "['aba', 'abba']\n"
     ]
    }
   ],
   "source": [
    "pattern = r'ab+a'\n",
    "string = 'aa, aba, abba'\n",
    "all_inclusions = re.findall(pattern, string)\n",
    "print(all_inclusions)"
   ]
  },
  {
   "cell_type": "code",
   "execution_count": 39,
   "metadata": {},
   "outputs": [
    {
     "name": "stdout",
     "output_type": "stream",
     "text": [
      "['aa', 'aba']\n"
     ]
    }
   ],
   "source": [
    "pattern = r'ab?a'\n",
    "string = 'aa, aba, abba'\n",
    "all_inclusions = re.findall(pattern, string)\n",
    "print(all_inclusions)"
   ]
  },
  {
   "cell_type": "code",
   "execution_count": 42,
   "metadata": {},
   "outputs": [
    {
     "name": "stdout",
     "output_type": "stream",
     "text": [
      "['abbba']\n"
     ]
    }
   ],
   "source": [
    "pattern = r'ab{3}a'\n",
    "string = 'aa, aba, abbba'\n",
    "all_inclusions = re.findall(pattern, string)\n",
    "print(all_inclusions)"
   ]
  },
  {
   "cell_type": "markdown",
   "metadata": {},
   "source": [
    "#### 'Жадность'"
   ]
  },
  {
   "cell_type": "code",
   "execution_count": 43,
   "metadata": {},
   "outputs": [
    {
     "name": "stdout",
     "output_type": "stream",
     "text": [
      "<_sre.SRE_Match object; span=(0, 6), match='abaaba'>\n",
      "['abaaba']\n"
     ]
    }
   ],
   "source": [
    "pattern = r'a[ab]+a' \n",
    "string = 'abaaba' \n",
    "print(re.match(pattern, string)) \n",
    "print(re.findall(pattern, string))\n",
    "# по идее он может остановится в поиске уже на 2 символе(0, 3), \n",
    "# но мы видим что он доходит до 5(0, 6), потому что жадный"
   ]
  },
  {
   "cell_type": "code",
   "execution_count": 44,
   "metadata": {},
   "outputs": [
    {
     "name": "stdout",
     "output_type": "stream",
     "text": [
      "<_sre.SRE_Match object; span=(0, 3), match='aba'>\n",
      "['aba', 'aba']\n"
     ]
    }
   ],
   "source": [
    "# однако можно убрать 'жадность' с помощью \\?\n",
    "pattern = r'a[ab]+?a' #таким образом будет показано минимальное возможная строка \n",
    "string = 'abaaba' \n",
    "print(re.match(pattern, string)) \n",
    "print(re.findall(pattern, string))"
   ]
  },
  {
   "cell_type": "markdown",
   "metadata": {},
   "source": [
    "#### () - группировка"
   ]
  },
  {
   "cell_type": "code",
   "execution_count": 49,
   "metadata": {},
   "outputs": [
    {
     "name": "stdout",
     "output_type": "stream",
     "text": [
      "<_sre.SRE_Match object; span=(0, 16), match='testtesttesttest'>\n"
     ]
    }
   ],
   "source": [
    "import re \n",
    "\n",
    "pattern = r'(test)*' # в данном случае, искать будет не по 1 символу а по 4, они будут всприниматься как 1\n",
    "string  = 'testtesttesttest'\n",
    "\n",
    "match = re.match(pattern, string)\n",
    "print(match)"
   ]
  },
  {
   "cell_type": "code",
   "execution_count": 50,
   "metadata": {},
   "outputs": [
    {
     "name": "stdout",
     "output_type": "stream",
     "text": [
      "<_sre.SRE_Match object; span=(0, 12), match='testtesttext'>\n"
     ]
    }
   ],
   "source": [
    "import re \n",
    "\n",
    "pattern = r'abc|(test|text)*' # | знак или,то есть будет искать цельный симвов test или text\n",
    "string  = 'testtesttext'\n",
    "\n",
    "match = re.match(pattern, string)\n",
    "print(match)"
   ]
  },
  {
   "cell_type": "code",
   "execution_count": 51,
   "metadata": {},
   "outputs": [
    {
     "name": "stdout",
     "output_type": "stream",
     "text": [
      "<_sre.SRE_Match object; span=(0, 3), match='abc'>\n",
      "('abc', 'abc', None)\n"
     ]
    }
   ],
   "source": [
    "import re \n",
    "\n",
    "pattern = r'((abc)|(test|text)*)' # \n",
    "string  = 'abc'\n",
    "\n",
    "match = re.match(pattern, string)\n",
    "print(match)\n",
    "print(match.groups()) # здесь можно заметить, что каждая из группировок \n",
    "# действительно соответствует некоторой группе поиска. \n",
    "# У нас первая группа - обширные скобки, 2 - abc, 3 - (test|text)*"
   ]
  },
  {
   "cell_type": "code",
   "execution_count": 58,
   "metadata": {},
   "outputs": [
    {
     "name": "stdout",
     "output_type": "stream",
     "text": [
      "<_sre.SRE_Match object; span=(0, 9), match='Hello abc'>\n",
      "('abc',)\n",
      "Hello abc\n",
      "abc\n"
     ]
    }
   ],
   "source": [
    "import re \n",
    "\n",
    "pattern = r'Hello (abc|test)' \n",
    "string  = 'Hello abc'\n",
    "\n",
    "match = re.match(pattern, string)\n",
    "print(match)\n",
    "print(match.groups())\n",
    "print(match.group(0)) # дефолтное значение, показать совпадения\n",
    "print(match.group(1)) # здесь мы ищем совпадение по второй группировке"
   ]
  },
  {
   "cell_type": "markdown",
   "metadata": {},
   "source": [
    "#### \\ - с их помощью можно обращатся к группам прям внутри шаблона"
   ]
  },
  {
   "cell_type": "code",
   "execution_count": 60,
   "metadata": {},
   "outputs": [
    {
     "name": "stdout",
     "output_type": "stream",
     "text": [
      "<_sre.SRE_Match object; span=(0, 9), match='test-test'>\n",
      "('test',)\n"
     ]
    }
   ],
   "source": [
    "import re \n",
    "\n",
    "pattern = r'(\\w+)-\\1' # здесь \\1 означает, что нужно повторить 1 группу\n",
    "string  = 'test-test'\n",
    "\n",
    "match = re.match(pattern, string)\n",
    "print(match)\n",
    "print(match.groups()) "
   ]
  },
  {
   "cell_type": "code",
   "execution_count": 61,
   "metadata": {},
   "outputs": [
    {
     "name": "stdout",
     "output_type": "stream",
     "text": [
      "test chow\n"
     ]
    }
   ],
   "source": [
    "# также можно сослаться на группу внутри функции sub\n",
    "import re \n",
    "\n",
    "pattern = r'(\\w+)-\\1' # здесь \\1 означает, что нужно повторить 1 группу\n",
    "string  = 'test-test chow-chow'\n",
    "\n",
    "duplicate = re.sub(pattern, r'\\1',string)\n",
    "print(duplicate) "
   ]
  },
  {
   "cell_type": "code",
   "execution_count": 64,
   "metadata": {},
   "outputs": [
    {
     "name": "stdout",
     "output_type": "stream",
     "text": [
      "[('test-test', 'test'), ('chow-chow', 'chow')]\n"
     ]
    }
   ],
   "source": [
    "# с findall нужно аккуратнее, так как с группами она ведет себя нестандартно \n",
    "\n",
    "pattern = r'((\\w+)-\\2)' # так как группы две, то и возвращатся будут кортежы по два значения \n",
    "string  = 'test-test chow-chow' \n",
    "\n",
    "duplicate = re.findall(pattern, string)\n",
    "print(duplicate) # возвращает кортеж групп, вместо строк"
   ]
  },
  {
   "cell_type": "markdown",
   "metadata": {},
   "source": [
    "#### специальный флажки, встроенные в модуль"
   ]
  },
  {
   "cell_type": "markdown",
   "metadata": {},
   "source": [
    "##### ignorecase"
   ]
  },
  {
   "cell_type": "code",
   "execution_count": 66,
   "metadata": {},
   "outputs": [
    {
     "name": "stdout",
     "output_type": "stream",
     "text": [
      "<_sre.SRE_Match object; span=(0, 4), match='TEXT'>\n"
     ]
    }
   ],
   "source": [
    "import re \n",
    "\n",
    "x = re.match(r'text', 'TEXT', re.IGNORECASE) # игнорировать регистр\n",
    "print(x)"
   ]
  },
  {
   "cell_type": "markdown",
   "metadata": {},
   "source": [
    "###### debug"
   ]
  },
  {
   "cell_type": "code",
   "execution_count": 69,
   "metadata": {},
   "outputs": [
    {
     "name": "stdout",
     "output_type": "stream",
     "text": [
      "MIN_REPEAT 0 MAXREPEAT\n",
      "  SUBPATTERN 1 0 0\n",
      "    LITERAL 116\n",
      "    LITERAL 101\n",
      "LITERAL 120\n",
      "LITERAL 116\n",
      "<_sre.SRE_Match object; span=(0, 4), match='TEXT'>\n"
     ]
    }
   ],
   "source": [
    "x = re.match(r'(te)*?xt', 'TEXT', re.IGNORECASE | re.DEBUG)\n",
    "print(x)"
   ]
  },
  {
   "cell_type": "markdown",
   "metadata": {},
   "source": [
    "MAX_REPEAT 0 MAXREPEAT - ищем максимальное вхождение, так как поставили * <br>\n",
    "--SUBPATTERN 1 0 0 - наша группа <br>\n",
    "----LITERAL 116 - Здесь и делее, код в таблице юникода <br>\n",
    "----LITERAL 101 - <br>\n",
    "LITERAL 120 <br>\n",
    "LITERAL 116\n"
   ]
  },
  {
   "cell_type": "markdown",
   "metadata": {},
   "source": [
    "### Regular expressions problems"
   ]
  },
  {
   "cell_type": "markdown",
   "metadata": {},
   "source": [
    "#  1"
   ]
  },
  {
   "cell_type": "markdown",
   "metadata": {},
   "source": [
    "Вам дана последовательность строк.\n",
    "Выведите строки, содержащие \"cat\" в качестве подстроки хотя бы два раза.\n",
    "\n",
    "Примечание:\n",
    "Считать все строки по одной из стандартного потока ввода вы можете, например, так\n",
    "```python\n",
    "import sys\n",
    "\n",
    "for line in sys.stdin:\n",
    "    line = line.rstrip()\n",
    "    # process line\n",
    "```    \n",
    "\n",
    "**Sample Input:**\n",
    "```\n",
    "catcat\n",
    "cat and cat\n",
    "catac\n",
    "cat\n",
    "ccaatt\n",
    "```\n",
    "**Sample Output:**\n",
    "```\n",
    "catcat\n",
    "cat and cat\n",
    "```\n"
   ]
  },
  {
   "cell_type": "code",
   "execution_count": 99,
   "metadata": {},
   "outputs": [],
   "source": [
    "import sys\n",
    "import re\n",
    "\n",
    "pattern = r'(cat)'\n",
    "for line in sys.stdin:\n",
    "    line = line.rstrip()\n",
    "    if len(re.findall(pattern, line))>2: \n",
    "        print(line)"
   ]
  },
  {
   "cell_type": "code",
   "execution_count": null,
   "metadata": {},
   "outputs": [],
   "source": [
    "import re\n",
    "import sys\n",
    "\n",
    "for line in sys.stdin:\n",
    "    line = line.strip()\n",
    "    if re.search(r\"cat.*cat\", line): # достаточно одного вхождения шаблона\n",
    "        print(line)"
   ]
  },
  {
   "cell_type": "markdown",
   "metadata": {},
   "source": [
    "# 2"
   ]
  },
  {
   "cell_type": "markdown",
   "metadata": {},
   "source": [
    "Вам дана последовательность строк.<br>\n",
    "Выведите строки, содержащие \"cat\" в качестве слова.\n",
    "\n",
    "Примечание:<br>\n",
    "Для работы со словами используйте группы символов **\\b** и **\\B**.<br>\n",
    "Описание этих групп вы можете найти в документации.\n",
    "\n",
    "**Sample Input:**\n",
    "```\n",
    "catapult and cat\n",
    "catcat\n",
    "concat\n",
    "Cat\n",
    "\"cat\"\n",
    "!cat?\n",
    "```\n",
    "**Sample Output:**\n",
    "```\n",
    "cat\n",
    "catapult and cat\n",
    "\"cat\"\n",
    "!cat?\n",
    "```"
   ]
  },
  {
   "cell_type": "code",
   "execution_count": null,
   "metadata": {},
   "outputs": [],
   "source": [
    "# Your code complexity score is 5.39 (best for this step is 1.0).\n",
    "import sys\n",
    "import re\n",
    "\n",
    "pattern = r'\\bcat\\b'\n",
    "for line in sys.stdin:\n",
    "    line = line.rstrip()\n",
    "    if re.findall(pattern, line): \n",
    "        print(line)# put your python code here"
   ]
  },
  {
   "cell_type": "code",
   "execution_count": null,
   "metadata": {},
   "outputs": [],
   "source": [
    "# пример Кости зайцева\n",
    "# put your python code here\n",
    "import re\n",
    "import sys\n",
    "\n",
    "for line in sys.stdin:\n",
    "    line = line.rstrip()\n",
    "    if re.search(r\"\\bcat\\b\", line): # можно использовать просто search, так как нам достаточно одного вхождения\n",
    "        print(line)"
   ]
  },
  {
   "cell_type": "markdown",
   "metadata": {},
   "source": [
    "# 3"
   ]
  },
  {
   "cell_type": "markdown",
   "metadata": {},
   "source": [
    "Вам дана последовательность строк. <br>\n",
    "Выведите строки, содержащие две буквы \"z﻿\", между которыми ровно три символа.\n",
    "\n",
    "**Sample Input:**\n",
    "```\n",
    "zabcz\n",
    "zzz\n",
    "zzxzz\n",
    "zz\n",
    "zxz\n",
    "zzxzxxz\n",
    "```\n",
    "**Sample Output:**\n",
    "```\n",
    "zabcz\n",
    "zzxzz\n",
    "```"
   ]
  },
  {
   "cell_type": "code",
   "execution_count": 103,
   "metadata": {},
   "outputs": [],
   "source": [
    "# Your code complexity score is 5.1 (best for this step is 4.0).\n",
    "import re\n",
    "import sys\n",
    "\n",
    "for line in sys.stdin:\n",
    "    line = line.rstrip()\n",
    "    if re.search(r'z.{3}z', line): \n",
    "        print(line)"
   ]
  },
  {
   "cell_type": "markdown",
   "metadata": {},
   "source": [
    "# 4"
   ]
  },
  {
   "cell_type": "markdown",
   "metadata": {},
   "source": [
    "Вам дана последовательность строк.<br>\n",
    "Выведите строки, содержащие обратный слеш \"\\﻿\".\n",
    "\n",
    "**Sample Input:**\n",
    "```\n",
    "\\w denotes word character\n",
    "No slashes here\n",
    "```\n",
    "**Sample Output:**\n",
    "```\n",
    "\\w denotes word character```"
   ]
  },
  {
   "cell_type": "code",
   "execution_count": null,
   "metadata": {},
   "outputs": [],
   "source": [
    "import re\n",
    "import sys\n",
    "\n",
    "for line in sys.stdin:\n",
    "    line = line.rstrip()\n",
    "    if re.search(r'\\\\', line): \n",
    "        print(line)"
   ]
  },
  {
   "cell_type": "markdown",
   "metadata": {},
   "source": [
    "# 5"
   ]
  },
  {
   "cell_type": "markdown",
   "metadata": {},
   "source": [
    "Вам дана последовательность строк. <br>\n",
    "Выведите строки, содержащие слово, состоящее из двух одинаковых частей (тандемный повтор).\n",
    "\n",
    "**Sample Input:**\n",
    "```\n",
    "blabla is a tandem repetition\n",
    "123123 is good too\n",
    "go go\n",
    "aaa\n",
    "```\n",
    "**Sample Output:**\n",
    "```\n",
    "blabla is a tandem repetition\n",
    "123123 is good too\n",
    "```"
   ]
  },
  {
   "cell_type": "code",
   "execution_count": 57,
   "metadata": {},
   "outputs": [],
   "source": [
    "# Your code complexity score is 5.1 (best for this step is 1.0). У кости зайцева также\n",
    "import re\n",
    "import sys\n",
    "\n",
    "for line in sys.stdin:\n",
    "    line = line.rstrip()\n",
    "    if re.search(r'\\b(\\w+)\\1\\b', line): #\\b символ обрыва слова\n",
    "        print(line)"
   ]
  },
  {
   "cell_type": "markdown",
   "metadata": {},
   "source": [
    "# 6"
   ]
  },
  {
   "cell_type": "markdown",
   "metadata": {},
   "source": [
    "Вам дана последовательность строк. <br>\n",
    "В каждой строке замените все вхождения подстроки \"human\" на подстроку \"computer\"﻿ и выведите полученные строки.\n",
    "\n",
    "**Sample Input:**\n",
    "```\n",
    "I need to understand the human mind\n",
    "humanity\n",
    "```\n",
    "**Sample Output:**\n",
    "```\n",
    "I need to understand the computer mind\n",
    "computerity\n",
    "```"
   ]
  },
  {
   "cell_type": "code",
   "execution_count": 59,
   "metadata": {},
   "outputs": [],
   "source": [
    "# Your code complexity score is 4.47 (best for this step is 2.0).\n",
    "import re\n",
    "import sys\n",
    "\n",
    "for line in sys.stdin:\n",
    "    line = line.rstrip()\n",
    "    line = re.sub(r'human','computer', line) \n",
    "    print(line)"
   ]
  },
  {
   "cell_type": "markdown",
   "metadata": {},
   "source": [
    "# 7"
   ]
  },
  {
   "cell_type": "markdown",
   "metadata": {},
   "source": [
    "Вам дана последовательность строк. <br>\n",
    "В каждой строке замените **первое** вхождение **слова**, состоящего только из латинских букв **\"a\"** (регистр не важен), на слово **\"argh\"**.\n",
    "\n",
    "**Примечание:**\n",
    "Обратите внимание на параметр count у функции sub.\n",
    "\n",
    "**Sample Input:**\n",
    "```\n",
    "There’ll be no more \"Aaaaaaaaaaaaaaa\"\n",
    "AaAaAaA AaAaAaA\n",
    "```\n",
    "**Sample Output:**\n",
    "```\n",
    "There’ll be no more \"argh\"\n",
    "argh AaAaAaA\n",
    "```"
   ]
  },
  {
   "cell_type": "code",
   "execution_count": 64,
   "metadata": {},
   "outputs": [],
   "source": [
    "# Your code complexity score is 4.47 (best for this step is 2.0). у зайцева также\n",
    "import re\n",
    "import sys\n",
    "\n",
    "for line in sys.stdin:\n",
    "    line = line.rstrip()\n",
    "    line = re.sub(r'\\ba+\\b','argh', line, count = 1, flags = re.IGNORECASE) \n",
    "    print(line)"
   ]
  },
  {
   "cell_type": "markdown",
   "metadata": {},
   "source": [
    "# 8"
   ]
  },
  {
   "cell_type": "markdown",
   "metadata": {},
   "source": [
    "Вам дана последовательность строк.<br>\n",
    "В каждой строке поменяйте местами две первых буквы в каждом слове, состоящем хотя бы из двух букв.\n",
    "Буквой считается символ из группы **\\w**.\n",
    "\n",
    "**Sample Input:**\n",
    "```\n",
    "this is a text\n",
    "\"this' !is. ?n1ce,\n",
    "```\n",
    "**Sample Output:**\n",
    "```\n",
    "htis si a etxt\n",
    "\"htis' !si. ?1nce,```"
   ]
  },
  {
   "cell_type": "code",
   "execution_count": 65,
   "metadata": {},
   "outputs": [],
   "source": [
    "import re\n",
    "import sys\n",
    "\n",
    "for line in sys.stdin:\n",
    "    line = line.rstrip()\n",
    "    line = re.sub(r'\\b(\\w)(\\w)(\\w*)\\b',r'\\2\\1\\3', line) # обратить внимание на то, как вставляется нужное значение\n",
    "    print(line)"
   ]
  },
  {
   "cell_type": "markdown",
   "metadata": {},
   "source": [
    "# 9"
   ]
  },
  {
   "cell_type": "markdown",
   "metadata": {},
   "source": [
    "Вам дана последовательность строк. <br>\n",
    "В каждой строке замените все вхождения нескольких одинаковых букв на одну букву.\n",
    "Буквой считается символ из группы **\\w**.\n",
    "\n",
    "**Sample Input:**\n",
    "```\n",
    "attraction\n",
    "buzzzz\n",
    "```\n",
    "**Sample Output:**\n",
    "```\n",
    "atraction\n",
    "buz```"
   ]
  },
  {
   "cell_type": "code",
   "execution_count": 66,
   "metadata": {},
   "outputs": [],
   "source": [
    "\n",
    "import re\n",
    "import sys\n",
    "\n",
    "for line in sys.stdin:\n",
    "    line = line.rstrip()\n",
    "    line = re.sub(r'\\W*(\\w)\\1+\\W*',r'\\1', line) \n",
    "    print(line)"
   ]
  },
  {
   "cell_type": "markdown",
   "metadata": {},
   "source": [
    "# 10"
   ]
  },
  {
   "cell_type": "markdown",
   "metadata": {},
   "source": [
    "\n",
    "**Примечание:**\n",
    "Эта задача является дополнительной, то есть ее решение не принесет вам баллы.<br>\n",
    "Задача сложнее остальных задач из этого раздела, и идея ее решения выходит за рамки простого понимания регулярных выражений как средства задания шаблона строки.<br>\n",
    "Мы решили включить данную задачу в урок, чтобы показать, что регулярным выражением можно проверить не только \"внешний вид\" строки, но и заложенный в ней смысл.\n",
    "\n",
    "\n",
    "Вам дана последовательность строк. <br>\n",
    "Выведите строки, содержащие двоичную запись числа, кратного 3.\n",
    "\n",
    "Двоичной записью числа называется его запись в двоичной системе счисления.\n",
    "\n",
    "**Примечание 2:**\n",
    "﻿Данная задача очень просто может быть решена приведением строки к целому числу и проверке остатка от деления на три, но мы все же предлагаем вам решить ее, не используя приведение к числу.\n",
    "\n",
    "**Sample Input:**\n",
    "```\n",
    "0\n",
    "10010\n",
    "00101\n",
    "01001\n",
    "Not a number\n",
    "1 1\n",
    "0 0\n",
    "```\n",
    "**Sample Output:**\n",
    "```\n",
    "0\n",
    "10010\n",
    "01001\n",
    "```"
   ]
  },
  {
   "cell_type": "markdown",
   "metadata": {},
   "source": [
    "Here is an simple way to do it by hand. Since $1 = 2^2$ ```mod 3```, we get $1 = 2^{2n}$ mod 3 for every positive integer. Furthermore 2 = 22n+1 mod 3. Hence one can determine if an integer is divisible by 3 by counting the 1 bits at odd bit positions, multiply this number by 2, add the number of 1-bits at even bit posistions add them to the result and check if the result is divisible by 3.\n",
    "\n",
    "Example: $57_{10}=111001_2$. There are 2 bits at odd positions, and 2 bits at even positions. $$2*2 + 2 = 6$$ is divisible by 3. Hence 57 is divisible by 3.\n",
    "\n",
    "Here is also a thought towards solving question c). If one inverts the bit order of a binary integer then all the bits remain at even/odd positions or all bits change. Hence inverting the order of the bits of an integer n results is an integer that is divisible by 3 if and only if n is divisible by 3. Hence any solution for question a) works without changes for question b) and vice versa. Hmm, maybe this could help to figure out which approach is faster...\n"
   ]
  },
  {
   "cell_type": "code",
   "execution_count": 243,
   "metadata": {},
   "outputs": [],
   "source": [
    "# не прошел 2ой тест \n",
    "import re\n",
    "import sys\n",
    "\n",
    "class Binary: \n",
    "    def __init__(self, y=3, x=[]): \n",
    "        self.x = x \n",
    "        self.y = y\n",
    "        '''\n",
    "        x - список бинарных чисел в строковом виде, \n",
    "        который нужно проверить. \n",
    "        y - кратность чему\n",
    "        ''' \n",
    "    def simulation(self, x): \n",
    "        '''\n",
    "        in case you want simulate sequences of numbers, x - multiplicity,\n",
    "        '''\n",
    "        self.x = [(lambda i : bin(i))(i)[2:] for i in range(0,100, x)]\n",
    "    def evenly(self, x): \n",
    "        '''\n",
    "        eject numbers in even position \n",
    "        x - certain number in string view\n",
    "        '''\n",
    "        lst = []\n",
    "        for i in x[1::2]:\n",
    "            lst.append(i)\n",
    "        lst = [(lambda i: int(i))(i) for i in lst]\n",
    "        return sum(lst)\n",
    "    def check_starts(self):\n",
    "        for i in self.x: \n",
    "            if i.startswith('0') and len(i)>1:\n",
    "                i = i.replace('0','', 1)\n",
    "    def oddly(self, x): \n",
    "        '''\n",
    "        eject numbers in odds position \n",
    "        x - certain number in string view\n",
    "        '''\n",
    "        lst = []\n",
    "        for i in x[0::2]:\n",
    "            lst.append(i)\n",
    "        lst = [(lambda i: int(i))(i) for i in lst]\n",
    "        return sum(lst)\n",
    "    def find_et_print(self):\n",
    "        '''\n",
    "        Function prints number if it fits the condition \n",
    "        '''\n",
    "        for i in self.x:\n",
    "            if (self.evenly(i)*self.oddly(i)+2)%self.y==0 or i=='0':\n",
    "                print(i)  \n",
    "                \n",
    "\n",
    "lst = []\n",
    "for line in sys.stdin:\n",
    "    line = line.rstrip()\n",
    "    if re.search(r'\\b\\d+\\b', line): #\\b символ обрыва слова\n",
    "        lst.append(line)\n",
    "b = Binary(3, lst)\n",
    "try:\n",
    "    b.find_et_print()\n",
    "except ValueError: \n",
    "    next"
   ]
  },
  {
   "cell_type": "code",
   "execution_count": null,
   "metadata": {},
   "outputs": [],
   "source": [
    "# то, что подошло\n",
    "import re \n",
    "import sys\n",
    "pattern = '^((((0+)?1)(10*1)*0)(0(10*1)*0|1)*(0(10*1)*(1(0+)?))|(((0+)?1)(10*1)*(1(0+)?)|(0(0+)?)))$'\n",
    "\n",
    "for line in sys.stdin: \n",
    "    line = line.rstrip()\n",
    "    if re.search(pattern, line):\n",
    "        print(line)\n",
    "        \n",
    "# https://stackoverflow.com/questions/7974655/regex-for-binary-multiple-of-3"
   ]
  },
  {
   "cell_type": "code",
   "execution_count": null,
   "metadata": {},
   "outputs": [],
   "source": [
    "# Пример решения Кости Зайцева\n",
    "# http://stackoverflow.com/questions/844867/check-if-a-number-is-divisible-by-3/3253053#3253053\n",
    "import re\n",
    "import sys\n",
    "\n",
    "pattern = \"^(0|(1(01*0)*1))*$\"\n",
    "pattern = re.compile(pattern)\n",
    "for line in sys.stdin:\n",
    "    line = line.rstrip()\n",
    "    if pattern.match(line):\n",
    "        print(line)"
   ]
  },
  {
   "cell_type": "markdown",
   "metadata": {},
   "source": [
    "---"
   ]
  },
  {
   "cell_type": "markdown",
   "metadata": {},
   "source": [
    "============================================================================================================================="
   ]
  },
  {
   "cell_type": "markdown",
   "metadata": {},
   "source": [
    "# Интернет"
   ]
  },
  {
   "cell_type": "markdown",
   "metadata": {},
   "source": [
    "============================================================================================================================="
   ]
  },
  {
   "cell_type": "markdown",
   "metadata": {},
   "source": [
    "- обмен файлами \n",
    "- обмен почтой \n",
    "- http\n",
    "\n",
    "**http protocol**<br> \n",
    "- client (internet users)\n",
    "- server (куда делается запрос)<br>\n",
    "\n",
    "**query** <br>\n",
    "- веб страница \n",
    "- файлы\n",
    "\n",
    "**url** <br>\n",
    "uniform resource locator <br>\n",
    "https:// - пртокол <br>\n",
    "stepic.org - домен, хост <br>\n",
    "/512 - путь до ресурса\n",
    "\n",
    "\n"
   ]
  },
  {
   "cell_type": "markdown",
   "metadata": {},
   "source": [
    "**как бы выглядел запрос строки - :** https://ru.wikipedia.org/wiki/Python <br>\n",
    "![](Selection_001.png)\n",
    "\n",
    "**GET /wiki/Python HTTP/1.1**\n",
    "\n",
    "**GET** - method который мы применяем к нашему ресурсу <br>\n",
    "**/wiki/Python** - ресурс внутри домена(хоста) <br>\n",
    "**HTTP/1.1** - версия протокола\n",
    "\n",
    "**Host** - где брать ресурсы\n",
    "\n",
    "\n",
    "С помощью http - можно передавать музыку, видео, гипертекст \n",
    "\n",
    "метод GET - возвращает html код данной страницы. У картинки будут получены бинарные данные. Метод GET не изменяет данные, которые хранятся на сервере. \n",
    "\n",
    "Есть метод POST который для этого и предназначен. К примеру, формы смены пароля.\n"
   ]
  },
  {
   "cell_type": "markdown",
   "metadata": {},
   "source": [
    "**Как бы выгялдел ответ (Response)** <br>\n",
    "HTTP/1.1 - версия протокола, с  которого был составлени ответ <br> \n",
    "200 OK - статус код + сообщение. К примеру, здесь могла быть известная ошибка 404 "
   ]
  },
  {
   "cell_type": "markdown",
   "metadata": {},
   "source": [
    "## requests in pyhton "
   ]
  },
  {
   "cell_type": "code",
   "execution_count": 1,
   "metadata": {},
   "outputs": [],
   "source": [
    "import requests "
   ]
  },
  {
   "cell_type": "code",
   "execution_count": 33,
   "metadata": {
    "scrolled": true
   },
   "outputs": [
    {
     "name": "stdout",
     "output_type": "stream",
     "text": [
      "200\n",
      "text/html\n"
     ]
    }
   ],
   "source": [
    "res = requests.get('https://docs.python.org/3.5/')\n",
    "# get returns response object\n",
    "print(res.status_code)\n",
    "print(res.headers['Content-Type'])# res.headers - словарик, где хранятся данные о странице\n",
    "#print(res.content)\n",
    "#print(res.text)"
   ]
  },
  {
   "cell_type": "code",
   "execution_count": 30,
   "metadata": {},
   "outputs": [
    {
     "name": "stdout",
     "output_type": "stream",
     "text": [
      "200\n",
      "image/png\n"
     ]
    }
   ],
   "source": [
    "res = requests.get('https://docs.python.org/3.5/_static/py.png') # питоновская картинка\n",
    "\n",
    "print(res.status_code)\n",
    "print(res.headers['Content-Type'])# image\n",
    "#print(res.content) # код в бинарном формате\n",
    "#print(res.text) # нечитаемая ерунда :)\n",
    "with open('py_image.png', 'wb') as f: \n",
    "    f.write(res.content)"
   ]
  },
  {
   "cell_type": "code",
   "execution_count": 35,
   "metadata": {},
   "outputs": [
    {
     "name": "stdout",
     "output_type": "stream",
     "text": [
      "200\n",
      "text/html; charset=utf-8\n",
      "https://yandex.ru/search/?text=stepic\n",
      "<!DOCTYPE html><html class=i-ua_js_no lang=ru><meta charset=utf-8><meta http-equiv=X-UA-Compatible content=\"IE=edge\"><title>Яндекс</title><script nonce=3938>document.documentElement.className=\"i-ua_js_yes i-ua_placeholder_\"+(\"placeholder\" in document.createElement(\"input\")?\"yes\":\"no\");(screen.deviceXDPI&&screen.logicalXDPI&&screen.deviceXDPI/screen.logicalXDPI||window.devicePixelRatio)>1&&(document.documentElement.className+=\" i-ua_retina_yes\");;document.documentElement.className+=\" i-ua_orient_\"+(window.innerWidth>window.innerHeight?\"landscape\":\"portrait\");</script><link rel=search title=\"Яндекс\" type=\"application/opensearchdescription+xml\" href=\"/search/opensearch.xml\"><meta name=referrer content=always><style nonce=3938 data-role=css data-stylesheet=header>.b-statcounter{position:absolute;left:-9999px}body{margin:0}.b-page__body{margin:0;color:#000;background:#fff;height:100%;padding:0;font-family:Arial,Helvetica,sans-serif;font-size:13px;line-height:1.154}.i-ua_platform_ios.b-page__body{cursor:pointer;-webkit-tap-highlight-color:rgba(0,0,0,0)}html{height:100%}.b-page.b-page_js_inited.b-page_overflow_hidden,.b-page_initial-scroll_yes.b-page_js_inited.b-page_overflow_yes{overflow:hidden}.b-page_offset_top{padding-top:32px}.b-page_change_yes{will-change:padding-top;transition:padding-top .3s .1s ease-in-out}.b-page_initial-scroll_yes{overflow-y:scroll}.b-page_initial-scroll_yes.b-page_js_inited{overflow-y:auto}.serp-header{position:relative;-webkit-user-select:none;-moz-user-select:none;-ms-user-select:none;user-select:none}.serp-header__main{display:table;-moz-box-sizing:border-box;box-sizing:border-box;width:100%;padding:14px 20px 4px;table-layout:fixed;box-shadow:none!important}.serp-header_head-auth_yes .serp-header__main{min-width:600px;table-layout:auto}.serp-header__under{position:relative}.serp-header__progress{position:absolute}.serp-header__logo,.serp-header__search2{display:table-cell;height:39px;vertical-align:top}.serp-header__nav{display:table-cell;height:39px}.serp-header__logo{width:110px;min-width:110px}.serp-header__logo .logo.logo_name_ys-en-87x35{background-position:0 3px}.serp-header_head-auth_yes .serp-header__search2{width:100%}.serp-header__search2{padding-top:3px}.serp-header__nav{padding-left:20px;text-align:right;vertical-align:top;white-space:nowrap}.serp-header .serp-user_enter_yes,.serp-header .serp-user_type_enter{margin-top:3px;vertical-align:top}.serp-header__search2 .search2__input .input__control{line-height:normal}.serp-header{min-height:53px}.serp-header__main{height:53px;padding-bottom:0}.serp-header__wrapper{position:fixed;width:100%;background:#fff;-webkit-transform:translateZ(0);transform:translateZ(0)}.serp-header__search2{width:638px}.serp-header__nav{position:relative;z-index:1}.serp-header__progress{top:0}.logo{display:inline-block;background-repeat:no-repeat;background-position:center;background-size:contain}@media print{.logo{-webkit-print-color-adjust:exact}}.logo_name_ys-ru-86x35{width:86px;height:35px;background-image:url(\"//yastatic.net/islands/_/RQWGFypkIRAzEbaERs_Sq8zKRzY.svg\")}.logo_name_ys-en-87x35{width:87px;height:35px;background-image:url(\"//yastatic.net/islands/_/W5E8s3ZxddTVAc2-tL5VvgPy6ZY.svg\")}.logo_type_link{overflow:hidden;white-space:nowrap;text-indent:100%;outline:0}.z-index-group_level_0{z-index:1000}.z-index-group_level_1{z-index:2000}.z-index-group_level_2{z-index:3000}.z-index-group_level_3{z-index:4000}.z-index-group_level_4{z-index:5000}.z-index-group_level_5{z-index:6000}.z-index-group_level_6{z-index:7000}.z-index-group_level_7{z-index:8000}.z-index-group_level_8{z-index:9000}.z-index-group_level_9{z-index:10000}.z-index-group_level_10{z-index:11000}.z-index-group_level_11{z-index:12000}.search2{display:inline-table;max-width:638px}.search2__input .input__control{font-size:18px}.search2__input{display:table-cell;vertical-align:top;width:100%;overflow:hidden}.search2__input .input.input_theme_websearch .input__control{border-right-width:0}.search2_theme_websearch.search2_theme_websearch .search2__input{width:100%}.search2__button{display:table-cell;float:none}.search2__button .button2_theme_normal{color:#000}[touch-action=auto]{-ms-touch-action:auto;touch-action:auto}[touch-action=pan-y]{-ms-touch-action:pan-y;touch-action:pan-y}[touch-action=pan-x]{-ms-touch-action:pan-x;touch-action:pan-x}[touch-action=\"pan-y pan-x\"],[touch-action=pan-x pan-y]{-ms-touch-action:pan-x pan-y;touch-action:pan-x pan-y}.input{position:relative;display:inline-block;width:100%}.input_disabled_yes,.input_disabled_yes .input__control{-webkit-user-select:none;-moz-user-select:none;-ms-user-select:none;user-select:none}.input_disabled_yes .input__box,.input_disabled_yes .input__control{cursor:default}.input__box{position:relative;display:block;-moz-box-sizing:border-box;box-sizing:border-box;cursor:text}.input__box:before{position:absolute;top:0;right:0;bottom:0;left:0;padding:0;content:'';background-clip:padding-box}.input__box{-webkit-user-select:none;-moz-user-select:none;-ms-user-select:none;user-select:none}.input__control{position:relative;z-index:3;-moz-box-sizing:border-box;box-sizing:border-box;width:100%;margin:0;padding:0;vertical-align:top;font-size:100%;color:#000;outline:0;background:0 0;-webkit-tap-highlight-color:rgba(0,0,0,0);-webkit-appearance:none}.input__control::-webkit-search-decoration{-webkit-appearance:none}.input__control::-webkit-search-cancel-button{display:none}.input__control::-ms-clear{display:none}.input__control:-webkit-autofill{border-top-width:2px;border-bottom-width:2px;background-clip:content-box;-webkit-box-shadow:inset 0 0 0 50px #fff;-webkit-text-fill-color:#000}.input__control::-webkit-input-placeholder{-webkit-text-fill-color:#999}.input__control{text-overflow:clip;border:0 solid transparent}.input .input__control:-webkit-autofill{height:auto}.input__clear{position:absolute;z-index:5;top:0;right:0;visibility:hidden;margin:0;padding:0;pointer-events:none;opacity:0;background-repeat:no-repeat;background-position:50% 50%;transition:visibility 0s linear .1s,opacity .1s ease-out}.input_disabled_yes .input__clear{display:none}.input_size_s .input__clear,.input_size_xs .input__clear{background-image:url(\"//yastatic.net/islands/_/B8eOwa4HB-JnzSOAZiWnu0hWGAk.svg\")}.input_size_m .input__clear{background-image:url(\"//yastatic.net/islands/_/eS-nxtWWJ1LfBWLfd096swuFjH4.svg\")}.input_size_l .input__clear{background-image:url(\"//yastatic.net/web4/_/kNNHdGrMmnePggKQWuru_0JAy_Y.svg\")}.input__clear_visibility_visible{visibility:visible;cursor:pointer;pointer-events:auto;opacity:.3;transition:opacity .1s ease-out}.input__clear_visibility_visible:hover{opacity:.8}.input_size_l{font-size:13px;font-size:var(--text-m)}.input_size_l .input__control,.input_size_l.input.input_with-icon .input__control{padding-left:15px;border-left:0}@media screen and (-ms-high-contrast:active),(-ms-high-contrast:none){.input_size_l.input.input_with-icon .input__control{padding-left:0;border-left:15px solid transparent}}.input_size_l .input__clear{width:36px}.input_size_l{line-height:36px}.input_size_l .input__control,.input_size_l .input__hint{height:36px;border-left-width:8px;border-right-width:8px}.input_size_l .input__clear_visibility_visible~.input__control{border-right-width:36px}.input_size_l.input_clear_no .input__box{border-right-width:0}.input_size_m{font-size:15px;line-height:32px}.input_size_m .input__control,.input_size_m .input__hint{height:32px;border-right-width:10px;border-left-width:10px}.input_size_m .input__icon{width:32px}.input_size_m .input__clear{width:32px;height:32px}.input_size_m .input__icon_side_right~.input__clear{right:16px}.input_size_m .input__clear_visibility_visible~.input__control{border-right-width:26px}.input_size_m .input__icon_side_right~.input__clear_visibility_visible~.input__control{border-right-width:42px}.input_size_m .input__hint.input__hint_rpad_yes,.input_size_m .input__icon_side_right~.input__control{border-right-width:32px}.input_size_m .input__hint.input__hint_lpad_yes,.input_size_m .input__icon_side_left~.input__control{border-left-width:32px}.input_size_m.input_type_textarea .input__control{padding:6px 8px 0}.input_size_m.input_type_textarea .input__clear~.input__control{padding-right:30px}.input_size_m .input__control{line-height:32px}.input_theme_websearch{position:relative;color:#000}.input_theme_websearch .input__control{font-family:inherit}.input_theme_websearch .input__box:before{content:none}.input_theme_websearch:before{position:absolute;top:0;right:0;bottom:0;left:0;content:'';border-style:solid;border-color:#ffdb4d;background-color:#fff;background-clip:padding-box}.input_theme_websearch .input__clear{background-image:url(\"//yastatic.net/islands/_/nJL92_8XGrQ8WN7LePOnzmpHzd4.svg\");background-size:16px}.input_theme_websearch{-moz-box-sizing:border-box;box-sizing:border-box;border:2px solid #ffdb4d;font-family:arial,sans-serif;border-right:0;border-image:none}.input_theme_websearch.input_size_m{line-height:normal}.input_theme_websearch .input__control{padding:0}.input_theme_websearch.input_size_m .input__clear{height:32px}.input_theme_websearch.input_size_m .input__control{border-left-width:11px}.input_theme_websearch:before{border-width:0}@media screen and (-ms-high-contrast:active),(-ms-high-contrast:none){.input_indent_small.input_theme_websearch.input_size_m .input__control{padding-left:0;border-left-width:9px}}.input_settings-inside_yes .input__box{padding-right:62px}.input_settings-inside_yes .input__clear{right:32px}.input_settings-inside_yes .input__settings{position:absolute;z-index:5;top:0;right:2px;width:32px;height:32px;cursor:pointer;transition:opacity .1s ease-out 0s;opacity:.3;background-repeat:no-repeat;background-position:50% 50%}.input_settings-inside_yes .input__settings:hover,.input_settings-inside_yes .input__settings_type_active{opacity:.8}.websearch-button{display:inline-block;overflow:hidden;margin:0;padding:0;cursor:pointer;text-align:center;white-space:nowrap;border:0 none;outline:0 none;background:0 0;border-radius:0}.websearch-button::-moz-focus-inner{padding:0;border:0}.websearch-button__text{font:16px/32px arial,sans-serif;position:relative;display:inline-block;width:79px;margin-right:9px;padding-left:5px;color:#000;border:solid #ffdb4d;border-width:2px 0;background-color:#ffdb4d;-moz-box-sizing:border-box;box-sizing:border-box}.websearch-button:active .websearch-button__text{border-color:#f2cf46;background-color:#f2cf46}.websearch-button__text:before{position:absolute;top:-6px;right:-9px;width:0;height:0;content:'';border-width:22px 0 22px 11px;border-style:solid;border-color:rgba(255,219,76,0);border-left-color:inherit}.serp-navigation{min-height:37px;position:relative}.navigation__item,.navigation__item .service{line-height:36px;height:36px}.navigation__item .service{position:relative;display:block;text-align:left}.navigation__item .service:before{position:absolute;top:0;bottom:0;left:0;width:3px;content:''}.navigation__item .navigation__more-label,.navigation__item .service__url,.navigation__item_state_selected .service{display:block;width:auto;padding:0 0 0 20px}.navigation__item .navigation__more-label{font-size:13px}.navigation__item.navigation__more{display:none}.navigation__item_state_selected .service:before{background-color:#fc0}.navigation__item .link:focus{outline:0}.navigation__item .service_hoverable_yes:hover{background:0 0}.navigation__item .service_hoverable_yes .link:hover{color:#999!important}.navigation__item.navigation__item_state_selected .service_hoverable_yes .link:hover{color:#000!important}.navigation__item .service__url,.navigation__item .service__url:visited,.navigation__item .service_hoverable_yes{color:#999}.navigation__item .service__url .service__name:hover,.navigation__item.navigation__item_state_selected .service__url{color:#000}.navigation__item .service__name{overflow:hidden;transition:color .1s ease-out 0s;white-space:nowrap;text-overflow:ellipsis;font-size:13px;line-height:36px}.navigation__item_state_selected .service{z-index:2;opacity:0}.navigation__item_state_selected .service__name{font-weight:initial}.navigation__item:first-child .navigation__item-over{text-align:left}.navigation__item-over{position:absolute;top:0;width:100%;text-align:center}.navigation__item-over-inner{padding-bottom:10px;border-bottom:3px solid}.service{position:relative;display:inline-block;margin:0;text-align:center;font-size:15px;line-height:16px;font-family:Arial,Helvetica,sans-serif}.service:focus{outline:0}.service__name{display:block}.service__url{display:inline-block;text-decoration:none}.link{text-decoration:none;outline:0;-ms-touch-action:manipulation;touch-action:manipulation}.link_disabled_yes{pointer-events:none}.link{cursor:pointer}.link__icon{transition:opacity .15s ease-out}.link_disabled_yes{cursor:default}.link{color:#00c}.b-page_tld_com-tr .link{color:#1a0dab}.link.link.link_hovered_yes:visited,.link.link_hovered_yes{color:#d00}.link:visited{color:#551a8b}.link:active,.link:visited:active{color:#d00}.link__inner{color:inherit}.link__icon~.link__inner{margin-left:5px}.link_theme_normal{color:#00c}.link_theme_normal.link_disabled_yes{color:#ddd}.link_theme_normal.link_disabled_yes .link__icon{opacity:.5}.utilityfocus.utilityfocus .link_theme_normal.link_focused_yes{outline:2px solid #fc0}.link_theme_normal.link_hovered_yes{color:#c00}.link_theme_normal.link_hovered_yes.link_disabled_yes,.link_theme_outer.link_disabled_yes{color:#ddd}.b-page .link_theme_normal.link_hovered_yes{color:#d00}.link_theme_outer{color:#070}.link_theme_outer.link_disabled_yes .link__icon{opacity:.5}.utilityfocus .link_theme_outer.link_focused_yes{outline:2px solid #fc0}.link_theme_outer.link_hovered_yes{color:#c00}.link_theme_outer.link_hovered_yes.link_disabled_yes{color:#ddd}.b-page .link_theme_outer.link_hovered_yes,.b-page .link_theme_outer.link_hovered_yes:visited{color:#d00}.b-page_tld_com-tr .link.link_theme_outer,.b-page_tld_com-tr .link.link_theme_outer:visited,.link.link_theme_outer,.link.link_theme_outer:visited,.link_theme_outer_yes,.link_theme_outer_yes:visited{color:#070;color:var(--color-green-url)}.b-page_tld_com-tr .link.link_theme_outer.link_hovered_yes:visited,.link.link_theme_outer.link_hovered_yes,.link_ghost_yes.link_hovered_yes:visited{color:#d00}.b-page_tld_com-tr .link_ghost_yes,.b-page_tld_com-tr .link_ghost_yes:visited,.link_ghost_yes,.link_ghost_yes.link_ghost_yes,.link_ghost_yes:visited{color:#999}.link_ghost_yes.link_hovered_yes{color:#d00}.link.link_black_yes,.link.link_black_yes:visited{color:#000}.link_black_yes.link_hovered_yes,.link_black_yes.link_hovered_yes:visited{color:#d00}.link_theme_pseudo{color:#00c}.link_theme_pseudo.link_disabled_yes{color:#ddd}.link_theme_pseudo.link_disabled_yes .link__icon{opacity:.5}.link_theme_pseudo .link__inner{border-bottom:1px dotted}.utilityfocus .link_theme_pseudo.link_focused_yes{outline:2px solid #fc0}.link_theme_pseudo.link_hovered_yes{color:#c00}.link_theme_pseudo.link_hovered_yes.link_disabled_yes{color:#ddd}.b-page .link_theme_pseudo.link_hovered_yes{color:#d00}.link_nowrap_yes{white-space:nowrap}.link_underline_yes{text-decoration:underline}.navigation_more-type_slide .navigation__item_extra_hidden+.navigation__more,.navigation_more-type_slide .navigation__item_extra_visible+.navigation__more{display:block}.navigation_more-type_slide .navigation__more-label:hover{color:#000}.navigation_more-type_slide .navigation__item_extra_hidden{overflow:hidden;transition:opacity 0s,visibility 0s,height .08s}.navigation_more-type_slide .navigation__item_extra_visible,.navigation_more-type_slide .navigation__more{transition:opacity 0s,visibility 0s,height .08s}.navigation_more-type_slide .navigation__more{overflow:hidden}.navigation_more-type_slide .navigation__item_extra_visible{overflow:visible}.navigation_more-type_slide .navigation__item_extra_hidden,.navigation_more-type_slide .navigation__more{visibility:hidden;height:0;padding:0;transition-duration:.3s,.3s,.1s;opacity:0}.navigation_more-type_slide .navigation__item_extra_visible,.navigation_more-type_slide .navigation__more_visibility_visible{visibility:visible;opacity:1}.navigation_type_horizontal{position:fixed;overflow:hidden;width:100%;height:41px;margin-bottom:0;padding-left:130px;-moz-box-sizing:border-box;box-sizing:border-box;box-shadow:0 1px rgba(0,0,0,.1);-webkit-transform:translateZ(0);transform:translateZ(0);background-color:#fff}.navigation_type_horizontal .navigation__region{-moz-box-sizing:border-box;box-sizing:border-box;max-height:100%}.navigation_type_horizontal .navigation__item .service::before{display:none}.navigation_type_horizontal .navigation__item{height:auto}.navigation_type_horizontal .navigation__item,.navigation_type_horizontal .navigation__more{font-size:14px;line-height:40px;position:relative;display:inline-block;padding:0;vertical-align:middle}.navigation_type_horizontal .navigation__item .service,.navigation_type_horizontal .navigation__more .service{font-size:inherit;line-height:inherit;display:block;height:40px;padding:0}.navigation_type_horizontal .navigation__item .service.navigation__more-label,.navigation_type_horizontal .navigation__more .service.navigation__more-label{padding:0 8px}.navigation_type_horizontal .navigation__item .service__name,.navigation_type_horizontal .navigation__more .service__name{font-size:inherit;line-height:inherit;display:inherit;padding:0 4px}.navigation_type_horizontal .navigation__item .service__url,.navigation_type_horizontal .navigation__more .service__url{display:inherit;margin:0 4px;padding:0;color:#999;text-decoration:none}.navigation_type_horizontal .navigation__item .service__url:visited,.navigation_type_horizontal .navigation__item .service_hoverable_yes,.navigation_type_horizontal .navigation__more .service__url:visited,.navigation_type_horizontal .navigation__more .service_hoverable_yes{color:#999}.navigation_type_horizontal .navigation__item .service__url .service__name:hover,.navigation_type_horizontal .navigation__more .service__url .service__name:hover{color:#c00}.navigation_type_horizontal .navigation__item_state_selected,.navigation_type_horizontal .navigation__more_state_selected{padding:0;font-weight:700}.navigation_type_horizontal .navigation__item_state_selected .service__name,.navigation_type_horizontal .navigation__more_state_selected .service__name{display:inline;padding:0;margin:0 8px;position:relative}.navigation_type_horizontal .navigation__item_state_selected .service__name::after,.navigation_type_horizontal .navigation__more_state_selected .service__name::after{position:absolute;bottom:-13px;left:0;display:block;width:100%;content:'';border-top:3px solid #000}.navigation_type_horizontal .navigation__item_state_selected .service__url,.navigation_type_horizontal .navigation__more_state_selected .service__url{color:#000;margin-right:0;margin-left:0}.navigation_type_horizontal .navigation__item_state_selected .service__url .service__name:hover,.navigation_type_horizontal .navigation__item_state_selected .service__url:visited,.navigation_type_horizontal .navigation__more_state_selected .service__url .service__name:hover,.navigation_type_horizontal .navigation__more_state_selected .service__url:visited{color:#000}.navigation_type_horizontal .navigation__item_state_selected .service::before,.navigation_type_horizontal .navigation__more_state_selected .service::before{content:none}.navigation_type_horizontal .navigation__item_extra_hidden,.navigation_type_horizontal .navigation__more_extra_hidden{overflow:hidden;width:0;padding:0}.navigation_type_horizontal .navigation__item:first-child .service__url,.navigation_type_horizontal .navigation__more:first-child .service__url{margin-left:0}.navigation_type_horizontal .navigation__item:first-child .service__name,.navigation_type_horizontal .navigation__more:first-child .service__name{font-weight:400;margin-left:2px;padding-left:0}.navigation_type_horizontal .navigation__more{height:auto;cursor:pointer}.navigation_type_horizontal .navigation__more .navigation__more-label:hover{color:#c00}.navigation_type_horizontal.navigation_more-type_slide .navigation__item_extra_hidden+.navigation__more,.navigation_type_horizontal.navigation_more-type_slide .navigation__item_extra_visible+.navigation__more{display:inline-block}.navigation_type_horizontal.navigation_more-type_slide .navigation__item_extra_hidden+.navigation__more_visibility_hidden,.navigation_type_horizontal.navigation_more-type_slide .navigation__item_extra_visible+.navigation__more_visibility_hidden,.navigation_type_horizontal.navigation_more-type_slide.navigation_more-button_hidden .navigation__item_extra_hidden+.navigation__more,.navigation_type_horizontal.navigation_more-type_slide.navigation_more-button_hidden .navigation__item_extra_visible+.navigation__more,.navigation_type_horizontal.navigation_more-type_slide.navigation_more-button_hidden .navigation__more{display:none}</style><link rel=\"shortcut icon\" href=\"//yastatic.net/iconostasis/_/8lFaTHLDzmsEZz-5XaQg9iTWZGE.png\"><body class=\"b-page b-page_tld_ru b-page_ajax_yes b-page_initial-scroll_yes b-page_tmpl_xjst i-device-info user-location-updater typo typo_text_m typo_line_m overlay serp-metrika b-page__body i-global i-ua i-device-info user-location-updater typo typo_text_m typo_line_m overlay serp-metrika i-bem\" data-bem='{\"b-page\":{\"yabro\":false,\"isFontDecoderEnabled\":true},\"i-device-info\":{},\"user-location-updater\":{\"delay\":0,\"period\":900,\"counters\":{\"on\":[\"690.781.10\"],\"off\":[\"690.781.11\"],\"granted\":[\"690.781.2031\"],\"denied\":[\"690.781.2032\"],\"prompt\":[\"690.781.2033\"],\"new\":[\"690.781.228\"],\"old\":[\"690.781.713\"],\"unknown\":[\"690.781.836\"]}},\"overlay\":{\"uniqId\":\"overlay\"},\"serp-metrika\":{\"counter\":\"731962\"},\"i-global\":{\"lang\":\"ru\",\"tld\":\"ru\",\"content-region\":\"ru\",\"click-host\":\"//yandex.ru/clck\",\"passport-host\":\"https://passport.yandex.ru\",\"pass-host\":\"https://pass.yandex.ru\",\"social-host\":\"https://social.yandex.ru\",\"export-host\":\"//export.yandex.ru\",\"login\":\"\",\"lego-static-host\":\"//yastatic.net/web4/0x4797ecbb153/\",\"nonce\":\"3938\",\"framebuster\":[],\"reqid\":\"1534880720591518-87297817111631953049859-vla1-2704\",\"shownResult\":-1,\"pg\":null,\"pid\":\"\",\"uid\":\"\",\"id\":\"www\",\"retpath\":\"https://yandex.ru/search/?text=stepic&amp;lr=35&amp;ncrnd=96234\",\"yandexuid\":\"7163195301534880720\",\"query\":\"stepic\",\"static-host\":\"//yastatic.net/web4/0x4797ecbb153/\",\"ajaxUrl\":\"//yandex.ru/search/\",\"ugcUpdateUrl\":\"/search/ugcupdate\",\"geoanswer\":\"/search/geoanswer\",\"serpRequestExtraParams\":{},\"lr\":35,\"rlr\":35,\"isCounterHeights\":true,\"sk\":\"yfb2dfe060bbc4e16b2e14f63de4983ba\",\"noMda\":false,\"disableNoopener\":false,\"fastAjax\":1,\"enableRequestIdHeader\":false,\"maxAjaxUrlLength\":2092},\"i-ua\":{}}' data-log-node=88w1><script nonce=3938>window.Ya=window.Ya||{},Ya.startPageLoad=Date.now(),Ya.jserrors=[],Ya.onerror=function(){Ya.jserrors.push(arguments)},window.onerror=function(){Ya.onerror.apply(null,arguments)};var _borschik=function(h){return!(h in _borschik)&&(_borschik[h]=!0)};_borschik(\"jAu6P\")&&!function(i,t){function n(){Ya.Rum.vsChanged=!0,document.removeEventListener(\"visibilitychange\",n)}if(i.Ya=i.Ya||{},Ya.Rum)throw new Error(\"Rum: interface is already defined\");var e=i.performance,s=e&&e.timing&&e.timing.navigationStart||Ya.startPageLoad||+new Date,a=i.requestAnimationFrame;Ya.Rum={enabled:!!e,vsStart:document.visibilityState,vsChanged:!1,_defTimes:[],_defRes:[],_deltaMarks:{},_settings:{},_vars:{},init:function(i,t){this._settings=i,this._vars=t},getTime:e&&e.now?function(){return e.now()}:Date.now?function(){return Date.now()-s}:function(){return new Date-s},time:function(i){this._deltaMarks[i]=[this.getTime()]},timeEnd:function(i){var t=this._deltaMarks,n=t[i];n&&0!==n.length&&n.push(this.getTime())},sendTimeMark:function(i,n,e,s){n===t&&(n=this.getTime()),this._defTimes.push([i,n,s]),this.mark(i,n)},sendResTiming:function(i,t){this._defRes.push([i,t])},sendRaf:function(i){if(a&&!this.isVisibilityChanged()){var t=this,n=\"2616.\"+i;a(function(){t.isVisibilityChanged()||(t.sendTimeMark(n+\".205\"),a(function(){t.isVisibilityChanged()||t.sendTimeMark(n+\".1928\")}))})}},isVisibilityChanged:function(){return this.vsStart&&(\"visible\"!==this.vsStart||this.vsChanged)},mark:e&&e.mark?function(i,t){e.mark(i+(t?\": \"+t:\"\"))}:function(){}},document.addEventListener&&document.addEventListener(\"visibilitychange\",n)}(window);Ya.Rum.init({},{\"143\":\"28.1034.153\",\"287\":35});_borschik(\"MRfbH\")&&!function(){\"use strict\";if(window.PerformanceLongTaskTiming){var e=100,n=Ya.Rum._tti={events:[],observer:new PerformanceObserver(function(t){n.events=n.events.concat(t.getEntries()),n.events.length>e&&n.events.shift()})};n.observer.observe({entryTypes:[\"longtask\"]})}}();_borschik(\"c4rIK\")&&!function(){\"use strict\";Ya.Rum.observeDOMNode=window.IntersectionObserver?function(e,i,n){function t(){if(!r.isVisibilityChanged()){var s=\"string\"==typeof i?document.querySelector(i):i;s?new IntersectionObserver(function(i,n){r.isVisibilityChanged()||(Ya.Rum.sendTimeMark(e),n.unobserve(s))},n).observe(s):setTimeout(t,100)}}var r=this;t()}:function(){}}();</script><div class=\"serp-header serp-header_head-auth_yes serp-header_yaplus_yes z-index-group z-index-group_level_9 i-bem\" data-bem='{\"serp-header\":{\"live\":true}}' role=banner data-log-node=88w2><div class=serp-header__wrapper><script nonce=3938>Ya.Rum.sendRaf(183)</script><div class=\"progress serp-header__progress i-bem\" data-bem='{\"progress\":{}}'></div><div class=serp-header__main><div class=serp-header__logo><a class=\"logo logo_type_link logo_name_ys-ru-86x35\" href=\"//yandex.ru/\" tabindex=-1 data-counter=\"[&quot;w&quot;,&quot;175.179&quot;]\" data-log-node=88w3>Яндекс</a></div><div class=serp-header__search2><form class=\"search2 serp suggest2-form suggest2-form_extra-popup_yes suggest2-counter suggest2-form__node suggest2-form__node_extra-popup-id_main-search-suggest i-bem\" data-bem='{\"search2\":{\"ajaxKey\":\"search2__ajax\"},\"serp\":{\"uniqId\":\"search\"},\"suggest2-form\":{\"popupName\":\"popup2\",\"buttonName\":\"websearch-button\"},\"suggest2-counter\":{\"service\":\"serp_ru_desktop\",\"submitBySelect\":true,\"suggestReqID\":true,\"host\":\"//yandex.ru\",\"path\":\"/clck/jclck/\",\"params\":{\"dtype\":\"stred\",\"pid\":0,\"cid\":2873},\"preventSubmit\":false}}' role=search action=\"/search/\" aria-label=\"Поиск в интернете\"><div class=search2__input><span class=\"input input_size_m input_theme_websearch input_indent_small input_settings-inside_yes input_autofocus_yes serp suggest2-form__input i-bem\" data-bem='{\"input\":{\"ajaxKey\":\"search2__input\",\"shortcut\":true,\"counterClear\":[\"183.477\"],\"live\":false},\"serp\":{\"uniqId\":\"search\"}}' data-log-node=88w4><span class=input__box><span class=\"input__clear input__clear_visibility_visible\" unselectable=on data-log-node=88w5> </span><input class=input__control id=uniq153487001076038217 name=text value=stepic aria-labelledby=\"labeluniq153487001076038217 hintuniq153487001076038217\" aria-label=\"Запрос\" type=search accesskey=s maxlength=400 data-log-node=88w6><span class=input__settings unselectable=on title=\"Расширенный поиск\" aria-label=\"Расширенный поиск\" role=button></span></span><input type=hidden name=lr value=35></span></div><div class=search2__button><button class=\"websearch-button suggest2-form__button\" role=button type=submit tabindex=-1><div class=websearch-button__text>Найти</div></button></div></form></div><div class=serp-header__nav><span class=serp-header__yaplus-container></span></div></div></div></div><div class=\"serp-navigation z-index-group z-index-group_level_8\"><div class=\"navigation navigation_update-queries_yes navigation_more-type_slide navigation_type_horizontal serp i-bem\" data-bem='{\"navigation\":{},\"serp\":{\"uniqId\":\"search\"}}' data-log-node=88w7 role=navigation aria-label=\"Найти также\"><div class=navigation__region role=list><div class=\"navigation__item navigation__item_service_yes navigation__item_name_www navigation__item_state_selected\" data-log-node=88w8><div class=\"service service_hoverable_yes service_name_www\"><a class=\"service__url link link_target_vertical-service link_service-link_yes link link_theme_normal i-bem\" data-bem='{\"link\":{\"service\":\"www\"}}' href=\"//yandex.ru\" data-counter=\"[&quot;w&quot;,&quot;471.208.72&quot;]\" data-log-node=88w9><span class=service__name>Поиск</span></a></div><div class=navigation__item-over><span class=navigation__item-over-inner>Поиск</span></div></div><div class=\"navigation__item navigation__item_service_yes navigation__item_name_images\" data-log-node=88wa><div class=\"service service_hoverable_yes service_name_images\"><a class=\"service__url link link_target_vertical-service link_service-link_yes link link_theme_normal i-bem\" data-bem='{\"link\":{\"service\":\"images\"}}' target=_blank href=\"//yandex.ru/images/search?text=stepic&amp;parent-reqid=1534880720591518-87297817111631953049859-vla1-2704\" data-counter=\"[&quot;w&quot;,&quot;471.208.277&quot;]\" data-log-node=88wb><span class=service__name>Картинки</span></a></div></div><div class=\"navigation__item navigation__item_service_yes navigation__item_name_video\" data-log-node=88wc><div class=\"service service_hoverable_yes service_name_video\"><a class=\"service__url link link_target_vertical-service link_service-link_yes link link_theme_normal i-bem\" data-bem='{\"link\":{\"service\":\"video\"}}' target=_blank href=\"//yandex.ru/video/search?text=stepic&amp;parent-reqid=1534880720591518-87297817111631953049859-vla1-2704\" data-counter=\"[&quot;w&quot;,&quot;471.208.231&quot;]\" data-log-node=88wd><span class=service__name>Видео</span></a></div></div><div class=\"navigation__item navigation__item_service_yes navigation__item_name_maps\" data-log-node=88we><div class=\"service service_hoverable_yes service_name_maps\"><a class=\"service__url link link_target_vertical-service link_service-link_yes link link_theme_normal i-bem\" data-bem='{\"link\":{\"service\":\"maps\"}}' target=_blank href=\"//yandex.ru/maps/?text=stepic&amp;source=serp_navig\" data-counter=\"[&quot;w&quot;,&quot;471.208.23&quot;]\" data-log-node=88wf><span class=service__name>Карты</span></a></div></div><div class=\"navigation__item navigation__item_service_yes navigation__item_name_market\" data-log-node=88wg><div class=\"service service_hoverable_yes service_name_market\"><a class=\"service__url link link_target_vertical-service link_service-link_yes link link_theme_normal i-bem\" data-bem='{\"link\":{\"service\":\"market\"}}' target=_blank href=\"//market.yandex.ru/search.xml?clid=521&amp;text=stepic&amp;cvredirect=2\" data-counter=\"[&quot;w&quot;,&quot;471.208.4&quot;]\" data-log-node=88wh><span class=service__name>Маркет</span></a></div></div><div class=\"navigation__item navigation__item_service_yes navigation__item_name_news\" data-log-node=88wi><div class=\"service service_hoverable_yes service_name_news\"><a class=\"service__url link link_target_vertical-service link_service-link_yes link link_theme_normal i-bem\" data-bem='{\"link\":{\"service\":\"news\"}}' target=_blank href=\"//news.yandex.ru/yandsearch?text=stepic&amp;rpt=nnews2&amp;grhow=clutop\" data-counter=\"[&quot;w&quot;,&quot;471.208.3&quot;]\" data-log-node=88wj><span class=service__name>Новости</span></a></div></div><div class=\"navigation__item navigation__item_service_yes navigation__item_name_translate\" data-log-node=88wk><div class=\"service service_hoverable_yes service_name_translate\"><a class=\"service__url link link_target_vertical-service link_service-link_yes link link_theme_normal i-bem\" data-bem='{\"link\":{\"service\":\"translate\"}}' target=_blank href=\"//translate.yandex.ru/?text=stepic\" data-counter=\"[&quot;w&quot;,&quot;471.208.575&quot;]\" data-log-node=88wl><span class=service__name>Переводчик</span></a></div></div><div class=\"navigation__item navigation__item_service_yes navigation__item_name_music\" data-log-node=88wm><div class=\"service service_hoverable_yes service_name_music\"><a class=\"service__url link link_target_vertical-service link_service-link_yes link link_theme_normal i-bem\" data-bem='{\"link\":{\"service\":\"music\"}}' target=_blank href=\"//music.yandex.ru/search?text=stepic\" data-counter=\"[&quot;w&quot;,&quot;471.208.56&quot;]\" data-log-node=88wn><span class=service__name>Музыка</span></a></div></div><div class=\"navigation__item navigation__item_service_yes navigation__item_name_disk navigation__item_extra_hidden\" data-log-node=88wo><div class=\"service service_hoverable_yes service_name_disk\"><a class=\"service__url link link_target_vertical-service link_service-link_yes link link_theme_normal i-bem\" data-bem='{\"link\":{\"service\":\"disk\"}}' target=_blank href=\"//disk.yandex.ru\" data-counter=\"[&quot;w&quot;,&quot;471.208.1032&quot;]\" data-log-node=88wp><span class=service__name>Диск</span></a></div></div><div class=\"navigation__item navigation__item_service_yes navigation__item_name_mail navigation__item_extra_hidden\" data-log-node=88wq><div class=\"service service_hoverable_yes service_name_mail\"><a class=\"service__url link link_target_vertical-service link_service-link_yes link link_theme_normal i-bem\" data-bem='{\"link\":{\"service\":\"mail\"}}' target=_blank href=\"//mail.yandex.ru\" data-counter=\"[&quot;w&quot;,&quot;471.208.176&quot;]\" data-log-node=88wr><span class=service__name>Почта</span></a></div></div><div class=\"navigation__item navigation__item_service_yes navigation__item_name_all navigation__item_extra_hidden\" data-log-node=88ws><div class=\"service service_hoverable_yes service_name_all\"><a class=\"service__url link link_target_vertical-service link_service-link_yes link link_theme_normal i-bem\" data-bem='{\"link\":{\"service\":\"all\"}}' target=_blank href=\"//yandex.ru/all?text=stepic\" data-counter=\"[&quot;w&quot;,&quot;471.208.136&quot;]\" data-log-node=88wt><span class=service__name>Все</span></a></div></div><div class=\"navigation__more navigation__more_visibility_visible navigation__item\" data-log-node=88wu data-counter=\"[&quot;w&quot;,&quot;471.208.75&quot;]\"><div class=\"navigation__more-label service service_hoverable_yes\" role=button title=\"Ещё\" aria-label=\"Ещё\">Ещё</div></div></div></div></div><style nonce=3938 data-role=css data-stylesheet=main>:root{--color-link:#04b;--color-link-visited:#909;--color-link-active:#d00;--color-link-minor:#669;--color-black:#000;--color-grey:#999;--color-white:#fff;--color-action:#fc0;--color-blue-link:#00c;--color-grey-link:#669;--color-black-text:#333;--color-grey-text:#999;--color-green-url:#070;--color-arrow:#fc0;--color-arrow-active:#f2cf46;--color-border:rgba(0,0,0,.1);--color-selection:#ffeba0;--color-red-hover:#d00;--color-neowhite:#f3f1ed;--size-border-radius-m:4px;--text-s:11px;--text-s-line-m:15px;--text-m:13px;--text-m-line-s:16px;--text-m-line-m:17px;--text-m-line-l:1em;--text-l:18px;--text-l-line-s:1em;--text-l-line-m:24px;--text-xl:28px;--text-xl-line-m:32px;--typo-caps:11px;--typo-greenurl:14px;--typo-greenurl-line-height:17px;--font-regular:Arial,Helvetica,sans-serif}.button2{display:inline-block;overflow:visible;-moz-box-sizing:border-box;box-sizing:border-box;margin:0;padding:0;-moz-user-focus:ignore;-webkit-user-select:none;-moz-user-select:none;-ms-user-select:none;user-select:none;white-space:nowrap;text-decoration:none;-webkit-tap-highlight-color:rgba(0,0,0,0);-ms-touch-action:manipulation;touch-action:manipulation}.button2_disabled_yes{pointer-events:none}.button2::-moz-focus-inner{padding:0;border:0}.button2:before{z-index:-1}.button2{cursor:pointer}.button2_disabled_yes{cursor:default}.button2{font-family:inherit;position:relative;z-index:0;transition:transform .1s linear,color .15s ease-out;transition:transform .1s linear,color .15s ease-out,-webkit-transform .1s linear;border:0;border-radius:4px;outline:0;background:0 0;text-align:center}.button2:before{position:absolute;top:0;right:0;bottom:0;left:0;padding:0;content:'';transition:background .15s linear,border-color .15s ease-out;border-radius:4px;background-clip:padding-box}.button2_hidden_yes{display:none}.button2.button2_pressed_yes{-webkit-transform:scale(.96);transform:scale(.96)}.button2__text-icon{margin-right:5px}.button2__text{position:relative;display:inline-block;resize:none;white-space:nowrap;pointer-events:none}.suggest2{font-family:Arial,sans-serif;border-width:1px;border-style:solid;border-color:#e5e5e5 #d1d1d1 #c3c3c3;background-color:#fff}.suggest2,.suggest2 .popup__content{padding:0}.suggest2__content,.suggest2__items{margin:0;padding:0}.suggest2_search_yes .suggest2__content:before{position:absolute;content:'';background-color:#fff;top:-7px;left:-13px;-moz-box-sizing:border-box;box-sizing:border-box;width:calc(100vw - 130px);height:17px;border-bottom:5px solid #fff;background:0 0}.suggest2{background-color:transparent}.suggest2-item{overflow:hidden;list-style-type:none;white-space:nowrap;text-overflow:ellipsis}.suggest2-item_selected_yes{background:#ffeba0}.suggest2-item__text{white-space:nowrap;color:#000}.suggest2-item__text_type_url{text-decoration:underline;color:#22c}.suggest2-item_type_traffic .suggest2-item__fact,.suggest2-item_type_weather .suggest2-item__fact{margin-left:5px}.suggest2-item{cursor:pointer}.suggest2-item .suggest2-item__icon{margin-top:2px}.popup2{position:absolute}.popup2_outside_yes{top:-10000px!important;left:-10000px!important;display:block!important}.popup2_theme_clear{display:none}.popup2_theme_clear.popup2_visible_yes{display:block}.popup2_fixed_yes{position:fixed}.suggest2-item__fact{color:#999}.suggest2__a11y{position:absolute;left:-32767px}.suggest2-item__bullet{margin:0 7px;color:#999}.suggest2-item__bullet:before{content:'→'}.suggest2-item__link{display:block;overflow:hidden;text-decoration:none;text-overflow:ellipsis;color:#999;outline:none}.suggest2-item__link:hover .suggest2-item__fact{color:#999}.suggest2-item__link:hover .suggest2-item__text_type_url{color:red}.suggest2-item__text_type_title-url{overflow:hidden;margin-top:5px;text-decoration:none;text-overflow:ellipsis;font-size:16px;line-height:18px;color:#00c}.suggest2-item__text_type_green-url{margin-top:2px;font-size:13px;line-height:1em;color:#070}.suggest2-item__thumb{position:relative;display:-webkit-flex;display:-ms-flexbox;display:flex;overflow:hidden;margin:0 12px 0 0;border-radius:4px;-webkit-align-content:center;-ms-flex-line-pack:center;align-content:center;-webkit-align-items:center;-ms-flex-align:center;align-items:center;-webkit-flex-shrink:0;-ms-flex-negative:0;flex-shrink:0;-webkit-justify-content:center;-ms-flex-pack:center;justify-content:center}.suggest2-item__thumb_shade::after{position:absolute;top:0;left:0;width:100%;height:100%;content:'';border-radius:4px;background-color:rgba(0,0,0,.05)}.suggest2-item__thumb-img{width:auto;max-width:100%;height:auto;max-height:100%}.suggest2-item__thumb_badge .suggest2-item__thumb-badge{position:absolute;bottom:0;left:0;overflow:hidden;width:26px;height:20px;text-align:center;text-overflow:ellipsis;font-size:13px;line-height:20px;color:#333;border-top-right-radius:4px}.suggest2-item__thumb_size_m{width:48px;min-width:48px;height:48px}.suggest2-item__thumb_size_m.suggest2-item__thumb_aspect_portrait:not(.suggest2-item__thumb_circle){width:28px}.suggest2-item__thumb_size_m.suggest2-item__thumb_aspect_landscape:not(.suggest2-item__thumb_circle){width:60px}.suggest2-item__thumb_size_m.suggest2-item__thumb_aspect_portrait{width:32px;min-width:32px}.suggest2-item__thumb_size_m.suggest2-item__thumb_aspect_landscape{width:72px;min-width:72px}.suggest2-item__mark{overflow:hidden;width:18px;height:20px;margin-left:4px;vertical-align:middle;background-repeat:no-repeat;background-position:center;-webkit-flex-shrink:0;-ms-flex-negative:0;flex-shrink:0}.suggest2-item__mark_verified{background-image:url('data:image/svg+xml;base64,PHN2ZyB3aWR0aD0iMTYiIGhlaWdodD0iMTYiIHhtbG5zPSJodHRwOi8vd3d3LnczLm9yZy8yMDAwL3N2ZyI+PGcgZmlsbD0ibm9uZSIgZmlsbC1ydWxlPSJldmVub2RkIj48cGF0aCBkPSJNNS44MTEgMTQuNjlsLTEuMDUuMTM4YTEgMSAwIDAgMS0xLjA1NS0uNjFsLS40MDUtLjk3OGExIDEgMCAwIDAtLjU0MS0uNTQxbC0uOTc5LS40MDVhMSAxIDAgMCAxLS42MDktMS4wNTVsLjEzOS0xLjA1YTEgMSAwIDAgMC0uMTk4LS43NGwtLjY0NS0uODRhMSAxIDAgMCAxIDAtMS4yMThsLjY0NS0uODRhMSAxIDAgMCAwIC4xOTgtLjc0bC0uMTM5LTEuMDVhMSAxIDAgMCAxIC42MS0xLjA1NWwuOTc4LS40MDVBMSAxIDAgMCAwIDMuMyAyLjc2bC40MDUtLjk3OWExIDEgMCAwIDEgMS4wNTUtLjYwOWwxLjA1LjEzOWExIDEgMCAwIDAgLjc0LS4xOThsLjg0LS42NDVhMSAxIDAgMCAxIDEuMjE4IDBsLjg0LjY0NWExIDEgMCAwIDAgLjc0LjE5OGwxLjA1LS4xMzlhMSAxIDAgMCAxIDEuMDU1LjYxbC40MDUuOTc4YTEgMSAwIDAgMCAuNTQxLjU0MWwuOTc5LjQwNWExIDEgMCAwIDEgLjYwOSAxLjA1NWwtLjEzOSAxLjA1YTEgMSAwIDAgMCAuMTk4Ljc0bC42NDUuODRhMSAxIDAgMCAxIDAgMS4yMThsLS42NDUuODRhMSAxIDAgMCAwLS4xOTguNzRsLjEzOSAxLjA1YTEgMSAwIDAgMS0uNjEgMS4wNTVsLS45NzguNDA1YTEgMSAwIDAgMC0uNTQxLjU0MWwtLjQwNS45NzlhMSAxIDAgMCAxLTEuMDU1LjYwOWwtMS4wNS0uMTM5YTEgMSAwIDAgMC0uNzQuMTk4bC0uODQuNjQ1YTEgMSAwIDAgMS0xLjIxOCAwbC0uODQtLjY0NWExIDEgMCAwIDAtLjc0LS4xOTh6IiBmaWxsPSIjMUY2QUVEIi8+PHBhdGggc3Ryb2tlPSIjRkZGIiBzdHJva2Utd2lkdGg9IjIiIHN0cm9rZS1saW5lY2FwPSJyb3VuZCIgc3Ryb2tlLWxpbmVqb2luPSJyb3VuZCIgZD0iTTQuMzY0IDhsMi43ODIgMi45MSA0LjQ5LTUuNDU1Ii8+PC9nPjwvc3ZnPg==')}.suggest2-item__mark_shield{background-image:url('data:image/svg+xml;base64,PHN2ZyB3aWR0aD0iMTIiIGhlaWdodD0iMTQiIHhtbG5zPSJodHRwOi8vd3d3LnczLm9yZy8yMDAwL3N2ZyI+PHBhdGggZD0iTTAgMi41NDVMNS44MzMgMGw1LjgzNCAyLjU0NXYuNjM3QzExLjY2NyAxMC43NTcgNS44MzMgMTQgNS44MzMgMTRTMCAxMC43NTcgMCAzLjE4MnYtLjYzN3ptNC44MzMgMi4wMjNsLTEuMzMtMS45NDNjLTEuNDc1LjM1Ni0xLjQ2IDEuNjE3LTEuNDYgMS42MTdzLS4wNTUuOTguNDY4IDEuNzY1Yy41MjMuNzg1Ljc0NSAxLjEyOSAxLjM4OCAxLjc3Mi42NDMuNjQyLjk4Ljg1NyAxLjc2NiAxLjM4Ljc4NS41MjMgMS43NjMuNDY1IDEuNzYzLjQ2NXMxLjIxNC4wMDEgMS42MTMtMS40NjRMNy4xMjUgNi44NDRzLS40NjkuNjUzLS41NDYuNzc4Yy0uMDg3LjE0MS0uMy4yOTUtLjUzLjE1NC0uMjMxLS4xNDEtLjY3NS0uNDA4LTEuMjA2LS45NC0uNTMtLjUzMi0uODA2LS45ODItLjk0OC0xLjIxMi0uMTQtLjIzMS4wMy0uNDU0LjE0Ny0uNTM4LjExOC0uMDgzLjc5LS41MTguNzktLjUxOHoiIGZpbGw9IiM5OTkiIGZpbGwtcnVsZT0iZXZlbm9kZCIvPjwvc3ZnPg==')}.suggest2-item.suggest2-item_rich:not(.suggest2-item_interact_link),.suggest2-item_rich.suggest2-item_interact_link .suggest2-item__link{padding-top:12px;padding-bottom:12px}.suggest2-item_rich:not(.suggest2-item_interact_link) .suggest2-item__link{padding:0}.suggest2-item_rich,.suggest2-item_rich .suggest2-item__link{display:-webkit-flex;display:-ms-flexbox;display:flex;-webkit-align-items:center;-ms-flex-align:center;align-items:center}.suggest2-item_rich .suggest2-item__link{width:100%}.suggest2-item_rich .suggest2-item__desc,.suggest2-item_rich .suggest2-item__text{overflow:hidden;text-overflow:ellipsis;font-size:18px;line-height:24px}.suggest2-item_rich .suggest2-item__text{display:block}.suggest2-item_rich .suggest2-item__text_type_title{font-weight:700;color:#000}.suggest2-item_rich .suggest2-item__text_type_subtitle{display:-webkit-flex;display:-ms-flexbox;display:flex;color:#999;-webkit-align-items:center;-ms-flex-align:center;align-items:center}.suggest2-item_interact_link:not(.suggest2-item_monochrome).suggest2-item_rich .suggest2-item__text_type_title{color:#00c}.suggest2-item_interact_link:not(.suggest2-item_monochrome).suggest2-item_rich .suggest2-item__text_type_subtitle{color:#070}.suggest2-item_rich .suggest2-item__desc{color:#999}.suggest2-item_rich .suggest2-item__desc:not(:first-child){margin-left:5px}.suggest2-item__icon{display:inline-block;vertical-align:middle;background-repeat:no-repeat;background-position:center;width:32px;height:32px;margin:0 0 0 5px;background-size:contain}.suggest2-item__icon_size_s{width:16px;height:16px;margin:0 9px 2px}.suggest2-item__info{overflow:hidden;margin-top:5px}.suggest2-item__img{float:left;margin:0 10px 7px 0;background:no-repeat center center;background-size:cover}.suggest2-item__img_size_m{width:60px;height:60px}.suggest2-item__icon_size_m{width:22px;height:22px;margin:0 9px 2px}.suggest2-item__icon_size_l{width:32px;margin:0 5px;vertical-align:top;height:28px}.suggest2-item__thumb_size_l{width:68px;min-width:68px;height:68px}.suggest2-item__thumb_size_l.suggest2-item__thumb_aspect_portrait:not(.suggest2-item__thumb_circle){width:40px}.suggest2-item__thumb_size_l.suggest2-item__thumb_aspect_landscape:not(.suggest2-item__thumb_circle){width:84px}.suggest2-item__thumb_size_l.suggest2-item__thumb_aspect_portrait{width:48px;min-width:48px}.suggest2-item__thumb_size_l.suggest2-item__thumb_aspect_landscape{width:100px;min-width:100px}.suggest2-item_reverse.suggest2-item_rich,.suggest2-item_reverse.suggest2-item_rich .suggest2-item__link{-webkit-flex-direction:row-reverse;-ms-flex-direction:row-reverse;flex-direction:row-reverse;-webkit-justify-content:space-between;-ms-flex-pack:justify;justify-content:space-between}.suggest2-item_reverse .suggest2-item__thumb{margin:0}.suggest2-item__thumb_size_s{width:35px;min-width:35px;height:35px}.suggest2-item__thumb_size_s.suggest2-item__thumb_aspect_portrait:not(.suggest2-item__thumb_circle){width:20px}.suggest2-item__thumb_size_s.suggest2-item__thumb_aspect_landscape:not(.suggest2-item__thumb_circle){width:56px}.suggest2-item__thumb_size_s.suggest2-item__thumb_aspect_portrait{width:23px;min-width:23px}.suggest2-item__thumb_size_s.suggest2-item__thumb_aspect_landscape{width:64px;min-width:64px}.suggest2-item__thumb_circle{border-radius:50%}.suggest2-item__thumb_padding .suggest2-item__thumb-img{max-width:80%;max-height:80%}.suggest2_theme_large{right:0;left:0!important;border:none;border-bottom:1px solid rgba(0,0,0,.1);background:#fff}.suggest2_theme_large:before{position:absolute;z-index:-1;top:50%;display:block;width:100%;height:50%;content:'';box-shadow:0 8px 25px -5px rgba(0,0,0,.25)}.suggest2_theme_large:after{position:absolute;z-index:-1;right:0;bottom:0;left:0;content:'';background:#fff}.suggest2_theme_large .suggest2__group,.suggest2_theme_large .suggest2__group+.suggest2__group{position:relative}.suggest2__content_theme_large{position:relative;z-index:10}.suggest2_theme_large{padding:0 0 7px}.suggest2__content_theme_large{display:inline-block;max-width:100%;margin-left:130px;vertical-align:top}.suggest2_theme_large .suggest2-item{margin-right:13px;margin-left:-13px;border-radius:3px}.suggest2_theme_large .suggest2__title{display:none}.suggest2_theme_large.suggest2_group_label .suggest2__title{display:block;margin-left:-13px;padding-left:0}.suggest2_theme_large{font-size:16px;line-height:32px;margin-top:7px;padding-top:0}.suggest2_theme_large .suggest2-item{padding:0 13px}.suggest2_theme_large .suggest2__items{font-size:18px;line-height:32px}@media screen and (-ms-high-contrast:active),(-ms-high-contrast:none){.suggest2_theme_large .suggest2__content .suggest2-item{padding-left:11px}}.suggest2_theme_large{background-color:transparent}.suggest2_theme_large:after{top:10px;background-color:#fff}.suggest2-item_personal_yes{display:-webkit-flex;display:-ms-flexbox;display:flex;max-width:none;-webkit-justify-content:space-between;-ms-flex-pack:justify;justify-content:space-between;height:32px;transition:height .3s linear}.suggest2-item.suggest2-item_personal_yes .suggest2-item__text{display:block;overflow:hidden;white-space:nowrap;text-overflow:ellipsis;color:#551a8b;-webkit-box-flex:0;-webkit-flex-shrink:1;-ms-flex-negative:1;flex-shrink:1}.suggest2-item.suggest2-item_personal_yes{padding-right:0}.suggest2-item_personal_yes .suggest2-item__text{padding:0}.suggest2-item_personal_yes .suggest2-item__cross{visibility:hidden;-webkit-flex:0 0 32px;-ms-flex:0 0 32px;flex:0 0 32px}.suggest2-item_personal_yes.suggest2-item_selected_yes .suggest2-item__cross{visibility:visible}.suggest2-item__cross{width:32px;height:32px;background-image:url(\"//yastatic.net/islands/_/DNNWcBEi-Mt-CN07VURlZ_knmsI.svg\");-webkit-flex-shrink:0;-ms-flex-negative:0;flex-shrink:0}.i-ua_svg_no .suggest2-item__cross{background:no-repeat url(\"//yastatic.net/islands/_/QBsrSjpKllyvajVHt85LFJ78REU.png\")}.suggest2-item__spacer{-webkit-flex:1 1 0;-ms-flex:1 1 0;flex:1 1 0px}.suggest2_group_label .suggest2__title{position:relative;display:block;padding-left:4px;text-align:left;color:#999;font-size:13px;line-height:24px}.main{position:relative;-moz-box-sizing:border-box;box-sizing:border-box;min-height:100%;margin-top:-411px;padding-top:411px;padding-bottom:6px}.main_hidden-content_yes{display:table;width:100%;height:100%}.main_hidden-content_yes .main__center,.main_hidden-content_yes .main__top,.main_hidden-content_yes.main_kind_advanced-search .advanced-search{display:none}.main_kind_advanced-search .advanced-search{margin-bottom:26px}@font-face{font-family:ArialRub;src:url(\"//yastatic.net/web4/_/sIJpt2WHDXpNt0Pyuj-a0ZnY-h8.woff\") format('woff'),url(\"//yastatic.net/web4/_/iOX23Z1CHz6YYv5o-NPNJCMNEco.ttf\") format('truetype')}.rub{font-family:ArialRub,Arial,Helvetica,sans-serif}.progress{width:0;height:2px;background-color:#fc0}.progress_timing_linear{transition:width .2s linear}.progress_timing_pending{transition:width .4s cubic-bezier(.44,.61,.44,.61)}.progress_timing_finish{transition:width .2s ease-in-out}.progress_timing_hide{visibility:hidden;transition:opacity .15s linear,visibility 0s linear .15s;opacity:0}.spin2{display:none;-moz-box-sizing:border-box;box-sizing:border-box;border:2px solid transparent;border-radius:100px;background-image:url(\"//yastatic.net/web4/_/lMheXM1Y3XcixfNpGnrupH6cjfc.gif\");background-image:linear-gradient(to right,rgba(0,0,0,0),rgba(0,0,0,0))}.spin2:after{visibility:hidden;content:'\\00A0'}.i-ua_platform_opera .spin2:not(.spin2_progress_yes){position:absolute;top:0;left:0;display:inline-block;visibility:hidden}.spin2{border-top-color:#fc0;border-left-color:#fc0}.spin2_progress_yes{display:inline-block;-webkit-animation:islands-spin2 1s infinite linear;animation:islands-spin2 1s infinite linear;-webkit-backface-visibility:hidden;backface-visibility:hidden}@-webkit-keyframes islands-spin2{0%{-webkit-transform:rotate(0deg);transform:rotate(0deg)}to{-webkit-transform:rotate(360deg);transform:rotate(360deg)}}@keyframes islands-spin2{0%{-webkit-transform:rotate(0deg);transform:rotate(0deg)}to{-webkit-transform:rotate(360deg);transform:rotate(360deg)}}.i-ua_platform_opera .spin2_progress_yes{position:static;visibility:visible}.spin2_progress_yes{position:relative}.spin2_position_center{position:absolute}@-webkit-keyframes islands-spin_{0%{-webkit-transform:rotate(1deg);transform:rotate(1deg)}to{-webkit-transform:rotate(360deg);transform:rotate(360deg)}}@keyframes islands-spin_{0%{-webkit-transform:rotate(1deg);transform:rotate(1deg)}to{-webkit-transform:rotate(360deg);transform:rotate(360deg)}}.spin2_view_default.spin2_tone_default.spin2_progress_yes{border-top-color:#fc0;border-left-color:#fc0}.spin2_size_xxs{width:16px;height:16px;font-size:13px;line-height:12px;background-position:-2px -2px}.spin2_size_xxs.spin2_position_center{margin-top:-8px;margin-left:-8px}.spin2_size_xs{width:24px;height:24px;font-size:13px;line-height:20px;background-position:-2px -19px}.spin2_size_xs.spin2_position_center{margin-top:-12px;margin-left:-12px}.spin2_size_s{width:28px;height:28px;font-size:13px;line-height:24px;background-position:-2px -44px}.spin2_size_s.spin2_position_center{margin-top:-14px;margin-left:-14px}.spin2_size_m{width:32px;height:32px;font-size:15px;line-height:28px;background-position:-2px -73px}.spin2_size_m.spin2_position_center{margin-top:-16px;margin-left:-16px}.spin2_size_l{width:38px;height:38px;font-size:18px;line-height:34px;background-position:-2px -106px}.spin2_size_l.spin2_position_center{margin-top:-19px;margin-left:-19px}.paranja{position:fixed;top:-100%;right:-100%;bottom:-100%;left:-100%}.paranja_state_close{visibility:hidden;opacity:0}.paranja_state_open{visibility:visible;opacity:1;-webkit-tap-highlight-color:rgba(0,0,0,0);transition:opacity .3s ease-out}.paranja_state_close{transition:visibility 0s .15s,opacity .15s ease-out}.paranja{z-index:10}.paranja_theme_normal{background:rgba(0,0,0,.15)}.main__carousel{position:relative;z-index:10;min-width:990px;margin-left:-130px}.main__center{z-index:0;padding-left:30px;margin-left:100px;padding-top:31px}.b-page_hide-serp_yes .carousel{margin-bottom:0}.b-page_hide-serp_yes .main{padding-bottom:0}.b-page_hide-serp_yes .main__content,.b-page_hide-serp_yes .serp-footer{display:none}.input_disabled_yes.input_theme_normal .input__control{color:#aaa;-webkit-text-fill-color:#aaa}.input_theme_normal .input__control::-webkit-input-placeholder{color:#999}.input_theme_normal .input__control::-moz-placeholder{opacity:1;color:#999}.input_theme_normal .input__control:-ms-input-placeholder{color:#999}.input_theme_normal .input__hint{color:#999}.input_theme_normal .input__box:before{border:1px solid rgba(0,0,0,.2);background-color:#fff;background-clip:padding-box;transition:.1s ease-out;transition-property:border-color,border-width,background-color}.input_theme_normal.input_hovered_yes .input__box:before{border-color:rgba(0,0,0,.3)}.input_theme_normal.input_focused_yes .input__box:before{border:2px solid #ffdb4d}.input_theme_normal.input_disabled_yes .input__box:before{border-width:0;background-color:rgba(0,0,0,.08)}.input_theme_normal.input_type_textarea .input__box:before{transition-property:border-color,border-width,top,left,right,bottom}.input_theme_normal,.input_theme_normal .input__control{font-family:inherit}@media all and (min-width:0){.input_theme_normal .input__box{background:#fff}}.input_theme_normal,.input_theme_normal .input__control{color:#333}.link_disabled_yes,.link_disabled_yes:hover,.link_disabled_yes:hover .link__inner,a.link_disabled_yes:link,a.link_disabled_yes:visited{color:#ddd!important}.content{white-space:nowrap}.content__left,.content__right{display:inline-block;vertical-align:top;white-space:normal}.content__left{width:550px}.content__right{margin-left:34px}.content__right .favicon{display:none}.content__right_cols_6{width:260px}.content__right_cols_8{width:352px}.content__right_cols_10{width:444px}.content__right_cols_12{width:536px}.serp-adv__head{margin-bottom:16px}.serp-adv__head-link{color:#666!important}.serp-adv__head-link.link_hovered_yes{color:#d00!important}.button2_theme_default{color:#000}.button2_theme_default:before{background-color:#e6e6e6}.button2_theme_default.button2_hovered_yes:before{background-color:#dbdbdb}.button2_theme_default.button2_checked_yes:before{background-color:#515151}.utilityfocus .button2_theme_default.button2_focused_yes:before{border:2px solid #a1a1a1}.button2_theme_default.button2_pressed_yes:before{background-color:#dbdbdb}.button2_theme_default.button2_pressed_yes.button2_checked_yes:before{background-color:#515151}.button2_theme_default.button2_checked_yes{color:#fff}.button2_theme_default.button2_view_action.button2_hovered_yes:before{background-color:#f2c200}.button2_theme_default.button2_view_action.button2_checked_yes:before{background-color:#594700}.utilityfocus .button2_theme_default.button2_view_action.button2_focused_yes:before{border:2px solid #b38f00}.button2_theme_default.button2_view_action.button2_pressed_yes:before{background-color:#f2c200}.button2_theme_default.button2_view_action.button2_pressed_yes.button2_checked_yes:before{background-color:#594700}.button2_theme_default.button2_view_action:before{background-color:#fc0}.button2_theme_default.button2_disabled_yes{opacity:.4}.button2_theme_default.button2_disabled_yes .icon{opacity:.9}.favicon{top:3px}.favicon__icon{width:16px;height:16px}.favicon{position:absolute;left:-22px}.favicon__icon{display:block}.content__right .serp-adv-item{width:260px}.content__right .serp-adv-item .organic__path{margin-right:14px}.serp-adv__add{display:inline-block;margin:5px 10px 0 0}.serp-adv__add .link,.serp-adv__all .link{text-decoration:underline;color:#999}.serp-adv__add .link.link_hovered_yes{color:#d00}.serp-adv__add_hidden_yes{display:none}.serp-adv__all{display:inline-block;margin-top:5px}.serp-adv__found{font-weight:700}.serp-adv__displayed{margin-top:5px}.serp-adv__banner{overflow:hidden;width:200px;height:300px;margin-bottom:12px;background:rgba(0,0,0,.06)}.serp-adv__banner .serp-adv__image{border:0}.serp-item,.serp-list_right_yes:not(:empty){margin-bottom:26px}.serp-list_right_yes:not(:first-of-type):not(:empty){margin-top:20px}.serp-item{color:#333;color:var(--color-black-text);position:relative}.serp-item_feedback::after{position:absolute;z-index:10;top:-11px;right:-18px;bottom:-11px;left:-28px;content:'';outline:2px solid #ca362c}.a11y-hidden{position:absolute;left:-32767px}.uni-answer__item+.uni-answer__tabs{margin-top:-17px}.serp-list_left_yes{list-style:none;margin:0;padding:0}.serp-list_left_yes .serp-item{text-align:inherit}.popup2_theme_normal{visibility:hidden;-moz-box-sizing:border-box;box-sizing:border-box;margin:-9999px 0 0 -9999px;border:1px solid rgba(0,0,0,.06);-webkit-animation-duration:.1s;animation-duration:.1s;-webkit-animation-timing-function:ease-out;animation-timing-function:ease-out;-webkit-animation-fill-mode:forwards;animation-fill-mode:forwards}.popup2_theme_normal .popup2__tail:before{position:absolute;top:1px;right:1px;bottom:0;left:0;content:'';border:1px solid transparent;border-bottom-color:rgba(0,0,0,.06);border-left-color:rgba(0,0,0,.06)}.popup2_theme_normal .popup2__tail:after{position:absolute;top:0;right:0;bottom:1px;left:1px;content:'';background-image:linear-gradient(to top right,#fff 50%,transparent 50%)}.popup2_theme_normal:before{position:absolute;z-index:-1;top:0;right:0;bottom:0;left:0;content:'';border-radius:.1px;background:#fff;box-shadow:0 10px 20px -5px rgba(0,0,0,.4)}.popup2_theme_normal.popup2_js_inited{display:block}.popup2_theme_normal.popup2_visible_yes{visibility:visible;margin:0}.popup2_theme_normal.popup2_direction_bottom-center,.popup2_theme_normal.popup2_direction_bottom-left,.popup2_theme_normal.popup2_direction_bottom-right{-webkit-animation-name:popup2_theme_normal_bottom;animation-name:popup2_theme_normal_bottom}.popup2_theme_normal.popup2_direction_bottom-center.popup2_visible_yes,.popup2_theme_normal.popup2_direction_bottom-left.popup2_visible_yes,.popup2_theme_normal.popup2_direction_bottom-right.popup2_visible_yes{-webkit-animation-name:popup2_theme_normal_bottom_visible;animation-name:popup2_theme_normal_bottom_visible}.popup2_theme_normal.popup2_direction_top-center,.popup2_theme_normal.popup2_direction_top-left,.popup2_theme_normal.popup2_direction_top-right{-webkit-animation-name:popup2_theme_normal_top;animation-name:popup2_theme_normal_top}.popup2_theme_normal.popup2_direction_top-center.popup2_visible_yes,.popup2_theme_normal.popup2_direction_top-left.popup2_visible_yes,.popup2_theme_normal.popup2_direction_top-right.popup2_visible_yes{-webkit-animation-name:popup2_theme_normal_top_visible;animation-name:popup2_theme_normal_top_visible}.popup2_theme_normal.popup2_direction_right-bottom,.popup2_theme_normal.popup2_direction_right-center,.popup2_theme_normal.popup2_direction_right-top{-webkit-animation-name:popup2_theme_normal_right;animation-name:popup2_theme_normal_right}.popup2_theme_normal.popup2_direction_right-bottom.popup2_visible_yes,.popup2_theme_normal.popup2_direction_right-center.popup2_visible_yes,.popup2_theme_normal.popup2_direction_right-top.popup2_visible_yes{-webkit-animation-name:popup2_theme_normal_right_visible;animation-name:popup2_theme_normal_right_visible}.popup2_theme_normal.popup2_direction_left-bottom,.popup2_theme_normal.popup2_direction_left-center,.popup2_theme_normal.popup2_direction_left-top{-webkit-animation-name:popup2_theme_normal_left;animation-name:popup2_theme_normal_left}.popup2_theme_normal.popup2_direction_left-bottom.popup2_visible_yes,.popup2_theme_normal.popup2_direction_left-center.popup2_visible_yes,.popup2_theme_normal.popup2_direction_left-top.popup2_visible_yes{-webkit-animation-name:popup2_theme_normal_left_visible;animation-name:popup2_theme_normal_left_visible}@-webkit-keyframes popup2_theme_normal_bottom{0%{visibility:visible;margin:0;opacity:1;-webkit-transform:translateY(0);transform:translateY(0)}99%{margin:0;-webkit-transform:translateY(10px);transform:translateY(10px)}to{visibility:hidden;margin:-9999px 0 0 -9999px;opacity:0}}@keyframes popup2_theme_normal_bottom{0%{visibility:visible;margin:0;opacity:1;-webkit-transform:translateY(0);transform:translateY(0)}99%{margin:0;-webkit-transform:translateY(10px);transform:translateY(10px)}to{visibility:hidden;margin:-9999px 0 0 -9999px;opacity:0}}@-webkit-keyframes popup2_theme_normal_bottom_visible{0%{opacity:0;-webkit-transform:translateY(10px);transform:translateY(10px)}to{opacity:1;-webkit-transform:translateY(0);transform:translateY(0)}}@keyframes popup2_theme_normal_bottom_visible{0%{opacity:0;-webkit-transform:translateY(10px);transform:translateY(10px)}to{opacity:1;-webkit-transform:translateY(0);transform:translateY(0)}}@-webkit-keyframes popup2_theme_normal_top{0%{visibility:visible;margin:0;opacity:1;-webkit-transform:translateY(0);transform:translateY(0)}99%{margin:0;-webkit-transform:translateY(-10px);transform:translateY(-10px)}to{visibility:hidden;margin:-9999px 0 0 -9999px;opacity:0}}@keyframes popup2_theme_normal_top{0%{visibility:visible;margin:0;opacity:1;-webkit-transform:translateY(0);transform:translateY(0)}99%{margin:0;-webkit-transform:translateY(-10px);transform:translateY(-10px)}to{visibility:hidden;margin:-9999px 0 0 -9999px;opacity:0}}@-webkit-keyframes popup2_theme_normal_top_visible{0%{opacity:0;-webkit-transform:translateY(-10px);transform:translateY(-10px)}to{opacity:1;-webkit-transform:translateY(0);transform:translateY(0)}}@keyframes popup2_theme_normal_top_visible{0%{opacity:0;-webkit-transform:translateY(-10px);transform:translateY(-10px)}to{opacity:1;-webkit-transform:translateY(0);transform:translateY(0)}}@-webkit-keyframes popup2_theme_normal_right{0%{visibility:visible;margin:0;opacity:1;-webkit-transform:translateX(0);transform:translateX(0)}99%{margin:0;-webkit-transform:translateX(10px);transform:translateX(10px)}to{visibility:hidden;margin:-9999px 0 0 -9999px;opacity:0}}@keyframes popup2_theme_normal_right{0%{visibility:visible;margin:0;opacity:1;-webkit-transform:translateX(0);transform:translateX(0)}99%{margin:0;-webkit-transform:translateX(10px);transform:translateX(10px)}to{visibility:hidden;margin:-9999px 0 0 -9999px;opacity:0}}@-webkit-keyframes popup2_theme_normal_right_visible{0%{opacity:0;-webkit-transform:translateX(10px);transform:translateX(10px)}to{opacity:1;-webkit-transform:translateX(0);transform:translateX(0)}}@keyframes popup2_theme_normal_right_visible{0%{opacity:0;-webkit-transform:translateX(10px);transform:translateX(10px)}to{opacity:1;-webkit-transform:translateX(0);transform:translateX(0)}}@-webkit-keyframes popup2_theme_normal_left{0%{visibility:visible;margin:0;opacity:1;-webkit-transform:translateX(0);transform:translateX(0)}99%{margin:0;-webkit-transform:translateX(-10px);transform:translateX(-10px)}to{visibility:hidden;margin:-9999px 0 0 -9999px;opacity:0}}@keyframes popup2_theme_normal_left{0%{visibility:visible;margin:0;opacity:1;-webkit-transform:translateX(0);transform:translateX(0)}99%{margin:0;-webkit-transform:translateX(-10px);transform:translateX(-10px)}to{visibility:hidden;margin:-9999px 0 0 -9999px;opacity:0}}@-webkit-keyframes popup2_theme_normal_left_visible{0%{opacity:0;-webkit-transform:translateX(-10px);transform:translateX(-10px)}to{opacity:1;-webkit-transform:translateX(0);transform:translateX(0)}}@keyframes popup2_theme_normal_left_visible{0%{opacity:0;-webkit-transform:translateX(-10px);transform:translateX(-10px)}to{opacity:1;-webkit-transform:translateX(0);transform:translateX(0)}}.popup2__tail{position:absolute;z-index:1;width:10px;height:10px}.popup2_direction_top-center .popup2__tail,.popup2_direction_top-left .popup2__tail,.popup2_direction_top-right .popup2__tail{-webkit-transform:rotate(-45deg);transform:rotate(-45deg)}.popup2_direction_bottom-center .popup2__tail,.popup2_direction_bottom-left .popup2__tail,.popup2_direction_bottom-right .popup2__tail{-webkit-transform:rotate(135deg);transform:rotate(135deg)}.popup2_direction_left-bottom .popup2__tail,.popup2_direction_left-center .popup2__tail,.popup2_direction_left-top .popup2__tail{-webkit-transform:rotate(-135deg);transform:rotate(-135deg)}.popup2_direction_right-bottom .popup2__tail,.popup2_direction_right-center .popup2__tail,.popup2_direction_right-top .popup2__tail{-webkit-transform:rotate(45deg);transform:rotate(45deg)}.click{cursor:pointer}.label{display:inline-block;vertical-align:baseline;border-radius:3px;position:relative;background:#ffeba0;white-space:nowrap;-webkit-transform:translate3d(0,0,0);transform:translate3d(0,0,0)}.label_width_max{-moz-box-sizing:border-box;box-sizing:border-box;width:100%;text-align:center}.label_font_own{font-family:Verdana}.label_color_red{color:#fff;background:#fc191c}.label_color_yellow{color:#332f1e;background:#fefae0}.label_color_blue{color:#000;background:#d9e8ff}.label_color_grey{color:#fff;background:#999}.label_color_green{color:#fff;background:#32ba43}.label_align_top{vertical-align:top}.label_align_middle{vertical-align:middle}.label_align_bottom{vertical-align:bottom}.label{padding:0 6px 1px}.label_font_own{font-size:11px;line-height:15px}.label_color_white{color:#999;color:var(--color-grey);background:#fff;background:var(--color-white);border:1px solid #ccc}.serp__spin{position:fixed;z-index:9;top:0;right:0;display:block;width:0;height:0;-webkit-user-select:none;-moz-user-select:none;-ms-user-select:none;user-select:none;opacity:.1;background:#fff}.serp__spin_progress_yes{bottom:0;left:0;width:auto;height:auto;transition:opacity .3s;opacity:.8;padding-left:400px}.no-connection{display:none;text-align:center;vertical-align:middle}.no-connection_visible_yes{display:table-cell}.no-connection__wrapper{font-size:16px;line-height:22px;position:relative;display:inline-block;padding:14px 0 81px 144px;background:no-repeat 0 -12px url(\"data:image/svg+xml,%3Csvg xmlns%3D%22http%3A%2F%2Fwww.w3.org%2F2000%2Fsvg%22 width%3D%22128%22 height%3D%22128%22 viewBox%3D%220 0 102 102%22%3E%3Cpath d%3D%22M51.2 11.39c-.34.01-.68.04-1.02.12-2.33.48-4 2.35-5.14 4.35-10.94 18.97-21.9 37.93-32.85 56.9-1 1.75-2.21 3.49-2.48 5.54-.32 1.95.33 4.07 1.83 5.38 1.55 1.44 3.75 1.87 5.81 1.85 21.92-.01 43.84 0 65.76 0 2.25-.01 4.65.17 6.7-.92 2.06-.99 3.39-3.25 3.26-5.53-.04-2.32-1.38-4.31-2.5-6.25-10.66-18.46-21.32-36.91-31.97-55.4-.95-1.64-1.83-3.4-3.33-4.62-1.13-.94-2.6-1.49-4.08-1.46m.15 2.39c1.76-.01 3.24 1.46 4.06 2.95l34.2 59.2c.91 1.51 1.61 3.48.7 5.15-.92 1.66-2.98 2.11-4.73 2.08-22.72 0-45.4 0-68.2.01-1.77.04-3.87-.35-4.86-2-.94-1.61-.32-3.59.57-5.08 11.39-19.72 22.77-39.44 34.2-59.2.76-1.31 1.82-2.62 3.36-2.99.26-.06.52-.1.77-.1m-2.81 17.66c1.33-1.27 3.55-1.4 4.95-.16 1.88 1.13 2.36 3.51 2.32 5.54-1.3 10.1-2.04 20.2-3.09 30.3h-3.19c-1.05-10.22-1.86-20.48-3.12-30.67.1-1.81.48-3.9 2.13-4.96m1.5 38.93c2.25-.91 4.83 1.42 4.15 3.75-.45 2.34-3.71 3.27-5.33 1.53-1.69-1.52-1-4.62 1.18-5.28%22 fill%3D%22%23adadab%22%2F%3E%3C%2Fsvg%3E\")}.no-connection__reload.no-connection__reload{position:absolute;bottom:38px;left:144px}.pager{margin-bottom:26px}.pager__item{font-size:18px;line-height:38px;display:inline-block;min-width:38px;text-align:center}.pager__item,.pager__item:hover,.pager__item:visited:hover{color:#333!important}.pager__item_kind_page{position:relative;margin:0 4px;border-radius:19px}.pager__item_kind_page:first-child{margin-left:-4px}.pager__item_kind_page:hover{background-color:rgba(0,0,0,.06)}.pager__item_kind_page:before{content:'';position:absolute;height:100%;left:-4px;right:-4px}.pager__item_kind_next{padding-left:16px;padding-right:20px}.pager__item_kind_begin{padding-right:16px}.pager__item_current_yes,.pager__item_current_yes:hover{cursor:default;background-color:#ffeba0}.b-menu-vert__layout,.b-menu-vert__layout-unit,.b-menu-vert__separator{margin:0;padding:0;list-style:none}.b-menu-vert__item-content{display:none}.b-menu-vert__item-content_visibility_visible{display:block}.popup,.popup__content{-moz-box-sizing:border-box;box-sizing:border-box}.popup{display:none;border:1px solid transparent;position:absolute}.popup__content{position:relative;z-index:10;height:100%;margin:0;padding:4px 8px}.popup__under{position:absolute;top:0;left:0;width:100%;height:100%;padding:0;-webkit-user-select:none;-moz-user-select:none;-ms-user-select:none;user-select:none;border:0}.popup__under_type_invisible{display:none}.popup_theme_ffffff{border-color:rgba(0,0,0,.06)}.popup_theme_ffffff:before{position:absolute;top:0;right:0;bottom:0;left:0;content:'';border-radius:.1px;box-shadow:0 10px 20px -5px rgba(0,0,0,.4);background:#fff}.popup_theme_ffffff .popup__tail:after{background:#fff}.popup_theme_ffffff .popup__tail{background:rgba(0,0,0,.1);background:linear-gradient(to top right,rgba(0,0,0,.1)50%,rgba(0,0,0,0)50%)}.popup_visibility_visible{display:block}.popup_visibility_outside{top:-99999px;left:-99999px;display:block}.popup_has-close_yes>.popup__content{padding:20px}.popup__close{position:absolute;z-index:12;top:5px;right:5px;width:16px;height:16px;cursor:pointer;-webkit-user-select:none;-moz-user-select:none;-ms-user-select:none;user-select:none;font:0/0 a;opacity:.2}.i-ua_svg_yes .popup__close{background:url(\"//yastatic.net/islands/_/B_GHi1n15TIonEBlfjSOiyj2Km4.svg\") no-repeat}.popup__close:hover{opacity:1}.popup_position_fixed{position:fixed}.popup__under_color_white{opacity:.8;background:#fff}.popup__under_type_paranja{position:fixed;top:0;left:0;padding:0;opacity:.3;background:#000;-webkit-tap-highlight-color:rgba(0,0,0,0)}.popup__tail{position:absolute;z-index:9;display:block;width:17px;height:17px;font:0/0 a}.popup__tail:after{position:absolute;bottom:1px;left:1px;width:17px;height:17px;content:''}.popup_to_left .popup__tail,.popup_to_top .popup__tail{-webkit-transform-origin:top left;transform-origin:top left}.popup_to_top .popup__tail{bottom:-18px;-webkit-transform:rotate(-45deg);transform:rotate(-45deg)}.popup_to_left .popup__tail{right:-18px;margin-top:24.04px;-webkit-transform:rotate(-135deg);transform:rotate(-135deg)}.popup_to_bottom .popup__tail,.popup_to_right .popup__tail{-webkit-transform-origin:100% 100%;transform-origin:100% 100%}.popup_to_bottom .popup__tail{top:-18px;margin-left:-17px;-webkit-transform:rotate(135deg);transform:rotate(135deg)}.popup_to_right .popup__tail{left:-18px;margin-top:7.04px;-webkit-transform:rotate(45deg);transform:rotate(45deg)}.related{overflow-wrap:break-word;word-break:break-word}.related__query{font-weight:700}.related__header{font-weight:400;margin-top:0;margin-bottom:8px}.related__column{display:inline-block;min-width:130px;vertical-align:top}.related__item{font-size:13px;line-height:16px;margin-top:6px;margin-right:20px;font-weight:700}.related__item b{font-weight:400}.related__item:first-of-type{margin-top:0}.related{margin-bottom:26px}.related__header{font-size:16px}.competitors{line-height:30px}.competitors_pos_bottom{position:absolute;bottom:6px}.competitors__link,.competitors__link:visited{font-weight:700;color:#999}.competitors__link{margin-left:16px;transition:opacity .2s,color .2s}.competitors__link:first-child{position:relative;margin-left:0;padding-left:26px}.competitors__link:first-child:after{opacity:.45;position:absolute;content:'';top:-5px;left:0;width:24px;height:24px;background:url(\"//yastatic.net/web4/_/wwXJUyA-1JCvKDbVEEqyIJMv0aQ.svg\") -3px 0 no-repeat;transition:opacity .2s}.competitors__link:first-child:hover:after{opacity:1}.b-page_tld_com-tr .competitors__link,.b-page_tld_com-tr .competitors__link:visited{color:#999}.competitors .competitors__link:hover{color:#000}.region-change__popup{padding:4px 0}.region-change__separator{margin:4px;border-top:1px solid #ccc}.region-change__item{display:block;padding:3px 12px;color:#333!important}.region-change__item:hover{background:#ffeca1}.advanced-search .input__clear[class],.feedback .popup__close,.input_settings-inside_yes .input__settings,.search2__input .input__clear,.ugc-modal .popup__close{background-image:url(\"//yastatic.net/web4/_/LthL8YYlqfhygfTe5IR0qpXE1oU.svg\");background-repeat:no-repeat;background-size:auto}.search2__input .input__clear{background-position:-102px 0}.feedback .popup__close,.ugc-modal .popup__close{background-position:-179px -17px}.advanced-search .input__clear{background-position:-179px -50px}.input_settings-inside_yes .input__settings{background-position:-134px 0}.b-counters{position:fixed}.typo{font-family:Arial,Helvetica,sans-serif;font-family:var(--font-regular)}.typo_text_s{font-size:11px;font-size:var(--text-s);line-height:1em}.typo_text_l,.typo_text_m{font-size:13px;font-size:var(--text-m);line-height:1em}.typo_text_l{font-size:18px;font-size:var(--text-l)}.typo_text_xl{font-size:28px;font-size:var(--text-xl)}.typo_line_m,.typo_line_s,.typo_line_s.typo_text_s,.typo_line_s.typo_text_xl,.typo_text_xl{line-height:1em}.typo_line_s.typo_text_m{line-height:16px;line-height:var(--text-m-line-s)}.typo_line_s.typo_text_l{line-height:1em;line-height:var(--text-l-line-s)}.typo_line_m.typo_text_s{line-height:15px;line-height:var(--text-s-line-m)}.typo_line_m.typo_text_m{line-height:17px;line-height:var(--text-m-line-m)}.typo_line_m.typo_text_l{line-height:24px;line-height:var(--text-l-line-m)}.typo_line_m.typo_text_xl{line-height:32px;line-height:var(--text-xl-line-m)}.typo_line_l.typo_text_l,.typo_line_l.typo_text_s,.typo_line_l.typo_text_xl{line-height:1em}.typo_line_l.typo_text_m{line-height:1em;line-height:var(--text-m-line-l)}.typo_type_greenurl{font-size:14px;font-size:var(--typo-greenurl);line-height:17px;line-height:var(--typo-greenurl-line-height)}.typo_type_caps{font-size:11px;font-size:var(--typo-caps);text-transform:uppercase;letter-spacing:.08em}.typo_type_bold,.typo_type_caps{font-weight:700}.typo_type_italic{font-style:italic}</style><link rel=preload href=\"//yastatic.net/jquery/2.1.4/jquery.min.js\" as=script crossorigin=\"\"><link rel=preload href=\"//yastatic.net/web4/_/WnW39xDwomDpMinyHQEMZye1lIY.js\" as=script crossorigin=\"\"><script nonce=3938>Ya.clck=\"//yandex.ru/clck/safeclick/data=AiuY0DBWFJ4EhnbxqmjDhe7I0te9Lb9TE4X0i-PihUx-V39Nul4TJocsbOjuFYIDB8YS6_pk3NeYXFoByoiWRNBpbLYUfXgGurU5xnC-NVtW5_5S2k-kpUShcFVbHL4bqAemGEADhviCXDslU7OXzMZeQqjtF7vKH_Eqb81JSbQZkqZA-ejxSx3dqimOpTRr-B2VT6ktx1zTZLh6ue49jLUeOproXtmSeVDBM7SqmzV_5JB7oCUPfCSreNozABvaoT2AbFt0EQ314Dna3H-mya47DDeBSF26BxzJnUSZj27-bgJXdLnovqtgEOVrVR58iulbhtrWYs4POWXQYr7frqHmmLXGozQn_JoQXx5IZ3QmY4bi8Mvu5L9xQVSHU_Hth5np1T1qSnosn-SUl1KlpU7X3jgEc-2OMEZVvyIWdh5f2o0wsjbeQjwU-gIhvikWQ19MXlbRC3yJrE5stpAkCKAPH7NvIekzH8mQcm1hDdpcrlPvuq9gW7XR4l1RfM2Xj-keyl3fGsg9SuR7JL5Gcxa86vAQp4bD82UK9E1Asa46yKlBF7rWNZFdaQIMjOaF_Ajv0K6tIliE7HoSBTVOnWi-3tZl4Mrv70BMCDcsViu6ihiDFT-6pCw4npTMirTOngHpAYClXrhrWBQvRwQFMQ,,/sign=53c9798f618ce955d84d03fbad8aae27/keyno=0\";!function(r){\"use strict\";function e(){var r=performance.now(),e=t(\"ajaxActionTime\"),n=e?r-e:r;return Math.round(1e3*n)/1e3}function n(){var r=o(\"i-mcounter\");return r?r.get():null}function t(r){var e=o(\"i-global\");return e?e.param(r):(c||a(),c&&c[r])}function a(){try{c=JSON.parse(document.body.getAttribute(\"data-bem\"))[\"i-global\"]||{}}catch(r){c={}}}function o(e){return r.BEM&&r.BEM.blocks&&r.BEM.blocks[e]}var c;r.Ya=r.Ya||{};var u=r.Ya.Serp=r.Ya.Serp||{};u.CHelpers={getParam:t,getMc:n,getHdTime:r.performance&&performance.now?e:function(){}}}(window);!function(e,t,r){\"use strict\";function n(){if(Ya.clck){var e=l.join(\"\\r\\n\");if(l=[],i=null,!r.sendBeacon||r.userAgent.indexOf(\"Chrome/\")!==-1||!r.sendBeacon(Ya.clck,e)){var t=new XMLHttpRequest;t.open(\"POST\",Ya.clck),t.send(e)}}}function a(e){if(e&&e.closest&&e.getAttribute){var t=e.closest(\"[data-clck]\");return t&&t.getAttribute(\"data-clck\")}for(;e&&e.getAttribute;){var r=e.getAttribute(\"data-clck\");if(r)return r;e=e.parentElement}}function o(t,r,n,o){o=o||{};var i=o.clck||e.wrap_clck&&a(t)||Ya.clck;if(i){var u=c(t,r,n,o);return u&&i+u.join(\"\")}}function c(t,r,n,a){a=a||{};var o=t&&t.getAttribute&&t.querySelector&&t.querySelector('*[onmousedown=\"'+(t.getAttribute(\"onmousedown\")||\"\").replace(/\"/g,'\\\\\"')+'\"]');if(o){var c=new Error(\"Double counter:\"+r+\",\"+n);return c.catchType=\"counter:duplication\",void e.logSerpJsError(c)}var i=a.sts===!0?Ya.Serp.CHelpers.getParam(\"sts\"):a.sts,u=Ya.Serp.CHelpers.getMc(),s=u?\"-mc=\"+u:\"\",l=\"-js-ready=\"+(e.Ya&&e.Ya.isBemInited||0);n?n+=s?\",\"+s:\"\":n=s,n+=(n?\",\":\"\")+l;var d=t&&(t[0]?t[0]:t.domElem?t.domElem[0]:t),m=Boolean(d&&d.getAttribute&&d.getAttribute(\"data-log-node\"));if(m){var v=getCounterData(d,{event:a.event,contextId:a.contextId,data:a.data,vars:n});n+=\",-baobab-event-json=\"+encodeURIComponent(JSON.stringify([v]))}var g=Ya.Serp.CHelpers.getHdTime();return[a.counterParams?\"/\"+a.counterParams.join(\"/\"):\"\",\"/path=\"+r,\"/vars=\"+n,\"/cts=\"+(new Date).getTime(),g?\"/hdtime=\"+g:\"\",i?\"/sts=\"+i:\"\",a.tree?\"/counters=\"+a.tree:\"\",\"/*\",a.logHref||t&&t.href||\"//yandex.ru/\"]}var i,u=42,s=15,l=[];e.w=function(e,r,n,a){var c=o(e,r,n,a);c&&(t.createElement(\"IMG\").src=c)},e.wd=function(t,r,n,a){e.w(null,r,n,a)},e.wb=function(e,n,a,c){var i=o(e,n,a,c);i&&(r.sendBeacon&&r.sendBeacon(i,\" \")||(t.createElement(\"IMG\").src=i))},e.wbt=function(e,t,r,a){null!=i&&clearTimeout(i);var o=c(e,t,r,a);o&&l.push([\"/reqid=\"+Ya.Serp.CHelpers.getParam(\"reqid\")].concat(o).join(\"\")),l.length<u?i=setTimeout(n,s):n()}}(window,document,navigator);;window.wrap_clck=1;;w=wb;;(function(IS_BEACON_ENABLED, IS_BEACON_SELECTIVE){function restoreLocation(){realLocation&&document.location.href!==realLocation&&history.replaceState(history.state,document.title,realLocation)}function inside(e,t){var r=e.parentNode;return r.querySelector(t+\" *\")&&!r.querySelector(t)}var realLocation,isBeaconEnabled=IS_BEACON_ENABLED&&navigator.sendBeacon,rc=window.rc=function(e,t){var r=e.getAttribute&&e.getAttribute(\"data-log-node\");if(e.realHref=e.realHref||e.href,t=t.replace(/=8(?=&|$)/,\"=0\"),r&&(t=t.replace(\"?\",\"?bu=\"+encodeURIComponent(r)+\"&\")),t+=\"&cts=\"+(new Date).getTime(),!/msie|trident/i.test(navigator.userAgent)){var a=Ya.Serp.CHelpers.getMc(),o=Ya.Serp.CHelpers.getHdTime();a&&(t+=\"&mc=\"+a),o&&(t+=\"&hdtime=\"+o)}e.href=t,isBeaconEnabled&&\"_blank\"===e.target&&IS_BEACON_ENABLED&&navigator.sendBeacon&&(!IS_BEACON_SELECTIVE||inside(e,\"*[data-beacon]\")||\"\"===e.getAttribute(\"data-beacon\"))&&(e.relativeRedirURL=e.pathname+e.search,e.onclick=function(r){if(this!==e||r.button)return{};var a=rc.adAttrName&&\".serp-item[\"+rc.adAttrName+\"]\",o=e.mozMatchesSelector?\"mozMatchesSelector\":\"matches\",n=a&&e[o]&&e[o](a+\" *\");!n&&navigator.sendBeacon(t.replace(/^http:/,location.protocol),\" \")&&(realLocation=document.location.href,history.replaceState(history.state,document.title,e.relativeRedirURL.replace(/([&?]cts=\\d*)([^&]*)/,\"$1%40%40externalreferrer%3D1\")),e.href=e.realHref,setTimeout(function(){setTimeout(restoreLocation,0)},0))})};isBeaconEnabled&&window.addEventListener(\"unload\",restoreLocation);})(false,false);function sh(n){return w(!1,\"1082\",!1,{tree:encodeURIComponent(JSON.stringify(n))})}_borschik(\"tZnFO\")&&window.addEventListener(\"mousedown\",function(t){for(var e,r=t.target;r&&r.getAttribute;){var o,n=r.getAttribute(\"data-counter\");n&&(o=JSON.parse(n)),!o||e&&e[1]===o[1]&&e[2]===o[2]||(\"rc\"===o[0]?rc(r,o[1]):\"w\"===o[0]?w(r,o[1],o[2],{logHref:o[3]}):\"b\"===o[0]&&logAction(r,o[1]),e=o),r=r.parentNode}});function getCounterData(t,e){var n={event:e.event||t.getAttribute(\"data-log-event\")||\"click\",id:t.getAttribute(\"data-log-node\"),cts:Date.now()};return e.vars&&e.vars.match(/1086|dynamic_click/)&&(n.behaviour={type:\"dynamic\"}),window.BEM&&BEM.blocks[\"i-mcounter\"]&&(n.mc=BEM.blocks[\"i-mcounter\"].get()),e.contextId&&(n.contextId=e.contextId),e.data&&(n.data=e.data),n}function getTechCounter(t,e){return{event:\"tech\",name:t,data:e}}_borschik(\"OBzNn\");</script><script nonce=3938>Ya.Rum.sendTimeMark(\"2325\")</script><style nonce=3938>.button2_theme_action{position:relative;z-index:0;color:#000;border:none;outline:none}.button2_view_classic.button2_theme_action:before{border-radius:3px;background-color:#ffdb4d}.button2_view_classic.button2.button2_theme_action.button2_pressed_yes:before{background-color:#fc0}.button2_view_classic.button2_theme_action.button2_disabled_yes:before{background-color:rgba(0,0,0,.08)}.button2_theme_action.button2_disabled_yes .button2__icon,.button2_theme_action.button2_disabled_yes .button2__text{opacity:.5}.button2_view_classic.button2_theme_action.button2_progress_yes:before{background-color:#ffd426;background-image:repeating-linear-gradient(-45deg,#ffd426,#ffd426 4px,#f7c600 4px,#f7c600 8px);background-size:34px 34px}.button2.button2_theme_action.button2_progress_yes .button2__icon,.button2.button2_theme_action.button2_progress_yes .button2__text{opacity:1}@-webkit-keyframes button2-progress{0%{background-position:-12px 0}to{background-position:0 0}}@keyframes button2-progress{0%{background-position:-12px 0}to{background-position:0 0}}.button2.button2_theme_action.button2_progress_yes:before{-webkit-animation-name:button2-progress;animation-name:button2-progress;-webkit-animation-duration:.5s;animation-duration:.5s;-webkit-animation-timing-function:linear;animation-timing-function:linear;-webkit-animation-iteration-count:infinite;animation-iteration-count:infinite}.button2_view_classic.button2_theme_action:before{transition:background-color .1s ease-out 0s}.button2_view_classic.button2_theme_action.button2_hovered_yes:before{background-color:#ffd633}.utilityfocus .button2_view_classic.button2_theme_action.button2_focused_yes:before{-webkit-animation:button2-action-focus 1s infinite linear;animation:button2-action-focus 1s infinite linear}@-webkit-keyframes button2-action-focus{0%,to{background-color:#fc0}40%,60%{background-color:#ffe066}}@keyframes button2-action-focus{0%,to{background-color:#fc0}40%,60%{background-color:#ffe066}}.serp-user_enter_yes{white-space:nowrap}.serp-user_hidden_yes{display:none}.serp-user__login-wrapper{position:relative;display:inline-block}.serp-user__login-wrapper .serp-user__switch-account-link{position:absolute;text-align:center;font-size:12px;line-height:14px;color:#999;right:0;bottom:-19px;width:100%}.serp-user__registration-link{font-size:15px;margin-right:15px;color:#333}@media screen and (max-width:900px){.serp-user__registration-link{display:none}}.serp-user .serp-user__login-link.button2{font-size:15px;min-width:86px;height:36px;line-height:36px}.serp-user .serp-user__login-link.button2 .button2__text{margin:0 18px 0 16px}.serp-user__user-login{font-size:15px;display:inline-block;color:#000}.serp-user__user-login-name{display:inline-block}.serp-user__user-login-name:first-letter{color:red}.serp-user_enter_yes .serp-user__login-default{display:none}@media screen and (max-width:900px){.serp-user_enter_yes .serp-user__login-default{display:block}.serp-user_enter_yes .serp-user__login-welcome{display:none}}.serp-user_enter_yes .serp-user__user-login{padding-right:10px}.serp-user__login-popup.popup2{position:fixed;left:auto!important;right:14px}@media screen and (max-width:900px){.serp-user__login-popup.popup2{display:none}}.serp-user__login-popup.popup2 .popup2__content{padding:25px 40px 20px}.serp-user__login-popup.popup2 .popup2__close{position:absolute;top:5px;right:5px;width:36px;height:36px;background-image:url(\"//yastatic.net/web4/_/fw3mOmhhsUFX0_v9zkiQ90s03ss.svg\");opacity:.12;cursor:pointer}.serp-user__login-popup.popup2 .popup2__close:hover{opacity:1}.serp-user__login-popup .serp-user__section:not(:last-child){margin-bottom:15px}.serp-user__login-popup .serp-user__icon{box-shadow:none;position:relative;display:inline-block;width:50px;height:50px;vertical-align:middle;border-radius:50%;background:#fff center no-repeat;background-size:cover}.serp-user__login-popup .serp-user__user-login{margin-left:16px;vertical-align:middle}.serp-user__login-popup .serp-user__switch-account-link{font-size:14px;color:#333}.serp-user__login-popup .serp-user__login-link.button2{font-size:14px;margin-right:15px}.serp-user__login-popup .serp-user__login-link.button2 .button2__text{margin:0 18px 0 16px}.serp-user__promo-popup.popup2{z-index:10001;margin-top:5px;font-size:14px;line-height:17px}@media screen and (max-width:900px){.serp-user__promo-popup.popup2{display:none}}.button2__control{display:none}.button2.button2.button2_pseudo-pressed_yes:before{border-color:rgba(0,0,0,.3);background-color:#f6f5f3}.button2_size_m{height:32px;font-size:15px;line-height:32px}.button2_size_m .button2__text{margin:0 15px}.button2_size_m .button2__icon{width:32px}.button2_size_m .button2__icon.icon_type_arrow{width:35px}.button2_size_m .button2__icon_side_left~.button2__text{margin-left:29px}.button2_size_m .button2__icon_side_right~.button2__text{margin-right:29px}.button2.button2_size_m{font-size:13px;font-size:var(--text-m);line-height:36px;height:auto}.button2.button2_size_m .button2__text{margin:0 13px}.button2.button2_size_m .button2__icon_side_right~.button2__text{margin-right:33px}.button2.button2_size_m .button2__icon_side_left~.button2__text{margin-left:33px}.button2.button2_size_m .button2__icon{width:36px}.button2 .button2__icon{position:relative;pointer-events:none}.button2 .button2__icon_side_left{position:absolute;top:0;left:0}.button2 .button2__icon_side_right{position:absolute;top:0;right:0}.icon{display:inline-block;background-repeat:no-repeat;background-position:50%}.icon:after{visibility:hidden;content:'\\00A0'}.icon{width:16px}.icon_type_user{background-image:url(\"//yastatic.net/web4/_/9A5LpElJ2IDhxkNB8rz00-QDLa8.svg\")}.popup2__tail{position:absolute;z-index:1;width:10px;height:10px;display:block}.popup2_direction_top-center .popup2__tail,.popup2_direction_top-left .popup2__tail,.popup2_direction_top-right .popup2__tail{-webkit-transform:rotate(-45deg);transform:rotate(-45deg)}.popup2_direction_bottom-center .popup2__tail,.popup2_direction_bottom-left .popup2__tail,.popup2_direction_bottom-right .popup2__tail{-webkit-transform:rotate(135deg);transform:rotate(135deg)}.popup2_direction_left-bottom .popup2__tail,.popup2_direction_left-center .popup2__tail,.popup2_direction_left-top .popup2__tail{-webkit-transform:rotate(-135deg);transform:rotate(-135deg)}.popup2_direction_right-bottom .popup2__tail,.popup2_direction_right-center .popup2__tail,.popup2_direction_right-top .popup2__tail{-webkit-transform:rotate(45deg);transform:rotate(45deg)}.promo-popup{z-index:3}.promo-popup__title{font-weight:700}.promo-popup__icons{display:inline-block}.promo-popup__content{position:relative;white-space:nowrap}.promo-popup__content .link{text-decoration:underline;color:#fff}.promo-popup__tail{width:17px;height:17px}.promo-popup::before,.promo-popup__tail::after{position:absolute;top:0;right:0;bottom:0;left:0;content:''}.promo-popup::before{border-radius:.1px}.promo-popup_type_info .promo-popup__tail::after,.promo-popup_type_info::before{background:#5b5b5b}.promo-popup_type_success .promo-popup__tail::after,.promo-popup_type_success::before{background:#459f40}.promo-popup_type_error .promo-popup__tail::after,.promo-popup_type_error::before{background:#c94242}.promo-popup_type_promo .promo-popup__tail::after,.promo-popup_type_promo::before{background:#676767}.promo-popup_theme_ffffff::before{background:#fff}.promo-popup_theme_ffffff .promo-popup__tail::after{background:#fff;box-shadow:-3px 3px 3px rgba(0,0,0,.07)}.promo-popup_theme_ffffff .promo-popup__content{color:#333}.promo-popup__icon_type_search{width:60px;height:56px;background:url(\"//yastatic.net/web4/_/lZz-JcRKz_Z_4mH-hHXJzjvn9rA.svg\") no-repeat}.promo-popup_theme_ffffff .promo-popup__social-icon{display:inline-block;vertical-align:middle;width:38px;height:38px;margin-right:10px}.promo-popup_theme_ffffff .promo-popup__social-icon:last-of-type{margin-right:0}.promo-popup__social-icon_type_fb{background:url(\"//yastatic.net/web4/_/kOZtEJJLRLU1GS970M3adfSIDyE.svg\") no-repeat}.promo-popup__social-icon_type_ok{background:url(\"//yastatic.net/web4/_/c2u_lqy3HwntesQKqSaMiMwnrF8.svg\") no-repeat}.promo-popup__social-icon_type_vk{background:url(\"//yastatic.net/web4/_/ieKl5e27FNDXDD104rfe5GWXsY.svg\") no-repeat}.promo-popup__social-icon_type_tw{background:url(\"//yastatic.net/web4/_/GM24qUy8RoRv2MKOWpS1yRRJrsI.svg\") no-repeat}.promo-popup__social-icon_type_mr{background:url(\"//yastatic.net/web4/_/LHr99VfnG1O6lyZ2w8ZRti-QBoU.svg\") no-repeat}.promo-popup__social-icon_type_gg{background:url(\"//yastatic.net/web4/_/5gwzunBsItWB7A4ElTFm1RNQsMU.svg\") no-repeat}.serp-footer{margin:0;padding:0;text-align:center;border:0}.serp-footer__main{position:relative;z-index:1;overflow:hidden;min-width:auto;padding:40px 130px;text-align:left;color:#fff;background-image:linear-gradient(0deg,#484e5d 0,#343c50 100%);background-color:#343c50}.serp-footer__left,.serp-footer__right{position:relative;display:inline-block;vertical-align:top}.serp-footer__left{width:536px;margin-right:34px;-webkit-flex-shrink:1;-ms-flex-negative:1;flex-shrink:1}.serp-footer__cols{display:-webkit-flex;display:-ms-flexbox;display:flex;margin-bottom:40px}.serp-footer__cols_num_3{-webkit-justify-content:space-between;-ms-flex-pack:justify;justify-content:space-between}.serp-footer__col{display:table;-webkit-flex:0 1 auto;-ms-flex:0 1 auto;flex:0 1 auto;min-width:105px;margin-right:34px}.serp-footer__col .serp-footer__link{display:inherit;overflow:hidden;margin-bottom:6px;text-align:left;white-space:nowrap;text-overflow:ellipsis}.serp-footer__links-separated .copyright:after,.serp-footer__links-separated .copyright:hover::after,.serp-footer__links-separated .serp-footer__link:after,.serp-footer__links-separated .serp-footer__link:hover::after{margin-right:9px;padding-right:9px;content:'';opacity:.4;border-right:1px solid #fff}.serp-footer__links-separated .copyright:last-child::after,.serp-footer__links-separated .serp-footer__link:last-child::after{border:0}.serp-footer__link-protect{margin-top:2px}.serp-footer__link-protect:before{display:inline-block;width:8px;height:8px;margin-bottom:1px;margin-right:8px;content:'';vertical-align:baseline;background-color:#51b051;border-radius:50%}.serp-footer{position:relative;z-index:1;min-width:990px;-webkit-user-select:none;-moz-user-select:none;-ms-user-select:none;user-select:none}.serp-footer__wrapper{display:-webkit-flex;display:-ms-flexbox;display:flex}.serp-footer__left{min-width:417px}.serp-footer__link_type_protect:before{display:inline-block;width:8px;height:8px;content:'';margin-bottom:1px;margin-right:4px;vertical-align:baseline;background-color:#18a218;border-radius:50%}.serp-footer__copyright-links .copyright{display:inline-block;opacity:.6;color:#fff!important}.serp-footer__link:not(:first-child){margin-left:20px}.serp-footer__link_title_yes{font-weight:700;margin-bottom:6px}.serp-footer .serp-footer__main .link,.serp-footer .serp-footer__main .link:visited{margin-left:0;color:#fff;opacity:.6;transition:opacity .2s}.serp-footer .serp-footer__main .link.serp-footer__link_title_yes,.serp-footer .serp-footer__main .link:hover,.serp-footer .serp-footer__main .link:visited.serp-footer__link_title_yes,.serp-footer .serp-footer__main .link:visited:hover{opacity:1;transition:none}.serp-footer .serp-footer__search-settings .link,.serp-footer .serp-footer__search-settings .link:visited{font-weight:700;color:#000;opacity:.45;transition:opacity .2s}.serp-footer .serp-footer__search-settings .link:hover,.serp-footer .serp-footer__search-settings .link:visited:hover{opacity:1;transition:none}.serp-footer__mob-app{margin-bottom:36px}.serp-footer__mob-app .serp-footer__link_title_yes{display:table}.serp-footer__mob-app .mobile-store-badge[class]{display:inline-block;margin-right:8px;opacity:1}.serp-footer__promo{width:340px;position:relative}.serp-footer__promo::after{position:absolute;z-index:-1;left:0;top:0;width:100%;height:100%;opacity:0;border-radius:60px;-webkit-filter:blur(60px);filter:blur(60px);-webkit-transform:translate3d(0,0,0);transform:translate3d(0,0,0)}.serp-footer_shown_yes .serp-footer__promo::after{content:'';opacity:1;-webkit-animation-name:lightn;animation-name:lightn;-webkit-animation-duration:2s;animation-duration:2s}.serp-footer__promo_gradient_red::after{background-image:linear-gradient(-134deg,#9d00ff 0,#ff8282 100%)}.serp-footer__promo_gradient_blue::after{background-image:linear-gradient(-134deg,#0083ff 0,#d582ff 100%)}.serp-footer__promo_gradient_green::after{background-image:linear-gradient(-134deg,#00ffc4 0,#82e0ff 100%)}.serp-footer__promo .app__title{font-weight:700;margin-bottom:6px}.serp-footer__promo .app__title .link{opacity:1}.serp-footer__promo .app__description{margin-bottom:12px;opacity:.6}.serp-footer__promo .app__restriction{font-size:11px;font-size:var(--text-s);padding:0 4px;margin-left:8px;border:1px solid rgba(255,255,255,.4);border-radius:2px}.serp-footer__promo .app__thumb{width:88px}.serp-footer__promo .app__thumb .link{display:block;opacity:1}@-webkit-keyframes lightn{0%,50%{opacity:0}to{opacity:1}}@keyframes lightn{0%,50%{opacity:0}to{opacity:1}}.serp-footer__search-settings{padding:13px 130px;text-align:left;white-space:nowrap;overflow:hidden;z-index:1;border-top:1px solid rgba(0,0,0,.1)}.serp-footer__search-settings .lang-switcher .link,.serp-footer__search-settings .serp-footer__region .link,.serp-footer__search-settings .serp-footer__wrapper>.serp-footer__link{position:relative;padding-left:26px}.serp-footer__search-settings .lang-switcher{margin-left:20px}.serp-footer__search-settings .lang-switcher .link:before,.serp-footer__search-settings .serp-footer__link:before,.serp-footer__search-settings .serp-footer__region .link:before{position:absolute;content:'';top:-5px;left:0;width:24px;height:24px;background-image:url(\"//yastatic.net/web4/_/BJmT-ftLM2WvpFKXTZITLjZ7KW4.svg\")}.serp-footer__search-settings .serp-footer__region .link:before{background-position:-2px -23px}.serp-footer__search-settings .lang-switcher .link:before{background-position:-2px -47px}.serp-footer__search-settings .serp-footer__keyboard:before{background-position:-2px -71px}.serp-footer__search-settings .serp-footer__settings:before{background-position:-2px 1px}.serp-footer__search-settings .serp-footer__help:before{background-position:-2px -95px}.serp-footer__search-settings .serp-footer__feedback:before{background-position:-2px -119px}.copyright{white-space:nowrap;color:#999}.keyboard-loader{position:relative;display:inline-block}.keyboard-loader__progress{position:absolute;bottom:0;left:0;width:100%;height:5px;font:0/0 a;background:url(\"//yastatic.net/web4/_/ACaplGGucdbQGmgLs7pJSLAUQAk.gif\") repeat-x}.mobile-store-badge{height:40px;width:138px;transition:all .2s}.mobile-store-badge:active{-webkit-transform:scale(.95);transform:scale(.95)}.mobile-store-badge_platform_android{background-image:url(\"//yastatic.net/web4/_/GkxqMj-ifhs3E22N-cguALp9_Ds.svg\")}.mobile-store-badge_platform_ios{background-image:url(\"//yastatic.net/web4/_/1HT20TswAuJMaFa_CGaeX-JGtlA.svg\")}.app{display:table;table-layout:fixed;width:100%}.app__content,.app__thumb{display:table-cell;vertical-align:top}.app__thumb{width:84px;height:72px}.app__thumb .thumb,.app__title{display:block}.app__title{overflow:hidden;margin-bottom:1px;white-space:nowrap;text-overflow:ellipsis}.app__description{margin-bottom:5px}.app__rating-with-votes{margin:0 12px 6px 0;white-space:nowrap}.app__rating-text{display:inline-block;margin-left:6px;color:#999}.app_theme_inline .app__rating-with-votes{display:inline-block;margin-left:20px}.app_theme_inline .app__rating-text{color:#333}.app__button+.app__button{margin-left:8px}.app-icon_platform_ios .image{border-radius:18px}.app-icon_platform_android .image{border-radius:4%}.button2.button2.button2_has-color{transition:background .15s linear,transform .1s linear;transition:background .15s linear,transform .1s linear,-webkit-transform .1s linear}.button2.button2.button2_has-color,.button2.button2.button2_has-color.button2_pressed_yes:before,.button2.button2.button2_has-color:before{border:0}.button2.button2.button2_has-color.button2_pin_circle-circle{border-radius:100%}.button2.button2.button2_has-color:not(.button2_disabled_yes):before{background-color:transparent}.yaplus{position:relative;z-index:0;display:inline-block;clear:both;white-space:nowrap}.yaplus_hidden_yes{visibility:hidden}.safety-filter_type_kids~.yaplus .yandex-search_kids .yaplus{display:none}.yaplus__tooltip .button2.button2_pressed_yes{-webkit-transform:none;transform:none}.yaplus{margin-right:18px;padding-top:5px;vertical-align:top;font-family:Arial,Helvetica,sans-serif}.yaplus__badge,.yaplus__badge:after{width:83px;height:32px}.yaplus__badge{position:relative;display:inline-block;overflow:hidden;border-radius:100px}.yaplus__badge-main,.yaplus__badge:after{position:absolute;display:inline-block;content:'';border-radius:100px}.yaplus__badge-main{top:2px;right:2px;width:64px;height:28px;background-color:#fff;background-image:url(\"//yastatic.net/web4/_/yI5-GVah6H3sKnH_XXIIbgQOIJc.svg\");background-repeat:no-repeat;background-position:center;box-shadow:0 2px 4px 0 #001182}.yaplus__badge:after{z-index:-1;left:0;background-image:url(\"//yastatic.net/web4/_/DKMAMsKGULHpYCN_O2-r8Yf43H4.png\");background-image:linear-gradient(-180deg,#2e46e6 0%,#0080ff 100%);background-repeat:no-repeat}.link_hovered_yes .yaplus__badge:after{content:' ';background-image:url(\"//yastatic.net/web4/_/y03DiS_Mo4soIiaidAjYrh4cfi4.png\");background-image:linear-gradient(-180deg,#293fcc 0%,#1d54e6 100%)}.i-ua_svg_no .yaplus__badge-main{background-color:transparent;background-image:url(\"//yastatic.net/web4/_/Z_gsG9sxwmL4XDMw7DH6vrXjL7k.png\");box-shadow:none}.yaplus__link.link{display:inline-block;overflow:hidden;height:32px;text-align:right;line-height:32px;color:#2d47e8}.yaplus__link.link.link_hovered_yes{color:#2d47e8}.yaplus__link .link__inner{padding-right:5px;vertical-align:top;font-size:12px}@media screen and (max-width:930px){.yaplus__link .link__inner{display:none}}.yaplus.yaplus_available_yes .yaplus__badge:after{background-image:url(\"//yastatic.net/web4/_/1QLm_zwcBSfC_2uJKiNV9VDdAd0.png\");background-image:linear-gradient(-180deg,#b3d7ff 0%,#ecf5ff 100%)}.yaplus_available_yes .yaplus__badge-main{right:initial;left:2px;background-color:#2e46e5;background-image:url(\"//yastatic.net/web4/_/SkqRB2TwcsbgizLcWRlcAKqUtVo.svg\");background-repeat:no-repeat;box-shadow:0 1px 3px 0 rgba(24,93,242,.95)}.yaplus_available_yes .link_hovered_yes .yaplus__badge-main{background-color:#334eff}.i-ua_svg_no .yaplus_available_yes .yaplus__badge-main{background-image:url(\"//yastatic.net/web4/_/L2O3rObyYcPGnxzopAS8HDxbl7A.png\");background-color:transparent;box-shadow:none}.i-ua_svg_no .yaplus_available_yes .link_hovered_yes .yaplus__badge-main{background-image:url(\"//yastatic.net/web4/_/29Icz4zyHUlHe2R-7e9VkKOFGo0.png\")}.serp-header{white-space:nowrap}.serp-header .dropdown-menu_user_yes{vertical-align:top}.serp-header .dropdown-menu_user_yes.dropdown-menu_js_inited,.serp-header .serp-user_enter_yes.serp-user_js_inited{display:inline-block!important}.yaplus__tooltip .popup2__tail{-webkit-transform:translateX(-30px) translateY(1px)!important;transform:translateX(-30px) translateY(1px)!important}.icon_type_back{background-image:url(\"//yastatic.net/web4/_/Ui3dNPVwhZCVu1hGi_v4rTnpGH0.svg\")}.icon_type_close-x{background-image:url(\"//yastatic.net/web4/_/kIAykctwarBUe3W-WfBklBYdSGw.svg\")}.notifier_hidden_yes[class]{display:none}.serp-header[class]{white-space:nowrap}.serp-header[class] .notifier{display:inline-block;width:40px;height:42px;margin-right:18px}.serp-header[class] .notifier__icon{margin-top:1px}.serp-header[class] .notifier__ticker{right:6px}.video2_size_s[class] .video2__play_view_big{border-width:13px 0 13px 24px;opacity:.8}.video2_preview_yes[class]:hover .video2__info_show_yes{opacity:1;display:block}.video2_preview_yes.video2_design_beautiful.video2_overlay_yes[class] .thumb:before{display:block}.video2_preview_yes[class]:hover .video2__play_view_big{opacity:0}.video2__play_view_big[class]+.video2__preview-info{display:none}.user__menu-item_action_plus.user__menu-item_action_plus[class]{color:#2d47e8}.video2__info_pos_right[class]{left:auto;right:0}.video2[class] .video2__info.video2__info_theme_white{font-weight:700;color:#000;background-color:#fff}.video2[class] .video2__info.video2__info_theme_white .video2__text{font-size:13px}.direct-info-right[class]{padding-bottom:30px;color:#333}.direct-info-right__title[class]{font-size:18px;line-height:24px;font-weight:700;margin-bottom:10px}.direct-info-right__text[class]{font-size:13px;line-height:17px;margin-bottom:15px}.direct-info-right__button[class]{font-size:13px;color:#333}@media screen and (max-width:700px){.direct-tooltip[class]{display:none}}.direct-tooltip__content[class]{padding:16px 20px 17px;font-size:14px;font-weight:700;line-height:18px;color:#fff;background:#676767}.direct-tooltip__tail[class]{left:22px;top:-8px;background:#676767}.direct-tooltip__close[class]{position:absolute;z-index:12;top:5px;right:5px;width:10px;height:10px;padding:2px;cursor:pointer;opacity:.2;transition:opacity .2s;background:url(\"//yastatic.net/web4/_/h598zwkKy9K-PRUKt0fFSDSRXbs.svg\") center center no-repeat;background-size:10px;-webkit-transform:translateZ(0);transform:translateZ(0)}.direct-tooltip__close[class]:hover{opacity:.7}.content__left[class] { width: 536px } .favicon_page_0 .favicon__icon,.Favicon-Page0.Favicon-Icon{background-image:url(//favicon.yandex.net/favicon/welcome.stepik.org/stepik.org/ru.wikipedia.org/vk.com/www.youtube.com/habr.com/www.facebook.com/video.yandex.ru/otzovik.com/itunes.apple.com/toster.ru?color=255%2C255%2C255%2C0);}.promo-popup_theme_ffffff{border:0}.promo-popup_theme_ffffff::before{box-shadow:0 0 2px 0 rgba(0,0,0,.1),0 2px 6px 0 rgba(0,0,0,.1);border-radius:8px;top:-1px;right:-1px;bottom:-1px;left:-1px}.promo-popup_theme_ffffff .promo-popup__tail{top:-8px;margin-left:0;-webkit-transform:none;transform:none}.promo-popup_theme_ffffff .promo-popup__tail::after{width:20px;background:url(\"//yastatic.net/web4/_/N4yiahQM2jF6dLiNwI42jZA6TfU.svg\") no-repeat;box-shadow:none}.b-page_tld_com-tr .promo-popup_theme_ffffff{max-width:173px}.b-page_tld_com-tr .promo-popup_theme_ffffff .promo-popup__message{white-space:normal}.promo-popup_theme_ffffff .promo-popup__content{padding:14px 21px 17px}.promo-popup_theme_ffffff .promo-popup__message{font-size:16px;line-height:21px;display:block;padding-right:25px}.promo-popup_theme_ffffff .promo-popup__icons{margin:12px -2px 0}.promo-popup_theme_ffffff .promo-popup__icon{display:inline-block;vertical-align:middle;transition:transform .15s ease-in-out;transition:transform .15s ease-in-out,-webkit-transform .15s ease-in-out}.promo-popup_theme_ffffff .promo-popup__icon:hover{-webkit-transform:scale(1.15);transform:scale(1.15)}.promo-popup_theme_ffffff .promo-popup__icon:active{-webkit-transform:scale(1.05);transform:scale(1.05)}.promo-popup_theme_ffffff .promo-popup__cross{position:absolute;top:1px;right:4px;width:40px;height:40px;opacity:.4;transition:.2s;cursor:pointer}.promo-popup_theme_ffffff .promo-popup__cross:hover{opacity:1;transition:0s}.promo-popup_theme_ffffff .promo-popup__cross::after,.promo-popup_theme_ffffff .promo-popup__cross::before{position:absolute;content:' ';height:18px;width:1px;margin-top:13px;margin-left:50%;background:#000}.promo-popup_theme_ffffff .promo-popup__cross::before{-webkit-transform:rotate(45deg);transform:rotate(45deg)}.promo-popup_theme_ffffff .promo-popup__cross::after{-webkit-transform:rotate(-45deg);transform:rotate(-45deg)}.colorize-1er1zev{background-color:rgba(0,0,0,0.2)!important}.colorize-e-i5xqgh .button2__text{color:#fff!important}.colorize-p-1p0a0my:hover{background-color:rgba(0,0,0,0.3)!important}.overlay__panel{display:none}</style><div class=\"main main_central-col-width-exp_yes serp i-bem\" data-bem='{\"main\":{},\"serp\":{\"uniqId\":\"search\"}}'><div class=main__center><div class=main__top data-log-node=88yt><div class=\"advanced-search-loader i-bem\" data-bem='{\"advanced-search-loader\":{}}' data-log-node=88yu></div><div class=\"main__carousel serp i-bem\" data-bem='{\"main__carousel\":{\"pathLinksCount\":0},\"serp\":{\"uniqId\":\"search\"}}'></div></div><div class=main__content><div class=\"content i-bem\" data-bem='{\"content\":{\"sizes\":[{\"width\":0,\"cols\":6},{\"width\":1094,\"cols\":8},{\"width\":1186,\"cols\":10},{\"width\":1278,\"cols\":12}]}}'><div class=content__left data-log-node=88yv><ul class=\"serp-list serp-list_left_yes\" role=main aria-label=\"Результаты поиска\"><script nonce=3938>Ya.Rum.observeDOMNode(2876,'.serp-item[data-cid=\"0\"]'),Ya.Rum.sendRaf(85);</script><style nonce=3938 data-stylesheet=progressive>.clearfix:after{display:block;clear:both;height:0;content:''}.organic__url{display:inline-block;overflow:hidden;max-width:100%;vertical-align:top;white-space:nowrap;text-overflow:ellipsis;color:#00c}.organic__url:focus{outline:0}.organic__url.link_cropped_no{overflow:visible;white-space:normal}.organic__url_type_multiline{display:inline;white-space:normal}.b-page_tld_com-tr .organic__url{color:#1a0dab}.organic__url{margin:-10px -2px -2px -10px;padding:10px 2px 2px 10px}.organic__url_type_multiline .organic__url-text{display:inline}.organic__url.link:not(.link_cropped_no) .organic__url-text{overflow:hidden;text-overflow:ellipsis}.utilityfocus.utilityfocus .organic__url.link_focused_yes{outline:0}.utilityfocus.utilityfocus .organic__url.link_focused_yes .organic__url-text{outline:2px solid #fc0}.organic__title-wrapper{font-weight:400;margin:0;padding:0;position:relative}.organic__sitelinks{margin-top:1px;margin-bottom:2px}.organic__title-wrapper+.organic__sitelinks{margin-bottom:1px}.sitelinks_multiline_yes.sitelinks_size_m{height:auto}.link_minor_yes,.sitelinks .link{color:#00c}.sitelinks .link:visited{color:#551a8b}.b-page_tld_com-tr .sitelinks .link.link_hovered_yes,.sitelinks .link.link_hovered_yes{color:#d00}.b-page_tld_com-tr .link_minor_yes,.b-page_tld_com-tr .sitelinks .link{color:#1a0dab}.link_minor_yes.link_hovered_yes{color:#d00}.b-page_tld_com-tr .link_minor_yes:visited,.link_minor_yes:visited{color:#551a8b}.sitelinks__item{overflow-x:hidden;max-width:100%}.sitelinks_size_m{overflow-y:hidden;height:16px;height:var(--text-m-line-s);margin-left:-16px}.sitelinks_size_m .sitelinks__item{display:inline-block;-moz-box-sizing:border-box;box-sizing:border-box;white-space:nowrap}.sitelinks_size_m .sitelinks__item_last{padding-right:0}.sitelinks_size_m .sitelinks__item{vertical-align:top;padding-left:16px}.sitelinks__rate{position:relative;top:-1px}.sitelinks__rate::after{content:'\\a0'}.sitelinks__hint{font-size:11px;display:inline-block;margin-left:4px}.sitelinks_size_l{overflow-y:visible}.sitelinks_size_l .sitelinks__item+.sitelinks__item{margin-top:8px}.sitelinks__title_overflow_ellipsis{white-space:nowrap;overflow:hidden;text-overflow:ellipsis}.sitelinks__column{display:inline-block;-moz-box-sizing:border-box;box-sizing:border-box;max-width:50%;padding:0 8px 0 0;vertical-align:top}.sitelinks__column+.sitelinks__column{padding:0 0 0 8px}.sitelinks_columns_yes.sitelinks_size_m{height:auto;margin-left:0}.sitelinks_columns_yes.sitelinks_size_m .sitelinks__item{display:block;line-height:20px;padding:0}.sitelinks_columns_yes.sitelinks_size_m .sitelinks__item+.sitelinks__item{margin:2px 0 0}.sitelinks_columns_yes.sitelinks_size_l .sitelinks__item{display:inline-block;-moz-box-sizing:border-box;box-sizing:border-box;width:50%;vertical-align:top}.sitelinks_columns_yes.sitelinks_size_l .sitelinks__item:nth-child(odd){padding-right:8px}.sitelinks_columns_yes.sitelinks_size_l .sitelinks__item:nth-child(even){padding-left:8px}.sitelinks_columns_yes.sitelinks_size_l .sitelinks__item{margin-top:0}.sitelinks_columns_yes.sitelinks_size_l .sitelinks__item:nth-child(n+3){margin-top:10px}.organic__path{display:inline-block;overflow:hidden;vertical-align:top;text-overflow:ellipsis;max-width:93%}.path{display:inline-block;white-space:nowrap;color:#070;color:var(--color-green-url)}.path__item{outline:0}.path,.path__item{-webkit-font-smoothing:antialiased}.path__separator{font-family:Verdana;line-height:1;margin:0 .3em;-webkit-font-smoothing:auto}.extralinks{display:inline-block;width:11px;height:12px;margin-left:2px;cursor:pointer;transition:opacity .3s;vertical-align:middle;opacity:.5;background:50% 50% no-repeat url(\"//yastatic.net/web4/_/upJWeVQDPw-ZstaIL9pE2rfFHMc.svg\")}.extralinks:hover{opacity:1}.extralinks__popup{min-width:140px;padding:4px 0}.extralinks__popup .link{display:block;padding:6px;color:#000!important}.extralinks__popup .link:hover{background:#ffeca1}.organic__subtitle+.organic__content-wrapper{margin-top:2px}.organic__subtitle{font-size:14px;line-height:17px}.text-container_align_right{text-align:right}.text-container_align_center{text-align:center}.text-container_font-weight_bold{font-weight:700}.text-container_ellipsis_yes{overflow:hidden;white-space:nowrap;text-overflow:ellipsis}.text-container{word-wrap:break-word}.extended-text_mode_css .extended-text__short .extended-text__toggle::after,.extended-text_mode_js.extended-text_state_short .extended-text__toggle::after{content:'';display:inline-block;width:1em;height:.8em;background:url(\"data:image/svg+xml,%3Csvg%20width%3D%2215%22%20height%3D%2215%22%20xmlns%3D%22http%3A%2F%2Fwww.w3.org%2F2000%2Fsvg%22%3E%3Cpath%20d%3D%22M2%20.5l7%207-7%207-1.5-1.5%205.5-5.5-5.5-5.5%201.5-1.5z%22%20fill%3D%22%2300c%22%2F%3E%3C%2Fsvg%3E\") no-repeat 50% 100%;background-size:70%;margin-left:-.85em;-webkit-transform:translateX(100%);transform:translateX(100%);position:relative;top:1px}.extended-text_mode_css .extended-text__short .extended-text__toggle.link_hovered_yes::after,.extended-text_mode_js.extended-text_state_short .extended-text__toggle.link_hovered_yes::after{background:url(\"data:image/svg+xml,%3Csvg%20width%3D%2215%22%20height%3D%2215%22%20xmlns%3D%22http%3A%2F%2Fwww.w3.org%2F2000%2Fsvg%22%3E%3Cpath%20d%3D%22M2%20.5l7%207-7%207-1.5-1.5%205.5-5.5-5.5-5.5%201.5-1.5z%22%20fill%3D%22%23d00%22%2F%3E%3C%2Fsvg%3E\") no-repeat 50% 100%;background-size:70%}.extended-text__short .extended-text__toggle{padding-right:.6em}.extended-text_mode_js .extended-text__toggle,.extended-text_mode_js .extended-text__toggle .link{white-space:nowrap}.extended-text_mode_js.extended-text_pumpkin_yes .extended-text__toggle,.extended-text_mode_js.extended-text_state_full .extended-text__short,.extended-text_mode_js.extended-text_state_short .extended-text__full{display:none}.extended-text_mode_js.extended-text_state_short.extended-text_arrow_no .extended-text__toggle::after{content:none}.organic__url[class],.sitelinks__link[class]{color:#2000c2}.organic__url[class]:visited,.sitelinks__link[class]:visited{color:#551a8b}</style><li class=serp-item data-cid=\"0\" data-log-node=88yw><div class=\"organic typo typo_text_m typo_line_s\"><h2 class=\"organic__title-wrapper typo typo_text_l typo_line_m\"><div class=a11y-hidden>1</div><a class=\"link link_theme_normal organic__url link_cropped_no i-bem\" data-bem='{\"link\":{}}' accesskey=1 tabindex=2 data-log-node=88yx rel=noopener target=_blank href=\"https://welcome.stepik.org/ru\" data-counter=\"[&quot;rc&quot;,&quot;http://yandex.ru/clck/jsredir?from=yandex.ru%3Bsearch%2F%3Bweb%3B%3B&amp;text=&amp;etext=1886.43DAoI7ud_n81M26gcNPw7pVw-Xz3QfaRfC9knjTiVc.61987fba5f7763e71ecea511bf7e40e88eb15440&amp;uuid=&amp;state=PEtFfuTeVD5kpHnK9lio9T6U0-imFY5IWwl6BSUGTYl260BtXWEO1Qnj-5iqlWxaBNSQ-mAu_Cl46XoxLTvTU1oCUQv1xNTaMsdnBJ8CT2M,&amp;&amp;cst=AiuY0DBWFJ4EhnbxqmjDhe7I0te9Lb9TE4X0i-PihUx-V39Nul4TJocsbOjuFYIDB8YS6_pk3NeYXFoByoiWRNBpbLYUfXgGurU5xnC-NVtW5_5S2k-kpUShcFVbHL4bqAemGEADhviCXDslU7OXzMZeQqjtF7vKH_Eqb81JSbQZkqZA-ejxSx3dqimOpTRr-B2VT6ktx1zTZLh6ue49jLUeOproXtmSeVDBM7SqmzV_5JB7oCUPfCSreNozABvaoT2AbFt0EQ314Dna3H-mya47DDeBSF26BxzJnUSZj27-bgJXdLnovqtgEOVrVR58iulbhtrWYs4POWXQYr7frqHmmLXGozQn_JoQXx5IZ3QmY4bi8Mvu5L9xQVSHU_Hth5np1T1qSnosn-SUl1KlpU7X3jgEc-2OMEZVvyIWdh5f2o0wsjbeQjwU-gIhvikWQ19MXlbRC3yJrE5stpAkCKAPH7NvIekzH8mQcm1hDdpcrlPvuq9gW7XR4l1RfM2Xj-keyl3fGsg9SuR7JL5Gcxa86vAQp4bD82UK9E1Asa46yKlBF7rWNZFdaQIMjOaF_Ajv0K6tIliE7HoSBTVOnWi-3tZl4Mrv70BMCDcsViu6ihiDFT-6pCw4npTMirTOngHpAYClXrhrWBQvRwQFMQ,,&amp;data=UlNrNmk5WktYejY4cHFySjRXSWhXSlV0YU83RTdOMkpEZEhfVXROSXZWckxnbDRtcmhkbHFGOVl4SXAtMm14MUoxUktnekxlMUc4UHJEVjh6X0NWdndOV1lxUEZPU3dwNEdwck1sSW1nMTAs&amp;sign=6bd966a0c24f6c4e2793f9c8eebefaf9&amp;keyno=8&amp;b64e=2&amp;ref=orjY4mGPRjk5boDnW0uvlrrd71vZw9kpjly_ySFdX80,&amp;l10n=ru&quot;]\"><div class=\"favicon favicon_page_0\"><div class=favicon__icon data-rCid=81 style=\"background-position:0 0px;\"></div></div><div class=organic__url-text><b class=\"needsclick\">Stepik</b> — Бесплатные онлайн-курсы.</div></a></h2><div class=\"sitelinks sitelinks_size_m organic__sitelinks\" data-log-node=88yy><div class=\"sitelinks__item sitelinks__item_first\"><div class=\"sitelinks__title sitelinks__title_overflow_ellipsis typo typo_text_m typo_line_s\"><a class=\"link link_minor_yes link_theme_normal sitelinks__link i-bem\" data-bem='{\"link\":{}}' data-log-node=88yz rel=noopener target=_blank tabindex=0 href=\"https://welcome.stepik.org/ru/pricing\" data-counter=\"[&quot;rc&quot;,&quot;http://yandex.ru/clck/jsredir?from=yandex.ru%3Bsearch%2F%3Bweb%3B%3B&amp;text=&amp;etext=1886.43DAoI7ud_n81M26gcNPw7pVw-Xz3QfaRfC9knjTiVc.61987fba5f7763e71ecea511bf7e40e88eb15440&amp;uuid=&amp;state=H4h8uvWmGgxr6ZUDS8dgCb7TyPLq1diUKL8Ad7t6cHxLOsoXMbVakQ2PsotLX3MXZAqKqz4wCDJ4xpyU_R1sAaSGUyhT0QDpbYvQY10_XmwG_XDMbmsCATnkUM19EK5afxzqviHC6-kRmomANHeMvuJ0fchE3iks8X9j1o9rELI,&amp;&amp;cst=AiuY0DBWFJ4EhnbxqmjDhe7I0te9Lb9TE4X0i-PihUx-V39Nul4TJocsbOjuFYIDB8YS6_pk3NeYXFoByoiWRNBpbLYUfXgGurU5xnC-NVtW5_5S2k-kpUShcFVbHL4bqAemGEADhviCXDslU7OXzMZeQqjtF7vKH_Eqb81JSbQZkqZA-ejxSx3dqimOpTRr-B2VT6ktx1zTZLh6ue49jLUeOproXtmSeVDBM7SqmzV_5JB7oCUPfCSreNozABvaoT2AbFt0EQ314Dna3H-mya47DDeBSF26BxzJnUSZj27-bgJXdLnovqtgEOVrVR58iulbhtrWYs4POWXQYr7frqHmmLXGozQn_JoQXx5IZ3QmY4bi8Mvu5L9xQVSHU_Hth5np1T1qSnosn-SUl1KlpU7X3jgEc-2OMEZVvyIWdh5f2o0wsjbeQjwU-gIhvikWQ19MXlbRC3yJrE5stpAkCKAPH7NvIekzH8mQcm1hDdpcrlPvuq9gW7XR4l1RfM2Xj-keyl3fGsg9SuR7JL5Gcxa86vAQp4bD82UK9E1Asa46yKlBF7rWNZFdaQIMjOaF_Ajv0K6tIliE7HoSBTVOnWi-3tZl4Mrv70BMCDcsViu6ihiDFT-6pCw4npTMirTOngHpAYClXrhrWBQvRwQFMQ,,&amp;data=UlNrNmk5WktYejY4cHFySjRXSWhXSlV0YU83RTdOMkpEZEhfVXROSXZWckxnbDRtcmhkbHFDbGFYMXR6aFRZa2MyejB6YkU4Wjlzb0lZa0NGa00xcWhmc1BoY1ZNTkdMd29EYXUySW1yRkxVekRpcFl1cDVyWTkwZjk2WlFTWWs,&amp;sign=73a27074c02132664ba2e43bc3e23bc2&amp;keyno=8&amp;b64e=2&amp;ref=orjY4mGPRjk5boDnW0uvlrrd71vZw9kpjly_ySFdX80,&amp;l10n=ru&quot;]\">Тарифы</a></div></div><div class=sitelinks__item><div class=\"sitelinks__title sitelinks__title_overflow_ellipsis typo typo_text_m typo_line_s\"><a class=\"link link_minor_yes link_theme_normal sitelinks__link i-bem\" data-bem='{\"link\":{}}' data-log-node=88z0 rel=noopener target=_blank tabindex=0 href=\"https://welcome.stepik.org/ru/about\" data-counter=\"[&quot;rc&quot;,&quot;http://yandex.ru/clck/jsredir?from=yandex.ru%3Bsearch%2F%3Bweb%3B%3B&amp;text=&amp;etext=1886.43DAoI7ud_n81M26gcNPw7pVw-Xz3QfaRfC9knjTiVc.61987fba5f7763e71ecea511bf7e40e88eb15440&amp;uuid=&amp;state=H4h8uvWmGgxr6ZUDS8dgCTtS1Klk3Tjta6mUwEsLFPlYAMSRXZ1ctjhxLgxUXQJk_td3mlJ7WtkUAYkAnWq8H6TBug_83pAZEOKyLSt-MpFVuOEE-Ka6MXbF8PPlI1MZlICaF738mjIBfUDn9rqjs71yLM3aDzZ1U25i5u3SShw,&amp;&amp;cst=AiuY0DBWFJ4EhnbxqmjDhe7I0te9Lb9TE4X0i-PihUx-V39Nul4TJocsbOjuFYIDB8YS6_pk3NeYXFoByoiWRNBpbLYUfXgGurU5xnC-NVtW5_5S2k-kpUShcFVbHL4bqAemGEADhviCXDslU7OXzMZeQqjtF7vKH_Eqb81JSbQZkqZA-ejxSx3dqimOpTRr-B2VT6ktx1zTZLh6ue49jLUeOproXtmSeVDBM7SqmzV_5JB7oCUPfCSreNozABvaoT2AbFt0EQ314Dna3H-mya47DDeBSF26BxzJnUSZj27-bgJXdLnovqtgEOVrVR58iulbhtrWYs4POWXQYr7frqHmmLXGozQn_JoQXx5IZ3QmY4bi8Mvu5L9xQVSHU_Hth5np1T1qSnosn-SUl1KlpU7X3jgEc-2OMEZVvyIWdh5f2o0wsjbeQjwU-gIhvikWQ19MXlbRC3yJrE5stpAkCKAPH7NvIekzH8mQcm1hDdpcrlPvuq9gW7XR4l1RfM2Xj-keyl3fGsg9SuR7JL5Gcxa86vAQp4bD82UK9E1Asa46yKlBF7rWNZFdaQIMjOaF_Ajv0K6tIliE7HoSBTVOnWi-3tZl4Mrv70BMCDcsViu6ihiDFT-6pCw4npTMirTOngHpAYClXrhrWBQvRwQFMQ,,&amp;data=UlNrNmk5WktYejY4cHFySjRXSWhXSlV0YU83RTdOMkpEZEhfVXROSXZWckxnbDRtcmhkbHFEVngxVTRrUlh4ZTl3b0d0WTMwZm5lbDZSYUU1eHZrN3RKdXJKN3RBQm83dlhuMjVyYS1YVXN3NkstMUVYU0xLdyws&amp;sign=c16e8497f2202aaa0c6094b91c935a11&amp;keyno=8&amp;b64e=2&amp;ref=orjY4mGPRjk5boDnW0uvlrrd71vZw9kpjly_ySFdX80,&amp;l10n=ru&quot;]\">О нас</a></div></div><div class=sitelinks__item><div class=\"sitelinks__title sitelinks__title_overflow_ellipsis typo typo_text_m typo_line_s\"><a class=\"link link_minor_yes link_theme_normal sitelinks__link i-bem\" data-bem='{\"link\":{}}' data-log-node=88z1 rel=noopener target=_blank tabindex=0 href=\"https://welcome.stepik.org/ru/careers\" data-counter=\"[&quot;rc&quot;,&quot;http://yandex.ru/clck/jsredir?from=yandex.ru%3Bsearch%2F%3Bweb%3B%3B&amp;text=&amp;etext=1886.43DAoI7ud_n81M26gcNPw7pVw-Xz3QfaRfC9knjTiVc.61987fba5f7763e71ecea511bf7e40e88eb15440&amp;uuid=&amp;state=H4h8uvWmGgxr6ZUDS8dgCXVlbITAYX2potktHS1KZn3hHXRntJFEdghAXOTQL4qRewL5yAKy4ibcQGhe8iDoeG-ICY2tnXNvaXy5Ny2220wKb12oozBnfIF2bWaBR5iWnHvP40V75O8QwZgVLHHoST6CBUgLUgbRygp-ynwnzL4,&amp;&amp;cst=AiuY0DBWFJ4EhnbxqmjDhe7I0te9Lb9TE4X0i-PihUx-V39Nul4TJocsbOjuFYIDB8YS6_pk3NeYXFoByoiWRNBpbLYUfXgGurU5xnC-NVtW5_5S2k-kpUShcFVbHL4bqAemGEADhviCXDslU7OXzMZeQqjtF7vKH_Eqb81JSbQZkqZA-ejxSx3dqimOpTRr-B2VT6ktx1zTZLh6ue49jLUeOproXtmSeVDBM7SqmzV_5JB7oCUPfCSreNozABvaoT2AbFt0EQ314Dna3H-mya47DDeBSF26BxzJnUSZj27-bgJXdLnovqtgEOVrVR58iulbhtrWYs4POWXQYr7frqHmmLXGozQn_JoQXx5IZ3QmY4bi8Mvu5L9xQVSHU_Hth5np1T1qSnosn-SUl1KlpU7X3jgEc-2OMEZVvyIWdh5f2o0wsjbeQjwU-gIhvikWQ19MXlbRC3yJrE5stpAkCKAPH7NvIekzH8mQcm1hDdpcrlPvuq9gW7XR4l1RfM2Xj-keyl3fGsg9SuR7JL5Gcxa86vAQp4bD82UK9E1Asa46yKlBF7rWNZFdaQIMjOaF_Ajv0K6tIliE7HoSBTVOnWi-3tZl4Mrv70BMCDcsViu6ihiDFT-6pCw4npTMirTOngHpAYClXrhrWBQvRwQFMQ,,&amp;data=UlNrNmk5WktYejY4cHFySjRXSWhXSlV0YU83RTdOMkpEZEhfVXROSXZWckxnbDRtcmhkbHFIYl9YTHNNYk9Md3RPUVNjV19WZzE3bWM5QjFZVjVxWENPOXNJNWVVNTBfMEEwV3owY0d3R3FnQ3VPRzNDeGQzTjF5czAybjRoRTE,&amp;sign=b897fd14b674fa7546fc6268a700295f&amp;keyno=8&amp;b64e=2&amp;ref=orjY4mGPRjk5boDnW0uvlrrd71vZw9kpjly_ySFdX80,&amp;l10n=ru&quot;]\">Вакансии</a></div></div><div class=sitelinks__item><div class=\"sitelinks__title sitelinks__title_overflow_ellipsis typo typo_text_m typo_line_s\"><a class=\"link link_minor_yes link_theme_normal sitelinks__link i-bem\" data-bem='{\"link\":{}}' data-log-node=88z2 rel=noopener target=_blank tabindex=0 href=\"https://welcome.stepik.org/ru/team\" data-counter=\"[&quot;rc&quot;,&quot;http://yandex.ru/clck/jsredir?from=yandex.ru%3Bsearch%2F%3Bweb%3B%3B&amp;text=&amp;etext=1886.43DAoI7ud_n81M26gcNPw7pVw-Xz3QfaRfC9knjTiVc.61987fba5f7763e71ecea511bf7e40e88eb15440&amp;uuid=&amp;state=H4h8uvWmGgxr6ZUDS8dgCT6QCg0xbYsKetdhZ4vxoiTRNEepFyRTBKVydrkFfCWpV5oSkfdKpGLyxxq7LetIwj7TskcpSmC_M-IjjMEp-5eNntS1XrrOL7XHaIzUGliq4IcNOqVNsypCJuVyqgODb8fo80YloweU&amp;&amp;cst=AiuY0DBWFJ4EhnbxqmjDhe7I0te9Lb9TE4X0i-PihUx-V39Nul4TJocsbOjuFYIDB8YS6_pk3NeYXFoByoiWRNBpbLYUfXgGurU5xnC-NVtW5_5S2k-kpUShcFVbHL4bqAemGEADhviCXDslU7OXzMZeQqjtF7vKH_Eqb81JSbQZkqZA-ejxSx3dqimOpTRr-B2VT6ktx1zTZLh6ue49jLUeOproXtmSeVDBM7SqmzV_5JB7oCUPfCSreNozABvaoT2AbFt0EQ314Dna3H-mya47DDeBSF26BxzJnUSZj27-bgJXdLnovqtgEOVrVR58iulbhtrWYs4POWXQYr7frqHmmLXGozQn_JoQXx5IZ3QmY4bi8Mvu5L9xQVSHU_Hth5np1T1qSnosn-SUl1KlpU7X3jgEc-2OMEZVvyIWdh5f2o0wsjbeQjwU-gIhvikWQ19MXlbRC3yJrE5stpAkCKAPH7NvIekzH8mQcm1hDdpcrlPvuq9gW7XR4l1RfM2Xj-keyl3fGsg9SuR7JL5Gcxa86vAQp4bD82UK9E1Asa46yKlBF7rWNZFdaQIMjOaF_Ajv0K6tIliE7HoSBTVOnWi-3tZl4Mrv70BMCDcsViu6ihiDFT-6pCw4npTMirTOngHpAYClXrhrWBQvRwQFMQ,,&amp;data=UlNrNmk5WktYejY4cHFySjRXSWhXSlV0YU83RTdOMkpEZEhfVXROSXZWckxnbDRtcmhkbHFNbUgtNlYtZ1NYVHM3TkFVWlpRaVMyaHdtX0JnZnFhMnJSVFJVdmlaSEZXXzVNNWVYTUlDYk1wcTE3NWRqUmdFUSws&amp;sign=5088826436fd6c23105c8639f4037ad7&amp;keyno=8&amp;b64e=2&amp;ref=orjY4mGPRjk5boDnW0uvlrrd71vZw9kpjly_ySFdX80,&amp;l10n=ru&quot;]\">Команда</a></div></div><div class=\"sitelinks__item sitelinks__item_last\"><div class=\"sitelinks__title sitelinks__title_overflow_ellipsis typo typo_text_m typo_line_s\"><a class=\"link link_minor_yes link_theme_normal sitelinks__link i-bem\" data-bem='{\"link\":{}}' data-log-node=88z3 rel=noopener target=_blank tabindex=0 href=\"https://welcome.stepik.org/ru/contacts\" data-counter=\"[&quot;rc&quot;,&quot;http://yandex.ru/clck/jsredir?from=yandex.ru%3Bsearch%2F%3Bweb%3B%3B&amp;text=&amp;etext=1886.43DAoI7ud_n81M26gcNPw7pVw-Xz3QfaRfC9knjTiVc.61987fba5f7763e71ecea511bf7e40e88eb15440&amp;uuid=&amp;state=H4h8uvWmGgxr6ZUDS8dgCR8yMx3GFQf4wFf01_-EDbIeoLfm4YKjP5hJm_O3rHukGoKZZ4LLHSIVELpMzP8irhm1_Z1Bxh4Aa5YiMaykR8yjm2QfYzc9_BgIM2jpzGeYsR0RBVAZgvG8oCDAuNaTn0USyJ6aJuNeFkuMr9LzT_s,&amp;&amp;cst=AiuY0DBWFJ4EhnbxqmjDhe7I0te9Lb9TE4X0i-PihUx-V39Nul4TJocsbOjuFYIDB8YS6_pk3NeYXFoByoiWRNBpbLYUfXgGurU5xnC-NVtW5_5S2k-kpUShcFVbHL4bqAemGEADhviCXDslU7OXzMZeQqjtF7vKH_Eqb81JSbQZkqZA-ejxSx3dqimOpTRr-B2VT6ktx1zTZLh6ue49jLUeOproXtmSeVDBM7SqmzV_5JB7oCUPfCSreNozABvaoT2AbFt0EQ314Dna3H-mya47DDeBSF26BxzJnUSZj27-bgJXdLnovqtgEOVrVR58iulbhtrWYs4POWXQYr7frqHmmLXGozQn_JoQXx5IZ3QmY4bi8Mvu5L9xQVSHU_Hth5np1T1qSnosn-SUl1KlpU7X3jgEc-2OMEZVvyIWdh5f2o0wsjbeQjwU-gIhvikWQ19MXlbRC3yJrE5stpAkCKAPH7NvIekzH8mQcm1hDdpcrlPvuq9gW7XR4l1RfM2Xj-keyl3fGsg9SuR7JL5Gcxa86vAQp4bD82UK9E1Asa46yKlBF7rWNZFdaQIMjOaF_Ajv0K6tIliE7HoSBTVOnWi-3tZl4Mrv70BMCDcsViu6ihiDFT-6pCw4npTMirTOngHpAYClXrhrWBQvRwQFMQ,,&amp;data=UlNrNmk5WktYejY4cHFySjRXSWhXSlV0YU83RTdOMkpEZEhfVXROSXZWckxnbDRtcmhkbHFOV1hxZHZ6d0NWWlhWTTRIYU5sZlJEQmp6ejdFVEpEeUpTYVphV1JLTks1TW5JYWE5Mnl0aWlHRndrMHdOTjlrWWpCMVVhek5vU0E,&amp;sign=b806a209798cbf1e1b69471c89cafaf4&amp;keyno=8&amp;b64e=2&amp;ref=orjY4mGPRjk5boDnW0uvlrrd71vZw9kpjly_ySFdX80,&amp;l10n=ru&quot;]\">Контакты</a></div></div></div><div class=\"organic__subtitle typo typo_type_greenurl\"><div class=\"path organic__path\" data-log-node=88z4><a class=\"link link_outer_yes link_theme_outer path__item i-bem\" data-bem='{\"link\":{}}' data-log-node=88z5 tabindex=-1 rel=noopener target=_blank href=\"https://welcome.stepik.org/\" data-counter=\"[&quot;rc&quot;,&quot;http://yandex.ru/clck/jsredir?from=yandex.ru%3Bsearch%2F%3Bweb%3B%3B&amp;text=&amp;etext=1886.43DAoI7ud_n81M26gcNPw7pVw-Xz3QfaRfC9knjTiVc.61987fba5f7763e71ecea511bf7e40e88eb15440&amp;uuid=&amp;state=PEtFfuTeVD4jaxywoSUvtB2i7c0_vxGd2E9eR729KuIQGpPxcKWQSHSdfi63Is_-FTQakDLX4Cm898924SG_gw3_Ej3CZklP&amp;&amp;cst=AiuY0DBWFJ4EhnbxqmjDhe7I0te9Lb9TE4X0i-PihUx-V39Nul4TJocsbOjuFYIDB8YS6_pk3NeYXFoByoiWRNBpbLYUfXgGurU5xnC-NVtW5_5S2k-kpUShcFVbHL4bqAemGEADhviCXDslU7OXzMZeQqjtF7vKH_Eqb81JSbQZkqZA-ejxSx3dqimOpTRr-B2VT6ktx1zTZLh6ue49jLUeOproXtmSeVDBM7SqmzV_5JB7oCUPfCSreNozABvaoT2AbFt0EQ314Dna3H-mya47DDeBSF26BxzJnUSZj27-bgJXdLnovqtgEOVrVR58iulbhtrWYs4POWXQYr7frqHmmLXGozQn_JoQXx5IZ3QmY4bi8Mvu5L9xQVSHU_Hth5np1T1qSnosn-SUl1KlpU7X3jgEc-2OMEZVvyIWdh5f2o0wsjbeQjwU-gIhvikWQ19MXlbRC3yJrE5stpAkCKAPH7NvIekzH8mQcm1hDdpcrlPvuq9gW7XR4l1RfM2Xj-keyl3fGsg9SuR7JL5Gcxa86vAQp4bD82UK9E1Asa46yKlBF7rWNZFdaQIMjOaF_Ajv0K6tIliE7HoSBTVOnWi-3tZl4Mrv70BMCDcsViu6ihiDFT-6pCw4npTMirTOngHpAYClXrhrWBQvRwQFMQ,,&amp;data=UlNrNmk5WktYejY4cHFySjRXSWhXSlV0YU83RTdOMkpEZEhfVXROSXZWb1VDdnExS3hXYUdDck9sNzJPcEN4U3FmSHdWVEtvYmpfTC0ycTJzZ0s4Tnk3YUhkbzRQTUVTcWZLeFZId2E0Ymcs&amp;sign=f9fff59a3e6378e6e8c4ffdc16c1b9d9&amp;keyno=8&amp;b64e=2&amp;ref=orjY4mGPRjk5boDnW0uvlrrd71vZw9kpjly_ySFdX80,&amp;l10n=ru&quot;]\"><b>welcome.stepik.org</b></a><span class=path__separator>›</span><a class=\"link link_outer_yes link_theme_outer path__item i-bem\" data-bem='{\"link\":{}}' data-log-node=88z6 tabindex=-1 rel=noopener target=_blank href=\"https://welcome.stepik.org/ru\" data-counter=\"[&quot;rc&quot;,&quot;http://yandex.ru/clck/jsredir?from=yandex.ru%3Bsearch%2F%3Bweb%3B%3B&amp;text=&amp;etext=1886.43DAoI7ud_n81M26gcNPw7pVw-Xz3QfaRfC9knjTiVc.61987fba5f7763e71ecea511bf7e40e88eb15440&amp;uuid=&amp;state=PEtFfuTeVD4jaxywoSUvtB2i7c0_vxGd2E9eR729KuIQGpPxcKWQSHSdfi63Is_-DnbKz8oeZi1VUt5TFtSZrSjJVxxlm2PP&amp;&amp;cst=AiuY0DBWFJ4EhnbxqmjDhe7I0te9Lb9TE4X0i-PihUx-V39Nul4TJocsbOjuFYIDB8YS6_pk3NeYXFoByoiWRNBpbLYUfXgGurU5xnC-NVtW5_5S2k-kpUShcFVbHL4bqAemGEADhviCXDslU7OXzMZeQqjtF7vKH_Eqb81JSbQZkqZA-ejxSx3dqimOpTRr-B2VT6ktx1zTZLh6ue49jLUeOproXtmSeVDBM7SqmzV_5JB7oCUPfCSreNozABvaoT2AbFt0EQ314Dna3H-mya47DDeBSF26BxzJnUSZj27-bgJXdLnovqtgEOVrVR58iulbhtrWYs4POWXQYr7frqHmmLXGozQn_JoQXx5IZ3QmY4bi8Mvu5L9xQVSHU_Hth5np1T1qSnosn-SUl1KlpU7X3jgEc-2OMEZVvyIWdh5f2o0wsjbeQjwU-gIhvikWQ19MXlbRC3yJrE5stpAkCKAPH7NvIekzH8mQcm1hDdpcrlPvuq9gW7XR4l1RfM2Xj-keyl3fGsg9SuR7JL5Gcxa86vAQp4bD82UK9E1Asa46yKlBF7rWNZFdaQIMjOaF_Ajv0K6tIliE7HoSBTVOnWi-3tZl4Mrv70BMCDcsViu6ihiDFT-6pCw4npTMirTOngHpAYClXrhrWBQvRwQFMQ,,&amp;data=UlNrNmk5WktYejY4cHFySjRXSWhXSlV0YU83RTdOMkpEZEhfVXROSXZWckxnbDRtcmhkbHFGOVl4SXAtMm14MUoxUktnekxlMUc4UHJEVjh6X0NWdndOV1lxUEZPU3dwNEdwck1sSW1nMTAs&amp;sign=6a44a290c46ee4ec740fc229512df7d0&amp;keyno=8&amp;b64e=2&amp;ref=orjY4mGPRjk5boDnW0uvlrrd71vZw9kpjly_ySFdX80,&amp;l10n=ru&quot;]\">ru</a></div><div class=\"extralinks i-bem\" data-bem='{\"extralinks\":{}}' data-log-node=88z7><div class=\"popup2 popup2_target_anchor popup2_autoclosable_yes popup2_theme_normal popup2_hiding_yes popup2_view_classic extralinks__popup i-bem\" data-bem='{\"popup2\":{\"directions\":[\"bottom-center\"]}}'><a class=\"link link_theme_normal i-bem\" data-bem='{\"link\":{}}' data-log-node=88z8 rel=noopener target=_blank tabindex=0 href=\"https://hghltd.yandex.net/yandbtm?fmode=inject&amp;url=https%3A%2F%2Fwelcome.stepik.org%2Fru&amp;tld=ru&amp;lang=ru&amp;la=1534572032&amp;tm=1534880720&amp;text=stepic&amp;l10n=ru&amp;mime=html&amp;sign=a2ddaf91ddfefd1829abe4b3e11e46c6&amp;keyno=0\" data-counter=\"[&quot;w&quot;,&quot;80.22.362&quot;,&quot;-adapters=extended-snippet,84=85,-source=web&quot;]\">Сохранённая копия</a><a class=\"link link_pseudo_yes link_theme_pseudo ajax i-bem\" data-bem='{\"link\":{},\"ajax\":{}}' data-log-node=88z9 rel=noopener target=_blank tabindex=0 href=\"/search/?text=stepic&amp;lr=35&amp;noreask=1&amp;site=welcome.stepik.org\" data-counter=\"[&quot;w&quot;,&quot;80.22.336&quot;,&quot;-adapters=extended-snippet,84=85,-source=web&quot;]\">Показать ещё с сайта</a><span class=\"link link_theme_normal show-feedback i-bem\" data-bem='{\"link\":{},\"show-feedback\":{\"abuseLink\":\"https://yandex.ru/search/abuse?sign=15ce5b86ce856a65911e90502dcca848&amp;keyno=0\",\"reqid\":\"1534880720591518-87297817111631953049859-vla1-2704\"}}' data-log-node=88za rel=noopener target=_blank tabindex=0 role=button data-counter=\"[&quot;w&quot;,&quot;80.22.1436&quot;,&quot;689=1086,-adapters=extended-snippet,84=85,-source=web&quot;]\">Пожаловаться</span></div></div></div><div class=\"organic__content-wrapper clearfix\"><div class=\"text-container typo typo_text_m typo_line_m\"><div class=\"extended-text extended-text_mode_js extended-text_state_short i-bem\" data-bem='{\"extended-text\":{}}' data-log-node=88zb><span class=extended-text__short>На <b>Stepik</b> отличные курсы, некоторые лучшие из всех, что я когда-либо проходил. А ещё здесь потрясающее сообщество учащихся. <span class=\"link link_theme_normal extended-text__toggle i-bem\" data-bem='{\"link\":{}}' data-log-node=88zc tabindex=0 role=button data-counter=\"[&quot;w&quot;,&quot;80.22.75&quot;,&quot;-adapters=extended-snippet,689=1086,84=85,-source=web&quot;]\">Читать ещё</span></span><span class=extended-text__full>На <b>Stepik</b> отличные курсы, некоторые лучшие из всех, что я когда-либо проходил. А ещё здесь потрясающее сообщество учащихся. Немалую долю пользы и удовольствия от прохождения курса приносят обсуждения в комментариях и на форуме решений. <span class=\"link link_theme_normal extended-text__toggle i-bem\" data-bem='{\"link\":{}}' data-log-node=88zd tabindex=0 role=button data-counter=\"[&quot;w&quot;,&quot;80.22.486&quot;,&quot;-adapters=extended-snippet,689=1086,84=85,-source=web&quot;]\">Скрыть</span></span></div></div></div></div><li class=serp-item data-cid=1 data-log-node=88ze><div class=\"organic typo typo_text_m typo_line_s\"><h2 class=\"organic__title-wrapper typo typo_text_l typo_line_m\"><div class=a11y-hidden>2</div><a class=\"link link_theme_normal organic__url link_cropped_no i-bem\" data-bem='{\"link\":{}}' accesskey=2 tabindex=2 data-log-node=88zf rel=noopener target=_blank href=\"https://stepik.org/login\" data-counter=\"[&quot;rc&quot;,&quot;http://yandex.ru/clck/jsredir?from=yandex.ru%3Bsearch%2F%3Bweb%3B%3B&amp;text=&amp;etext=1886.43DAoI7ud_n81M26gcNPw7pVw-Xz3QfaRfC9knjTiVc.61987fba5f7763e71ecea511bf7e40e88eb15440&amp;uuid=&amp;state=PEtFfuTeVD5kpHnK9lio9WCnKp0DidhEKpiDEeQH_O9YI8TdD27791YsGsX6t97sv9bnykFJOpPJeUBQMoSZaNLUbuCyh9qpCA306lbo9-s,&amp;&amp;cst=AiuY0DBWFJ4EhnbxqmjDhe7I0te9Lb9TE4X0i-PihUx-V39Nul4TJocsbOjuFYIDB8YS6_pk3NeYXFoByoiWRNBpbLYUfXgGurU5xnC-NVtW5_5S2k-kpUShcFVbHL4bqAemGEADhviCXDslU7OXzMZeQqjtF7vKH_Eqb81JSbQZkqZA-ejxSx3dqimOpTRr-B2VT6ktx1zTZLh6ue49jLUeOproXtmSeVDBM7SqmzV_5JB7oCUPfCSreNozABvaoT2AbFt0EQ314Dna3H-mya47DDeBSF26BxzJnUSZj27-bgJXdLnovqtgEOVrVR58iulbhtrWYs4POWXQYr7frqHmmLXGozQn_JoQXx5IZ3QmY4bi8Mvu5L9xQVSHU_Hth5np1T1qSnosn-SUl1KlpU7X3jgEc-2OMEZVvyIWdh5f2o0wsjbeQjwU-gIhvikWQ19MXlbRC3yJrE5stpAkCKAPH7NvIekzH8mQcm1hDdpcrlPvuq9gW7XR4l1RfM2Xj-keyl3fGsg9SuR7JL5Gcxa86vAQp4bD82UK9E1Asa46yKlBF7rWNZFdaQIMjOaF_Ajv0K6tIliE7HoSBTVOnWi-3tZl4Mrv70BMCDcsViu6ihiDFT-6pCw4npTMirTOngHpAYClXrhrWBQvRwQFMQ,,&amp;data=UlNrNmk5WktYejY4cHFySjRXSWhXTUZRTUdsY1JRdDdkREtINEQyd3Nxb1BETmtKMEVWVHI5SEZoVlBoaTl1bDRzcURGeFluUTZoM1hZM2E1UzFoQm1rQWNFOHJlVHdhcHlFaGxRZ29NbHcs&amp;sign=c327b1d23bb4a2541a1ae014f7fc9f4f&amp;keyno=8&amp;b64e=2&amp;ref=orjY4mGPRjk5boDnW0uvlrrd71vZw9kpjly_ySFdX80,&amp;l10n=ru&quot;]\"><div class=\"favicon favicon_page_0\"><div class=favicon__icon style=\"background-position:0 -16px;\"></div></div><div class=organic__url-text><b class=\"needsclick\">Stepik</b></div></a></h2><div class=\"organic__subtitle typo typo_type_greenurl\"><div class=\"path organic__path\" data-log-node=88zg><a class=\"link link_outer_yes link_theme_outer path__item i-bem\" data-bem='{\"link\":{}}' data-log-node=88zh tabindex=-1 rel=noopener target=_blank href=\"https://stepik.org/\" data-counter=\"[&quot;rc&quot;,&quot;http://yandex.ru/clck/jsredir?from=yandex.ru%3Bsearch%2F%3Bweb%3B%3B&amp;text=&amp;etext=1886.43DAoI7ud_n81M26gcNPw7pVw-Xz3QfaRfC9knjTiVc.61987fba5f7763e71ecea511bf7e40e88eb15440&amp;uuid=&amp;state=PEtFfuTeVD4jaxywoSUvtB2i7c0_vxGdjWT7Elao4JUWxZ-v0OIKpF-Jgk3I2xx32CBhTgn9fkOyaEgtdAQRMmqTHb0gK1E3&amp;&amp;cst=AiuY0DBWFJ4EhnbxqmjDhe7I0te9Lb9TE4X0i-PihUx-V39Nul4TJocsbOjuFYIDB8YS6_pk3NeYXFoByoiWRNBpbLYUfXgGurU5xnC-NVtW5_5S2k-kpUShcFVbHL4bqAemGEADhviCXDslU7OXzMZeQqjtF7vKH_Eqb81JSbQZkqZA-ejxSx3dqimOpTRr-B2VT6ktx1zTZLh6ue49jLUeOproXtmSeVDBM7SqmzV_5JB7oCUPfCSreNozABvaoT2AbFt0EQ314Dna3H-mya47DDeBSF26BxzJnUSZj27-bgJXdLnovqtgEOVrVR58iulbhtrWYs4POWXQYr7frqHmmLXGozQn_JoQXx5IZ3QmY4bi8Mvu5L9xQVSHU_Hth5np1T1qSnosn-SUl1KlpU7X3jgEc-2OMEZVvyIWdh5f2o0wsjbeQjwU-gIhvikWQ19MXlbRC3yJrE5stpAkCKAPH7NvIekzH8mQcm1hDdpcrlPvuq9gW7XR4l1RfM2Xj-keyl3fGsg9SuR7JL5Gcxa86vAQp4bD82UK9E1Asa46yKlBF7rWNZFdaQIMjOaF_Ajv0K6tIliE7HoSBTVOnWi-3tZl4Mrv70BMCDcsViu6ihiDFT-6pCw4npTMirTOngHpAYClXrhrWBQvRwQFMQ,,&amp;data=UlNrNmk5WktYejY4cHFySjRXSWhXTUZRTUdsY1JRdDdDRjJnM3h3c19rbENNZWEyTzJ5Y3hvZ01oTktpNDJueVBuSUU2cFdyX3dRZy0zaERsQUowamkzSWZjT0ZxWHpk&amp;sign=48e4cd73aafd7d2f44aaa6073ec681c3&amp;keyno=8&amp;b64e=2&amp;ref=orjY4mGPRjk5boDnW0uvlrrd71vZw9kpjly_ySFdX80,&amp;l10n=ru&quot;]\"><b>stepik.org</b></a><span class=path__separator>›</span><a class=\"link link_outer_yes link_theme_outer path__item i-bem\" data-bem='{\"link\":{}}' data-log-node=88zi tabindex=-1 rel=noopener target=_blank href=\"https://stepik.org/login\" data-counter=\"[&quot;rc&quot;,&quot;http://yandex.ru/clck/jsredir?from=yandex.ru%3Bsearch%2F%3Bweb%3B%3B&amp;text=&amp;etext=1886.43DAoI7ud_n81M26gcNPw7pVw-Xz3QfaRfC9knjTiVc.61987fba5f7763e71ecea511bf7e40e88eb15440&amp;uuid=&amp;state=PEtFfuTeVD4jaxywoSUvtB2i7c0_vxGdjWT7Elao4JUWxZ-v0OIKpF-Jgk3I2xx3zxg2fgwAb9wet7HrGKzDuC2J5VMdGyo3&amp;&amp;cst=AiuY0DBWFJ4EhnbxqmjDhe7I0te9Lb9TE4X0i-PihUx-V39Nul4TJocsbOjuFYIDB8YS6_pk3NeYXFoByoiWRNBpbLYUfXgGurU5xnC-NVtW5_5S2k-kpUShcFVbHL4bqAemGEADhviCXDslU7OXzMZeQqjtF7vKH_Eqb81JSbQZkqZA-ejxSx3dqimOpTRr-B2VT6ktx1zTZLh6ue49jLUeOproXtmSeVDBM7SqmzV_5JB7oCUPfCSreNozABvaoT2AbFt0EQ314Dna3H-mya47DDeBSF26BxzJnUSZj27-bgJXdLnovqtgEOVrVR58iulbhtrWYs4POWXQYr7frqHmmLXGozQn_JoQXx5IZ3QmY4bi8Mvu5L9xQVSHU_Hth5np1T1qSnosn-SUl1KlpU7X3jgEc-2OMEZVvyIWdh5f2o0wsjbeQjwU-gIhvikWQ19MXlbRC3yJrE5stpAkCKAPH7NvIekzH8mQcm1hDdpcrlPvuq9gW7XR4l1RfM2Xj-keyl3fGsg9SuR7JL5Gcxa86vAQp4bD82UK9E1Asa46yKlBF7rWNZFdaQIMjOaF_Ajv0K6tIliE7HoSBTVOnWi-3tZl4Mrv70BMCDcsViu6ihiDFT-6pCw4npTMirTOngHpAYClXrhrWBQvRwQFMQ,,&amp;data=UlNrNmk5WktYejY4cHFySjRXSWhXTUZRTUdsY1JRdDdkREtINEQyd3Nxb1BETmtKMEVWVHI5SEZoVlBoaTl1bDRzcURGeFluUTZoM1hZM2E1UzFoQm1rQWNFOHJlVHdhcHlFaGxRZ29NbHcs&amp;sign=aff70c4dc8118a1ab8527681dc7c6789&amp;keyno=8&amp;b64e=2&amp;ref=orjY4mGPRjk5boDnW0uvlrrd71vZw9kpjly_ySFdX80,&amp;l10n=ru&quot;]\">login</a></div><div class=\"extralinks i-bem\" data-bem='{\"extralinks\":{}}' data-log-node=88zj><div class=\"popup2 popup2_target_anchor popup2_autoclosable_yes popup2_theme_normal popup2_hiding_yes popup2_view_classic extralinks__popup i-bem\" data-bem='{\"popup2\":{\"directions\":[\"bottom-center\"]}}'><a class=\"link link_theme_normal i-bem\" data-bem='{\"link\":{}}' data-log-node=88zk rel=noopener target=_blank tabindex=0 href=\"//translate.yandex.ru/translate?srv=yasearch&amp;url=https%3A%2F%2Fstepik.org%2Flogin&amp;lang=eng-rus&amp;ui=rus\" data-counter=\"[&quot;w&quot;,&quot;80.22.347&quot;,&quot;-adapters=need-translate,84=86,-source=web&quot;]\">Перевести</a><a class=\"link link_theme_normal i-bem\" data-bem='{\"link\":{}}' data-log-node=88zl rel=noopener target=_blank tabindex=0 href=\"https://hghltd.yandex.net/yandbtm?fmode=inject&amp;url=https%3A%2F%2Fstepik.org%2Flogin&amp;tld=ru&amp;lang=en&amp;la=1534535680&amp;tm=1534880720&amp;text=stepic&amp;l10n=ru&amp;mime=html&amp;sign=8295160d14d083955cc357d707adc49e&amp;keyno=0\" data-counter=\"[&quot;w&quot;,&quot;80.22.362&quot;,&quot;-adapters=need-translate,84=86,-source=web&quot;]\">Сохранённая копия</a><a class=\"link link_pseudo_yes link_theme_pseudo ajax i-bem\" data-bem='{\"link\":{},\"ajax\":{}}' data-log-node=88zm rel=noopener target=_blank tabindex=0 href=\"/search/?text=stepic&amp;lr=35&amp;noreask=1&amp;site=stepik.org\" data-counter=\"[&quot;w&quot;,&quot;80.22.336&quot;,&quot;-adapters=need-translate,84=86,-source=web&quot;]\">Показать ещё с сайта</a><span class=\"link link_theme_normal show-feedback i-bem\" data-bem='{\"link\":{},\"show-feedback\":{\"abuseLink\":\"https://yandex.ru/search/abuse?sign=15ce5b86ce856a65911e90502dcca848&amp;keyno=0\",\"reqid\":\"1534880720591518-87297817111631953049859-vla1-2704\"}}' data-log-node=88zn rel=noopener target=_blank tabindex=0 role=button data-counter=\"[&quot;w&quot;,&quot;80.22.1436&quot;,&quot;689=1086,-adapters=need-translate,84=86,-source=web&quot;]\">Пожаловаться</span></div></div></div><div class=\"organic__content-wrapper clearfix\"><div class=\"text-container typo typo_text_m typo_line_m organic__text\">Promoting efficient learning by developing innovative educational technologies. Create an interactive lesson and employ automated grading software for free.<br></div></div></div><li class=serp-item data-cid=2 data-log-node=88zo><div class=\"organic typo typo_text_m typo_line_s\"><h2 class=\"organic__title-wrapper typo typo_text_l typo_line_m\"><div class=a11y-hidden>3</div><a class=\"link link_theme_normal organic__url link_cropped_no i-bem\" data-bem='{\"link\":{}}' accesskey=3 tabindex=2 data-log-node=88zp rel=noopener target=_blank href=\"https://ru.wikipedia.org/wiki/Stepik\" data-counter=\"[&quot;rc&quot;,&quot;http://yandex.ru/clck/jsredir?from=yandex.ru%3Bsearch%2F%3Bweb%3B%3B&amp;text=&amp;etext=1886.43DAoI7ud_n81M26gcNPw7pVw-Xz3QfaRfC9knjTiVc.61987fba5f7763e71ecea511bf7e40e88eb15440&amp;uuid=&amp;state=PEtFfuTeVD5kpHnK9lio9T6U0-imFY5Ibl_FxS8ahbetb9q-Ws8tqQaT6YcO5ES2OOFHd68u-UGwM5LeWsBRP1rfbfuX0o-2zYyCdKl7Xt_xPpRWu515EBjQ_YuIhVpzZr-vXLjZpvA,&amp;&amp;cst=AiuY0DBWFJ4EhnbxqmjDhe7I0te9Lb9TE4X0i-PihUx-V39Nul4TJocsbOjuFYIDB8YS6_pk3NeYXFoByoiWRNBpbLYUfXgGurU5xnC-NVtW5_5S2k-kpUShcFVbHL4bqAemGEADhviCXDslU7OXzMZeQqjtF7vKH_Eqb81JSbQZkqZA-ejxSx3dqimOpTRr-B2VT6ktx1zTZLh6ue49jLUeOproXtmSeVDBM7SqmzV_5JB7oCUPfCSreNozABvaoT2AbFt0EQ314Dna3H-mya47DDeBSF26BxzJnUSZj27-bgJXdLnovqtgEOVrVR58iulbhtrWYs4POWXQYr7frqHmmLXGozQn_JoQXx5IZ3QmY4bi8Mvu5L9xQVSHU_Hth5np1T1qSnosn-SUl1KlpU7X3jgEc-2OMEZVvyIWdh5f2o0wsjbeQjwU-gIhvikWQ19MXlbRC3yJrE5stpAkCKAPH7NvIekzH8mQcm1hDdpcrlPvuq9gW7XR4l1RfM2Xj-keyl3fGsg9SuR7JL5Gcxa86vAQp4bD82UK9E1Asa46yKlBF7rWNZFdaQIMjOaF_Ajv0K6tIliE7HoSBTVOnWi-3tZl4Mrv70BMCDcsViu6ihiDFT-6pCw4npTMirTOngHpAYClXrhrWBQvRwQFMQ,,&amp;data=UlNrNmk5WktYejY4cHFySjRXSWhXQzdLY3hSTVNzV2ZCVXgzZzFIWmJXemRtSl9GU3pqWkpWRkt1RGFUTUFqLVpiX3YwZUVzYVVTVVdQelp3VVpBY1FFNnYtcHVpYlF1Y0Z6R1dGVGwtR2pLTWpxUENwSXo5dyws&amp;sign=52f88f9bd2b8ad55d2688d92c248f761&amp;keyno=8&amp;b64e=2&amp;ref=orjY4mGPRjk5boDnW0uvlrrd71vZw9kpjly_ySFdX80,&amp;l10n=ru&quot;]\"><div class=\"favicon favicon_page_0\"><div class=favicon__icon style=\"background-position:0 -32px;\"></div></div><div class=organic__url-text><b class=\"needsclick\">Stepik</b> — Википедия</div></a></h2><div class=\"organic__subtitle typo typo_type_greenurl\"><div class=\"path organic__path\" data-log-node=88zq><a class=\"link link_outer_yes link_theme_outer path__item i-bem\" data-bem='{\"link\":{}}' data-log-node=88zr tabindex=-1 rel=noopener target=_blank href=\"https://ru.wikipedia.org/\" data-counter=\"[&quot;rc&quot;,&quot;http://yandex.ru/clck/jsredir?from=yandex.ru%3Bsearch%2F%3Bweb%3B%3B&amp;text=&amp;etext=1886.43DAoI7ud_n81M26gcNPw7pVw-Xz3QfaRfC9knjTiVc.61987fba5f7763e71ecea511bf7e40e88eb15440&amp;uuid=&amp;state=PEtFfuTeVD4jaxywoSUvtB2i7c0_vxGd2E9eR729KuIQGpPxcKWQSHSdfi63Is_-FTQakDLX4CmxVSNWiaBAr8VxoJp6-z5b&amp;&amp;cst=AiuY0DBWFJ4EhnbxqmjDhe7I0te9Lb9TE4X0i-PihUx-V39Nul4TJocsbOjuFYIDB8YS6_pk3NeYXFoByoiWRNBpbLYUfXgGurU5xnC-NVtW5_5S2k-kpUShcFVbHL4bqAemGEADhviCXDslU7OXzMZeQqjtF7vKH_Eqb81JSbQZkqZA-ejxSx3dqimOpTRr-B2VT6ktx1zTZLh6ue49jLUeOproXtmSeVDBM7SqmzV_5JB7oCUPfCSreNozABvaoT2AbFt0EQ314Dna3H-mya47DDeBSF26BxzJnUSZj27-bgJXdLnovqtgEOVrVR58iulbhtrWYs4POWXQYr7frqHmmLXGozQn_JoQXx5IZ3QmY4bi8Mvu5L9xQVSHU_Hth5np1T1qSnosn-SUl1KlpU7X3jgEc-2OMEZVvyIWdh5f2o0wsjbeQjwU-gIhvikWQ19MXlbRC3yJrE5stpAkCKAPH7NvIekzH8mQcm1hDdpcrlPvuq9gW7XR4l1RfM2Xj-keyl3fGsg9SuR7JL5Gcxa86vAQp4bD82UK9E1Asa46yKlBF7rWNZFdaQIMjOaF_Ajv0K6tIliE7HoSBTVOnWi-3tZl4Mrv70BMCDcsViu6ihiDFT-6pCw4npTMirTOngHpAYClXrhrWBQvRwQFMQ,,&amp;data=UlNrNmk5WktYejY4cHFySjRXSWhXQzdLY3hSTVNzV2ZCVXgzZzFIWmJXenZzcWVyWFlYWkdxdXdhakxfWW02Nk5zekVINTMtR2ZCQldmNU9DbndTVlhpUWdOQUNrLUk2Z1N1bzV2Vy0zSW8s&amp;sign=8734c194b28846db1c544de7ae02ee35&amp;keyno=8&amp;b64e=2&amp;ref=orjY4mGPRjk5boDnW0uvlrrd71vZw9kpjly_ySFdX80,&amp;l10n=ru&quot;]\"><b>ru.wikipedia.org</b></a><span class=path__separator>›</span><a class=\"link link_outer_yes link_theme_outer path__item i-bem\" data-bem='{\"link\":{}}' data-log-node=88zs tabindex=-1 rel=noopener target=_blank href=\"https://ru.wikipedia.org/wiki/Stepik\" data-counter=\"[&quot;rc&quot;,&quot;http://yandex.ru/clck/jsredir?from=yandex.ru%3Bsearch%2F%3Bweb%3B%3B&amp;text=&amp;etext=1886.43DAoI7ud_n81M26gcNPw7pVw-Xz3QfaRfC9knjTiVc.61987fba5f7763e71ecea511bf7e40e88eb15440&amp;uuid=&amp;state=PEtFfuTeVD4jaxywoSUvtB2i7c0_vxGd2E9eR729KuIQGpPxcKWQSHSdfi63Is_-DnbKz8oeZi2_WF8SsFRV67OE3JeU-Q2r&amp;&amp;cst=AiuY0DBWFJ4EhnbxqmjDhe7I0te9Lb9TE4X0i-PihUx-V39Nul4TJocsbOjuFYIDB8YS6_pk3NeYXFoByoiWRNBpbLYUfXgGurU5xnC-NVtW5_5S2k-kpUShcFVbHL4bqAemGEADhviCXDslU7OXzMZeQqjtF7vKH_Eqb81JSbQZkqZA-ejxSx3dqimOpTRr-B2VT6ktx1zTZLh6ue49jLUeOproXtmSeVDBM7SqmzV_5JB7oCUPfCSreNozABvaoT2AbFt0EQ314Dna3H-mya47DDeBSF26BxzJnUSZj27-bgJXdLnovqtgEOVrVR58iulbhtrWYs4POWXQYr7frqHmmLXGozQn_JoQXx5IZ3QmY4bi8Mvu5L9xQVSHU_Hth5np1T1qSnosn-SUl1KlpU7X3jgEc-2OMEZVvyIWdh5f2o0wsjbeQjwU-gIhvikWQ19MXlbRC3yJrE5stpAkCKAPH7NvIekzH8mQcm1hDdpcrlPvuq9gW7XR4l1RfM2Xj-keyl3fGsg9SuR7JL5Gcxa86vAQp4bD82UK9E1Asa46yKlBF7rWNZFdaQIMjOaF_Ajv0K6tIliE7HoSBTVOnWi-3tZl4Mrv70BMCDcsViu6ihiDFT-6pCw4npTMirTOngHpAYClXrhrWBQvRwQFMQ,,&amp;data=UlNrNmk5WktYejY4cHFySjRXSWhXQzdLY3hSTVNzV2ZCVXgzZzFIWmJXemRtSl9GU3pqWkpWRkt1RGFUTUFqLVpiX3YwZUVzYVVTVVdQelp3VVpBY1FFNnYtcHVpYlF1Y0Z6R1dGVGwtR2pLTWpxUENwSXo5dyws&amp;sign=270050570d4b6748bd34f43056049a82&amp;keyno=8&amp;b64e=2&amp;ref=orjY4mGPRjk5boDnW0uvlrrd71vZw9kpjly_ySFdX80,&amp;l10n=ru&quot;]\">Stepik</a></div><div class=\"extralinks i-bem\" data-bem='{\"extralinks\":{}}' data-log-node=88zt><div class=\"popup2 popup2_target_anchor popup2_autoclosable_yes popup2_theme_normal popup2_hiding_yes popup2_view_classic extralinks__popup i-bem\" data-bem='{\"popup2\":{\"directions\":[\"bottom-center\"]}}'><a class=\"link link_theme_normal i-bem\" data-bem='{\"link\":{}}' data-log-node=88zu rel=noopener target=_blank tabindex=0 href=\"https://hghltd.yandex.net/yandbtm?fmode=inject&amp;url=https%3A%2F%2Fru.wikipedia.org%2Fwiki%2FStepik&amp;tld=ru&amp;lang=ru&amp;la=1534603136&amp;tm=1534880720&amp;text=stepic&amp;l10n=ru&amp;mime=html&amp;sign=1313f0636a1cbbffbb35b54dd23bd782&amp;keyno=0\" data-counter=\"[&quot;w&quot;,&quot;80.22.362&quot;,&quot;-adapters=extended-snippet,84=87,-source=web&quot;]\">Сохранённая копия</a><a class=\"link link_pseudo_yes link_theme_pseudo ajax i-bem\" data-bem='{\"link\":{},\"ajax\":{}}' data-log-node=88zv rel=noopener target=_blank tabindex=0 href=\"/search/?text=stepic&amp;lr=35&amp;noreask=1&amp;site=ru.wikipedia.org\" data-counter=\"[&quot;w&quot;,&quot;80.22.336&quot;,&quot;-adapters=extended-snippet,84=87,-source=web&quot;]\">Показать ещё с сайта</a><span class=\"link link_theme_normal show-feedback i-bem\" data-bem='{\"link\":{},\"show-feedback\":{\"abuseLink\":\"https://yandex.ru/search/abuse?sign=15ce5b86ce856a65911e90502dcca848&amp;keyno=0\",\"reqid\":\"1534880720591518-87297817111631953049859-vla1-2704\"}}' data-log-node=88zw rel=noopener target=_blank tabindex=0 role=button data-counter=\"[&quot;w&quot;,&quot;80.22.1436&quot;,&quot;689=1086,-adapters=extended-snippet,84=87,-source=web&quot;]\">Пожаловаться</span></div></div></div><div class=\"organic__content-wrapper clearfix\"><div class=\"text-container typo typo_text_m typo_line_m\"><div class=\"extended-text extended-text_mode_js extended-text_state_short i-bem\" data-bem='{\"extended-text\":{}}' data-log-node=88zx><span class=extended-text__short><b>Stepik</b> (Стэпик, до августа 2016 года — <b>Stepic</b>) — российская образовательная платформа и конструктор бесплатных открытых онлайн-курсов и уроков. <span class=\"link link_theme_normal extended-text__toggle i-bem\" data-bem='{\"link\":{}}' data-log-node=88zy tabindex=0 role=button data-counter=\"[&quot;w&quot;,&quot;80.22.75&quot;,&quot;-adapters=extended-snippet,689=1086,84=87,-source=web&quot;]\">Читать ещё</span></span><span class=extended-text__full><b>Stepik</b> (Стэпик, до августа 2016 года — <b>Stepic</b>) — российская образовательная платформа и конструктор бесплатных открытых онлайн-курсов и уроков. Позволяет любому зарегистрированному пользователю создавать интерактивные обучающие уроки и онлайн-курсы, используя видео, тексты и разнообразные задачи с автоматической проверкой и моментальной обратной связью. <span class=\"link link_theme_normal extended-text__toggle i-bem\" data-bem='{\"link\":{}}' data-log-node=88zz tabindex=0 role=button data-counter=\"[&quot;w&quot;,&quot;80.22.486&quot;,&quot;-adapters=extended-snippet,689=1086,84=87,-source=web&quot;]\">Скрыть</span></span></div></div></div></div><style nonce=3938 data-stylesheet=progressive>.organic__thumb .image:not(.image_type_cover):not(.image_type_contain){max-width:130px}.organic__thumb{display:block}.grid__col_mode_static.grid__col_width_1{width:30px}.grid__col_mode_static.grid__col_width_2{width:76px}.grid__col_mode_static.grid__col_width_3{width:122px}.grid__col_mode_static.grid__col_width_4{width:168px}.grid__col_mode_static.grid__col_width_5{width:214px}.grid__col_mode_static.grid__col_width_6{width:260px}.grid__col_mode_static.grid__col_width_7{width:306px}.grid__col_mode_static.grid__col_width_8{width:352px}.grid__col_mode_static.grid__col_width_9{width:398px}.grid__col_mode_static.grid__col_width_10{width:444px}.grid__col_mode_static.grid__col_width_11{width:490px}.grid__col_mode_static.grid__col_width_12{width:536px}.grid_mode_static .grid__row{margin-left:-8px;margin-right:-8px}.grid_mode_static .grid__col_wrap_yes{margin-left:8px;margin-right:8px}.grid_same-height-items_yes .grid__col_wrap_yes,.grid_same-height-items_yes .grid__row{display:-webkit-inline-flex;display:-ms-inline-flexbox;display:inline-flex}.grid__col_align_bottom{vertical-align:bottom}.grid__col_align_middle{vertical-align:middle}.grid__col_align_top{vertical-align:top}.grid__col_width_all{width:100%}.grid__col_wrap_yes{display:inline-block}.thumb{position:relative;display:inline-block}.thumb__image{display:block;max-width:100%}.thumb_border_yes:after,.thumb_shade_yes:before{position:absolute;top:0;right:0;bottom:0;left:0;content:''}.thumb_shade_yes:before{z-index:1;background:rgba(0,0,0,.03)}.thumb_border_yes:after{box-shadow:inset 0 0 0 1px rgba(0,0,0,.05)}.thumb_rounded_yes,.thumb_rounded_yes .thumb__glow,.thumb_rounded_yes .thumb__image,.thumb_rounded_yes:after,.thumb_rounded_yes:before{border-radius:4px}.thumb_rounded_yes .thumb__mark_align_left{border-bottom-left-radius:4px;border-bottom-left-radius:var(--size-border-radius-m)}.thumb_rounded_yes .thumb__mark_align_right{border-bottom-right-radius:4px;border-bottom-right-radius:var(--size-border-radius-m)}.thumb_image-background_yes{background:#000}.thumb_gravity_top .thumb__image{background-position:top}.thumb_shape_circle,.thumb_shape_circle .thumb__glow,.thumb_shape_circle .thumb__image,.thumb_shape_circle:after,.thumb_shape_circle:before{border-radius:50%}.thumb__handle{position:absolute;top:0;right:0;bottom:0;left:0;z-index:9;background:url(\"//yastatic.net/web4/_/La6qi18Z8LwgnZdsAr1qy1GwCwo.gif\")}.thumb_hover_fade .thumb__image,.thumb_hover_text .thumb__image{transition:opacity .2s ease-in-out;will-change:opacity}.thumb_hover_fade:hover .thumb__image{opacity:.8}.thumb_hover_text{background:#000}.thumb_hover_text:hover .thumb__image{opacity:.6}.thumb_hover_text:hover .thumb__hover{margin-top:0;opacity:1}.thumb__hover{position:absolute;top:41.5%;left:0;margin-top:5px;white-space:nowrap;color:#fff;font-size:13px;line-height:17px;height:17px;transition:opacity .2s ease-out,margin-top .2s ease-out;opacity:0;z-index:1}.thumb .thumb__label{position:absolute;left:0;bottom:0}.thumb .thumb__label_width_max,.thumb__hover{right:0;text-align:center}.thumb__mark{font-weight:700;position:absolute;bottom:0;color:#333;background:rgba(255,255,255,.8)}.thumb__mark_align_left{left:0;border-top-right-radius:4px;border-top-right-radius:var(--size-border-radius-m)}.thumb__mark_align_right{right:0;border-top-left-radius:4px;border-top-left-radius:var(--size-border-radius-m)}.thumb__mark{padding:4px 7px}.thumb__mark_padding_s{padding:2px 5px}.thumb__mark_position_fly{left:6px;bottom:6px;border-radius:4px;border-radius:var(--size-border-radius-m)}.image{font:0/0 a;border:0}.image.image_position-x_left{background-position-x:0}.image.image_position-x_right{background-position-x:100%}.image.image_position-y_top{background-position-y:0}.image.image_position-y_bottom{background-position-y:100%}.image_placeholder_yes{background-color:rgba(0,0,0,.06)}.image_type_cover{background-position:50%;background-size:cover}.image_type_contain{background-repeat:no-repeat;background-position:50%;background-size:contain}.ratio .image,.ratio .map2__container{position:absolute;top:0;bottom:0;left:0;right:0}.paragraph+.paragraph{margin-top:4px}.wrapper.wrapper_clear_yes .wrapper__cell{padding-top:0}.organic .wrapper__cell{padding-top:2px}.organic .wrapper__cell_type_thumb{line-height:0;padding-top:4px}.wrapper{display:-webkit-flex;display:-ms-flexbox;display:flex}.wrapper__cell:first-child{padding-right:10px}.wrapper__cell_type_content{-webkit-flex-grow:1;-ms-flex-positive:1;flex-grow:1;width:0}.wrapper__cell{padding-top:0}.wrapper__cell_type_thumb{padding-top:5px}.organic .wrapper__cell_type_content+.wrapper__cell_type_thumb{padding-top:7px}.wrapper_thumb-position_right .wrapper__cell:first-child{padding-right:16px}.wrapper_thumb-position_right .organic__thumb{min-width:60px;margin-left:auto}.wrapper_thumb-position_right .organic__url{max-width:460px}.wrapper_thumb-position_right .organic__url:not(.organic__url_type_multiline){white-space:nowrap}.wrapper_thumb-position_right .organic__url-text{overflow:hidden;text-overflow:ellipsis}</style><li class=serp-item data-cid=3 data-log-node=8900><div class=\"organic typo typo_text_m typo_line_s\"><div class=\"wrapper wrapper_reversed_yes wrapper_thumb-position_right\"><div class=\"wrapper__cell wrapper__cell_type_content\"><h2 class=\"organic__title-wrapper typo typo_text_l typo_line_m\"><div class=a11y-hidden>4</div><a class=\"link link_theme_normal organic__url link_cropped_no i-bem\" data-bem='{\"link\":{}}' accesskey=4 tabindex=2 data-log-node=8901 rel=noopener target=_blank href=\"https://vk.com/rustepik\" data-counter=\"[&quot;rc&quot;,&quot;http://yandex.ru/clck/jsredir?from=yandex.ru%3Bsearch%2F%3Bweb%3B%3B&amp;text=&amp;etext=1886.43DAoI7ud_n81M26gcNPw7pVw-Xz3QfaRfC9knjTiVc.61987fba5f7763e71ecea511bf7e40e88eb15440&amp;uuid=&amp;state=H4h8uvWmGgwb5058T6dIgu7zFCvPm7wDKE9gGed9XnfrRqPNmbS_PhiZH4yNzT-bvL2uzuSrCe3CBfmZfMi9DLJOHgaZnI-x&amp;&amp;cst=AiuY0DBWFJ4EhnbxqmjDhe7I0te9Lb9TE4X0i-PihUx-V39Nul4TJocsbOjuFYIDB8YS6_pk3NeYXFoByoiWRNBpbLYUfXgGurU5xnC-NVtW5_5S2k-kpUShcFVbHL4bqAemGEADhviCXDslU7OXzMZeQqjtF7vKH_Eqb81JSbQZkqZA-ejxSx3dqimOpTRr-B2VT6ktx1zTZLh6ue49jLUeOproXtmSeVDBM7SqmzV_5JB7oCUPfCSreNozABvaoT2AbFt0EQ314Dna3H-mya47DDeBSF26BxzJnUSZj27-bgJXdLnovqtgEOVrVR58iulbhtrWYs4POWXQYr7frqHmmLXGozQn_JoQXx5IZ3QmY4bi8Mvu5L9xQVSHU_Hth5np1T1qSnosn-SUl1KlpU7X3jgEc-2OMEZVvyIWdh5f2o0wsjbeQjwU-gIhvikWQ19MXlbRC3yJrE5stpAkCKAPH7NvIekzH8mQcm1hDdpcrlPvuq9gW7XR4l1RfM2Xj-keyl3fGsg9SuR7JL5Gcxa86vAQp4bD82UK9E1Asa46yKlBF7rWNZFdaQIMjOaF_Ajv0K6tIliE7HoSBTVOnWi-3tZl4Mrv70BMCDcsViu6ihiDFT-6pCw4npTMirTOngHpAYClXrhrWBQvRwQFMQ,,&amp;data=UlNrNmk5WktYejY4cHFySjRXSWhXRkNYS1ZJTW9paUxMRnJGSTJ3Vk1EajNNWXhBM3A0MUFiNFRwR3VSY0l3YlpZRW54eldlZ0hXbURiOENHaW1KZF83MVVLa0lYZ3V4STVBUnBqTnRXVTAs&amp;sign=1e5bc8c082c6efa4355148edecdc3a01&amp;keyno=8&amp;b64e=2&amp;ref=orjY4mGPRjk5boDnW0uvlrrd71vZw9kpjly_ySFdX80,&amp;l10n=ru&quot;]\"><div class=\"favicon favicon_page_0\"><div class=favicon__icon style=\"background-position:0 -48px;\"></div></div><div class=organic__url-text>Stepik.org — ВКонтакте</div></a></h2><div class=\"organic__subtitle typo typo_type_greenurl\"><div class=\"path organic__path\" data-log-node=8902><a class=\"link link_outer_yes link_theme_outer path__item i-bem\" data-bem='{\"link\":{}}' data-log-node=8903 tabindex=-1 rel=noopener target=_blank href=\"https://vk.com/\" data-counter=\"[&quot;rc&quot;,&quot;http://yandex.ru/clck/jsredir?from=yandex.ru%3Bsearch%2F%3Bweb%3B%3B&amp;text=&amp;etext=1886.43DAoI7ud_n81M26gcNPw7pVw-Xz3QfaRfC9knjTiVc.61987fba5f7763e71ecea511bf7e40e88eb15440&amp;uuid=&amp;state=H4h8uvWmGgwb5058T6dIgnhrSIsgwht3RFtKTUPA-r9e9q3tBgFekKIW8WWdtqGZil_6LSQRxIOAXtNZA_JhI4zSYgpGgdotv-VEIRiLD28,&amp;&amp;cst=AiuY0DBWFJ4EhnbxqmjDhe7I0te9Lb9TE4X0i-PihUx-V39Nul4TJocsbOjuFYIDB8YS6_pk3NeYXFoByoiWRNBpbLYUfXgGurU5xnC-NVtW5_5S2k-kpUShcFVbHL4bqAemGEADhviCXDslU7OXzMZeQqjtF7vKH_Eqb81JSbQZkqZA-ejxSx3dqimOpTRr-B2VT6ktx1zTZLh6ue49jLUeOproXtmSeVDBM7SqmzV_5JB7oCUPfCSreNozABvaoT2AbFt0EQ314Dna3H-mya47DDeBSF26BxzJnUSZj27-bgJXdLnovqtgEOVrVR58iulbhtrWYs4POWXQYr7frqHmmLXGozQn_JoQXx5IZ3QmY4bi8Mvu5L9xQVSHU_Hth5np1T1qSnosn-SUl1KlpU7X3jgEc-2OMEZVvyIWdh5f2o0wsjbeQjwU-gIhvikWQ19MXlbRC3yJrE5stpAkCKAPH7NvIekzH8mQcm1hDdpcrlPvuq9gW7XR4l1RfM2Xj-keyl3fGsg9SuR7JL5Gcxa86vAQp4bD82UK9E1Asa46yKlBF7rWNZFdaQIMjOaF_Ajv0K6tIliE7HoSBTVOnWi-3tZl4Mrv70BMCDcsViu6ihiDFT-6pCw4npTMirTOngHpAYClXrhrWBQvRwQFMQ,,&amp;data=UlNrNmk5WktYejY4cHFySjRXSWhXRkNYS1ZJTW9paUxXcG1iNmR6N2JoZUQ2TEdLcElPaXNJeTFnc0szd1NUTjh5U0RrWURPa0NjMlhyYTgyUGhYeGZ1UG5QNEJNZ2R3&amp;sign=50359a2788ad90604a700a620ce1b800&amp;keyno=8&amp;b64e=2&amp;ref=orjY4mGPRjk5boDnW0uvlrrd71vZw9kpjly_ySFdX80,&amp;l10n=ru&quot;]\"><b>vk.com</b></a><span class=path__separator>›</span><a class=\"link link_outer_yes link_theme_outer path__item i-bem\" data-bem='{\"link\":{}}' data-log-node=8904 tabindex=-1 rel=noopener target=_blank href=\"https://vk.com/rustepik\" data-counter=\"[&quot;rc&quot;,&quot;http://yandex.ru/clck/jsredir?from=yandex.ru%3Bsearch%2F%3Bweb%3B%3B&amp;text=&amp;etext=1886.43DAoI7ud_n81M26gcNPw7pVw-Xz3QfaRfC9knjTiVc.61987fba5f7763e71ecea511bf7e40e88eb15440&amp;uuid=&amp;state=H4h8uvWmGgwb5058T6dIgnhrSIsgwht3RFtKTUPA-r9e9q3tBgFekKIW8WWdtqGZil_6LSQRxINDifg0bZf5PyG1eGslX7pXWWgUxIdo06s,&amp;&amp;cst=AiuY0DBWFJ4EhnbxqmjDhe7I0te9Lb9TE4X0i-PihUx-V39Nul4TJocsbOjuFYIDB8YS6_pk3NeYXFoByoiWRNBpbLYUfXgGurU5xnC-NVtW5_5S2k-kpUShcFVbHL4bqAemGEADhviCXDslU7OXzMZeQqjtF7vKH_Eqb81JSbQZkqZA-ejxSx3dqimOpTRr-B2VT6ktx1zTZLh6ue49jLUeOproXtmSeVDBM7SqmzV_5JB7oCUPfCSreNozABvaoT2AbFt0EQ314Dna3H-mya47DDeBSF26BxzJnUSZj27-bgJXdLnovqtgEOVrVR58iulbhtrWYs4POWXQYr7frqHmmLXGozQn_JoQXx5IZ3QmY4bi8Mvu5L9xQVSHU_Hth5np1T1qSnosn-SUl1KlpU7X3jgEc-2OMEZVvyIWdh5f2o0wsjbeQjwU-gIhvikWQ19MXlbRC3yJrE5stpAkCKAPH7NvIekzH8mQcm1hDdpcrlPvuq9gW7XR4l1RfM2Xj-keyl3fGsg9SuR7JL5Gcxa86vAQp4bD82UK9E1Asa46yKlBF7rWNZFdaQIMjOaF_Ajv0K6tIliE7HoSBTVOnWi-3tZl4Mrv70BMCDcsViu6ihiDFT-6pCw4npTMirTOngHpAYClXrhrWBQvRwQFMQ,,&amp;data=UlNrNmk5WktYejY4cHFySjRXSWhXRkNYS1ZJTW9paUxMRnJGSTJ3Vk1EajNNWXhBM3A0MUFiNFRwR3VSY0l3YlpZRW54eldlZ0hXbURiOENHaW1KZF83MVVLa0lYZ3V4STVBUnBqTnRXVTAs&amp;sign=13fa342045a2080860f7794b3b5840c9&amp;keyno=8&amp;b64e=2&amp;ref=orjY4mGPRjk5boDnW0uvlrrd71vZw9kpjly_ySFdX80,&amp;l10n=ru&quot;]\">rustepik</a></div><div class=\"extralinks i-bem\" data-bem='{\"extralinks\":{}}' data-log-node=8905><div class=\"popup2 popup2_target_anchor popup2_autoclosable_yes popup2_theme_normal popup2_hiding_yes popup2_view_classic extralinks__popup i-bem\" data-bem='{\"popup2\":{\"directions\":[\"bottom-center\"]}}'><a class=\"link link_theme_normal i-bem\" data-bem='{\"link\":{}}' data-log-node=8906 rel=noopener target=_blank tabindex=0 href=\"https://hghltd.yandex.net/yandbtm?fmode=inject&amp;url=https%3A%2F%2Fvk.com%2Frustepik&amp;tld=ru&amp;lang=ru&amp;la=1534583296&amp;tm=1534880720&amp;text=stepic&amp;l10n=ru&amp;mime=html&amp;sign=de8f0df71e3e6c1f471309f3b5280142&amp;keyno=0\" data-counter=\"[&quot;w&quot;,&quot;80.22.362&quot;,&quot;-adapters=social-snippet,84=88,-source=web&quot;]\">Сохранённая копия</a><a class=\"link link_pseudo_yes link_theme_pseudo ajax i-bem\" data-bem='{\"link\":{},\"ajax\":{}}' data-log-node=8907 rel=noopener target=_blank tabindex=0 href=\"/search/?text=stepic&amp;lr=35&amp;noreask=1&amp;site=vk.com\" data-counter=\"[&quot;w&quot;,&quot;80.22.336&quot;,&quot;-adapters=social-snippet,84=88,-source=web&quot;]\">Показать ещё с сайта</a><span class=\"link link_theme_normal show-feedback i-bem\" data-bem='{\"link\":{},\"show-feedback\":{\"abuseLink\":\"https://yandex.ru/search/abuse?sign=15ce5b86ce856a65911e90502dcca848&amp;keyno=0\",\"reqid\":\"1534880720591518-87297817111631953049859-vla1-2704\"}}' data-log-node=8908 rel=noopener target=_blank tabindex=0 role=button data-counter=\"[&quot;w&quot;,&quot;80.22.1436&quot;,&quot;689=1086,-adapters=social-snippet,84=88,-source=web&quot;]\">Пожаловаться</span></div></div></div><div class=\"organic__content-wrapper clearfix\"><div class=\"text-container typo typo_text_m typo_line_m\"><div class=\"extended-text extended-text_mode_js extended-text_state_short i-bem\" data-bem='{\"extended-text\":{}}' data-log-node=8909><span class=extended-text__short>Перейдите на страницу пользователя, чтобы посмотреть публикации или отправить сообщение.<div class=paragraph><b>О себе</b>: Санкт-Петербург, Россия, Stepik.org («Стэпик») – э...</div><div class=paragraph></div> <span class=\"link link_theme_normal extended-text__toggle i-bem\" data-bem='{\"link\":{}}' data-log-node=890a tabindex=0 role=button data-counter=\"[&quot;w&quot;,&quot;254.1778.496.75&quot;,&quot;-adapters=social-snippet,689=1086,84=88,-source=web&quot;]\">Читать ещё</span></span><span class=extended-text__full>Перейдите на страницу пользователя, чтобы посмотреть публикации или отправить сообщение.<div class=paragraph><b>О себе</b>: Санкт-Петербург, Россия, Stepik.org («Стэпик») – это образовательная платформа и конструктор бесплатных открытых онлайн-курсов и уроков. Stepik.org позволяет любому зарегистрированному пользователю создавать интерактивные обучающие уроки и онлайн-курсы, Показать полностью…...</div><div class=paragraph></div> <span class=\"link link_theme_normal extended-text__toggle i-bem\" data-bem='{\"link\":{}}' data-log-node=890b tabindex=0 role=button data-counter=\"[&quot;w&quot;,&quot;254.1778.496.486&quot;,&quot;-adapters=social-snippet,689=1086,84=88,-source=web&quot;]\">Скрыть</span></span></div></div></div></div><div class=\"wrapper__cell wrapper__cell_type_thumb\"><a class=\"link link_theme_normal organic__thumb i-bem\" data-bem='{\"link\":{}}' data-log-node=890c rel=noopener target=_blank tabindex=0 href=\"https://vk.com/rustepik\" data-counter=\"[&quot;rc&quot;,&quot;http://yandex.ru/clck/jsredir?from=yandex.ru%3Bsearch%2F%3Bweb%3B%3B&amp;text=&amp;etext=1886.43DAoI7ud_n81M26gcNPw7pVw-Xz3QfaRfC9knjTiVc.61987fba5f7763e71ecea511bf7e40e88eb15440&amp;uuid=&amp;state=H4h8uvWmGgwb5058T6dIgibWg1ymE3JCxkv7ZrWtO2YBtq9_oIfmwfJWhVuIg2tH3gYjymIZuTF8IrR67-3lLGlKYyTndVHJ&amp;&amp;cst=AiuY0DBWFJ4EhnbxqmjDhe7I0te9Lb9TE4X0i-PihUx-V39Nul4TJocsbOjuFYIDB8YS6_pk3NeYXFoByoiWRNBpbLYUfXgGurU5xnC-NVtW5_5S2k-kpUShcFVbHL4bqAemGEADhviCXDslU7OXzMZeQqjtF7vKH_Eqb81JSbQZkqZA-ejxSx3dqimOpTRr-B2VT6ktx1zTZLh6ue49jLUeOproXtmSeVDBM7SqmzV_5JB7oCUPfCSreNozABvaoT2AbFt0EQ314Dna3H-mya47DDeBSF26BxzJnUSZj27-bgJXdLnovqtgEOVrVR58iulbhtrWYs4POWXQYr7frqHmmLXGozQn_JoQXx5IZ3QmY4bi8Mvu5L9xQVSHU_Hth5np1T1qSnosn-SUl1KlpU7X3jgEc-2OMEZVvyIWdh5f2o0wsjbeQjwU-gIhvikWQ19MXlbRC3yJrE5stpAkCKAPH7NvIekzH8mQcm1hDdpcrlPvuq9gW7XR4l1RfM2Xj-keyl3fGsg9SuR7JL5Gcxa86vAQp4bD82UK9E1Asa46yKlBF7rWNZFdaQIMjOaF_Ajv0K6tIliE7HoSBTVOnWi-3tZl4Mrv70BMCDcsViu6ihiDFT-6pCw4npTMirTOngHpAYClXrhrWBQvRwQFMQ,,&amp;data=UlNrNmk5WktYejY4cHFySjRXSWhXRkNYS1ZJTW9paUxMRnJGSTJ3Vk1EajNNWXhBM3A0MUFiNFRwR3VSY0l3YlpZRW54eldlZ0hXbURiOENHaW1KZF83MVVLa0lYZ3V4STVBUnBqTnRXVTAs&amp;sign=47e4821fc46546342dd7e613e56a1b59&amp;keyno=8&amp;b64e=2&amp;ref=orjY4mGPRjk5boDnW0uvlrrd71vZw9kpjly_ySFdX80,&amp;l10n=ru&quot;]\"><div class=\"thumb thumb_hover_fade thumb_border_yes thumb_rounded_yes thumb_gravity_top grid__col grid__col_width_all grid__col_mode_static\"><div class=ratio style=\"padding-top:100.00%;\"><div class=\"image image_type_cover image_placeholder_yes thumb__image grid__col grid__col_width_all grid__col_mode_static\" style=\"background-image:url(https://avatars.mds.yandex.net/get-profile-avatar/58340/people.0223929dfd669592fa4db116feae36e5/normal);\" data-rCid=2248></div></div><div class=thumb__handle></div></div></a></div></div></div><li class=serp-item data-cid=4 data-log-node=890d><div class=\"organic typo typo_text_m typo_line_s\"><h2 class=\"organic__title-wrapper typo typo_text_l typo_line_m\"><div class=a11y-hidden>5</div><a class=\"link link_theme_normal organic__url link_cropped_no i-bem\" data-bem='{\"link\":{}}' accesskey=5 tabindex=2 data-log-node=890e rel=noopener target=_blank href=\"https://www.youtube.com/channel/UCiIu2rLB978wLGY5T_6oluw\" data-counter=\"[&quot;rc&quot;,&quot;http://yandex.ru/clck/jsredir?from=yandex.ru%3Bsearch%2F%3Bweb%3B%3B&amp;text=&amp;etext=1886.43DAoI7ud_n81M26gcNPw7pVw-Xz3QfaRfC9knjTiVc.61987fba5f7763e71ecea511bf7e40e88eb15440&amp;uuid=&amp;state=PEtFfuTeVD5kpHnK9lio9WCnKp0DidhEcUPEXJqX-ir0HjjIp4PsdlnuAs_ITuTT2jdzAsiKkb7bjFWVKUi2CA,,&amp;&amp;cst=AiuY0DBWFJ4EhnbxqmjDhe7I0te9Lb9TE4X0i-PihUx-V39Nul4TJocsbOjuFYIDB8YS6_pk3NeYXFoByoiWRNBpbLYUfXgGurU5xnC-NVtW5_5S2k-kpUShcFVbHL4bqAemGEADhviCXDslU7OXzMZeQqjtF7vKH_Eqb81JSbQZkqZA-ejxSx3dqimOpTRr-B2VT6ktx1zTZLh6ue49jLUeOproXtmSeVDBM7SqmzV_5JB7oCUPfCSreNozABvaoT2AbFt0EQ314Dna3H-mya47DDeBSF26BxzJnUSZj27-bgJXdLnovqtgEOVrVR58iulbhtrWYs4POWXQYr7frqHmmLXGozQn_JoQXx5IZ3QmY4bi8Mvu5L9xQVSHU_Hth5np1T1qSnosn-SUl1KlpU7X3jgEc-2OMEZVvyIWdh5f2o0wsjbeQjwU-gIhvikWQ19MXlbRC3yJrE5stpAkCKAPH7NvIekzH8mQcm1hDdpcrlPvuq9gW7XR4l1RfM2Xj-keyl3fGsg9SuR7JL5Gcxa86vAQp4bD82UK9E1Asa46yKlBF7rWNZFdaQIMjOaF_Ajv0K6tIliE7HoSBTVOnWi-3tZl4Mrv70BMCDcsViu6ihiDFT-6pCw4npTMirTOngHpAYClXrhrWBQvRwQFMQ,,&amp;data=UlNrNmk5WktYejY4cHFySjRXSWhXTVdnWUhmLU5pZzdzUlpIYS1HZ1ZIS2hBbHo0X1l0TUNmTVV2ZmpzTGhwM1BxUFFfUk9nZHpaejZiazVCTWpyUGxXTzdYTWVlUXdvY1M2Qk11T3ZzcWRVOWllWGZqMVdVQUhOUG40bm1kdXFEN3FFTzRSTDF4VGkxTGI3aUkwSURRLCw,&amp;sign=dfdf7fa82499f2a706ef9380fdeb4463&amp;keyno=8&amp;b64e=2&amp;ref=orjY4mGPRjk5boDnW0uvlrrd71vZw9kpjly_ySFdX80,&amp;l10n=ru&quot;]\"><div class=\"favicon favicon_page_0\"><div class=favicon__icon style=\"background-position:0 -64px;\"></div></div><div class=organic__url-text><b class=\"needsclick\">Stepik</b> - YouTube</div></a></h2><div class=\"organic__subtitle typo typo_type_greenurl\"><div class=\"path organic__path\" data-log-node=890f><a class=\"link link_outer_yes link_theme_outer path__item i-bem\" data-bem='{\"link\":{}}' data-log-node=890g tabindex=-1 rel=noopener target=_blank href=\"https://www.youtube.com/\" data-counter=\"[&quot;rc&quot;,&quot;http://yandex.ru/clck/jsredir?from=yandex.ru%3Bsearch%2F%3Bweb%3B%3B&amp;text=&amp;etext=1886.43DAoI7ud_n81M26gcNPw7pVw-Xz3QfaRfC9knjTiVc.61987fba5f7763e71ecea511bf7e40e88eb15440&amp;uuid=&amp;state=PEtFfuTeVD4jaxywoSUvtJXex15Wcbo_cgtmR8o9DgnSNQ3f1XfvGB9gPa3sfq-b&amp;&amp;cst=AiuY0DBWFJ4EhnbxqmjDhe7I0te9Lb9TE4X0i-PihUx-V39Nul4TJocsbOjuFYIDB8YS6_pk3NeYXFoByoiWRNBpbLYUfXgGurU5xnC-NVtW5_5S2k-kpUShcFVbHL4bqAemGEADhviCXDslU7OXzMZeQqjtF7vKH_Eqb81JSbQZkqZA-ejxSx3dqimOpTRr-B2VT6ktx1zTZLh6ue49jLUeOproXtmSeVDBM7SqmzV_5JB7oCUPfCSreNozABvaoT2AbFt0EQ314Dna3H-mya47DDeBSF26BxzJnUSZj27-bgJXdLnovqtgEOVrVR58iulbhtrWYs4POWXQYr7frqHmmLXGozQn_JoQXx5IZ3QmY4bi8Mvu5L9xQVSHU_Hth5np1T1qSnosn-SUl1KlpU7X3jgEc-2OMEZVvyIWdh5f2o0wsjbeQjwU-gIhvikWQ19MXlbRC3yJrE5stpAkCKAPH7NvIekzH8mQcm1hDdpcrlPvuq9gW7XR4l1RfM2Xj-keyl3fGsg9SuR7JL5Gcxa86vAQp4bD82UK9E1Asa46yKlBF7rWNZFdaQIMjOaF_Ajv0K6tIliE7HoSBTVOnWi-3tZl4Mrv70BMCDcsViu6ihiDFT-6pCw4npTMirTOngHpAYClXrhrWBQvRwQFMQ,,&amp;data=UlNrNmk5WktYejY4cHFySjRXSWhXTVdnWUhmLU5pZzdzUlpIYS1HZ1ZISUpLOFhMNGNHcUdNRFE0WDJZWUFROXhYZlY2ZVlPVUdOMHlTV1haYlh4Mk9uajJKY3V2U01EV2d4UHo4aVF3Njgs&amp;sign=042ba1945429bf73a864c146207dcb8c&amp;keyno=8&amp;b64e=2&amp;ref=orjY4mGPRjk5boDnW0uvlrrd71vZw9kpjly_ySFdX80,&amp;l10n=ru&quot;]\"><b>youtube.com</b></a><span class=path__separator>›</span><a class=\"link link_outer_yes link_theme_outer path__item i-bem\" data-bem='{\"link\":{}}' data-log-node=890h tabindex=-1 rel=noopener target=_blank href=\"https://www.youtube.com/channel/UCiIu2rLB978wLGY5T_6oluw\" data-counter=\"[&quot;rc&quot;,&quot;http://yandex.ru/clck/jsredir?from=yandex.ru%3Bsearch%2F%3Bweb%3B%3B&amp;text=&amp;etext=1886.43DAoI7ud_n81M26gcNPw7pVw-Xz3QfaRfC9knjTiVc.61987fba5f7763e71ecea511bf7e40e88eb15440&amp;uuid=&amp;state=PEtFfuTeVD4jaxywoSUvtJXex15Wcbo_vbMoE7vOZQD34M-6qwowXOjTYPPr3JhC&amp;&amp;cst=AiuY0DBWFJ4EhnbxqmjDhe7I0te9Lb9TE4X0i-PihUx-V39Nul4TJocsbOjuFYIDB8YS6_pk3NeYXFoByoiWRNBpbLYUfXgGurU5xnC-NVtW5_5S2k-kpUShcFVbHL4bqAemGEADhviCXDslU7OXzMZeQqjtF7vKH_Eqb81JSbQZkqZA-ejxSx3dqimOpTRr-B2VT6ktx1zTZLh6ue49jLUeOproXtmSeVDBM7SqmzV_5JB7oCUPfCSreNozABvaoT2AbFt0EQ314Dna3H-mya47DDeBSF26BxzJnUSZj27-bgJXdLnovqtgEOVrVR58iulbhtrWYs4POWXQYr7frqHmmLXGozQn_JoQXx5IZ3QmY4bi8Mvu5L9xQVSHU_Hth5np1T1qSnosn-SUl1KlpU7X3jgEc-2OMEZVvyIWdh5f2o0wsjbeQjwU-gIhvikWQ19MXlbRC3yJrE5stpAkCKAPH7NvIekzH8mQcm1hDdpcrlPvuq9gW7XR4l1RfM2Xj-keyl3fGsg9SuR7JL5Gcxa86vAQp4bD82UK9E1Asa46yKlBF7rWNZFdaQIMjOaF_Ajv0K6tIliE7HoSBTVOnWi-3tZl4Mrv70BMCDcsViu6ihiDFT-6pCw4npTMirTOngHpAYClXrhrWBQvRwQFMQ,,&amp;data=UlNrNmk5WktYejY4cHFySjRXSWhXTVdnWUhmLU5pZzdzUlpIYS1HZ1ZIS2hBbHo0X1l0TUNmTVV2ZmpzTGhwM1BxUFFfUk9nZHpaejZiazVCTWpyUGxXTzdYTWVlUXdvY1M2Qk11T3ZzcWRVOWllWGZqMVdVQUhOUG40bm1kdXFEN3FFTzRSTDF4VGkxTGI3aUkwSURRLCw,&amp;sign=5dc64756be8740a9f2e424564d371175&amp;keyno=8&amp;b64e=2&amp;ref=orjY4mGPRjk5boDnW0uvlrrd71vZw9kpjly_ySFdX80,&amp;l10n=ru&quot;]\">channel/UCiIu2rLB978wLGY5T_6oluw</a></div><div class=\"extralinks i-bem\" data-bem='{\"extralinks\":{}}' data-log-node=890i><div class=\"popup2 popup2_target_anchor popup2_autoclosable_yes popup2_theme_normal popup2_hiding_yes popup2_view_classic extralinks__popup i-bem\" data-bem='{\"popup2\":{\"directions\":[\"bottom-center\"]}}'><a class=\"link link_theme_normal i-bem\" data-bem='{\"link\":{}}' data-log-node=890j rel=noopener target=_blank tabindex=0 href=\"https://hghltd.yandex.net/yandbtm?fmode=inject&amp;url=https%3A%2F%2Fwww.youtube.com%2Fchannel%2FUCiIu2rLB978wLGY5T_6oluw&amp;tld=ru&amp;lang=ru&amp;la=1534576768&amp;tm=1534880720&amp;text=stepic&amp;l10n=ru&amp;mime=html&amp;sign=27e7c76289d941539e497ef4a26a5ef4&amp;keyno=0\" data-counter=\"[&quot;w&quot;,&quot;80.22.362&quot;,&quot;84=89,-source=web&quot;]\">Сохранённая копия</a><a class=\"link link_pseudo_yes link_theme_pseudo ajax i-bem\" data-bem='{\"link\":{},\"ajax\":{}}' data-log-node=890k rel=noopener target=_blank tabindex=0 href=\"/search/?text=stepic&amp;lr=35&amp;noreask=1&amp;site=www.youtube.com\" data-counter=\"[&quot;w&quot;,&quot;80.22.336&quot;,&quot;84=89,-source=web&quot;]\">Показать ещё с сайта</a><span class=\"link link_theme_normal show-feedback i-bem\" data-bem='{\"link\":{},\"show-feedback\":{\"abuseLink\":\"https://yandex.ru/search/abuse?sign=15ce5b86ce856a65911e90502dcca848&amp;keyno=0\",\"reqid\":\"1534880720591518-87297817111631953049859-vla1-2704\"}}' data-log-node=890l rel=noopener target=_blank tabindex=0 role=button data-counter=\"[&quot;w&quot;,&quot;80.22.1436&quot;,&quot;689=1086,84=89,-source=web&quot;]\">Пожаловаться</span></div></div></div><div class=\"organic__content-wrapper clearfix\"><div class=\"text-container typo typo_text_m typo_line_m organic__text\"><b>Stepik</b> («Стэпик») – это образовательная платформа и конструктор бесплатных открытых онлайн-курсов и уроков.<br></div></div></div><li class=serp-item data-cid=5 data-log-node=890m><div class=\"organic typo typo_text_m typo_line_s\"><h2 class=\"organic__title-wrapper typo typo_text_l typo_line_m\"><div class=a11y-hidden>6</div><a class=\"link link_theme_normal organic__url link_cropped_no i-bem\" data-bem='{\"link\":{}}' accesskey=6 tabindex=2 data-log-node=890n rel=noopener target=_blank href=\"https://habr.com/company/stepic/\" data-counter=\"[&quot;rc&quot;,&quot;http://yandex.ru/clck/jsredir?from=yandex.ru%3Bsearch%2F%3Bweb%3B%3B&amp;text=&amp;etext=1886.43DAoI7ud_n81M26gcNPw7pVw-Xz3QfaRfC9knjTiVc.61987fba5f7763e71ecea511bf7e40e88eb15440&amp;uuid=&amp;state=PEtFfuTeVD5kpHnK9lio9dFa2ePbDzX7kPpTCH_rtQkH2bBEi5M--bO-cYhaTVRUk7cpnZKuUkn4Q-BcqowjUZf1Ip58d3CQ&amp;&amp;cst=AiuY0DBWFJ4EhnbxqmjDhe7I0te9Lb9TE4X0i-PihUx-V39Nul4TJocsbOjuFYIDB8YS6_pk3NeYXFoByoiWRNBpbLYUfXgGurU5xnC-NVtW5_5S2k-kpUShcFVbHL4bqAemGEADhviCXDslU7OXzMZeQqjtF7vKH_Eqb81JSbQZkqZA-ejxSx3dqimOpTRr-B2VT6ktx1zTZLh6ue49jLUeOproXtmSeVDBM7SqmzV_5JB7oCUPfCSreNozABvaoT2AbFt0EQ314Dna3H-mya47DDeBSF26BxzJnUSZj27-bgJXdLnovqtgEOVrVR58iulbhtrWYs4POWXQYr7frqHmmLXGozQn_JoQXx5IZ3QmY4bi8Mvu5L9xQVSHU_Hth5np1T1qSnosn-SUl1KlpU7X3jgEc-2OMEZVvyIWdh5f2o0wsjbeQjwU-gIhvikWQ19MXlbRC3yJrE5stpAkCKAPH7NvIekzH8mQcm1hDdpcrlPvuq9gW7XR4l1RfM2Xj-keyl3fGsg9SuR7JL5Gcxa86vAQp4bD82UK9E1Asa46yKlBF7rWNZFdaQIMjOaF_Ajv0K6tIliE7HoSBTVOnWi-3tZl4Mrv70BMCDcsViu6ihiDFT-6pCw4npTMirTOngHpAYClXrhrWBQvRwQFMQ,,&amp;data=UlNrNmk5WktYejY4cHFySjRXSWhXR0RMeGtWVHpUTWgxaXpKZTd5SV9sQlZXTmwyOTB6d2NTSUV0djhvQUpBVnlSc3E4Q2FWN2dJRlhDX0JKSzBLNEZvNDRabzVXQWNwOFZhVHVYaUtNVzFjMXV2SVR5YkE2QSws&amp;sign=3b85c6de2a335a809cadeb454228f355&amp;keyno=8&amp;b64e=2&amp;ref=orjY4mGPRjk5boDnW0uvlrrd71vZw9kpjly_ySFdX80,&amp;l10n=ru&quot;]\"><div class=\"favicon favicon_page_0\"><div class=favicon__icon style=\"background-position:0 -80px;\"></div></div><div class=organic__url-text>Блог компании <b class=\"needsclick\">Stepik</b>.org / Хабр</div></a></h2><div class=\"organic__subtitle typo typo_type_greenurl\"><div class=\"path organic__path\" data-log-node=890o><a class=\"link link_outer_yes link_theme_outer path__item i-bem\" data-bem='{\"link\":{}}' data-log-node=890p tabindex=-1 rel=noopener target=_blank href=\"https://habr.com/\" data-counter=\"[&quot;rc&quot;,&quot;http://yandex.ru/clck/jsredir?from=yandex.ru%3Bsearch%2F%3Bweb%3B%3B&amp;text=&amp;etext=1886.43DAoI7ud_n81M26gcNPw7pVw-Xz3QfaRfC9knjTiVc.61987fba5f7763e71ecea511bf7e40e88eb15440&amp;uuid=&amp;state=PEtFfuTeVD4jaxywoSUvtB2i7c0_vxGd2E9eR729KuIQGpPxcKWQSHSdfi63Is_-FTQakDLX4Cmc-B9SGBtn3LgBdOC4dBCg&amp;&amp;cst=AiuY0DBWFJ4EhnbxqmjDhe7I0te9Lb9TE4X0i-PihUx-V39Nul4TJocsbOjuFYIDB8YS6_pk3NeYXFoByoiWRNBpbLYUfXgGurU5xnC-NVtW5_5S2k-kpUShcFVbHL4bqAemGEADhviCXDslU7OXzMZeQqjtF7vKH_Eqb81JSbQZkqZA-ejxSx3dqimOpTRr-B2VT6ktx1zTZLh6ue49jLUeOproXtmSeVDBM7SqmzV_5JB7oCUPfCSreNozABvaoT2AbFt0EQ314Dna3H-mya47DDeBSF26BxzJnUSZj27-bgJXdLnovqtgEOVrVR58iulbhtrWYs4POWXQYr7frqHmmLXGozQn_JoQXx5IZ3QmY4bi8Mvu5L9xQVSHU_Hth5np1T1qSnosn-SUl1KlpU7X3jgEc-2OMEZVvyIWdh5f2o0wsjbeQjwU-gIhvikWQ19MXlbRC3yJrE5stpAkCKAPH7NvIekzH8mQcm1hDdpcrlPvuq9gW7XR4l1RfM2Xj-keyl3fGsg9SuR7JL5Gcxa86vAQp4bD82UK9E1Asa46yKlBF7rWNZFdaQIMjOaF_Ajv0K6tIliE7HoSBTVOnWi-3tZl4Mrv70BMCDcsViu6ihiDFT-6pCw4npTMirTOngHpAYClXrhrWBQvRwQFMQ,,&amp;data=UlNrNmk5WktYejY4cHFySjRXSWhXR0RMeGtWVHpUTWhPVjdOcFNJSHhmaVJEb3llWG1ZRnlCeDZVUFFlaTFTV1YzYWEwMU5iRkIteHNxOHMwdm05U2EwSUdfN1BMdzIt&amp;sign=df43cfb3cf58bfb0af0029e19510bf6a&amp;keyno=8&amp;b64e=2&amp;ref=orjY4mGPRjk5boDnW0uvlrrd71vZw9kpjly_ySFdX80,&amp;l10n=ru&quot;]\"><b>habr.com</b></a><span class=path__separator>›</span><a class=\"link link_outer_yes link_theme_outer path__item i-bem\" data-bem='{\"link\":{}}' data-log-node=890q tabindex=-1 rel=noopener target=_blank href=\"https://habr.com/company/stepic/\" data-counter=\"[&quot;rc&quot;,&quot;http://yandex.ru/clck/jsredir?from=yandex.ru%3Bsearch%2F%3Bweb%3B%3B&amp;text=&amp;etext=1886.43DAoI7ud_n81M26gcNPw7pVw-Xz3QfaRfC9knjTiVc.61987fba5f7763e71ecea511bf7e40e88eb15440&amp;uuid=&amp;state=PEtFfuTeVD4jaxywoSUvtB2i7c0_vxGd2E9eR729KuIQGpPxcKWQSHSdfi63Is_-DnbKz8oeZi1k_ZcZDL25R4k_r_oA_9fq&amp;&amp;cst=AiuY0DBWFJ4EhnbxqmjDhe7I0te9Lb9TE4X0i-PihUx-V39Nul4TJocsbOjuFYIDB8YS6_pk3NeYXFoByoiWRNBpbLYUfXgGurU5xnC-NVtW5_5S2k-kpUShcFVbHL4bqAemGEADhviCXDslU7OXzMZeQqjtF7vKH_Eqb81JSbQZkqZA-ejxSx3dqimOpTRr-B2VT6ktx1zTZLh6ue49jLUeOproXtmSeVDBM7SqmzV_5JB7oCUPfCSreNozABvaoT2AbFt0EQ314Dna3H-mya47DDeBSF26BxzJnUSZj27-bgJXdLnovqtgEOVrVR58iulbhtrWYs4POWXQYr7frqHmmLXGozQn_JoQXx5IZ3QmY4bi8Mvu5L9xQVSHU_Hth5np1T1qSnosn-SUl1KlpU7X3jgEc-2OMEZVvyIWdh5f2o0wsjbeQjwU-gIhvikWQ19MXlbRC3yJrE5stpAkCKAPH7NvIekzH8mQcm1hDdpcrlPvuq9gW7XR4l1RfM2Xj-keyl3fGsg9SuR7JL5Gcxa86vAQp4bD82UK9E1Asa46yKlBF7rWNZFdaQIMjOaF_Ajv0K6tIliE7HoSBTVOnWi-3tZl4Mrv70BMCDcsViu6ihiDFT-6pCw4npTMirTOngHpAYClXrhrWBQvRwQFMQ,,&amp;data=UlNrNmk5WktYejY4cHFySjRXSWhXR0RMeGtWVHpUTWgxaXpKZTd5SV9sQlZXTmwyOTB6d2NTSUV0djhvQUpBVnlSc3E4Q2FWN2dJRlhDX0JKSzBLNEZvNDRabzVXQWNwOFZhVHVYaUtNVzFjMXV2SVR5YkE2QSws&amp;sign=856c39288109d139013ea1dd48727765&amp;keyno=8&amp;b64e=2&amp;ref=orjY4mGPRjk5boDnW0uvlrrd71vZw9kpjly_ySFdX80,&amp;l10n=ru&quot;]\">company/stepic/</a></div><div class=\"extralinks i-bem\" data-bem='{\"extralinks\":{}}' data-log-node=890r><div class=\"popup2 popup2_target_anchor popup2_autoclosable_yes popup2_theme_normal popup2_hiding_yes popup2_view_classic extralinks__popup i-bem\" data-bem='{\"popup2\":{\"directions\":[\"bottom-center\"]}}'><a class=\"link link_theme_normal i-bem\" data-bem='{\"link\":{}}' data-log-node=890s rel=noopener target=_blank tabindex=0 href=\"https://hghltd.yandex.net/yandbtm?fmode=inject&amp;url=https%3A%2F%2Fhabr.com%2Fcompany%2Fstepic%2F&amp;tld=ru&amp;lang=ru&amp;la=1534182784&amp;tm=1534880720&amp;text=stepic&amp;l10n=ru&amp;mime=html&amp;sign=f92cfe97d0aa83a67402709e2d9f1a56&amp;keyno=0\" data-counter=\"[&quot;w&quot;,&quot;80.22.362&quot;,&quot;-adapters=extended-snippet,84=90,-source=web&quot;]\">Сохранённая копия</a><a class=\"link link_pseudo_yes link_theme_pseudo ajax i-bem\" data-bem='{\"link\":{},\"ajax\":{}}' data-log-node=890t rel=noopener target=_blank tabindex=0 href=\"/search/?text=stepic&amp;lr=35&amp;noreask=1&amp;site=habr.com\" data-counter=\"[&quot;w&quot;,&quot;80.22.336&quot;,&quot;-adapters=extended-snippet,84=90,-source=web&quot;]\">Показать ещё с сайта</a><span class=\"link link_theme_normal show-feedback i-bem\" data-bem='{\"link\":{},\"show-feedback\":{\"abuseLink\":\"https://yandex.ru/search/abuse?sign=15ce5b86ce856a65911e90502dcca848&amp;keyno=0\",\"reqid\":\"1534880720591518-87297817111631953049859-vla1-2704\"}}' data-log-node=890u rel=noopener target=_blank tabindex=0 role=button data-counter=\"[&quot;w&quot;,&quot;80.22.1436&quot;,&quot;689=1086,-adapters=extended-snippet,84=90,-source=web&quot;]\">Пожаловаться</span></div></div></div><div class=\"organic__content-wrapper clearfix\"><div class=\"text-container typo typo_text_m typo_line_m\"><div class=\"extended-text extended-text_mode_js extended-text_state_short i-bem\" data-bem='{\"extended-text\":{}}' data-log-node=890v><span class=extended-text__short>Блог компании <b>Stepik</b>.org. <b>Stepik</b> — на данный момент единственная русскоязычная образовательная онлайн-платформа... <span class=\"link link_theme_normal extended-text__toggle i-bem\" data-bem='{\"link\":{}}' data-log-node=890w tabindex=0 role=button data-counter=\"[&quot;w&quot;,&quot;80.22.75&quot;,&quot;-adapters=extended-snippet,689=1086,84=90,-source=web&quot;]\">Читать ещё</span></span><span class=extended-text__full>Блог компании <b>Stepik</b>.org. <b>Stepik</b> — на данный момент единственная русскоязычная образовательная онлайн-платформа, на который любой желающий может создать экзамен с прокторингом (онлайн-сопровождением и контролем учащегося). Притом такой экзамен может иметь заданную продолжительность, ограниченное время на прохождение, точную дату начала. <span class=\"link link_theme_normal extended-text__toggle i-bem\" data-bem='{\"link\":{}}' data-log-node=890x tabindex=0 role=button data-counter=\"[&quot;w&quot;,&quot;80.22.486&quot;,&quot;-adapters=extended-snippet,689=1086,84=90,-source=web&quot;]\">Скрыть</span></span></div></div></div></div><li class=serp-item data-cid=6 data-log-node=890y><div class=\"organic typo typo_text_m typo_line_s\"><h2 class=\"organic__title-wrapper typo typo_text_l typo_line_m\"><div class=a11y-hidden>7</div><a class=\"link link_theme_normal organic__url link_cropped_no i-bem\" data-bem='{\"link\":{}}' accesskey=7 tabindex=2 data-log-node=890z rel=noopener target=_blank href=\"https://www.facebook.com/rustepik\" data-counter=\"[&quot;rc&quot;,&quot;http://yandex.ru/clck/jsredir?from=yandex.ru%3Bsearch%2F%3Bweb%3B%3B&amp;text=&amp;etext=1886.43DAoI7ud_n81M26gcNPw7pVw-Xz3QfaRfC9knjTiVc.61987fba5f7763e71ecea511bf7e40e88eb15440&amp;uuid=&amp;state=PEtFfuTeVD5kpHnK9lio9dFa2ePbDzX7fH_cbK-eu2V8J4cbFpzDXW9rYi7SZhqEJIq8fXhATr5ZDzTC0wt8G0bGXKvFv_wpO0WANF00ONY,&amp;&amp;cst=AiuY0DBWFJ4EhnbxqmjDhe7I0te9Lb9TE4X0i-PihUx-V39Nul4TJocsbOjuFYIDB8YS6_pk3NeYXFoByoiWRNBpbLYUfXgGurU5xnC-NVtW5_5S2k-kpUShcFVbHL4bqAemGEADhviCXDslU7OXzMZeQqjtF7vKH_Eqb81JSbQZkqZA-ejxSx3dqimOpTRr-B2VT6ktx1zTZLh6ue49jLUeOproXtmSeVDBM7SqmzV_5JB7oCUPfCSreNozABvaoT2AbFt0EQ314Dna3H-mya47DDeBSF26BxzJnUSZj27-bgJXdLnovqtgEOVrVR58iulbhtrWYs4POWXQYr7frqHmmLXGozQn_JoQXx5IZ3QmY4bi8Mvu5L9xQVSHU_Hth5np1T1qSnosn-SUl1KlpU7X3jgEc-2OMEZVvyIWdh5f2o0wsjbeQjwU-gIhvikWQ19MXlbRC3yJrE5stpAkCKAPH7NvIekzH8mQcm1hDdpcrlPvuq9gW7XR4l1RfM2Xj-keyl3fGsg9SuR7JL5Gcxa86vAQp4bD82UK9E1Asa46yKlBF7rWNZFdaQIMjOaF_Ajv0K6tIliE7HoSBTVOnWi-3tZl4Mrv70BMCDcsViu6ihiDFT-6pCw4npTMirTOngHpAYClXrhrWBQvRwQFMQ,,&amp;data=UlNrNmk5WktYejY4cHFySjRXSWhXQlhUMGhyZ0JSOU9oZjV0LXNkU0dZQjkydTBpVzFUaEdSQTFYRWFEM0ZKbjdnbEk3QVBwQ0pkVTJkOFJkS0RyeGtUWG8zaDUxa1pDSWpSQ25UYjUxSDY1dkctZ3dnV1BNdyws&amp;sign=d46a1ccc74b2668eb1b5d001b41511b6&amp;keyno=8&amp;b64e=2&amp;ref=orjY4mGPRjk5boDnW0uvlrrd71vZw9kpjly_ySFdX80,&amp;l10n=ru&quot;]\"><div class=\"favicon favicon_page_0\"><div class=favicon__icon style=\"background-position:0 -96px;\"></div></div><div class=organic__url-text><b class=\"needsclick\">Stepik</b>. Бесплатные онлайн-курсы - Home | Facebook</div></a></h2><div class=\"organic__subtitle typo typo_type_greenurl\"><div class=\"path organic__path\" data-log-node=8910><a class=\"link link_outer_yes link_theme_outer path__item i-bem\" data-bem='{\"link\":{}}' data-log-node=8911 tabindex=-1 rel=noopener target=_blank href=\"https://www.facebook.com/\" data-counter=\"[&quot;rc&quot;,&quot;http://yandex.ru/clck/jsredir?from=yandex.ru%3Bsearch%2F%3Bweb%3B%3B&amp;text=&amp;etext=1886.43DAoI7ud_n81M26gcNPw7pVw-Xz3QfaRfC9knjTiVc.61987fba5f7763e71ecea511bf7e40e88eb15440&amp;uuid=&amp;state=PEtFfuTeVD4jaxywoSUvtB2i7c0_vxGdjWT7Elao4JUWxZ-v0OIKpCInCIWESFN3UHbm4v3UYupETHesyjCjK1mHbyQn701B0QLZCbevQAzYIvNjDLZG-w,,&amp;&amp;cst=AiuY0DBWFJ4EhnbxqmjDhe7I0te9Lb9TE4X0i-PihUx-V39Nul4TJocsbOjuFYIDB8YS6_pk3NeYXFoByoiWRNBpbLYUfXgGurU5xnC-NVtW5_5S2k-kpUShcFVbHL4bqAemGEADhviCXDslU7OXzMZeQqjtF7vKH_Eqb81JSbQZkqZA-ejxSx3dqimOpTRr-B2VT6ktx1zTZLh6ue49jLUeOproXtmSeVDBM7SqmzV_5JB7oCUPfCSreNozABvaoT2AbFt0EQ314Dna3H-mya47DDeBSF26BxzJnUSZj27-bgJXdLnovqtgEOVrVR58iulbhtrWYs4POWXQYr7frqHmmLXGozQn_JoQXx5IZ3QmY4bi8Mvu5L9xQVSHU_Hth5np1T1qSnosn-SUl1KlpU7X3jgEc-2OMEZVvyIWdh5f2o0wsjbeQjwU-gIhvikWQ19MXlbRC3yJrE5stpAkCKAPH7NvIekzH8mQcm1hDdpcrlPvuq9gW7XR4l1RfM2Xj-keyl3fGsg9SuR7JL5Gcxa86vAQp4bD82UK9E1Asa46yKlBF7rWNZFdaQIMjOaF_Ajv0K6tIliE7HoSBTVOnWi-3tZl4Mrv70BMCDcsViu6ihiDFT-6pCw4npTMirTOngHpAYClXrhrWBQvRwQFMQ,,&amp;data=UlNrNmk5WktYejY4cHFySjRXSWhXQlhUMGhyZ0JSOU9oZjV0LXNkU0dZQU8tSUlkS3czLXhJZW5qY1V4UXFqWDNLNUJMSTJ3d2k1SmI2bDFueDdNMnVzcnh0X3c0d2tldEU2Uy1kcHk4SkEs&amp;sign=85293c403f3c53139da158a57f034884&amp;keyno=8&amp;b64e=2&amp;ref=orjY4mGPRjk5boDnW0uvlrrd71vZw9kpjly_ySFdX80,&amp;l10n=ru&quot;]\"><b>facebook.com</b></a><span class=path__separator>›</span><a class=\"link link_outer_yes link_theme_outer path__item i-bem\" data-bem='{\"link\":{}}' data-log-node=8912 tabindex=-1 rel=noopener target=_blank href=\"https://www.facebook.com/rustepik\" data-counter=\"[&quot;rc&quot;,&quot;http://yandex.ru/clck/jsredir?from=yandex.ru%3Bsearch%2F%3Bweb%3B%3B&amp;text=&amp;etext=1886.43DAoI7ud_n81M26gcNPw7pVw-Xz3QfaRfC9knjTiVc.61987fba5f7763e71ecea511bf7e40e88eb15440&amp;uuid=&amp;state=PEtFfuTeVD4jaxywoSUvtB2i7c0_vxGdjWT7Elao4JUWxZ-v0OIKpCInCIWESFN3UHbm4v3UYupETHesyjCjKwTGGVns6h4DGu5d34d0JuC9bb4KtlhMAQ,,&amp;&amp;cst=AiuY0DBWFJ4EhnbxqmjDhe7I0te9Lb9TE4X0i-PihUx-V39Nul4TJocsbOjuFYIDB8YS6_pk3NeYXFoByoiWRNBpbLYUfXgGurU5xnC-NVtW5_5S2k-kpUShcFVbHL4bqAemGEADhviCXDslU7OXzMZeQqjtF7vKH_Eqb81JSbQZkqZA-ejxSx3dqimOpTRr-B2VT6ktx1zTZLh6ue49jLUeOproXtmSeVDBM7SqmzV_5JB7oCUPfCSreNozABvaoT2AbFt0EQ314Dna3H-mya47DDeBSF26BxzJnUSZj27-bgJXdLnovqtgEOVrVR58iulbhtrWYs4POWXQYr7frqHmmLXGozQn_JoQXx5IZ3QmY4bi8Mvu5L9xQVSHU_Hth5np1T1qSnosn-SUl1KlpU7X3jgEc-2OMEZVvyIWdh5f2o0wsjbeQjwU-gIhvikWQ19MXlbRC3yJrE5stpAkCKAPH7NvIekzH8mQcm1hDdpcrlPvuq9gW7XR4l1RfM2Xj-keyl3fGsg9SuR7JL5Gcxa86vAQp4bD82UK9E1Asa46yKlBF7rWNZFdaQIMjOaF_Ajv0K6tIliE7HoSBTVOnWi-3tZl4Mrv70BMCDcsViu6ihiDFT-6pCw4npTMirTOngHpAYClXrhrWBQvRwQFMQ,,&amp;data=UlNrNmk5WktYejY4cHFySjRXSWhXQlhUMGhyZ0JSOU9oZjV0LXNkU0dZQjkydTBpVzFUaEdSQTFYRWFEM0ZKbjdnbEk3QVBwQ0pkVTJkOFJkS0RyeGtUWG8zaDUxa1pDSWpSQ25UYjUxSDY1dkctZ3dnV1BNdyws&amp;sign=5d9621469a27a83fc7f652adc5cd6ed3&amp;keyno=8&amp;b64e=2&amp;ref=orjY4mGPRjk5boDnW0uvlrrd71vZw9kpjly_ySFdX80,&amp;l10n=ru&quot;]\">rustepik</a></div><div class=\"extralinks i-bem\" data-bem='{\"extralinks\":{}}' data-log-node=8913><div class=\"popup2 popup2_target_anchor popup2_autoclosable_yes popup2_theme_normal popup2_hiding_yes popup2_view_classic extralinks__popup i-bem\" data-bem='{\"popup2\":{\"directions\":[\"bottom-center\"]}}'><a class=\"link link_theme_normal i-bem\" data-bem='{\"link\":{}}' data-log-node=8914 rel=noopener target=_blank tabindex=0 href=\"//translate.yandex.ru/translate?srv=yasearch&amp;url=https%3A%2F%2Fwww.facebook.com%2Frustepik&amp;lang=eng-rus&amp;ui=rus\" data-counter=\"[&quot;w&quot;,&quot;80.22.347&quot;,&quot;-adapters=need-translate|extended-snippet,84=91,-source=web&quot;]\">Перевести</a><a class=\"link link_theme_normal i-bem\" data-bem='{\"link\":{}}' data-log-node=8915 rel=noopener target=_blank tabindex=0 href=\"https://hghltd.yandex.net/yandbtm?fmode=inject&amp;url=https%3A%2F%2Fwww.facebook.com%2Frustepik&amp;tld=ru&amp;lang=en&amp;la=1534547328&amp;tm=1534880720&amp;text=stepic&amp;l10n=ru&amp;mime=html&amp;sign=65a44031052bef49bc74e7dd284dc82f&amp;keyno=0\" data-counter=\"[&quot;w&quot;,&quot;80.22.362&quot;,&quot;-adapters=need-translate|extended-snippet,84=91,-source=web&quot;]\">Сохранённая копия</a><a class=\"link link_pseudo_yes link_theme_pseudo ajax i-bem\" data-bem='{\"link\":{},\"ajax\":{}}' data-log-node=8916 rel=noopener target=_blank tabindex=0 href=\"/search/?text=stepic&amp;lr=35&amp;noreask=1&amp;site=www.facebook.com\" data-counter=\"[&quot;w&quot;,&quot;80.22.336&quot;,&quot;-adapters=need-translate|extended-snippet,84=91,-source=web&quot;]\">Показать ещё с сайта</a><span class=\"link link_theme_normal show-feedback i-bem\" data-bem='{\"link\":{},\"show-feedback\":{\"abuseLink\":\"https://yandex.ru/search/abuse?sign=15ce5b86ce856a65911e90502dcca848&amp;keyno=0\",\"reqid\":\"1534880720591518-87297817111631953049859-vla1-2704\"}}' data-log-node=8917 rel=noopener target=_blank tabindex=0 role=button data-counter=\"[&quot;w&quot;,&quot;80.22.1436&quot;,&quot;689=1086,-adapters=need-translate|extended-snippet,84=91,-source=web&quot;]\">Пожаловаться</span></div></div></div><div class=\"organic__content-wrapper clearfix\"><div class=\"text-container typo typo_text_m typo_line_m\"><div class=\"extended-text extended-text_mode_js extended-text_state_short i-bem\" data-bem='{\"extended-text\":{}}' data-log-node=8918><span class=extended-text__short><b>Stepik</b>. Бесплатные онлайн-курсы. 2,825 likes · 63 talking about this.<b style=\"color:#888\"> ... </b>See more of <b>Stepik</b>. Бесплатные онлайн-курсы on Facebook. Log In. <span class=\"link link_theme_normal extended-text__toggle i-bem\" data-bem='{\"link\":{}}' data-log-node=8919 tabindex=0 role=button data-counter=\"[&quot;w&quot;,&quot;80.22.75&quot;,&quot;-adapters=need-translate|extended-snippet,689=1086,84=91,-source=web&quot;]\">Читать ещё</span></span><span class=extended-text__full><b>Stepik</b>. Бесплатные онлайн-курсы. 2,825 likes · 63 talking about this. Образовательная платформа и конструктор бесплатных открытых онлайн-курсов и уроков.<b style=\"color:#888\"> ... </b>See more of <b>Stepik</b>. Бесплатные онлайн-курсы on Facebook. Log In. <span class=\"link link_theme_normal extended-text__toggle i-bem\" data-bem='{\"link\":{}}' data-log-node=891a tabindex=0 role=button data-counter=\"[&quot;w&quot;,&quot;80.22.486&quot;,&quot;-adapters=need-translate|extended-snippet,689=1086,84=91,-source=web&quot;]\">Скрыть</span></span></div></div></div></div><style nonce=3938 data-stylesheet=progressive>.showcase{position:relative}.showcase_align_center .showcase__item{text-align:center}.showcase_valign_baseline .showcase__item{vertical-align:baseline}.showcase__wrap{margin-left:-16px}.showcase_overflow_wrap .showcase__wrap{margin-bottom:-20px}.showcase_overflow_wrap .showcase__item{margin-bottom:20px}.showcase_overflow_hidden .showcase__wrap,.showcase_overflow_newpage .showcase__wrap{overflow:hidden;white-space:nowrap}.showcase__item{line-height:0;display:inline-block;vertical-align:top;white-space:normal}.showcase__item-thumb{max-width:100%}.showcase__item-thumb .thumb{display:block;max-width:100%}.showcase__item-thumb .image{max-width:100%;border:0}.showcase__item-thumb.thumb-placeholder,.showcase__item-thumb.thumb-stack .thumb,.showcase__item-thumb.video2{display:inline-block}.showcase__item-descr{float:left;width:100%;margin-top:.9ex}.showcase__item-title{margin-top:-.3ex;color:#000}.showcase__item-path-wrap,.showcase__item-title{overflow:hidden;max-width:100%;text-overflow:ellipsis;white-space:nowrap}.showcase__item-path-wrap .link{display:inline-block;overflow:hidden;max-width:100%;margin-bottom:-4px;text-overflow:ellipsis}.showcase__item-path.path{display:inline}.showcase__item-path_verified.path{overflow:hidden;display:inline-block;max-width:calc(100% - 24px);text-overflow:ellipsis;vertical-align:top}.showcase__item-path_verified.path:after{display:inline-block;width:5px;content:' '}.showcase__item-hint,.showcase__item-strong,.showcase__item-subtitle,.showcase__item-text{overflow:hidden;text-overflow:ellipsis}.showcase__item-hint_nowrap_yes,.showcase__item-text_nowrap_yes{white-space:nowrap}.showcase__item-text{color:#000}.showcase__item-strong{font-weight:bolder;margin-top:.3ex;color:#000}.showcase__item-hint{color:#999}.showcase__item-warning{margin-top:.6ex}.showcase__item-subtitle_nowrap_yes{white-space:nowrap}.showcase__path-favicon{position:relative;display:inline-block;width:16px;margin-right:3px;vertical-align:bottom}.showcase__path-favicon+.showcase__item-path_verified.path{max-width:calc(100% - 38px)}.showcase__item-verified{color:#070;color:var(--color-green-url)}.showcase__item-label{cursor:default}.showcase__item{margin-left:16px}.showcase__item-path-wrap{margin-top:.3ex}.showcase__item-path-wrap_label_bottom .showcase__item-label{margin-top:2px;display:table;clear:both}.showcase__item-title_link_yes{color:#00c}.showcase__item-title_link_yes:visited{color:#551a8b}.b-page_tld_com-tr .showcase__item-title_link_yes{color:#1a0dab}.showcase__item-extra{margin-top:.2ex}.showcase__path-favicon{top:0;left:0}.showcase__item-subtitle_lines_1{max-height:16px;max-height:calc(1*var(--text-m-line-s))}.showcase__item-subtitle_lines_2{max-height:32px;max-height:calc(2*var(--text-m-line-s))}.showcase__item-subtitle_lines_3{max-height:48px;max-height:calc(3*var(--text-m-line-s))}.showcase__item .showcase__link:hover .showcase__item-subtitle,.showcase__item .showcase__link:hover .showcase__item-title,.showcase__item .showcase__link:hover+.showcase__item-descr .showcase__item-subtitle,.showcase__item .showcase__link:hover+.showcase__item-descr .showcase__item-title{color:#d00;color:var(--color-red-hover)}.showcase__item_optimized_yes .showcase__item-subtitle{margin-bottom:0}.showcase__link{display:block;-webkit-tap-highlight-color:rgba(0,0,0,0);outline:0}.video2_size_s .video2__subtitle,.video2_size_s .video2__title{display:none}.video2_size_s .video2__info{font-size:11px;line-height:16px;height:16px;padding-left:4px;padding-right:4px}.video2_size_s .video2__info *+*{margin-left:4px}.video2_size_s .video2__preview-info-text{font-size:11px}.video2_size_s .video2__preview-info-text *+*{margin-left:4px}.video2_size_s .video2__play{border-width:4px 0 4px 8px}.video2_size_s .video2__hd+.video2__label{margin-left:8px}.video2_size_s.video2_has-title_yes:before{background:0 0}.video2__info{font-weight:700;position:absolute;bottom:0;left:0;z-index:2;display:inline-block;overflow:hidden;-moz-box-sizing:border-box;box-sizing:border-box;max-width:100%;white-space:nowrap;text-overflow:ellipsis;color:#fff;pointer-events:none}.video2__info:empty{display:none}.video2__info :not(style){display:inline;vertical-align:top}.video2__info :not(style):first-of-type{margin-left:0}.video2__play{width:0;height:0;border-style:solid;border-color:transparent transparent transparent #fff;-webkit-transform:translateY(50%);transform:translateY(50%)}.video2__info .video2__play{display:inline-block}.video2__play_view_big{position:absolute;top:50%;left:50%;z-index:2;-webkit-transform:translate(-40%,-50%);transform:translate(-40%,-50%);pointer-events:none}.video2{line-height:0;position:relative}.video2 .link{display:block}.video2_theme_default .video2__info{background-color:rgba(0,0,0,.7)}.video2_theme_online .video2__info{background-color:rgba(255,0,0,.7)}.video2_theme_online .video2__deephd{padding-left:8px;padding-right:1px}.video2_theme_online .video2__deephd .icon{display:inline-block}.video2_theme_online .video2__tooltip{border-radius:2px}.video2_theme_recent .video2__info{background-color:rgba(0,68,187,.8)}.video2_play_center .video2__modern-info{padding:9px 20px 11px;background:rgba(0,0,0,.8)}.video2_play_center .video2__modern-info::before{display:none}.video2 .thumb_hover_fade{background:#000}.video2_disabled_yes{pointer-events:none;cursor:pointer}.video2_disabled_yes .video2__play{display:none}.video2_hover_text .video2__info,.video2_hover_text .video2__play,.video2_hover_text .video2__subtitle,.video2_hover_text .video2__title{transition:opacity .2s ease-in-out}.video2_hover_text .video2__hover{visibility:hidden}.video2_hover_text:hover .video2__info,.video2_hover_text:hover .video2__play,.video2_hover_text:hover .video2__subtitle,.video2_hover_text:hover .video2__title{opacity:0}.video2_hover_text:hover .video2__hover{visibility:visible}.video2_theme_online .video2__info_deephd{z-index:9}.video2_theme_online .video2__deephd{pointer-events:auto;cursor:pointer;z-index:9}.video2__tooltip .popup2__tail{-webkit-animation:none;animation:none}.video2_design_beautiful.video2_size_s .video2__play_view_big{border-width:13px 0 13px 24px;opacity:.8;transition:all .2s cubic-bezier(.25,.5,.4,2)}.video2_design_beautiful.video2_size_s .video2__info{font-size:13px;line-height:20px;height:20px;font-weight:200;padding:1px 6px;background-color:#000;border-radius:4px;margin:4px}.video2_design_beautiful:hover .video2__play_view_big{opacity:1;-webkit-transform:translate(-40%,-50%) scale(1.2);transform:translate(-40%,-50%) scale(1.2)}.video2_design_beautiful:hover .video2__info{display:none}.video2_design_beautiful .thumb{overflow:hidden;z-index:1}.video2_design_beautiful .thumb:before{position:absolute;z-index:1;left:50%;top:50%;height:0;width:0;background-color:rgba(0,0,0,.4);border-radius:50%;content:'';-webkit-transform:translate(-50%,-50%);transform:translate(-50%,-50%);transition:all .15s cubic-bezier(0,.5,.5,1)}.video2_design_beautiful .thumb:hover:before{width:120%;padding-top:120%}.video2_design_beautiful.video2_theme_online .video2__info{background-color:red}.video2_design_beautiful.video2_theme_recent .video2__info{background-color:#2933a2}.video2_design_beautiful .thumb_hover_fade:hover .thumb__image{opacity:1}.video2{line-height:0;position:relative}.video2 .link{display:block}.video2_theme_default .video2__info{background-color:rgba(0,0,0,.7)}.video2_theme_online .video2__info{background-color:rgba(255,0,0,.7)}.video2_theme_online .video2__deephd{padding-left:8px;padding-right:1px}.video2_theme_online .video2__deephd .icon{display:inline-block}.video2_theme_online .video2__tooltip{border-radius:2px}.video2_theme_recent .video2__info{background-color:rgba(0,68,187,.8)}.video2_play_center .video2__modern-info{padding:9px 20px 11px;background:rgba(0,0,0,.8)}.video2_play_center .video2__modern-info::before{display:none}.video2 .thumb_hover_fade{background:#000}.video2_disabled_yes{pointer-events:none;cursor:pointer}.video2_disabled_yes .video2__play{display:none}.video2_hover_text .video2__info,.video2_hover_text .video2__play,.video2_hover_text .video2__subtitle,.video2_hover_text .video2__title{transition:opacity .2s ease-in-out}.video2_hover_text .video2__hover{visibility:hidden}.video2_hover_text:hover .video2__info,.video2_hover_text:hover .video2__play,.video2_hover_text:hover .video2__subtitle,.video2_hover_text:hover .video2__title{opacity:0}.video2_hover_text:hover .video2__hover{visibility:visible}.video2_theme_online .video2__info_deephd{z-index:9}.video2_theme_online .video2__deephd{pointer-events:auto;cursor:pointer;z-index:9}.video2__tooltip .popup2__tail{-webkit-animation:none;animation:none}.video2_preview_yes .video2__info{transition:opacity .2s ease-in-out}.video2_preview_yes.video2_design_beautiful .thumb:before{display:none}.video2_preview_yes.video2_rounded_yes{border-radius:4px;overflow:hidden}.video2_preview-ended_yes .video2__info,.video2_preview_yes:hover .video2__info{opacity:0}.video2__preview-info{position:absolute;top:0;right:0;bottom:0;left:0;background-color:rgba(0,0,0,.4);color:#fff;visibility:hidden;opacity:0;transition:opacity .2s ease-out;z-index:1}.video2__preview-info_visible_yes,.video2_preview-empty_yes:hover .video2__preview-info,.video2_preview-ended_yes .video2__preview-info{visibility:visible;opacity:1}.video2__preview-info-text{position:absolute;top:50%;left:50%;-webkit-transform:translate(-50%);transform:translate(-50%);margin-top:20px}.video2__preview-info .video2__hd,.video2__preview-info .video2__time{display:inline;vertical-align:top}.video2__preview-info .video2__hd:first-child,.video2__preview-info .video2__time:first-child{margin-left:0}.video2__preview-info .video2__play{border-width:10px 0 10px 20px;position:absolute;top:50%;left:52%;-webkit-transform:translate(-50%);transform:translate(-50%);margin-top:-15px}.thumb-preview_video .thumb-preview__target .thumb-preview__video{display:none}.thumb-preview_video .thumb-preview__loader{opacity:0}.thumb-preview_video .thumb-preview__video{height:100%;width:100%}.thumb-preview_video.thumb-preview_active_yes .thumb-preview__target .thumb-preview__video,.thumb-preview_video.thumb-preview_active_yes .thumb-preview__target_loading,.thumb-preview_video.thumb-preview_active_yes .thumb-preview__target_playing{display:block}.thumb-preview_video.thumb-preview_active_yes .thumb-preview__target_loading .thumb-preview__video{display:none}.thumb-preview_video.thumb-preview_active_yes .thumb-preview__target_playing .thumb-preview__video{background-color:#000}.thumb-preview_video.thumb-preview_active_yes .thumb-preview__target .thumb-preview__loader{display:block;position:absolute;top:0;left:0;width:100%;height:100%;opacity:0;transition:opacity .2s;background-color:rgba(0,0,0,.5)}.thumb-preview_video.thumb-preview_active_yes .thumb-preview__target .thumb-preview__loader .spin2{margin:6px;border-top-color:rgba(255,255,255,.6);border-left-color:rgba(255,255,255,.6);-webkit-animation-duration:.5s;animation-duration:.5s}.thumb-preview_video.thumb-preview_active_yes .thumb-preview__target_loading .thumb-preview__loader{opacity:1}.more-item__link{display:block;position:absolute;top:0;bottom:0;background:0 0}.more-item__inner{display:table;height:100%}.more-item__text{display:table-cell;padding:0;text-align:center;vertical-align:middle;white-space:normal;color:#04b}.more-item__arrow-icon{position:relative;left:50%;-moz-box-sizing:border-box;box-sizing:border-box;width:40px;height:40px;margin:0 0 5px -20px;border:1px solid;border-radius:50%}.more-item__arrow-icon:after,.more-item__arrow-icon:before{position:absolute;display:block;content:'';top:50%;left:50%;width:12px;margin-top:-1px;margin-left:-7px;border-top:2px solid}.more-item__arrow-icon:after{-moz-box-sizing:border-box;box-sizing:border-box;width:10px;height:10px;margin-top:-5px;margin-left:-4px;border-right:2px solid;-webkit-transform:rotate(45deg);transform:rotate(45deg);-webkit-transform-origin:50% 50%;transform-origin:50% 50%}.more-item_with-height_yes{display:inline-block;position:relative}.more-item_no-background_yes .more-item__link{background:0 0}.more-item_rounded_yes .more-item__link{border-radius:4px}.more-item .more-item__text:hover{color:#c00}.more-item_theme_dark .more-item__text{color:#fff}.scroller,.scroller__wrap{position:relative}.scroller__wrap{z-index:1;overflow-x:auto;overflow-y:hidden;white-space:nowrap;-ms-overflow-style:none}.scroller__wrap::-webkit-scrollbar{display:none}.scroller__item:first-child{margin-left:0}.scroller_same-height-items_yes .scroller__items-wrap{display:-webkit-inline-flex;display:-ms-inline-flexbox;display:inline-flex;vertical-align:top}.scroller_same-height-items_yes .scroller__item{display:-webkit-inline-flex;display:-ms-inline-flexbox;display:inline-flex;margin-left:12px;-webkit-flex-shrink:0;-ms-flex-negative:0;flex-shrink:0;white-space:normal}.scroller_same-height-items_yes .scroller__item:first-child{margin-left:0}.scroller_gap-x_s .scroller__item{margin-left:12px}.scroller_gap-x_s .scroller__item:first-child{margin-left:0}.scroller_gap-x_m .scroller__item{margin-left:16px}.scroller_gap-x_m .scroller__item:first-child{margin-left:0}.scroller_inline-block-items_yes .scroller__item{display:inline-block;vertical-align:top}.scroller__wrap{overflow:-moz-scrollbars-none!important}.scroller__arrow{position:absolute;top:50%;display:none;width:44px;height:44px;z-index:5;cursor:pointer;-webkit-tap-highlight-color:rgba(0,0,0,0);-webkit-user-select:none;-moz-user-select:none;-ms-user-select:none;user-select:none;outline:0;background-color:transparent}.scroller__arrow::before{position:absolute;content:'';width:38px;height:38px;margin:3px;background-color:#fff;border-radius:38px;box-shadow:0 1px 7px rgba(0,0,0,.5);transition:transform .1s;transition:transform .1s,-webkit-transform .1s}.scroller__arrow::after{position:absolute;top:0;right:0;bottom:0;left:0;margin:3px;content:'';background-position:50% 50%;background-repeat:no-repeat;background-image:url(\"//yastatic.net/web4/_/6Ytz5KCoqciZLyaV0Fr-Z1gpE28.svg\")}.scroller__arrow_direction_right{right:0;-webkit-transform:translate(50%,-50%);transform:translate(50%,-50%)}.scroller__arrow_direction_left{left:0;-webkit-transform:translate(-50%,-50%);transform:translate(-50%,-50%)}.scroller__arrow_direction_left::after{-webkit-transform:rotate(180deg);transform:rotate(180deg)}.scroller_scroll_both .scroller__arrow,.scroller_scroll_left .scroller__arrow_direction_left,.scroller_scroll_right .scroller__arrow_direction_right{display:block}.scroller .scroller__arrow_hide_yes{display:none}.scroller__arrow.link_pressed_yes::before,.scroller__arrow.link_pressed_yes:hover::before{-webkit-transform:scale(1.1);transform:scale(1.1)}.scroller__arrow:hover{background-color:transparent;z-index:10}.scroller__arrow:hover::before{-webkit-transform:scale(1.16);transform:scale(1.16)}.scroller__arrow_direction_right:hover::before{left:0}.scroller__arrow_direction_left:hover::before{right:0}.scroller_controls_arrow:not(.scroller_js_inited).overflow_scroll_yes .scroller__arrow_direction_right{display:block}.organic__title-wrapper_lines_2{display:-webkit-flex;display:-ms-flexbox;display:flex;margin-left:-30px;padding-left:30px;max-height:48px;max-height:calc(2*var(--text-l-line-m));overflow:visible}.organic__title-wrapper_lines_2 .favicon{left:8px}.organic__title-wrapper_lines_2 .organic__url-text{overflow:hidden;max-height:48px;max-height:calc(2*var(--text-l-line-m))}.composite.card__colorize:before{content:'';overflow:hidden;display:table}.composite_gap_none>.composite__item{margin-top:0;margin-bottom:0}.composite__item_separated_yes:before{content:'';display:block;border-bottom:1px solid rgba(0,0,0,.1)}.composite_padding_m{padding:20px 30px}.composite__item_fullwidth_yes{margin-left:-30px;margin-right:-30px}.composite__item.serp-item{margin:0;width:auto}.composite__item:last-child.composite__item_clear_both,.composite__item:last-child.composite__item_clear_bottom{margin-bottom:-26px}.composite__item:last-child.composite__item_clear_both .button2_width_max,.composite__item:last-child.composite__item_clear_bottom .button2_width_max{vertical-align:top}.composite_gap_m>.composite__item,.composite_gap_m>.composite__item+.fold__show-more{margin-top:26px}.composite_gap_s>.composite__item,.composite_gap_s>.composite__item+.fold__show-more{margin-top:10px}.composite_gap_xxs>.composite__item,.composite_gap_xxs>.composite__item+.fold__show-more{margin-top:4px}.composite__item:first-of-type{padding-top:0;margin-top:0}.composite_top-margin_s{margin-top:12px}.composite_top-margin_m{margin-top:20px}.composite_bottom-margin_s{margin-bottom:12px}.composite_bottom-margin_m{margin-bottom:20px}.card__colorize .composite{padding-left:30px;padding-right:30px;padding-bottom:26px}.card__colorize .composite__item:first-of-type{padding-top:26px;margin-top:0}.card__colorize .composite_gap_m>.composite__item>.serp-item:last-child{margin-bottom:0}.composite.composite_gap_m>.composite__item_clear_both,.composite.composite_gap_m>.composite__item_clear_bottom{margin-bottom:-26px}.composite.composite_gap_s>.composite__item_clear_both,.composite.composite_gap_s>.composite__item_clear_bottom{margin-bottom:-10px}.composite.composite_gap_m>.composite__item_clear_both,.composite.composite_gap_m>.composite__item_clear_top,.composite.composite_gap_s>.composite__item_clear_both,.composite.composite_gap_s>.composite__item_clear_top{padding-top:0;margin-top:0}.composite.composite_gap_xxs>.composite__item_clear_top{margin-top:4px}.serp-list>.serp-item>.composite{margin-bottom:26px}.serp-list>.serp-item>.fold .fold__body>.composite{margin-bottom:0}</style><li class=serp-item data-cid=7 data-log-node=891b><div class=\"composite composite_gap_s composite_separated_no\"><div class=\"organic typo typo_text_m typo_line_s\"><h2 class=\"organic__title-wrapper organic__title-wrapper_lines_2 typo typo_text_l typo_line_m\"><div class=a11y-hidden>8</div><a class=\"link link_target_vertical-service link_theme_normal organic__url i-bem\" data-bem='{\"link\":{\"service\":\"video\"}}' accesskey=8 tabindex=2 data-log-node=891c rel=noopener target=_blank href=\"//yandex.ru/video/search?text=stepic&amp;path=wizard&amp;parent-reqid=1534880720591518-87297817111631953049859-vla1-2704&amp;noreask=1\" data-counter=\"[&quot;w&quot;,&quot;254.231.82&quot;,&quot;186=358,-type=v4thumbs,84=92,-source=fake&quot;]\"><div class=\"favicon favicon_page_0\"><div class=favicon__icon style=\"background-position:0 -112px;\"></div></div><div class=organic__url-text><b>Stepic</b> — 3 тыс. видео</div></a></h2><div class=\"organic__subtitle typo typo_type_greenurl\"><div class=\"path organic__path\" data-log-node=891d><a class=\"link link_outer_yes link_target_vertical-service link_theme_outer path__item i-bem\" data-bem='{\"link\":{\"service\":\"video\"}}' data-log-node=891e tabindex=-1 rel=noopener target=_blank href=\"//yandex.ru/video?path=wizard\" data-counter=\"[&quot;w&quot;,&quot;254.231.327&quot;,&quot;186=358,-type=v4thumbs,13=85,84=92,-source=fake&quot;]\"><b>Яндекс.Видео</b></a><span class=path__separator>›</span><a class=\"link link_outer_yes link_target_vertical-service link_theme_outer path__item i-bem\" data-bem='{\"link\":{\"service\":\"video\"}}' data-log-node=891f tabindex=-1 rel=noopener target=_blank href=\"//yandex.ru/video/search?text=stepic&amp;path=wizard&amp;parent-reqid=1534880720591518-87297817111631953049859-vla1-2704&amp;noreask=1\" data-counter=\"[&quot;w&quot;,&quot;254.231.327&quot;,&quot;186=358,-type=v4thumbs,13=86,84=92,-source=fake&quot;]\">stepic</a></div><div class=\"extralinks i-bem\" data-bem='{\"extralinks\":{}}' data-log-node=891g><div class=\"popup2 popup2_target_anchor popup2_autoclosable_yes popup2_theme_normal popup2_hiding_yes popup2_view_classic extralinks__popup i-bem\" data-bem='{\"popup2\":{\"directions\":[\"bottom-center\"]}}'><span class=\"link link_theme_normal show-feedback i-bem\" data-bem='{\"link\":{},\"show-feedback\":{\"abuseLink\":\"https://yandex.ru/search/abuse?sign=15ce5b86ce856a65911e90502dcca848&amp;keyno=0\",\"reqid\":\"1534880720591518-87297817111631953049859-vla1-2704\",\"snippetType\":\"video-showcase\"}}' data-log-node=891h rel=noopener target=_blank tabindex=0 role=button data-counter=\"[&quot;w&quot;,&quot;254.231.296&quot;,&quot;186=358,-type=v4thumbs,84=92,-source=fake&quot;]\">Пожаловаться</span></div></div></div></div><div class=composite__item><div class=\"showcase showcase_overflow_scroll showcase_scroll_no i-bem\" data-bem='{\"showcase\":{}}' role=list><div class=\"scroller scroller_touched_no scroller_scroll-step_screen scroller_controls_arrow scroller_more_yes overflow i-bem\" data-bem='{\"scroller\":{\"lazyLimit\":4,\"counter\":[\"254.231.1268.768\",\"186=358,-type=v4thumbs,689=1086,84=92,-source=fake\"]},\"overflow\":{}}' data-log-node=891i data-log-event=scroll><div class=\"scroller__wrap lazy-image lazy-image_type_bounds overflow__content i-bem\" data-bem='{\"lazy-image\":{\"skipLoadOnInit\":false}}'><div class=\"showcase__item showcase__item_optimized_yes grid__col grid__col_mode_static grid__col_width_4 scroller__item\" role=listitem><a class=\"link link_target_vertical-service link_theme_normal showcase__link clearfix i-bem\" data-bem='{\"link\":{\"service\":\"video\"}}' data-log-node=891j rel=noopener target=_blank tabindex=0 href=\"//yandex.ru/video/search?text=stepic&amp;path=wizard&amp;parent-reqid=1534880720591518-87297817111631953049859-vla1-2704&amp;noreask=1&amp;filmId=17420571389644573121\" data-counter=\"[&quot;w&quot;,&quot;254.231.1268.22.184&quot;,&quot;-filmId=17420571389644573121,186=358,-type=v4thumbs,-item=0,84=92,-source=fake&quot;]\"><div class=\"video2 video2_theme_default video2_largePlay_yes video2_size_s video2_design_beautiful video2_preview_yes thumb-preview thumb-preview_video showcase__item-thumb i-bem\" data-bem='{\"video2\":{\"counters\":{\"start\":[\"690.254.231.1268.22.670.2154\",\"186=358,-type=v4thumbs,-item=0\"],\"change\":[\"690.254.231.1268.22.670.719\",\"186=358,-type=v4thumbs,-item=0\"]}},\"thumb-preview\":{\"preview\":{\"url\":\"https://strm.yandex.net/get-video-preview-host/180B9160ED3AFA5D314ED12AD2D3AE9A3631DBDA6B50CD98C6543CE3983E05C68BA9B0DBD654DCFC87FD6E166B74BD6B85F2A954D85E7FE09F8A732837D84F04.mp4\",\"type\":\"video/mp4\",\"height\":1}}}'><div class=\"thumb thumb_shade_yes thumb_image-background_yes\" style=\"height:95px; width:168.89px;\"><div class=ratio><div class=\"image image_type_contain thumb__image grid__col grid__col_mode_static thumb-preview__target\" style=\"height:95px;background-image:url(//avatars.mds.yandex.net/get-vthumb/880035/a010200eaacb0ef66c3003028a52d04a/168x95);\" data-rCid=231.85></div></div><div class=thumb__handle></div></div><div class=video2__info><div class=video2__time>1:48</div><div class=video2__hd>HD</div></div><div class=\"video2__play video2__play_view_big\"></div><div class=video2__preview-info><div class=video2__play></div><div class=video2__preview-info-text><div class=video2__time>1:48</div><div class=video2__hd>HD</div></div></div></div><div class=\"showcase__item-descr typo typo_text_m typo_line_s\"><div class=\"showcase__item-subtitle showcase__item-subtitle_lines_3\"><b>Stepic</b>.org</div></div></a><div class=\"showcase__item-extra typo typo_text_m typo_line_s\"><div class=showcase__item-path-wrap><div class=\"path showcase__item-path\" data-log-node=891k><a class=\"link link_outer_yes link_theme_outer path__item i-bem\" data-bem='{\"link\":{}}' data-log-node=891l tabindex=-1 rel=noopener target=_blank href=\"http://vimeo.com/103131503\" data-counter=\"[&quot;rc&quot;,&quot;http://yandex.ru/clck/jsredir?from=yandex.ru%3Bsearch%2F%3Bweb%3B%3B&amp;text=&amp;etext=1886.43DAoI7ud_n81M26gcNPw7pVw-Xz3QfaRfC9knjTiVc.61987fba5f7763e71ecea511bf7e40e88eb15440&amp;uuid=&amp;state=H4h8uvWmGgzGHOSaNsaYVOY_N1QTxjrvV2d_HVR1-GeplhYdkwBZnf5tAhG_sZNfUawXMp_f2bIeHlcQCvHUIXpnJBEpSQg5V3TZWMbpshxRLoN8djs_vA,,&amp;&amp;cst=AiuY0DBWFJ4EhnbxqmjDhe7I0te9Lb9TE4X0i-PihUx-V39Nul4TJocsbOjuFYIDB8YS6_pk3NeYXFoByoiWRNBpbLYUfXgGurU5xnC-NVtW5_5S2k-kpUShcFVbHL4bqAemGEADhviCXDslU7OXzMZeQqjtF7vKH_Eqb81JSbQZkqZA-ejxSx3dqimOpTRr-B2VT6ktx1zTZLh6ue49jLUeOproXtmSeVDBM7SqmzV_5JB7oCUPfCSreNozABvaoT2AbFt0EQ314Dna3H-mya47DDeBSF26BxzJnUSZj27-bgJXdLnovqtgEOVrVR58iulbhtrWYs4POWXQYr7frqHmmLXGozQn_JoQXx5IZ3QmY4bi8Mvu5L9xQVSHU_Hth5np1T1qSnosn-SUl1KlpU7X3jgEc-2OMEZVvyIWdh5f2o0wsjbeQjwU-gIhvikWQ19MXlbRC3yJrE5stpAkCKAPH7NvIekzH8mQcm1hDdpcrlPvuq9gW7XR4l1RfM2Xj-keyl3fGsg9SuR7JL5Gcxa86vAQp4bD82UK9E1Asa46yKlBF7rWNZFdaQIMjOaF_Ajv0K6tIliE7HoSBTVOnWi-3tZl4Mrv70BMCDcsViu6ihiDFT-6pCw4npTMirTOngHpAYClXrhrWBQvRwQFMQ,,&amp;data=UlNrNmk5WktYejR0eWJFYk1LdmtxbVctZldXc0o3a0NzZE5aRmlydjV4VmljWWhjWEFkeTlGNHRlN2RabUFUVzYzNGZPOFI4WHowTkxHbVhkUHhscExjbFhpOGdZWG1UV2dNcHBISDBrYWss&amp;sign=fc40a9bb41f857c64bd7b9095f1f2a21&amp;keyno=8&amp;b64e=2&amp;ref=orjY4mGPRjk5boDnW0uvlrrd71vZw9kpjly_ySFdX80,&amp;l10n=ru&quot;]\">vimeo.com</a></div></div></div></div><div class=\"showcase__item showcase__item_optimized_yes grid__col grid__col_mode_static grid__col_width_4 scroller__item\" role=listitem><a class=\"link link_target_vertical-service link_theme_normal showcase__link clearfix i-bem\" data-bem='{\"link\":{\"service\":\"video\"}}' data-log-node=891m rel=noopener target=_blank tabindex=0 href=\"//yandex.ru/video/search?text=stepic&amp;path=wizard&amp;parent-reqid=1534880720591518-87297817111631953049859-vla1-2704&amp;noreask=1&amp;filmId=5018814702723289805\" data-counter=\"[&quot;w&quot;,&quot;254.231.1268.22.184&quot;,&quot;-filmId=5018814702723289805,186=358,-type=v4thumbs,-item=1,84=92,-source=fake&quot;]\"><div class=\"video2 video2_theme_default video2_largePlay_yes video2_size_s video2_design_beautiful video2_preview_yes thumb-preview thumb-preview_video showcase__item-thumb i-bem\" data-bem='{\"video2\":{\"counters\":{\"start\":[\"690.254.231.1268.22.670.2154\",\"186=358,-type=v4thumbs,-item=1\"],\"change\":[\"690.254.231.1268.22.670.719\",\"186=358,-type=v4thumbs,-item=1\"]}},\"thumb-preview\":{\"preview\":{\"url\":\"https://strm.yandex.net/get-video-preview-host/546B2AA926791C6048197085F03E97BED338786F92437DDEA4426E65D4E291A66C5D23494C617715528FB3A92FCF4B7A31558566B9B30CDFF184B87A554D46C4.mp4\",\"type\":\"video/mp4\",\"height\":1}}}'><div class=\"thumb thumb_shade_yes thumb_image-background_yes\" style=\"height:95px; width:168.89px;\"><div class=ratio><div class=\"image image_type_contain thumb__image grid__col grid__col_mode_static thumb-preview__target\" style=\"height:95px;background-image:url(//avatars.mds.yandex.net/get-vthumb/906125/d7d2f807724cd95ff60edce61e310d48/168x95);\" data-rCid=231.86></div></div><div class=thumb__handle></div></div><div class=video2__info><div class=video2__time>1:18:56</div><div class=video2__hd>HD</div></div><div class=\"video2__play video2__play_view_big\"></div><div class=video2__preview-info><div class=video2__play></div><div class=video2__preview-info-text><div class=video2__time>1:18:56</div><div class=video2__hd>HD</div></div></div></div><div class=\"showcase__item-descr typo typo_text_m typo_line_s\"><div class=\"showcase__item-subtitle showcase__item-subtitle_lines_3\"><b>Stepic</b> Meet-up по курсу Анализ данных в R</div></div></a><div class=\"showcase__item-extra typo typo_text_m typo_line_s\"><div class=showcase__item-path-wrap><div class=\"path showcase__item-path\" data-log-node=891n><a class=\"link link_outer_yes link_theme_outer path__item i-bem\" data-bem='{\"link\":{}}' data-log-node=891o tabindex=-1 rel=noopener target=_blank href=\"http://www.youtube.com/watch?v=NrJmGOHb7tA\" data-counter=\"[&quot;rc&quot;,&quot;http://yandex.ru/clck/jsredir?from=yandex.ru%3Bsearch%2F%3Bweb%3B%3B&amp;text=&amp;etext=1886.43DAoI7ud_n81M26gcNPw7pVw-Xz3QfaRfC9knjTiVc.61987fba5f7763e71ecea511bf7e40e88eb15440&amp;uuid=&amp;state=H4h8uvWmGgzGHOSaNsaYVOY_N1QTxjrvV2d_HVR1-GeplhYdkwBZnf5tAhG_sZNfUawXMp_f2bL6FhVCwCsUY1BzwBV-skV5QLh0mwqsYIekHAmT75snMQ,,&amp;&amp;cst=AiuY0DBWFJ4EhnbxqmjDhe7I0te9Lb9TE4X0i-PihUx-V39Nul4TJocsbOjuFYIDB8YS6_pk3NeYXFoByoiWRNBpbLYUfXgGurU5xnC-NVtW5_5S2k-kpUShcFVbHL4bqAemGEADhviCXDslU7OXzMZeQqjtF7vKH_Eqb81JSbQZkqZA-ejxSx3dqimOpTRr-B2VT6ktx1zTZLh6ue49jLUeOproXtmSeVDBM7SqmzV_5JB7oCUPfCSreNozABvaoT2AbFt0EQ314Dna3H-mya47DDeBSF26BxzJnUSZj27-bgJXdLnovqtgEOVrVR58iulbhtrWYs4POWXQYr7frqHmmLXGozQn_JoQXx5IZ3QmY4bi8Mvu5L9xQVSHU_Hth5np1T1qSnosn-SUl1KlpU7X3jgEc-2OMEZVvyIWdh5f2o0wsjbeQjwU-gIhvikWQ19MXlbRC3yJrE5stpAkCKAPH7NvIekzH8mQcm1hDdpcrlPvuq9gW7XR4l1RfM2Xj-keyl3fGsg9SuR7JL5Gcxa86vAQp4bD82UK9E1Asa46yKlBF7rWNZFdaQIMjOaF_Ajv0K6tIliE7HoSBTVOnWi-3tZl4Mrv70BMCDcsViu6ihiDFT-6pCw4npTMirTOngHpAYClXrhrWBQvRwQFMQ,,&amp;data=UlNrNmk5WktYejR0eWJFYk1LdmtxbW9iajlOZE9UY2haM2otSU9tVGZnYmRQaTQ4WXJ6eEFXSUNGU0szYlB3cHJkUk5KckxfUEU1bDdJZTl3MGQxQmVBSGplRTN1cEVVeDdNcDg2V0s0dThneGk2c1Rka1Z6MDdQOE9CVDdRdGs,&amp;sign=5e5a057fd77fc84d90ba9f8bbcda38f8&amp;keyno=8&amp;b64e=2&amp;ref=orjY4mGPRjk5boDnW0uvlrrd71vZw9kpjly_ySFdX80,&amp;l10n=ru&quot;]\">youtube.com</a></div></div></div></div><div class=\"showcase__item showcase__item_optimized_yes grid__col grid__col_mode_static grid__col_width_4 scroller__item\" role=listitem><a class=\"link link_target_vertical-service link_theme_normal showcase__link clearfix i-bem\" data-bem='{\"link\":{\"service\":\"video\"}}' data-log-node=891p rel=noopener target=_blank tabindex=0 href=\"//yandex.ru/video/search?text=stepic&amp;path=wizard&amp;parent-reqid=1534880720591518-87297817111631953049859-vla1-2704&amp;noreask=1&amp;filmId=11780242440047783968\" data-counter=\"[&quot;w&quot;,&quot;254.231.1268.22.184&quot;,&quot;-filmId=11780242440047783968,186=358,-type=v4thumbs,-item=2,84=92,-source=fake&quot;]\"><div class=\"video2 video2_theme_default video2_largePlay_yes video2_size_s video2_design_beautiful video2_preview_yes thumb-preview thumb-preview_video showcase__item-thumb i-bem\" data-bem='{\"video2\":{\"counters\":{\"start\":[\"690.254.231.1268.22.670.2154\",\"186=358,-type=v4thumbs,-item=2\"],\"change\":[\"690.254.231.1268.22.670.719\",\"186=358,-type=v4thumbs,-item=2\"]}},\"thumb-preview\":{\"preview\":{\"url\":\"https://strm.yandex.net/get-video-preview-host/08DF2E9B43F58A1AD4DD65630F5DA1CD84B8C3AB34D74198F2C918B973E2B23AE74DF141C9A7B623A13F0FE3746DEBF98460B6227703AD03A8C254609C8C44C3.mp4\",\"type\":\"video/mp4\",\"height\":1}}}'><div class=\"thumb thumb_shade_yes thumb_image-background_yes\" style=\"height:95px; width:168.89px;\"><div class=ratio><div class=\"image image_type_contain thumb__image grid__col grid__col_mode_static thumb-preview__target\" style=\"height:95px;background-image:url(//avatars.mds.yandex.net/get-vthumb/760159/322322e1507d23399c518024b257c5c6/168x95);\" data-rCid=231.87></div></div><div class=thumb__handle></div></div><div class=video2__info><div class=video2__time>2:11:01</div><div class=video2__hd>HD</div></div><div class=\"video2__play video2__play_view_big\"></div><div class=video2__preview-info><div class=video2__play></div><div class=video2__preview-info-text><div class=video2__time>2:11:01</div><div class=video2__hd>HD</div></div></div></div><div class=\"showcase__item-descr typo typo_text_m typo_line_s\"><div class=\"showcase__item-subtitle showcase__item-subtitle_lines_3\">Мастер класс по созданию онлайн-курсов на...</div></div></a><div class=\"showcase__item-extra typo typo_text_m typo_line_s\"><div class=showcase__item-path-wrap><div class=\"path showcase__item-path\" data-log-node=891q><a class=\"link link_outer_yes link_theme_outer path__item i-bem\" data-bem='{\"link\":{}}' data-log-node=891r tabindex=-1 rel=noopener target=_blank href=\"http://www.youtube.com/watch?v=JQ6PAIfimec\" data-counter=\"[&quot;rc&quot;,&quot;http://yandex.ru/clck/jsredir?from=yandex.ru%3Bsearch%2F%3Bweb%3B%3B&amp;text=&amp;etext=1886.43DAoI7ud_n81M26gcNPw7pVw-Xz3QfaRfC9knjTiVc.61987fba5f7763e71ecea511bf7e40e88eb15440&amp;uuid=&amp;state=H4h8uvWmGgzGHOSaNsaYVOY_N1QTxjrvV2d_HVR1-GeplhYdkwBZnf5tAhG_sZNfUawXMp_f2bIfm416hJo2XYRAOeaWFGYyWwkRcXUxw72L6qnnEi_E9A,,&amp;&amp;cst=AiuY0DBWFJ4EhnbxqmjDhe7I0te9Lb9TE4X0i-PihUx-V39Nul4TJocsbOjuFYIDB8YS6_pk3NeYXFoByoiWRNBpbLYUfXgGurU5xnC-NVtW5_5S2k-kpUShcFVbHL4bqAemGEADhviCXDslU7OXzMZeQqjtF7vKH_Eqb81JSbQZkqZA-ejxSx3dqimOpTRr-B2VT6ktx1zTZLh6ue49jLUeOproXtmSeVDBM7SqmzV_5JB7oCUPfCSreNozABvaoT2AbFt0EQ314Dna3H-mya47DDeBSF26BxzJnUSZj27-bgJXdLnovqtgEOVrVR58iulbhtrWYs4POWXQYr7frqHmmLXGozQn_JoQXx5IZ3QmY4bi8Mvu5L9xQVSHU_Hth5np1T1qSnosn-SUl1KlpU7X3jgEc-2OMEZVvyIWdh5f2o0wsjbeQjwU-gIhvikWQ19MXlbRC3yJrE5stpAkCKAPH7NvIekzH8mQcm1hDdpcrlPvuq9gW7XR4l1RfM2Xj-keyl3fGsg9SuR7JL5Gcxa86vAQp4bD82UK9E1Asa46yKlBF7rWNZFdaQIMjOaF_Ajv0K6tIliE7HoSBTVOnWi-3tZl4Mrv70BMCDcsViu6ihiDFT-6pCw4npTMirTOngHpAYClXrhrWBQvRwQFMQ,,&amp;data=UlNrNmk5WktYejR0eWJFYk1LdmtxbW9iajlOZE9UY2haM2otSU9tVGZnYmRQaTQ4WXJ6eEFYTFRuc3VZenBPZW9ucDZsUWY1U09ad3ZwV1BUdkJjY3NWX1pvRDRnVDRVWm9wbkJrZ0MtNWgxN2xKdmJqREJSTnNGTFNQMHlDR18,&amp;sign=01f80fc63264f005925a0c2bf5a79387&amp;keyno=8&amp;b64e=2&amp;ref=orjY4mGPRjk5boDnW0uvlrrd71vZw9kpjly_ySFdX80,&amp;l10n=ru&quot;]\">youtube.com</a></div></div></div></div><div class=\"showcase__item showcase__item_optimized_yes grid__col grid__col_mode_static grid__col_width_4 scroller__item\" role=listitem><a class=\"link link_target_vertical-service link_theme_normal showcase__link clearfix i-bem\" data-bem='{\"link\":{\"service\":\"video\"}}' data-log-node=891s rel=noopener target=_blank tabindex=0 href=\"//yandex.ru/video/search?text=stepic&amp;path=wizard&amp;parent-reqid=1534880720591518-87297817111631953049859-vla1-2704&amp;noreask=1&amp;filmId=9887125790153657079\" data-counter=\"[&quot;w&quot;,&quot;254.231.1268.22.184&quot;,&quot;-filmId=9887125790153657079,186=358,-type=v4thumbs,-item=3,84=92,-source=fake&quot;]\"><div class=\"video2 video2_theme_default video2_largePlay_yes video2_size_s video2_design_beautiful video2_preview_yes thumb-preview thumb-preview_video showcase__item-thumb i-bem\" data-bem='{\"video2\":{\"counters\":{\"start\":[\"690.254.231.1268.22.670.2154\",\"186=358,-type=v4thumbs,-item=3\"],\"change\":[\"690.254.231.1268.22.670.719\",\"186=358,-type=v4thumbs,-item=3\"]}},\"thumb-preview\":{\"preview\":{\"url\":\"https://strm.yandex.net/get-video-preview-host/8BCF324A41D86108EAFAF025EF42C02933270B4ED2F440653D7ED2C4A185494ECE103910145B496C463330DE20C974813EED0EABA0349E22A91B67438CBA5DD4.mp4\",\"type\":\"video/mp4\",\"height\":1}}}'><div class=\"thumb thumb_shade_yes thumb_image-background_yes\" style=\"height:95px; width:168.89px;\"><div class=ratio><div class=\"image image_type_contain thumb__image grid__col grid__col_mode_static thumb-preview__target\" style=\"height:95px;background-image:url(//avatars.mds.yandex.net/get-vthumb/877971/a8aaf2f42053b99b1478721f3123a86e/168x95);\" data-rCid=231.88></div></div><div class=thumb__handle></div></div><div class=video2__info><div class=video2__time>4:09</div><div class=video2__hd>HD</div></div><div class=\"video2__play video2__play_view_big\"></div><div class=video2__preview-info><div class=video2__play></div><div class=video2__preview-info-text><div class=video2__time>4:09</div><div class=video2__hd>HD</div></div></div></div><div class=\"showcase__item-descr typo typo_text_m typo_line_s\"><div class=\"showcase__item-subtitle showcase__item-subtitle_lines_3\"><b>Stepic</b>.</div></div></a><div class=\"showcase__item-extra typo typo_text_m typo_line_s\"><div class=showcase__item-path-wrap><div class=\"path showcase__item-path\" data-log-node=891t><a class=\"link link_outer_yes link_theme_outer path__item i-bem\" data-bem='{\"link\":{}}' data-log-node=891u tabindex=-1 rel=noopener target=_blank href=\"http://vimeo.com/105491967\" data-counter=\"[&quot;rc&quot;,&quot;http://yandex.ru/clck/jsredir?from=yandex.ru%3Bsearch%2F%3Bweb%3B%3B&amp;text=&amp;etext=1886.43DAoI7ud_n81M26gcNPw7pVw-Xz3QfaRfC9knjTiVc.61987fba5f7763e71ecea511bf7e40e88eb15440&amp;uuid=&amp;state=H4h8uvWmGgzGHOSaNsaYVOY_N1QTxjrvV2d_HVR1-GeplhYdkwBZnf5tAhG_sZNfUawXMp_f2bJ3aufJKSgkgRp2ZyQ6DOT2jwLTpjy0hX_meWBw-20Z9g,,&amp;&amp;cst=AiuY0DBWFJ4EhnbxqmjDhe7I0te9Lb9TE4X0i-PihUx-V39Nul4TJocsbOjuFYIDB8YS6_pk3NeYXFoByoiWRNBpbLYUfXgGurU5xnC-NVtW5_5S2k-kpUShcFVbHL4bqAemGEADhviCXDslU7OXzMZeQqjtF7vKH_Eqb81JSbQZkqZA-ejxSx3dqimOpTRr-B2VT6ktx1zTZLh6ue49jLUeOproXtmSeVDBM7SqmzV_5JB7oCUPfCSreNozABvaoT2AbFt0EQ314Dna3H-mya47DDeBSF26BxzJnUSZj27-bgJXdLnovqtgEOVrVR58iulbhtrWYs4POWXQYr7frqHmmLXGozQn_JoQXx5IZ3QmY4bi8Mvu5L9xQVSHU_Hth5np1T1qSnosn-SUl1KlpU7X3jgEc-2OMEZVvyIWdh5f2o0wsjbeQjwU-gIhvikWQ19MXlbRC3yJrE5stpAkCKAPH7NvIekzH8mQcm1hDdpcrlPvuq9gW7XR4l1RfM2Xj-keyl3fGsg9SuR7JL5Gcxa86vAQp4bD82UK9E1Asa46yKlBF7rWNZFdaQIMjOaF_Ajv0K6tIliE7HoSBTVOnWi-3tZl4Mrv70BMCDcsViu6ihiDFT-6pCw4npTMirTOngHpAYClXrhrWBQvRwQFMQ,,&amp;data=UlNrNmk5WktYejR0eWJFYk1LdmtxbVctZldXc0o3a0MzeWVoUThpcnIxRTF2WEJ5Rm9Wd195VnV4Y3FtdXZfRGJYV1dTTW1NazQyNjlzNWFyOTduNllvNUFSTTBfX0RCQXg3dnNFbjJfRWcs&amp;sign=985de10b7b88c984645031d97794118e&amp;keyno=8&amp;b64e=2&amp;ref=orjY4mGPRjk5boDnW0uvlrrd71vZw9kpjly_ySFdX80,&amp;l10n=ru&quot;]\">vimeo.com</a></div></div></div></div><div class=\"showcase__item showcase__item_optimized_yes grid__col grid__col_mode_static grid__col_width_4 scroller__item\" role=listitem><a class=\"link link_target_vertical-service link_theme_normal showcase__link clearfix i-bem\" data-bem='{\"link\":{\"service\":\"video\"}}' data-log-node=891v rel=noopener target=_blank tabindex=0 href=\"//yandex.ru/video/search?text=stepic&amp;path=wizard&amp;parent-reqid=1534880720591518-87297817111631953049859-vla1-2704&amp;noreask=1&amp;filmId=14104364766008587376\" data-counter=\"[&quot;w&quot;,&quot;254.231.1268.22.184&quot;,&quot;-filmId=14104364766008587376,186=358,-type=v4thumbs,-item=4,84=92,-source=fake&quot;]\"><div class=\"video2 video2_theme_default video2_largePlay_yes video2_size_s video2_design_beautiful video2_preview_yes thumb-preview thumb-preview_video showcase__item-thumb i-bem\" data-bem='{\"video2\":{\"counters\":{\"start\":[\"690.254.231.1268.22.670.2154\",\"186=358,-type=v4thumbs,-item=4\"],\"change\":[\"690.254.231.1268.22.670.719\",\"186=358,-type=v4thumbs,-item=4\"]}},\"thumb-preview\":{\"preview\":{\"url\":\"https://strm.yandex.net/get-video-preview-host/75D9AFC3D3A270FC832990DCAF7D05150C80600F4F933D2DD97DF8B8C06CF1D76B29994141743205E8285D14CE13B7E6C99D7733DF1295BAD933120490F1A90D.mp4\",\"type\":\"video/mp4\",\"height\":1}}}'><div class=\"thumb thumb_shade_yes thumb_image-background_yes\" style=\"height:95px; width:168.89px;\"><div class=ratio><div class=\"image image_type_contain thumb__image grid__col grid__col_mode_static lazy-image__item thumb-preview__target\" data-bem='{\"lazy-image__item\":{\"src\":\"//avatars.mds.yandex.net/get-vthumb/366455/20cdc7eaed96ad95550c6cf9481a0552/168x95\",\"type\":\"bg\"}}' style=\"height:95px;\"></div></div><div class=thumb__handle></div></div><div class=video2__info><div class=video2__time>1:47</div><div class=video2__hd>HD</div></div><div class=\"video2__play video2__play_view_big\"></div><div class=video2__preview-info><div class=video2__play></div><div class=video2__preview-info-text><div class=video2__time>1:47</div><div class=video2__hd>HD</div></div></div></div><div class=\"showcase__item-descr typo typo_text_m typo_line_s\"><div class=\"showcase__item-subtitle showcase__item-subtitle_lines_3\">Курс по игрофикации...</div></div></a><div class=\"showcase__item-extra typo typo_text_m typo_line_s\"><div class=showcase__item-path-wrap><div class=\"path showcase__item-path\" data-log-node=891w><a class=\"link link_outer_yes link_theme_outer path__item i-bem\" data-bem='{\"link\":{}}' data-log-node=891x tabindex=-1 rel=noopener target=_blank href=\"http://www.youtube.com/watch?v=d7fqGqZDvA4\" data-counter=\"[&quot;rc&quot;,&quot;http://yandex.ru/clck/jsredir?from=yandex.ru%3Bsearch%2F%3Bweb%3B%3B&amp;text=&amp;etext=1886.43DAoI7ud_n81M26gcNPw7pVw-Xz3QfaRfC9knjTiVc.61987fba5f7763e71ecea511bf7e40e88eb15440&amp;uuid=&amp;state=H4h8uvWmGgzGHOSaNsaYVOY_N1QTxjrvV2d_HVR1-GeplhYdkwBZnf5tAhG_sZNfUawXMp_f2bLr9aHiTKWi8hX-eNExrVFozMrHZSXBg58d0Ambeos1Hw,,&amp;&amp;cst=AiuY0DBWFJ4EhnbxqmjDhe7I0te9Lb9TE4X0i-PihUx-V39Nul4TJocsbOjuFYIDB8YS6_pk3NeYXFoByoiWRNBpbLYUfXgGurU5xnC-NVtW5_5S2k-kpUShcFVbHL4bqAemGEADhviCXDslU7OXzMZeQqjtF7vKH_Eqb81JSbQZkqZA-ejxSx3dqimOpTRr-B2VT6ktx1zTZLh6ue49jLUeOproXtmSeVDBM7SqmzV_5JB7oCUPfCSreNozABvaoT2AbFt0EQ314Dna3H-mya47DDeBSF26BxzJnUSZj27-bgJXdLnovqtgEOVrVR58iulbhtrWYs4POWXQYr7frqHmmLXGozQn_JoQXx5IZ3QmY4bi8Mvu5L9xQVSHU_Hth5np1T1qSnosn-SUl1KlpU7X3jgEc-2OMEZVvyIWdh5f2o0wsjbeQjwU-gIhvikWQ19MXlbRC3yJrE5stpAkCKAPH7NvIekzH8mQcm1hDdpcrlPvuq9gW7XR4l1RfM2Xj-keyl3fGsg9SuR7JL5Gcxa86vAQp4bD82UK9E1Asa46yKlBF7rWNZFdaQIMjOaF_Ajv0K6tIliE7HoSBTVOnWi-3tZl4Mrv70BMCDcsViu6ihiDFT-6pCw4npTMirTOngHpAYClXrhrWBQvRwQFMQ,,&amp;data=UlNrNmk5WktYejR0eWJFYk1LdmtxbW9iajlOZE9UY2haM2otSU9tVGZnYmRQaTQ4WXJ6eEFmenhEWTh6V2JtQTdDcWVfNERCam94SWo0c3RGX0o5WlQ3c1RNQmpCTW5sMUxXOFNVb2k5TXpDV2N5V0NuS1NZeFczU3hpVjVkcks,&amp;sign=f9f79a457e4caf5df3cd55c0fde388ea&amp;keyno=8&amp;b64e=2&amp;ref=orjY4mGPRjk5boDnW0uvlrrd71vZw9kpjly_ySFdX80,&amp;l10n=ru&quot;]\">youtube.com</a></div></div></div></div><div class=\"showcase__item showcase__item_optimized_yes grid__col grid__col_mode_static grid__col_width_4 scroller__item\" role=listitem><a class=\"link link_target_vertical-service link_theme_normal showcase__link clearfix i-bem\" data-bem='{\"link\":{\"service\":\"video\"}}' data-log-node=891y rel=noopener target=_blank tabindex=0 href=\"//yandex.ru/video/search?text=stepic&amp;path=wizard&amp;parent-reqid=1534880720591518-87297817111631953049859-vla1-2704&amp;noreask=1&amp;filmId=6268875872391822962\" data-counter=\"[&quot;w&quot;,&quot;254.231.1268.22.184&quot;,&quot;-filmId=6268875872391822962,186=358,-type=v4thumbs,-item=5,84=92,-source=fake&quot;]\"><div class=\"video2 video2_theme_default video2_largePlay_yes video2_size_s video2_design_beautiful video2_preview_yes thumb-preview thumb-preview_video showcase__item-thumb i-bem\" data-bem='{\"video2\":{\"counters\":{\"start\":[\"690.254.231.1268.22.670.2154\",\"186=358,-type=v4thumbs,-item=5\"],\"change\":[\"690.254.231.1268.22.670.719\",\"186=358,-type=v4thumbs,-item=5\"]}},\"thumb-preview\":{\"preview\":{\"url\":\"https://strm.yandex.net/get-video-preview-host/690B27FA149A14B94513C641D267C4B293145F5D121C01B7ED9AEB7F78987EB6689D32EAE2125866FAB9838C0010BEA236D700B439E7C1CE864B9F129CB3F569.mp4\",\"type\":\"video/mp4\",\"height\":1}}}'><div class=\"thumb thumb_shade_yes thumb_image-background_yes\" style=\"height:95px; width:168.89px;\"><div class=ratio><div class=\"image image_type_contain thumb__image grid__col grid__col_mode_static lazy-image__item thumb-preview__target\" data-bem='{\"lazy-image__item\":{\"src\":\"//avatars.mds.yandex.net/get-vthumb/930783/1ae23e58b6faacf23063f5f735686b04/168x95\",\"type\":\"bg\"}}' style=\"height:95px;\"></div></div><div class=thumb__handle></div></div><div class=video2__info><div class=video2__time>1:55:40</div><div class=video2__hd>HD</div></div><div class=\"video2__play video2__play_view_big\"></div><div class=video2__preview-info><div class=video2__play></div><div class=video2__preview-info-text><div class=video2__time>1:55:40</div><div class=video2__hd>HD</div></div></div></div><div class=\"showcase__item-descr typo typo_text_m typo_line_s\"><div class=\"showcase__item-subtitle showcase__item-subtitle_lines_3\"><b>Stepic</b> Meet-up по курсу Введение...</div></div></a><div class=\"showcase__item-extra typo typo_text_m typo_line_s\"><div class=showcase__item-path-wrap><div class=\"path showcase__item-path\" data-log-node=891z><a class=\"link link_outer_yes link_theme_outer path__item i-bem\" data-bem='{\"link\":{}}' data-log-node=8920 tabindex=-1 rel=noopener target=_blank href=\"http://www.youtube.com/watch?v=Dj1Y6gmVkhY\" data-counter=\"[&quot;rc&quot;,&quot;http://yandex.ru/clck/jsredir?from=yandex.ru%3Bsearch%2F%3Bweb%3B%3B&amp;text=&amp;etext=1886.43DAoI7ud_n81M26gcNPw7pVw-Xz3QfaRfC9knjTiVc.61987fba5f7763e71ecea511bf7e40e88eb15440&amp;uuid=&amp;state=H4h8uvWmGgzGHOSaNsaYVOY_N1QTxjrvV2d_HVR1-GeplhYdkwBZnf5tAhG_sZNfUawXMp_f2bJfHcD-0uyXHDEAMigxaHv3y2r-xGrjxeydL5oMgTqL6A,,&amp;&amp;cst=AiuY0DBWFJ4EhnbxqmjDhe7I0te9Lb9TE4X0i-PihUx-V39Nul4TJocsbOjuFYIDB8YS6_pk3NeYXFoByoiWRNBpbLYUfXgGurU5xnC-NVtW5_5S2k-kpUShcFVbHL4bqAemGEADhviCXDslU7OXzMZeQqjtF7vKH_Eqb81JSbQZkqZA-ejxSx3dqimOpTRr-B2VT6ktx1zTZLh6ue49jLUeOproXtmSeVDBM7SqmzV_5JB7oCUPfCSreNozABvaoT2AbFt0EQ314Dna3H-mya47DDeBSF26BxzJnUSZj27-bgJXdLnovqtgEOVrVR58iulbhtrWYs4POWXQYr7frqHmmLXGozQn_JoQXx5IZ3QmY4bi8Mvu5L9xQVSHU_Hth5np1T1qSnosn-SUl1KlpU7X3jgEc-2OMEZVvyIWdh5f2o0wsjbeQjwU-gIhvikWQ19MXlbRC3yJrE5stpAkCKAPH7NvIekzH8mQcm1hDdpcrlPvuq9gW7XR4l1RfM2Xj-keyl3fGsg9SuR7JL5Gcxa86vAQp4bD82UK9E1Asa46yKlBF7rWNZFdaQIMjOaF_Ajv0K6tIliE7HoSBTVOnWi-3tZl4Mrv70BMCDcsViu6ihiDFT-6pCw4npTMirTOngHpAYClXrhrWBQvRwQFMQ,,&amp;data=UlNrNmk5WktYejR0eWJFYk1LdmtxbW9iajlOZE9UY2haM2otSU9tVGZnYmRQaTQ4WXJ6eEFlYVhrVVFSbnRVQ0dXU1hMNnlZTFdwNEZXVWVkQzBWNDZKVnFGZm1nVkpoa2VNeG9BdVN1ci1pLThCbjVMWHFhT3J0b0FVT0ZPXzQ,&amp;sign=560a106703f3f194030a6c06326b8d1c&amp;keyno=8&amp;b64e=2&amp;ref=orjY4mGPRjk5boDnW0uvlrrd71vZw9kpjly_ySFdX80,&amp;l10n=ru&quot;]\">youtube.com</a></div></div></div></div><div class=\"showcase__item showcase__item_optimized_yes grid__col grid__col_mode_static grid__col_width_4 scroller__item\" role=listitem><a class=\"link link_target_vertical-service link_theme_normal showcase__link clearfix i-bem\" data-bem='{\"link\":{\"service\":\"video\"}}' data-log-node=8921 rel=noopener target=_blank tabindex=0 href=\"//yandex.ru/video/search?text=stepic&amp;path=wizard&amp;parent-reqid=1534880720591518-87297817111631953049859-vla1-2704&amp;noreask=1&amp;filmId=5197486906429448022\" data-counter=\"[&quot;w&quot;,&quot;254.231.1268.22.184&quot;,&quot;-filmId=5197486906429448022,186=358,-type=v4thumbs,-item=6,84=92,-source=fake&quot;]\"><div class=\"video2 video2_theme_default video2_largePlay_yes video2_size_s video2_hover_fade video2_design_beautiful showcase__item-thumb\"><div class=\"thumb thumb_hover_fade thumb_shade_yes thumb_image-background_yes\" style=\"height:95px; width:168.89px;\"><div class=ratio><div class=\"image image_type_contain thumb__image grid__col grid__col_mode_static lazy-image__item\" data-bem='{\"lazy-image__item\":{\"src\":\"//avatars.mds.yandex.net/get-vthumb/474494/89d2f10f63c87b9696e01c8f897beb9e/168x95\",\"type\":\"bg\"}}' style=\"height:95px;\"></div></div><div class=thumb__handle></div></div><div class=video2__info><div class=video2__time>8:10:28</div></div><div class=\"video2__play video2__play_view_big\"></div></div><div class=\"showcase__item-descr typo typo_text_m typo_line_s\"><div class=\"showcase__item-subtitle showcase__item-subtitle_lines_3\">Stepicon 2017.  День второй</div></div></a><div class=\"showcase__item-extra typo typo_text_m typo_line_s\"><div class=showcase__item-path-wrap><div class=\"path showcase__item-path\" data-log-node=8922><a class=\"link link_outer_yes link_theme_outer path__item i-bem\" data-bem='{\"link\":{}}' data-log-node=8923 tabindex=-1 rel=noopener target=_blank href=\"http://www.youtube.com/watch?v=3T-D6D4G7R8\" data-counter=\"[&quot;rc&quot;,&quot;http://yandex.ru/clck/jsredir?from=yandex.ru%3Bsearch%2F%3Bweb%3B%3B&amp;text=&amp;etext=1886.43DAoI7ud_n81M26gcNPw7pVw-Xz3QfaRfC9knjTiVc.61987fba5f7763e71ecea511bf7e40e88eb15440&amp;uuid=&amp;state=H4h8uvWmGgzGHOSaNsaYVOY_N1QTxjrvV2d_HVR1-GeplhYdkwBZnf5tAhG_sZNfUawXMp_f2bJcPdMJJPakT2m2wU96nq17ZNH5rtlkj228IavrDmWalw,,&amp;&amp;cst=AiuY0DBWFJ4EhnbxqmjDhe7I0te9Lb9TE4X0i-PihUx-V39Nul4TJocsbOjuFYIDB8YS6_pk3NeYXFoByoiWRNBpbLYUfXgGurU5xnC-NVtW5_5S2k-kpUShcFVbHL4bqAemGEADhviCXDslU7OXzMZeQqjtF7vKH_Eqb81JSbQZkqZA-ejxSx3dqimOpTRr-B2VT6ktx1zTZLh6ue49jLUeOproXtmSeVDBM7SqmzV_5JB7oCUPfCSreNozABvaoT2AbFt0EQ314Dna3H-mya47DDeBSF26BxzJnUSZj27-bgJXdLnovqtgEOVrVR58iulbhtrWYs4POWXQYr7frqHmmLXGozQn_JoQXx5IZ3QmY4bi8Mvu5L9xQVSHU_Hth5np1T1qSnosn-SUl1KlpU7X3jgEc-2OMEZVvyIWdh5f2o0wsjbeQjwU-gIhvikWQ19MXlbRC3yJrE5stpAkCKAPH7NvIekzH8mQcm1hDdpcrlPvuq9gW7XR4l1RfM2Xj-keyl3fGsg9SuR7JL5Gcxa86vAQp4bD82UK9E1Asa46yKlBF7rWNZFdaQIMjOaF_Ajv0K6tIliE7HoSBTVOnWi-3tZl4Mrv70BMCDcsViu6ihiDFT-6pCw4npTMirTOngHpAYClXrhrWBQvRwQFMQ,,&amp;data=UlNrNmk5WktYejR0eWJFYk1LdmtxbW9iajlOZE9UY2haM2otSU9tVGZnYmRQaTQ4WXJ6eEFUTDRaY3lvemthS3B5SzNKdWRLeldiN2UtaHplRHpIT0RDLWJNMHlPeVNtMk5sbUdILUw5dWpldUdQUXFWd25wRTdFRENBd1N5MVo,&amp;sign=fea9684a18ab1d02d08cdbd949f3d974&amp;keyno=8&amp;b64e=2&amp;ref=orjY4mGPRjk5boDnW0uvlrrd71vZw9kpjly_ySFdX80,&amp;l10n=ru&quot;]\">youtube.com</a></div></div></div></div><div class=\"showcase__item showcase__item_optimized_yes grid__col grid__col_mode_static grid__col_width_4 scroller__item\" role=listitem><a class=\"link link_target_vertical-service link_theme_normal showcase__link clearfix i-bem\" data-bem='{\"link\":{\"service\":\"video\"}}' data-log-node=8924 rel=noopener target=_blank tabindex=0 href=\"//yandex.ru/video/search?text=stepic&amp;path=wizard&amp;parent-reqid=1534880720591518-87297817111631953049859-vla1-2704&amp;noreask=1&amp;filmId=8100154623731033788\" data-counter=\"[&quot;w&quot;,&quot;254.231.1268.22.184&quot;,&quot;-filmId=8100154623731033788,186=358,-type=v4thumbs,-item=7,84=92,-source=fake&quot;]\"><div class=\"video2 video2_theme_default video2_largePlay_yes video2_size_s video2_design_beautiful video2_preview_yes thumb-preview thumb-preview_video showcase__item-thumb i-bem\" data-bem='{\"video2\":{\"counters\":{\"start\":[\"690.254.231.1268.22.670.2154\",\"186=358,-type=v4thumbs,-item=7\"],\"change\":[\"690.254.231.1268.22.670.719\",\"186=358,-type=v4thumbs,-item=7\"]}},\"thumb-preview\":{\"preview\":{\"url\":\"https://strm.yandex.net/get-video-preview-host/BACD181D1AE7F96CAC0AF21DBB38229274223BF50FDD930CCFBC17D8983AE1E78B13D852DBDD9DA37E021BCCE2C2731BF4CEDE75C6877DBB5BA71134A16EE21A.mp4\",\"type\":\"video/mp4\",\"height\":1}}}'><div class=\"thumb thumb_shade_yes thumb_image-background_yes\" style=\"height:95px; width:168.89px;\"><div class=ratio><div class=\"image image_type_contain thumb__image grid__col grid__col_mode_static lazy-image__item thumb-preview__target\" data-bem='{\"lazy-image__item\":{\"src\":\"//avatars.mds.yandex.net/get-vthumb/215750/718a7b96c615dab7f51b152a6cb89fb3/168x95\",\"type\":\"bg\"}}' style=\"height:95px;\"></div></div><div class=thumb__handle></div></div><div class=video2__info><div class=video2__time>00:47</div></div><div class=\"video2__play video2__play_view_big\"></div><div class=video2__preview-info><div class=video2__play></div><div class=video2__preview-info-text><div class=video2__time>00:47</div></div></div></div><div class=\"showcase__item-descr typo typo_text_m typo_line_s\"><div class=\"showcase__item-subtitle showcase__item-subtitle_lines_3\"><b>Степик</b></div></div></a><div class=\"showcase__item-extra typo typo_text_m typo_line_s\"><div class=showcase__item-path-wrap><div class=\"path showcase__item-path\" data-log-node=8925><a class=\"link link_outer_yes link_theme_outer path__item i-bem\" data-bem='{\"link\":{}}' data-log-node=8926 tabindex=-1 rel=noopener target=_blank href=\"http://www.youtube.com/watch?v=81RrOKDC8y4\" data-counter=\"[&quot;rc&quot;,&quot;http://yandex.ru/clck/jsredir?from=yandex.ru%3Bsearch%2F%3Bweb%3B%3B&amp;text=&amp;etext=1886.43DAoI7ud_n81M26gcNPw7pVw-Xz3QfaRfC9knjTiVc.61987fba5f7763e71ecea511bf7e40e88eb15440&amp;uuid=&amp;state=H4h8uvWmGgzGHOSaNsaYVOY_N1QTxjrvV2d_HVR1-GeplhYdkwBZnf5tAhG_sZNfUawXMp_f2bKoEvW9gFAVTVDcWmaS2Q0FljxdUepbez_Im3LziNvcVQ,,&amp;&amp;cst=AiuY0DBWFJ4EhnbxqmjDhe7I0te9Lb9TE4X0i-PihUx-V39Nul4TJocsbOjuFYIDB8YS6_pk3NeYXFoByoiWRNBpbLYUfXgGurU5xnC-NVtW5_5S2k-kpUShcFVbHL4bqAemGEADhviCXDslU7OXzMZeQqjtF7vKH_Eqb81JSbQZkqZA-ejxSx3dqimOpTRr-B2VT6ktx1zTZLh6ue49jLUeOproXtmSeVDBM7SqmzV_5JB7oCUPfCSreNozABvaoT2AbFt0EQ314Dna3H-mya47DDeBSF26BxzJnUSZj27-bgJXdLnovqtgEOVrVR58iulbhtrWYs4POWXQYr7frqHmmLXGozQn_JoQXx5IZ3QmY4bi8Mvu5L9xQVSHU_Hth5np1T1qSnosn-SUl1KlpU7X3jgEc-2OMEZVvyIWdh5f2o0wsjbeQjwU-gIhvikWQ19MXlbRC3yJrE5stpAkCKAPH7NvIekzH8mQcm1hDdpcrlPvuq9gW7XR4l1RfM2Xj-keyl3fGsg9SuR7JL5Gcxa86vAQp4bD82UK9E1Asa46yKlBF7rWNZFdaQIMjOaF_Ajv0K6tIliE7HoSBTVOnWi-3tZl4Mrv70BMCDcsViu6ihiDFT-6pCw4npTMirTOngHpAYClXrhrWBQvRwQFMQ,,&amp;data=UlNrNmk5WktYejR0eWJFYk1LdmtxbW9iajlOZE9UY2haM2otSU9tVGZnYmRQaTQ4WXJ6eEFYc0RlVzZsZWZMcHo1bW0yWC1ReWhDWGFidXBtNjBiTVR4bVgxVnVRRDZ2Wm1WbFR3QnVBdWdNM2FWb2RMWVZ3UHEySi1fVy1KQlg,&amp;sign=74ce4305dca766f69db5f614a108fa96&amp;keyno=8&amp;b64e=2&amp;ref=orjY4mGPRjk5boDnW0uvlrrd71vZw9kpjly_ySFdX80,&amp;l10n=ru&quot;]\">youtube.com</a></div></div></div></div><div class=\"showcase__item showcase__item_optimized_yes grid__col grid__col_mode_static grid__col_width_4 scroller__item\" role=listitem><a class=\"link link_target_vertical-service link_theme_normal showcase__link clearfix i-bem\" data-bem='{\"link\":{\"service\":\"video\"}}' data-log-node=8927 rel=noopener target=_blank tabindex=0 href=\"//yandex.ru/video/search?text=stepic&amp;path=wizard&amp;parent-reqid=1534880720591518-87297817111631953049859-vla1-2704&amp;noreask=1&amp;filmId=2685417041402810746\" data-counter=\"[&quot;w&quot;,&quot;254.231.1268.22.184&quot;,&quot;-filmId=2685417041402810746,186=358,-type=v4thumbs,-item=8,84=92,-source=fake&quot;]\"><div class=\"video2 video2_theme_default video2_largePlay_yes video2_size_s video2_design_beautiful video2_preview_yes thumb-preview thumb-preview_video showcase__item-thumb i-bem\" data-bem='{\"video2\":{\"counters\":{\"start\":[\"690.254.231.1268.22.670.2154\",\"186=358,-type=v4thumbs,-item=8\"],\"change\":[\"690.254.231.1268.22.670.719\",\"186=358,-type=v4thumbs,-item=8\"]}},\"thumb-preview\":{\"preview\":{\"url\":\"https://strm.yandex.net/get-video-preview-host/366B503133CE27B2D823792EA55313AE7C548F99E46AD888A377E1FAF35C34361F3ED299A70D3A395649D94E78C169AAFC5BBC550E73FEC759F5BDCD63651F76.mp4\",\"type\":\"video/mp4\",\"height\":1}}}'><div class=\"thumb thumb_shade_yes thumb_image-background_yes\" style=\"height:95px; width:168.89px;\"><div class=ratio><div class=\"image image_type_contain thumb__image grid__col grid__col_mode_static lazy-image__item thumb-preview__target\" data-bem='{\"lazy-image__item\":{\"src\":\"//avatars.mds.yandex.net/get-vthumb/761525/ab4873c20c17822fbc3af1c4e8bc57b1/168x95\",\"type\":\"bg\"}}' style=\"height:95px;\"></div></div><div class=thumb__handle></div></div><div class=video2__info><div class=video2__time>2:06</div><div class=video2__hd>HD</div></div><div class=\"video2__play video2__play_view_big\"></div><div class=video2__preview-info><div class=video2__play></div><div class=video2__preview-info-text><div class=video2__time>2:06</div><div class=video2__hd>HD</div></div></div></div><div class=\"showcase__item-descr typo typo_text_m typo_line_s\"><div class=\"showcase__item-subtitle showcase__item-subtitle_lines_3\"><b>Stepic</b>.</div></div></a><div class=\"showcase__item-extra typo typo_text_m typo_line_s\"><div class=showcase__item-path-wrap><div class=\"path showcase__item-path\" data-log-node=8928><a class=\"link link_outer_yes link_theme_outer path__item i-bem\" data-bem='{\"link\":{}}' data-log-node=8929 tabindex=-1 rel=noopener target=_blank href=\"http://vimeo.com/105479103\" data-counter=\"[&quot;rc&quot;,&quot;http://yandex.ru/clck/jsredir?from=yandex.ru%3Bsearch%2F%3Bweb%3B%3B&amp;text=&amp;etext=1886.43DAoI7ud_n81M26gcNPw7pVw-Xz3QfaRfC9knjTiVc.61987fba5f7763e71ecea511bf7e40e88eb15440&amp;uuid=&amp;state=H4h8uvWmGgzGHOSaNsaYVOY_N1QTxjrvV2d_HVR1-GeplhYdkwBZnf5tAhG_sZNfUawXMp_f2bLb2E0Y_csze0YhB1nzPZ5UtRGq-zw18UUMig13W_TAPQ,,&amp;&amp;cst=AiuY0DBWFJ4EhnbxqmjDhe7I0te9Lb9TE4X0i-PihUx-V39Nul4TJocsbOjuFYIDB8YS6_pk3NeYXFoByoiWRNBpbLYUfXgGurU5xnC-NVtW5_5S2k-kpUShcFVbHL4bqAemGEADhviCXDslU7OXzMZeQqjtF7vKH_Eqb81JSbQZkqZA-ejxSx3dqimOpTRr-B2VT6ktx1zTZLh6ue49jLUeOproXtmSeVDBM7SqmzV_5JB7oCUPfCSreNozABvaoT2AbFt0EQ314Dna3H-mya47DDeBSF26BxzJnUSZj27-bgJXdLnovqtgEOVrVR58iulbhtrWYs4POWXQYr7frqHmmLXGozQn_JoQXx5IZ3QmY4bi8Mvu5L9xQVSHU_Hth5np1T1qSnosn-SUl1KlpU7X3jgEc-2OMEZVvyIWdh5f2o0wsjbeQjwU-gIhvikWQ19MXlbRC3yJrE5stpAkCKAPH7NvIekzH8mQcm1hDdpcrlPvuq9gW7XR4l1RfM2Xj-keyl3fGsg9SuR7JL5Gcxa86vAQp4bD82UK9E1Asa46yKlBF7rWNZFdaQIMjOaF_Ajv0K6tIliE7HoSBTVOnWi-3tZl4Mrv70BMCDcsViu6ihiDFT-6pCw4npTMirTOngHpAYClXrhrWBQvRwQFMQ,,&amp;data=UlNrNmk5WktYejR0eWJFYk1LdmtxbVctZldXc0o3a0MzeWVoUThpcnIxR1BRM3dtMDFwQmMtRk5EWkEwRDhkd1NXQXpmcVd6U1hhZzRudVhEUjQ0TGRWcmFIbEV2VDkteFMtXzNWTzBtVGcs&amp;sign=d2128ec41e74178c3d2caf03cd6542f0&amp;keyno=8&amp;b64e=2&amp;ref=orjY4mGPRjk5boDnW0uvlrrd71vZw9kpjly_ySFdX80,&amp;l10n=ru&quot;]\">vimeo.com</a></div></div></div></div><div class=\"showcase__item showcase__item_optimized_yes grid__col grid__col_mode_static grid__col_width_4 scroller__item\" role=listitem><a class=\"link link_target_vertical-service link_theme_normal showcase__link clearfix i-bem\" data-bem='{\"link\":{\"service\":\"video\"}}' data-log-node=892a rel=noopener target=_blank tabindex=0 href=\"//yandex.ru/video/search?text=stepic&amp;path=wizard&amp;parent-reqid=1534880720591518-87297817111631953049859-vla1-2704&amp;noreask=1&amp;filmId=5823716889916985138\" data-counter=\"[&quot;w&quot;,&quot;254.231.1268.22.184&quot;,&quot;-filmId=5823716889916985138,186=358,-type=v4thumbs,-item=9,84=92,-source=fake&quot;]\"><div class=\"video2 video2_theme_default video2_largePlay_yes video2_size_s video2_design_beautiful video2_preview_yes thumb-preview thumb-preview_video showcase__item-thumb i-bem\" data-bem='{\"video2\":{\"counters\":{\"start\":[\"690.254.231.1268.22.670.2154\",\"186=358,-type=v4thumbs,-item=9\"],\"change\":[\"690.254.231.1268.22.670.719\",\"186=358,-type=v4thumbs,-item=9\"]}},\"thumb-preview\":{\"preview\":{\"url\":\"https://strm.yandex.net/get-video-preview-host/71F0112E09EB04B7297BCA25FFF66FE58CB727B8BD11915BB982C04FFF0EE4B9E4D404CF4BBE8B4A72CEB3FE5D39225A3DF04D67A816184F0B08A0334AA2B722.mp4\",\"type\":\"video/mp4\",\"height\":1}}}'><div class=\"thumb thumb_shade_yes thumb_image-background_yes\" style=\"height:95px; width:168.89px;\"><div class=ratio><div class=\"image image_type_contain thumb__image grid__col grid__col_mode_static lazy-image__item thumb-preview__target\" data-bem='{\"lazy-image__item\":{\"src\":\"//avatars.mds.yandex.net/get-vthumb/899167/2b12ae1b578aff8bb63dbdde400180e3/168x95\",\"type\":\"bg\"}}' style=\"height:95px;\"></div></div><div class=thumb__handle></div></div><div class=video2__info><div class=video2__time>5:53</div><div class=video2__hd>HD</div></div><div class=\"video2__play video2__play_view_big\"></div><div class=video2__preview-info><div class=video2__play></div><div class=video2__preview-info-text><div class=video2__time>5:53</div><div class=video2__hd>HD</div></div></div></div><div class=\"showcase__item-descr typo typo_text_m typo_line_s\"><div class=\"showcase__item-subtitle showcase__item-subtitle_lines_3\"><b>Stepic</b> - Технологии прототипирования: от...</div></div></a><div class=\"showcase__item-extra typo typo_text_m typo_line_s\"><div class=showcase__item-path-wrap><div class=\"path showcase__item-path\" data-log-node=892b><a class=\"link link_outer_yes link_theme_outer path__item i-bem\" data-bem='{\"link\":{}}' data-log-node=892c tabindex=-1 rel=noopener target=_blank href=\"http://vimeo.com/106681967\" data-counter=\"[&quot;rc&quot;,&quot;http://yandex.ru/clck/jsredir?from=yandex.ru%3Bsearch%2F%3Bweb%3B%3B&amp;text=&amp;etext=1886.43DAoI7ud_n81M26gcNPw7pVw-Xz3QfaRfC9knjTiVc.61987fba5f7763e71ecea511bf7e40e88eb15440&amp;uuid=&amp;state=H4h8uvWmGgzGHOSaNsaYVOY_N1QTxjrvV2d_HVR1-GeplhYdkwBZnf5tAhG_sZNfUawXMp_f2bIQHW8CkFvnRBfren8OPggQVklwj7Hg9mJ-1UxLzxrwIw,,&amp;&amp;cst=AiuY0DBWFJ4EhnbxqmjDhe7I0te9Lb9TE4X0i-PihUx-V39Nul4TJocsbOjuFYIDB8YS6_pk3NeYXFoByoiWRNBpbLYUfXgGurU5xnC-NVtW5_5S2k-kpUShcFVbHL4bqAemGEADhviCXDslU7OXzMZeQqjtF7vKH_Eqb81JSbQZkqZA-ejxSx3dqimOpTRr-B2VT6ktx1zTZLh6ue49jLUeOproXtmSeVDBM7SqmzV_5JB7oCUPfCSreNozABvaoT2AbFt0EQ314Dna3H-mya47DDeBSF26BxzJnUSZj27-bgJXdLnovqtgEOVrVR58iulbhtrWYs4POWXQYr7frqHmmLXGozQn_JoQXx5IZ3QmY4bi8Mvu5L9xQVSHU_Hth5np1T1qSnosn-SUl1KlpU7X3jgEc-2OMEZVvyIWdh5f2o0wsjbeQjwU-gIhvikWQ19MXlbRC3yJrE5stpAkCKAPH7NvIekzH8mQcm1hDdpcrlPvuq9gW7XR4l1RfM2Xj-keyl3fGsg9SuR7JL5Gcxa86vAQp4bD82UK9E1Asa46yKlBF7rWNZFdaQIMjOaF_Ajv0K6tIliE7HoSBTVOnWi-3tZl4Mrv70BMCDcsViu6ihiDFT-6pCw4npTMirTOngHpAYClXrhrWBQvRwQFMQ,,&amp;data=UlNrNmk5WktYejR0eWJFYk1LdmtxbVctZldXc0o3a0N6aWN2eUEzLXY2ZVdwS1N0c25ROEFGYm5QSDZXZktwN1BXc25RLTRoRE1BNjNoTmlmeVN5M2p5VHJKU0FpLXlqM0RrT0E2R2RyMHMs&amp;sign=ed76de8d9663587df6e6b8f6d31af498&amp;keyno=8&amp;b64e=2&amp;ref=orjY4mGPRjk5boDnW0uvlrrd71vZw9kpjly_ySFdX80,&amp;l10n=ru&quot;]\">vimeo.com</a></div></div></div></div><div class=\"more-item more-item_with-height_yes grid__col grid__col_width_4 grid__col_mode_static showcase__item showcase__item_more_yes scroller__item i-bem\" data-bem='{\"more-item\":{\"counter\":[\"690.254.231.1268.3065\",\"186=358,-type=v4thumbs,689=1086,84=92,-source=fake\"]}}' style=\"height: 95px;\"><a class=\"link link_target_vertical-service link_theme_normal more-item__link typo typo_text_m typo_line_s i-bem\" data-bem='{\"link\":{\"service\":\"video\"}}' data-log-node=892d rel=noopener target=_blank tabindex=0 href=\"//yandex.ru/video/search?text=stepic&amp;path=wizard&amp;parent-reqid=1534880720591518-87297817111631953049859-vla1-2704&amp;noreask=1\" data-counter=\"[&quot;w&quot;,&quot;254.231.1268.75&quot;,&quot;186=358,-type=v4thumbs,84=92,-source=fake&quot;]\"><div class=\"more-item__inner grid__col grid__col_width_4 grid__col_mode_static\"><div class=more-item__text><div class=more-item__arrow-icon></div>Ещё видео</div></div></a></div></div><span class=\"link link_theme_normal scroller__arrow scroller__arrow_direction_left i-bem\" data-bem='{\"link\":{}}' style=\"top: 47.5px;\" data-log-node=892e rel=noopener target=_blank tabindex=0 role=button data-counter=\"[&quot;w&quot;,&quot;254.231.1268.1924&quot;,&quot;186=358,-type=v4thumbs,689=1086,84=92,-source=fake&quot;]\"></span><span class=\"link link_theme_normal scroller__arrow scroller__arrow_direction_right i-bem\" data-bem='{\"link\":{}}' style=\"top: 47.5px;\" data-log-node=892f rel=noopener target=_blank tabindex=0 role=button data-counter=\"[&quot;w&quot;,&quot;254.231.1268.1925&quot;,&quot;186=358,-type=v4thumbs,689=1086,84=92,-source=fake&quot;]\"></span></div></div></div></div><style nonce=3938 data-stylesheet=progressive>.serp-meta{overflow:hidden;margin-top:4px}.serp-meta_type_gray{color:#999}.b-page_tld_com-tr .serp-meta .link.link_hovered_yes,.serp-meta__link:active,.serp-meta__link:hover{color:#d00}.b-page_tld_com-tr .serp-meta__link{color:#1a0dab}.serp-meta__items{margin-right:10px}.serp-meta .link{color:#00c}.serp-meta .link:visited{color:#551a8b}.b-page_tld_com-tr .serp-meta .link{color:#1a0dab}.serp-meta__icon{display:inline-block;width:16px;height:16px;margin-left:-16px;vertical-align:middle;background-position:0 0;background-repeat:no-repeat}.link .serp-meta__icon{background-position:0 -48px}.b-page_tld_com-tr .link .serp-meta__icon,.link .serp-meta__icon{background-position:0 -16px}.link:visited .serp-meta__icon{background-position:0 -32px}.link:hover .serp-meta__icon{background-position:0 -64px}.serp-meta__icon_type_check{background-image:url(\"//yastatic.net/web4/_/ObEeFe-mSsph0uBSxfeJWJVmOJw.svg\")}.serp-meta__icon_type_clock{background-image:url(\"//yastatic.net/web4/_/I-wwKziDvCt2x19TlZyLERubB_4.svg\")}.serp-meta__icon_type_map{background-image:url(\"//yastatic.net/web4/_/2iB9QnH43TSAtfcbmDLdeiDlMzY.svg\")}.serp-meta__icon_type_phone{background-image:url(\"//yastatic.net/web4/_/IrnAr9yluGUbHUx5d433cgnNf5M.svg\")}.serp-meta__icon{margin-top:-1px}.serp-meta__item{display:inline-block;overflow:hidden;max-width:100%;vertical-align:top;white-space:nowrap;text-overflow:ellipsis}.serp-meta__line+.serp-meta__line{margin-top:2px}.serp-meta__line+.serp-meta__line_splitter_yes{margin-top:4px}.serp-meta__line_with-icon_yes .serp-meta__item_first,.serp-meta__line_with-icon_yes:not(.serp-meta__line_wrap_yes){padding-left:16px}.serp-meta__line_with-icon_yes:not(.serp-meta__line_wrap_yes) .serp-meta__item_first{margin-left:-16px}.serp-meta__line_wrap_yes .serp-meta__item{display:inline;overflow:visible;white-space:normal}.serp-meta__line_separator_bullet .serp-meta__item:not(.serp-meta__item_last){margin-right:7px}.serp-meta__line_separator_bullet .serp-meta__item:not(.serp-meta__item_last)::after{display:inline-block;width:2px;height:2px;margin-left:7px;content:'';vertical-align:middle;background-color:#999}.serp-meta__line_separator_none .serp-meta__item:not(.serp-meta__item_last){margin-right:10px}.rating{white-space:nowrap}.rating__value{color:#000}.rating__value_bold_yes{font-weight:700}.rating__rest,.rating__stars{position:relative;display:inline-table}.rating__half,.rating__star{position:absolute;top:0;left:0;display:inherit}.rating__star{background:0 0 url(\"data:image/svg+xml,%3Csvg xmlns%3D%22http%3A%2F%2Fwww.w3.org%2F2000%2Fsvg%22 width%3D%22102%22 height%3D%2296%22%3E%3Cpath d%3D%22M48 75L18 93l9-34L0 37l35-3L48 2l13 32 35 3-27 22 9 34z%22 fill%3D%22%23f7c70a%22 %2F%3E%3C%2Fsvg%3E%0A\")}.rating__half,.rating__rest{background:0 0 url(\"data:image/svg+xml,%3Csvg xmlns%3D%22http%3A%2F%2Fwww.w3.org%2F2000%2Fsvg%22 width%3D%22102%22 height%3D%2296%22%3E%3Cpath d%3D%22M48 75L18 93l9-34L0 37l35-3L48 2l13 32 35 3-27 22 9 34z%22 fill%3D%22%23000%22%2F%3E%3C%2Fsvg%3E%0A\");opacity:.1}.rating__rest{opacity:.15}.rating__hint{margin-left:3px;color:#999}.rating__source .link{color:#04b}.rating__rest,.rating__stars{top:-2px;vertical-align:middle}.rating_type_extended.rating_invert .rating__value{color:#fff}.rating_type_extended{color:#999}.rating_type_label.rating_size_s{line-height:15px}.rating_type_label.rating_size_m{line-height:17px}.rating_type_label.rating_size_l{line-height:24px}.rating__label{width:2.5em;padding:0;text-align:center;font-weight:700;color:#fff;border-radius:4px}.rating__label_rating_great{background-color:#32ba43}.rating__label_rating_good{background-color:#89c939}.rating__label_rating_fine{background-color:#91a449}.rating__label_rating_bad{background-color:#85855d}.rating_size_m .rating__stars{height:16px;line-height:16px}.rating_size_m .rating__half,.rating_size_m .rating__rest,.rating_size_m .rating__star{height:16px;background-size:17px 100%}.rating_size_m .rating__delimiter{margin:0 2px}.rating_size_m .rating__hint{margin-left:3px}</style><li class=serp-item data-cid=8 data-log-node=892g><div class=\"organic typo typo_text_m typo_line_s\"><h2 class=\"organic__title-wrapper typo typo_text_l typo_line_m\"><div class=a11y-hidden>9</div><a class=\"link link_theme_normal organic__url link_cropped_no i-bem\" data-bem='{\"link\":{}}' accesskey=9 tabindex=2 data-log-node=892h rel=noopener target=_blank href=\"http://otzovik.com/reviews/stepik_org-onlayn_obuchenie/\" data-counter=\"[&quot;rc&quot;,&quot;http://yandex.ru/clck/jsredir?from=yandex.ru%3Bsearch%2F%3Bweb%3B%3B&amp;text=&amp;etext=1886.43DAoI7ud_n81M26gcNPw7pVw-Xz3QfaRfC9knjTiVc.61987fba5f7763e71ecea511bf7e40e88eb15440&amp;uuid=&amp;state=PEtFfuTeVD5kpHnK9lio9daDl0Ow0EQqBnwXqr2CGSTlhSDEzIy2U1LCcDQlKH1X7blF4d8dl7aniLWoPse9jWtCK8mb6euqGgr8xnhZWIAkuPmYKMf3BonpKoLaUVBFQV6P9nFU6o8,&amp;&amp;cst=AiuY0DBWFJ4EhnbxqmjDhe7I0te9Lb9TE4X0i-PihUx-V39Nul4TJocsbOjuFYIDB8YS6_pk3NeYXFoByoiWRNBpbLYUfXgGurU5xnC-NVtW5_5S2k-kpUShcFVbHL4bqAemGEADhviCXDslU7OXzMZeQqjtF7vKH_Eqb81JSbQZkqZA-ejxSx3dqimOpTRr-B2VT6ktx1zTZLh6ue49jLUeOproXtmSeVDBM7SqmzV_5JB7oCUPfCSreNozABvaoT2AbFt0EQ314Dna3H-mya47DDeBSF26BxzJnUSZj27-bgJXdLnovqtgEOVrVR58iulbhtrWYs4POWXQYr7frqHmmLXGozQn_JoQXx5IZ3QmY4bi8Mvu5L9xQVSHU_Hth5np1T1qSnosn-SUl1KlpU7X3jgEc-2OMEZVvyIWdh5f2o0wsjbeQjwU-gIhvikWQ19MXlbRC3yJrE5stpAkCKAPH7NvIekzH8mQcm1hDdpcrlPvuq9gW7XR4l1RfM2Xj-keyl3fGsg9SuR7JL5Gcxa86vAQp4bD82UK9E1Asa46yKlBF7rWNZFdaQIMjOaF_Ajv0K6tIliE7HoSBTVOnWi-3tZl4Mrv70BMCDcsViu6ihiDFT-6pCw4npTMirTOngHpAYClXrhrWBQvRwQFMQ,,&amp;data=UlNrNmk5WktYejR0eWJFYk1LdmtxZzZMX2N1eWYxQ3VvekZLNFNUR2R3T3hPM1ZMaU8xQkxiam1QUUpFYXNOSW56VVFiU1c5TkxGS2cxWjN5ZHFOOVlQUWo3VXFfcWRETkZpR2FRYW1nNGJVN2Zqek02SlNBQ240UERvNGxva2lQT1Z5ZElrYzhyZUxvQTdkTTlDWTR3LCw,&amp;sign=fb382ce5876fdf7f79a10e065fb91850&amp;keyno=8&amp;b64e=2&amp;ref=orjY4mGPRjk5boDnW0uvlrrd71vZw9kpjly_ySFdX80,&amp;l10n=ru&quot;]\"><div class=\"favicon favicon_page_0\"><div class=favicon__icon style=\"background-position:0 -128px;\"></div></div><div class=organic__url-text>Отзывы о <b class=\"needsclick\">Stepik</b>.org - онлайн обучение</div></a></h2><div class=\"organic__subtitle typo typo_type_greenurl\"><div class=\"path organic__path\" data-log-node=892i><a class=\"link link_outer_yes link_theme_outer path__item i-bem\" data-bem='{\"link\":{}}' data-log-node=892j tabindex=-1 rel=noopener target=_blank href=\"http://otzovik.com/\" data-counter=\"[&quot;rc&quot;,&quot;http://yandex.ru/clck/jsredir?from=yandex.ru%3Bsearch%2F%3Bweb%3B%3B&amp;text=&amp;etext=1886.43DAoI7ud_n81M26gcNPw7pVw-Xz3QfaRfC9knjTiVc.61987fba5f7763e71ecea511bf7e40e88eb15440&amp;uuid=&amp;state=PEtFfuTeVD4jaxywoSUvtB2i7c0_vxGdgvKc46qzPydo6Lo5iJ2v5Q0NgAazPUVMy5h7df_CXvH7btrlWeCe-L-wQltr5I21foH482E_oKi_j4JgaBp23w,,&amp;&amp;cst=AiuY0DBWFJ4EhnbxqmjDhe7I0te9Lb9TE4X0i-PihUx-V39Nul4TJocsbOjuFYIDB8YS6_pk3NeYXFoByoiWRNBpbLYUfXgGurU5xnC-NVtW5_5S2k-kpUShcFVbHL4bqAemGEADhviCXDslU7OXzMZeQqjtF7vKH_Eqb81JSbQZkqZA-ejxSx3dqimOpTRr-B2VT6ktx1zTZLh6ue49jLUeOproXtmSeVDBM7SqmzV_5JB7oCUPfCSreNozABvaoT2AbFt0EQ314Dna3H-mya47DDeBSF26BxzJnUSZj27-bgJXdLnovqtgEOVrVR58iulbhtrWYs4POWXQYr7frqHmmLXGozQn_JoQXx5IZ3QmY4bi8Mvu5L9xQVSHU_Hth5np1T1qSnosn-SUl1KlpU7X3jgEc-2OMEZVvyIWdh5f2o0wsjbeQjwU-gIhvikWQ19MXlbRC3yJrE5stpAkCKAPH7NvIekzH8mQcm1hDdpcrlPvuq9gW7XR4l1RfM2Xj-keyl3fGsg9SuR7JL5Gcxa86vAQp4bD82UK9E1Asa46yKlBF7rWNZFdaQIMjOaF_Ajv0K6tIliE7HoSBTVOnWi-3tZl4Mrv70BMCDcsViu6ihiDFT-6pCw4npTMirTOngHpAYClXrhrWBQvRwQFMQ,,&amp;data=UlNrNmk5WktYejR0eWJFYk1LdmtxZzZMX2N1eWYxQ3VReDJfUy1TMnJqcnMzZ29fMzcwbTlPRjdBamJPUkdYMTFfa0NkWnhkUmlIcGtRM2kzN3BkYXE1YXVLTldNRGJq&amp;sign=0cc32233b2cd607aaacfbdc66752abe7&amp;keyno=8&amp;b64e=2&amp;ref=orjY4mGPRjk5boDnW0uvlrrd71vZw9kpjly_ySFdX80,&amp;l10n=ru&quot;]\"><b>otzovik.com</b></a><span class=path__separator>›</span><a class=\"link link_outer_yes link_theme_outer path__item i-bem\" data-bem='{\"link\":{}}' data-log-node=892k tabindex=-1 rel=noopener target=_blank href=\"http://otzovik.com/reviews/stepik_org-onlayn_obuchenie/\" data-counter=\"[&quot;rc&quot;,&quot;http://yandex.ru/clck/jsredir?from=yandex.ru%3Bsearch%2F%3Bweb%3B%3B&amp;text=&amp;etext=1886.43DAoI7ud_n81M26gcNPw7pVw-Xz3QfaRfC9knjTiVc.61987fba5f7763e71ecea511bf7e40e88eb15440&amp;uuid=&amp;state=PEtFfuTeVD4jaxywoSUvtB2i7c0_vxGdgvKc46qzPydo6Lo5iJ2v5Q0NgAazPUVMy5h7df_CXvFowj8hIHR_dljyPfDwbghUN1QUN-AFmGTWEb94dq1abQ,,&amp;&amp;cst=AiuY0DBWFJ4EhnbxqmjDhe7I0te9Lb9TE4X0i-PihUx-V39Nul4TJocsbOjuFYIDB8YS6_pk3NeYXFoByoiWRNBpbLYUfXgGurU5xnC-NVtW5_5S2k-kpUShcFVbHL4bqAemGEADhviCXDslU7OXzMZeQqjtF7vKH_Eqb81JSbQZkqZA-ejxSx3dqimOpTRr-B2VT6ktx1zTZLh6ue49jLUeOproXtmSeVDBM7SqmzV_5JB7oCUPfCSreNozABvaoT2AbFt0EQ314Dna3H-mya47DDeBSF26BxzJnUSZj27-bgJXdLnovqtgEOVrVR58iulbhtrWYs4POWXQYr7frqHmmLXGozQn_JoQXx5IZ3QmY4bi8Mvu5L9xQVSHU_Hth5np1T1qSnosn-SUl1KlpU7X3jgEc-2OMEZVvyIWdh5f2o0wsjbeQjwU-gIhvikWQ19MXlbRC3yJrE5stpAkCKAPH7NvIekzH8mQcm1hDdpcrlPvuq9gW7XR4l1RfM2Xj-keyl3fGsg9SuR7JL5Gcxa86vAQp4bD82UK9E1Asa46yKlBF7rWNZFdaQIMjOaF_Ajv0K6tIliE7HoSBTVOnWi-3tZl4Mrv70BMCDcsViu6ihiDFT-6pCw4npTMirTOngHpAYClXrhrWBQvRwQFMQ,,&amp;data=UlNrNmk5WktYejR0eWJFYk1LdmtxZzZMX2N1eWYxQ3VvekZLNFNUR2R3T3hPM1ZMaU8xQkxiam1QUUpFYXNOSW56VVFiU1c5TkxGS2cxWjN5ZHFOOVlQUWo3VXFfcWRETkZpR2FRYW1nNGJVN2Zqek02SlNBQ240UERvNGxva2lQT1Z5ZElrYzhyZUxvQTdkTTlDWTR3LCw,&amp;sign=c07aa63f826bff307507aa039ee3f2a6&amp;keyno=8&amp;b64e=2&amp;ref=orjY4mGPRjk5boDnW0uvlrrd71vZw9kpjly_ySFdX80,&amp;l10n=ru&quot;]\">reviews/stepik_org-onlayn_obuchenie/</a></div><div class=\"extralinks i-bem\" data-bem='{\"extralinks\":{}}' data-log-node=892l><div class=\"popup2 popup2_target_anchor popup2_autoclosable_yes popup2_theme_normal popup2_hiding_yes popup2_view_classic extralinks__popup i-bem\" data-bem='{\"popup2\":{\"directions\":[\"bottom-center\"]}}'><a class=\"link link_theme_normal i-bem\" data-bem='{\"link\":{}}' data-log-node=892m rel=noopener target=_blank tabindex=0 href=\"http://hghltd.yandex.net/yandbtm?fmode=inject&amp;url=http%3A%2F%2Fotzovik.com%2Freviews%2Fstepik_org-onlayn_obuchenie%2F&amp;tld=ru&amp;lang=ru&amp;la=1534615168&amp;tm=1534880720&amp;text=stepic&amp;l10n=ru&amp;mime=html&amp;sign=b173f981eabdb0a4409a6d0ab02d06b7&amp;keyno=0\" data-counter=\"[&quot;w&quot;,&quot;80.22.362&quot;,&quot;-adapters=snip-rating|extended-snippet,84=93,-source=web&quot;]\">Сохранённая копия</a><a class=\"link link_pseudo_yes link_theme_pseudo ajax i-bem\" data-bem='{\"link\":{},\"ajax\":{}}' data-log-node=892n rel=noopener target=_blank tabindex=0 href=\"/search/?text=stepic&amp;lr=35&amp;noreask=1&amp;site=otzovik.com\" data-counter=\"[&quot;w&quot;,&quot;80.22.336&quot;,&quot;-adapters=snip-rating|extended-snippet,84=93,-source=web&quot;]\">Показать ещё с сайта</a><span class=\"link link_theme_normal show-feedback i-bem\" data-bem='{\"link\":{},\"show-feedback\":{\"abuseLink\":\"https://yandex.ru/search/abuse?sign=15ce5b86ce856a65911e90502dcca848&amp;keyno=0\",\"reqid\":\"1534880720591518-87297817111631953049859-vla1-2704\"}}' data-log-node=892o rel=noopener target=_blank tabindex=0 role=button data-counter=\"[&quot;w&quot;,&quot;80.22.1436&quot;,&quot;689=1086,-adapters=snip-rating|extended-snippet,84=93,-source=web&quot;]\">Пожаловаться</span></div></div></div><div class=\"organic__content-wrapper clearfix\"><div class=\"text-container typo typo_text_m typo_line_m\"><div class=\"extended-text extended-text_mode_js extended-text_state_short i-bem\" data-bem='{\"extended-text\":{}}' data-log-node=892p><span class=extended-text__short>За то время пока я пользуюсь платформой <b>Stepic</b> она существенно изменилась и, надо заметить, в лучшую сторону. <span class=\"link link_theme_normal extended-text__toggle i-bem\" data-bem='{\"link\":{}}' data-log-node=892q tabindex=0 role=button data-counter=\"[&quot;w&quot;,&quot;80.22.75&quot;,&quot;-adapters=snip-rating|extended-snippet,689=1086,84=93,-source=web&quot;]\">Читать ещё</span></span><span class=extended-text__full>За то время пока я пользуюсь платформой <b>Stepic</b> она существенно изменилась и, надо заметить, в лучшую сторону. На платформе представлены курсы по самым разным направлениям знаний таким как Математика, Информационные технологии, Программирование, Иностранные языки и... Читать весь отзыв Отзыв рекомендуют:1 0. <span class=\"link link_theme_normal extended-text__toggle i-bem\" data-bem='{\"link\":{}}' data-log-node=892r tabindex=0 role=button data-counter=\"[&quot;w&quot;,&quot;80.22.486&quot;,&quot;-adapters=snip-rating|extended-snippet,689=1086,84=93,-source=web&quot;]\">Скрыть</span></span></div></div><div class=\"serp-meta serp-meta_type_gray serp-meta_rating_yes typo typo_text_m typo_line_s\"><div class=\"serp-meta__line serp-meta__line_separator_bullet\"><div class=\"serp-meta__item serp-meta__item_first serp-meta__item_last\"><span class=\"rating rating_type_extended rating_size_m\"><span class=rating__stars style=width:84px><span class=rating__half style=width:84px></span><div class=rating__star style=width:76px></div></span><span class=rating__rest style=width:0px></span> <span class=\"rating__value rating__value_bold_yes\">4,5</span> из 5</span></div></div></div></div></div><li class=serp-item data-cid=9 data-log-node=892s><div class=\"organic typo typo_text_m typo_line_s\"><h2 class=\"organic__title-wrapper typo typo_text_l typo_line_m\"><div class=a11y-hidden>10</div><a class=\"link link_theme_normal organic__url link_cropped_no i-bem\" data-bem='{\"link\":{}}' accesskey=\"0\" tabindex=2 data-log-node=892t rel=noopener target=_blank href=\"https://itunes.apple.com/ru/app/id1064581926\" data-counter=\"[&quot;rc&quot;,&quot;http://yandex.ru/clck/jsredir?from=yandex.ru%3Bsearch%2F%3Bweb%3B%3B&amp;text=&amp;etext=1886.43DAoI7ud_n81M26gcNPw7pVw-Xz3QfaRfC9knjTiVc.61987fba5f7763e71ecea511bf7e40e88eb15440&amp;uuid=&amp;state=PEtFfuTeVD5kpHnK9lio9daDl0Ow0EQqBnwXqr2CGSTlhSDEzIy2U1LCcDQlKH1Xusf5-P8d-RAV1WBos9vZ356Ma_CFRnrLllt_iQVdROyhe3AB36oRVPmct7u40aDf&amp;&amp;cst=AiuY0DBWFJ4EhnbxqmjDhe7I0te9Lb9TE4X0i-PihUx-V39Nul4TJocsbOjuFYIDB8YS6_pk3NeYXFoByoiWRNBpbLYUfXgGurU5xnC-NVtW5_5S2k-kpUShcFVbHL4bqAemGEADhviCXDslU7OXzMZeQqjtF7vKH_Eqb81JSbQZkqZA-ejxSx3dqimOpTRr-B2VT6ktx1zTZLh6ue49jLUeOproXtmSeVDBM7SqmzV_5JB7oCUPfCSreNozABvaoT2AbFt0EQ314Dna3H-mya47DDeBSF26BxzJnUSZj27-bgJXdLnovqtgEOVrVR58iulbhtrWYs4POWXQYr7frqHmmLXGozQn_JoQXx5IZ3QmY4bi8Mvu5L9xQVSHU_Hth5np1T1qSnosn-SUl1KlpU7X3jgEc-2OMEZVvyIWdh5f2o0wsjbeQjwU-gIhvikWQ19MXlbRC3yJrE5stpAkCKAPH7NvIekzH8mQcm1hDdpcrlPvuq9gW7XR4l1RfM2Xj-keyl3fGsg9SuR7JL5Gcxa86vAQp4bD82UK9E1Asa46yKlBF7rWNZFdaQIMjOaF_Ajv0K6tIliE7HoSBTVOnWi-3tZl4Mrv70BMCDcsViu6ihiDFT-6pCw4npTMirTOngHpAYClXrhrWBQvRwQFMQ,,&amp;data=UlNrNmk5WktYejY4cHFySjRXSWhXTktxa0RuanlISzhzODljZnZRRjhCOGZDRGpMc2NiMk9RQlVzZWI5U2xtdmdnclJaTFNNLXNsdjN4cV9GMmJiTzlYM0w1SDJTcXc3a2pKVlBjTWl4U25tSUtwQTV6OXJJS1laaC1yVktmeHRkUjcwb3k0eXdUUSw,&amp;sign=9b4ff07aee396692613d6d74910d265b&amp;keyno=8&amp;b64e=2&amp;ref=orjY4mGPRjk5boDnW0uvlrrd71vZw9kpjly_ySFdX80,&amp;l10n=ru&quot;]\"><div class=\"favicon favicon_page_0\"><div class=favicon__icon style=\"background-position:0 -144px;\"></div></div><div class=organic__url-text>App Store: <b class=\"needsclick\">Stepik</b>: лучшие онлайн курсы</div></a></h2><div class=\"organic__subtitle typo typo_type_greenurl\"><div class=\"path organic__path\" data-log-node=892u><a class=\"link link_outer_yes link_theme_outer path__item i-bem\" data-bem='{\"link\":{}}' data-log-node=892v tabindex=-1 rel=noopener target=_blank href=\"https://itunes.apple.com/\" data-counter=\"[&quot;rc&quot;,&quot;http://yandex.ru/clck/jsredir?from=yandex.ru%3Bsearch%2F%3Bweb%3B%3B&amp;text=&amp;etext=1886.43DAoI7ud_n81M26gcNPw7pVw-Xz3QfaRfC9knjTiVc.61987fba5f7763e71ecea511bf7e40e88eb15440&amp;uuid=&amp;state=PEtFfuTeVD4jaxywoSUvtB2i7c0_vxGd2E9eR729KuIQGpPxcKWQSHSdfi63Is_-FTQakDLX4CmYrU7UG1gl0aSAgtCaNhAh&amp;&amp;cst=AiuY0DBWFJ4EhnbxqmjDhe7I0te9Lb9TE4X0i-PihUx-V39Nul4TJocsbOjuFYIDB8YS6_pk3NeYXFoByoiWRNBpbLYUfXgGurU5xnC-NVtW5_5S2k-kpUShcFVbHL4bqAemGEADhviCXDslU7OXzMZeQqjtF7vKH_Eqb81JSbQZkqZA-ejxSx3dqimOpTRr-B2VT6ktx1zTZLh6ue49jLUeOproXtmSeVDBM7SqmzV_5JB7oCUPfCSreNozABvaoT2AbFt0EQ314Dna3H-mya47DDeBSF26BxzJnUSZj27-bgJXdLnovqtgEOVrVR58iulbhtrWYs4POWXQYr7frqHmmLXGozQn_JoQXx5IZ3QmY4bi8Mvu5L9xQVSHU_Hth5np1T1qSnosn-SUl1KlpU7X3jgEc-2OMEZVvyIWdh5f2o0wsjbeQjwU-gIhvikWQ19MXlbRC3yJrE5stpAkCKAPH7NvIekzH8mQcm1hDdpcrlPvuq9gW7XR4l1RfM2Xj-keyl3fGsg9SuR7JL5Gcxa86vAQp4bD82UK9E1Asa46yKlBF7rWNZFdaQIMjOaF_Ajv0K6tIliE7HoSBTVOnWi-3tZl4Mrv70BMCDcsViu6ihiDFT-6pCw4npTMirTOngHpAYClXrhrWBQvRwQFMQ,,&amp;data=UlNrNmk5WktYejY4cHFySjRXSWhXTktxa0RuanlISzhzODljZnZRRjhCX2pEbFNueGNSWlZfU1VwdnZkUnFYZmZfZFJGTTc3WGpYZFFQMGRrWmdLM3VXYU9VNnc1TXRwTDh1YWREZzdEM0Es&amp;sign=7f5d5d65b7f566e50f5e8defa224a101&amp;keyno=8&amp;b64e=2&amp;ref=orjY4mGPRjk5boDnW0uvlrrd71vZw9kpjly_ySFdX80,&amp;l10n=ru&quot;]\"><b>itunes.apple.com</b></a><span class=path__separator>›</span><a class=\"link link_outer_yes link_theme_outer path__item i-bem\" data-bem='{\"link\":{}}' data-log-node=892w tabindex=-1 rel=noopener target=_blank href=\"https://itunes.apple.com/ru/app/id1064581926\" data-counter=\"[&quot;rc&quot;,&quot;http://yandex.ru/clck/jsredir?from=yandex.ru%3Bsearch%2F%3Bweb%3B%3B&amp;text=&amp;etext=1886.43DAoI7ud_n81M26gcNPw7pVw-Xz3QfaRfC9knjTiVc.61987fba5f7763e71ecea511bf7e40e88eb15440&amp;uuid=&amp;state=PEtFfuTeVD4jaxywoSUvtB2i7c0_vxGd2E9eR729KuIQGpPxcKWQSHSdfi63Is_-DnbKz8oeZi1iGlgWonKXbETq8YAzo9f_&amp;&amp;cst=AiuY0DBWFJ4EhnbxqmjDhe7I0te9Lb9TE4X0i-PihUx-V39Nul4TJocsbOjuFYIDB8YS6_pk3NeYXFoByoiWRNBpbLYUfXgGurU5xnC-NVtW5_5S2k-kpUShcFVbHL4bqAemGEADhviCXDslU7OXzMZeQqjtF7vKH_Eqb81JSbQZkqZA-ejxSx3dqimOpTRr-B2VT6ktx1zTZLh6ue49jLUeOproXtmSeVDBM7SqmzV_5JB7oCUPfCSreNozABvaoT2AbFt0EQ314Dna3H-mya47DDeBSF26BxzJnUSZj27-bgJXdLnovqtgEOVrVR58iulbhtrWYs4POWXQYr7frqHmmLXGozQn_JoQXx5IZ3QmY4bi8Mvu5L9xQVSHU_Hth5np1T1qSnosn-SUl1KlpU7X3jgEc-2OMEZVvyIWdh5f2o0wsjbeQjwU-gIhvikWQ19MXlbRC3yJrE5stpAkCKAPH7NvIekzH8mQcm1hDdpcrlPvuq9gW7XR4l1RfM2Xj-keyl3fGsg9SuR7JL5Gcxa86vAQp4bD82UK9E1Asa46yKlBF7rWNZFdaQIMjOaF_Ajv0K6tIliE7HoSBTVOnWi-3tZl4Mrv70BMCDcsViu6ihiDFT-6pCw4npTMirTOngHpAYClXrhrWBQvRwQFMQ,,&amp;data=UlNrNmk5WktYejY4cHFySjRXSWhXTktxa0RuanlISzhzODljZnZRRjhCOGZDRGpMc2NiMk9RQlVzZWI5U2xtdmdnclJaTFNNLXNsdjN4cV9GMmJiTzlYM0w1SDJTcXc3a2pKVlBjTWl4U25tSUtwQTV6OXJJS1laaC1yVktmeHRkUjcwb3k0eXdUUSw,&amp;sign=6b2d6529c1665b574972a5479469af0b&amp;keyno=8&amp;b64e=2&amp;ref=orjY4mGPRjk5boDnW0uvlrrd71vZw9kpjly_ySFdX80,&amp;l10n=ru&quot;]\">ru/app/id1064581926</a></div><div class=\"extralinks i-bem\" data-bem='{\"extralinks\":{}}' data-log-node=892x><div class=\"popup2 popup2_target_anchor popup2_autoclosable_yes popup2_theme_normal popup2_hiding_yes popup2_view_classic extralinks__popup i-bem\" data-bem='{\"popup2\":{\"directions\":[\"bottom-center\"]}}'><a class=\"link link_theme_normal i-bem\" data-bem='{\"link\":{}}' data-log-node=892y rel=noopener target=_blank tabindex=0 href=\"https://hghltd.yandex.net/yandbtm?fmode=inject&amp;url=https%3A%2F%2Fitunes.apple.com%2Fru%2Fapp%2Fid1064581926&amp;tld=ru&amp;lang=ru&amp;la=1534532736&amp;tm=1534880720&amp;text=stepic&amp;l10n=ru&amp;mime=html&amp;sign=a2ae1f5aaf799e61fa6ffce4df5d617a&amp;keyno=0\" data-counter=\"[&quot;w&quot;,&quot;80.22.362&quot;,&quot;-adapters=extended-snippet,84=94,-source=web&quot;]\">Сохранённая копия</a><a class=\"link link_pseudo_yes link_theme_pseudo ajax i-bem\" data-bem='{\"link\":{},\"ajax\":{}}' data-log-node=892z rel=noopener target=_blank tabindex=0 href=\"/search/?text=stepic&amp;lr=35&amp;noreask=1&amp;site=itunes.apple.com\" data-counter=\"[&quot;w&quot;,&quot;80.22.336&quot;,&quot;-adapters=extended-snippet,84=94,-source=web&quot;]\">Показать ещё с сайта</a><span class=\"link link_theme_normal show-feedback i-bem\" data-bem='{\"link\":{},\"show-feedback\":{\"abuseLink\":\"https://yandex.ru/search/abuse?sign=15ce5b86ce856a65911e90502dcca848&amp;keyno=0\",\"reqid\":\"1534880720591518-87297817111631953049859-vla1-2704\"}}' data-log-node=8930 rel=noopener target=_blank tabindex=0 role=button data-counter=\"[&quot;w&quot;,&quot;80.22.1436&quot;,&quot;689=1086,-adapters=extended-snippet,84=94,-source=web&quot;]\">Пожаловаться</span></div></div></div><div class=\"organic__content-wrapper clearfix\"><div class=\"text-container typo typo_text_m typo_line_m\"><div class=\"extended-text extended-text_mode_js extended-text_state_short i-bem\" data-bem='{\"extended-text\":{}}' data-log-node=8931><span class=extended-text__short>Описание. <b>Stepik</b> (Стэпик) — это платформа с бесплатными онлайн-курсами. Теперь еще и мобильная! <span class=\"link link_theme_normal extended-text__toggle i-bem\" data-bem='{\"link\":{}}' data-log-node=8932 tabindex=0 role=button data-counter=\"[&quot;w&quot;,&quot;80.22.75&quot;,&quot;-adapters=extended-snippet,689=1086,84=94,-source=web&quot;]\">Читать ещё</span></span><span class=extended-text__full>Описание. <b>Stepik</b> (Стэпик) — это платформа с бесплатными онлайн-курсами. Теперь еще и мобильная! Курсы состоят из видео-лекций и практических заданий, которые можно проходить в любое удобное вам время. <span class=\"link link_theme_normal extended-text__toggle i-bem\" data-bem='{\"link\":{}}' data-log-node=8933 tabindex=0 role=button data-counter=\"[&quot;w&quot;,&quot;80.22.486&quot;,&quot;-adapters=extended-snippet,689=1086,84=94,-source=web&quot;]\">Скрыть</span></span></div></div></div></div><li class=serp-item data-cid=10 data-log-node=8934><div class=\"organic typo typo_text_m typo_line_s\"><h2 class=\"organic__title-wrapper typo typo_text_l typo_line_m\"><a class=\"link link_theme_normal organic__url link_cropped_no i-bem\" data-bem='{\"link\":{}}' tabindex=2 data-log-node=8935 rel=noopener target=_blank href=\"https://toster.ru/q/465175\" data-counter=\"[&quot;rc&quot;,&quot;http://yandex.ru/clck/jsredir?from=yandex.ru%3Bsearch%2F%3Bweb%3B%3B&amp;text=&amp;etext=1886.43DAoI7ud_n81M26gcNPw7pVw-Xz3QfaRfC9knjTiVc.61987fba5f7763e71ecea511bf7e40e88eb15440&amp;uuid=&amp;state=PEtFfuTeVD5kpHnK9lio9daDl0Ow0EQqBnwXqr2CGSTlhSDEzIy2U1LCcDQlKH1Xusf5-P8d-RAV1WBos9vZ356Ma_CFRnrLbl6jmzMDh2citN4FaLafJn5HoD1qPECh&amp;&amp;cst=AiuY0DBWFJ4EhnbxqmjDhe7I0te9Lb9TE4X0i-PihUx-V39Nul4TJocsbOjuFYIDB8YS6_pk3NeYXFoByoiWRNBpbLYUfXgGurU5xnC-NVtW5_5S2k-kpUShcFVbHL4bqAemGEADhviCXDslU7OXzMZeQqjtF7vKH_Eqb81JSbQZkqZA-ejxSx3dqimOpTRr-B2VT6ktx1zTZLh6ue49jLUeOproXtmSeVDBM7SqmzV_5JB7oCUPfCSreNozABvaoT2AbFt0EQ314Dna3H-mya47DDeBSF26BxzJnUSZj27-bgJXdLnovqtgEOVrVR58iulbhtrWYs4POWXQYr7frqHmmLXGozQn_JoQXx5IZ3QmY4bi8Mvu5L9xQVSHU_Hth5np1T1qSnosn-SUl1KlpU7X3jgEc-2OMEZVvyIWdh5f2o0wsjbeQjwU-gIhvikWQ19MXlbRC3yJrE5stpAkCKAPH7NvIekzH8mQcm1hDdpcrlPvuq9gW7XR4l1RfM2Xj-keyl3fGsg9SuR7JL5Gcxa86vAQp4bD82UK9E1Asa46yKlBF7rWNZFdaQIMjOaF_Ajv0K6tIliE7HoSBTVOnWi-3tZl4Mrv70BMCDcsViu6ihiDFT-6pCw4npTMirTOngHpAYClXrhrWBQvRwQFMQ,,&amp;data=UlNrNmk5WktYejY4cHFySjRXSWhXQzZ3QlphVUlOM2tES3RGY1BhUmJZZ25MTU1UZWg2ME9ZRzREb2Y3X01XNUE4MGMtTnZJNkVLQnpyMDJnSzZXTHdyODdNY3R0aDhlSkF3aFJLdDRBZWMs&amp;sign=935332850055e8b3ad7c1b43abf16f49&amp;keyno=8&amp;b64e=2&amp;ref=orjY4mGPRjk5boDnW0uvlrrd71vZw9kpjly_ySFdX80,&amp;l10n=ru&quot;]\"><div class=\"favicon favicon_page_0\"><div class=favicon__icon style=\"background-position:0 -160px;\"></div></div><div class=organic__url-text>Как относитесь к курсам на <b class=\"needsclick\">Stepik</b>? — Toster.ru</div></a></h2><div class=\"organic__subtitle typo typo_type_greenurl\"><div class=\"path organic__path\" data-log-node=8936><a class=\"link link_outer_yes link_theme_outer path__item i-bem\" data-bem='{\"link\":{}}' data-log-node=8937 tabindex=-1 rel=noopener target=_blank href=\"https://toster.ru/\" data-counter=\"[&quot;rc&quot;,&quot;http://yandex.ru/clck/jsredir?from=yandex.ru%3Bsearch%2F%3Bweb%3B%3B&amp;text=&amp;etext=1886.43DAoI7ud_n81M26gcNPw7pVw-Xz3QfaRfC9knjTiVc.61987fba5f7763e71ecea511bf7e40e88eb15440&amp;uuid=&amp;state=PEtFfuTeVD4jaxywoSUvtB2i7c0_vxGd2E9eR729KuIQGpPxcKWQSHSdfi63Is_-FTQakDLX4CkOX0-ezHSwBX5kN8cD-Pn7&amp;&amp;cst=AiuY0DBWFJ4EhnbxqmjDhe7I0te9Lb9TE4X0i-PihUx-V39Nul4TJocsbOjuFYIDB8YS6_pk3NeYXFoByoiWRNBpbLYUfXgGurU5xnC-NVtW5_5S2k-kpUShcFVbHL4bqAemGEADhviCXDslU7OXzMZeQqjtF7vKH_Eqb81JSbQZkqZA-ejxSx3dqimOpTRr-B2VT6ktx1zTZLh6ue49jLUeOproXtmSeVDBM7SqmzV_5JB7oCUPfCSreNozABvaoT2AbFt0EQ314Dna3H-mya47DDeBSF26BxzJnUSZj27-bgJXdLnovqtgEOVrVR58iulbhtrWYs4POWXQYr7frqHmmLXGozQn_JoQXx5IZ3QmY4bi8Mvu5L9xQVSHU_Hth5np1T1qSnosn-SUl1KlpU7X3jgEc-2OMEZVvyIWdh5f2o0wsjbeQjwU-gIhvikWQ19MXlbRC3yJrE5stpAkCKAPH7NvIekzH8mQcm1hDdpcrlPvuq9gW7XR4l1RfM2Xj-keyl3fGsg9SuR7JL5Gcxa86vAQp4bD82UK9E1Asa46yKlBF7rWNZFdaQIMjOaF_Ajv0K6tIliE7HoSBTVOnWi-3tZl4Mrv70BMCDcsViu6ihiDFT-6pCw4npTMirTOngHpAYClXrhrWBQvRwQFMQ,,&amp;data=UlNrNmk5WktYejY4cHFySjRXSWhXQzZ3QlphVUlOM2txLWZET3I4cFVlRDRweTB0T2dnLVROQTI0YlJCX1BUcU1pXzQ5OXIxaThFVG00ZjJPRmtKc0RIOWNhcW8xaHpY&amp;sign=84be04f3cfefd3c29282d0face3579a3&amp;keyno=8&amp;b64e=2&amp;ref=orjY4mGPRjk5boDnW0uvlrrd71vZw9kpjly_ySFdX80,&amp;l10n=ru&quot;]\"><b>toster.ru</b></a><span class=path__separator>›</span><a class=\"link link_outer_yes link_theme_outer path__item i-bem\" data-bem='{\"link\":{}}' data-log-node=8938 tabindex=-1 rel=noopener target=_blank href=\"https://toster.ru/q/465175\" data-counter=\"[&quot;rc&quot;,&quot;http://yandex.ru/clck/jsredir?from=yandex.ru%3Bsearch%2F%3Bweb%3B%3B&amp;text=&amp;etext=1886.43DAoI7ud_n81M26gcNPw7pVw-Xz3QfaRfC9knjTiVc.61987fba5f7763e71ecea511bf7e40e88eb15440&amp;uuid=&amp;state=PEtFfuTeVD4jaxywoSUvtB2i7c0_vxGd2E9eR729KuIQGpPxcKWQSHSdfi63Is_-DnbKz8oeZi0Ii2y009XHdQUm6Uujuhn6&amp;&amp;cst=AiuY0DBWFJ4EhnbxqmjDhe7I0te9Lb9TE4X0i-PihUx-V39Nul4TJocsbOjuFYIDB8YS6_pk3NeYXFoByoiWRNBpbLYUfXgGurU5xnC-NVtW5_5S2k-kpUShcFVbHL4bqAemGEADhviCXDslU7OXzMZeQqjtF7vKH_Eqb81JSbQZkqZA-ejxSx3dqimOpTRr-B2VT6ktx1zTZLh6ue49jLUeOproXtmSeVDBM7SqmzV_5JB7oCUPfCSreNozABvaoT2AbFt0EQ314Dna3H-mya47DDeBSF26BxzJnUSZj27-bgJXdLnovqtgEOVrVR58iulbhtrWYs4POWXQYr7frqHmmLXGozQn_JoQXx5IZ3QmY4bi8Mvu5L9xQVSHU_Hth5np1T1qSnosn-SUl1KlpU7X3jgEc-2OMEZVvyIWdh5f2o0wsjbeQjwU-gIhvikWQ19MXlbRC3yJrE5stpAkCKAPH7NvIekzH8mQcm1hDdpcrlPvuq9gW7XR4l1RfM2Xj-keyl3fGsg9SuR7JL5Gcxa86vAQp4bD82UK9E1Asa46yKlBF7rWNZFdaQIMjOaF_Ajv0K6tIliE7HoSBTVOnWi-3tZl4Mrv70BMCDcsViu6ihiDFT-6pCw4npTMirTOngHpAYClXrhrWBQvRwQFMQ,,&amp;data=UlNrNmk5WktYejY4cHFySjRXSWhXQzZ3QlphVUlOM2tES3RGY1BhUmJZZ25MTU1UZWg2ME9ZRzREb2Y3X01XNUE4MGMtTnZJNkVLQnpyMDJnSzZXTHdyODdNY3R0aDhlSkF3aFJLdDRBZWMs&amp;sign=468b4b48c38d2a9a41bd1a5ff6ff950c&amp;keyno=8&amp;b64e=2&amp;ref=orjY4mGPRjk5boDnW0uvlrrd71vZw9kpjly_ySFdX80,&amp;l10n=ru&quot;]\">q/465175</a></div><div class=\"extralinks i-bem\" data-bem='{\"extralinks\":{}}' data-log-node=8939><div class=\"popup2 popup2_target_anchor popup2_autoclosable_yes popup2_theme_normal popup2_hiding_yes popup2_view_classic extralinks__popup i-bem\" data-bem='{\"popup2\":{\"directions\":[\"bottom-center\"]}}'><a class=\"link link_theme_normal i-bem\" data-bem='{\"link\":{}}' data-log-node=893a rel=noopener target=_blank tabindex=0 href=\"https://hghltd.yandex.net/yandbtm?fmode=inject&amp;url=https%3A%2F%2Ftoster.ru%2Fq%2F465175&amp;tld=ru&amp;lang=ru&amp;la=1534552448&amp;tm=1534880720&amp;text=stepic&amp;l10n=ru&amp;mime=html&amp;sign=5e26ee7acbab8d401e0c1bc1d2af3b4e&amp;keyno=0\" data-counter=\"[&quot;w&quot;,&quot;80.22.362&quot;,&quot;-adapters=extended-snippet,84=95,-source=web&quot;]\">Сохранённая копия</a><a class=\"link link_pseudo_yes link_theme_pseudo ajax i-bem\" data-bem='{\"link\":{},\"ajax\":{}}' data-log-node=893b rel=noopener target=_blank tabindex=0 href=\"/search/?text=stepic&amp;lr=35&amp;noreask=1&amp;site=toster.ru\" data-counter=\"[&quot;w&quot;,&quot;80.22.336&quot;,&quot;-adapters=extended-snippet,84=95,-source=web&quot;]\">Показать ещё с сайта</a><span class=\"link link_theme_normal show-feedback i-bem\" data-bem='{\"link\":{},\"show-feedback\":{\"abuseLink\":\"https://yandex.ru/search/abuse?sign=15ce5b86ce856a65911e90502dcca848&amp;keyno=0\",\"reqid\":\"1534880720591518-87297817111631953049859-vla1-2704\"}}' data-log-node=893c rel=noopener target=_blank tabindex=0 role=button data-counter=\"[&quot;w&quot;,&quot;80.22.1436&quot;,&quot;689=1086,-adapters=extended-snippet,84=95,-source=web&quot;]\">Пожаловаться</span></div></div></div><div class=\"organic__content-wrapper clearfix\"><div class=\"text-container typo typo_text_m typo_line_m\"><div class=\"extended-text extended-text_mode_js extended-text_state_short i-bem\" data-bem='{\"extended-text\":{}}' data-log-node=893d><span class=extended-text__short>Наткнулся на приложение в Play Market-e, называется <b>Stepik</b>, там очень много курсов по разным темам, языки программирования, математика, физика и прочее. Может кто проходил там курсы? Как вам? <span class=\"link link_theme_normal extended-text__toggle i-bem\" data-bem='{\"link\":{}}' data-log-node=893e tabindex=0 role=button data-counter=\"[&quot;w&quot;,&quot;80.22.75&quot;,&quot;-adapters=extended-snippet,689=1086,84=95,-source=web&quot;]\">Читать ещё</span></span><span class=extended-text__full>Наткнулся на приложение в Play Market-e, называется <b>Stepik</b>, там очень много курсов по разным темам, языки программирования, математика, физика и прочее. Может кто проходил там курсы? Как вам? <span class=\"link link_theme_normal extended-text__toggle i-bem\" data-bem='{\"link\":{}}' data-log-node=893f tabindex=0 role=button data-counter=\"[&quot;w&quot;,&quot;80.22.486&quot;,&quot;-adapters=extended-snippet,689=1086,84=95,-source=web&quot;]\">Скрыть</span></span></div></div></div></div></ul><div class=related role=navigation aria-labelledby=uniq153487001165114718 data-log-node=893g><h2 class=related__header id=uniq153487001165114718>Вместе с «<span class=\"related__query\">stepic</span>» ищут:</h2><div class=related__column><div class=related__item><a class=\"link link_ajax_yes link_theme_normal i-bem\" data-bem='{\"link\":{}}' data-log-node=893h tabindex=0 href=\"/search/?text=coursera&amp;lr=35&amp;rq=1\" data-counter=\"[&quot;w&quot;,&quot;1108.391&quot;,&quot;84=85&quot;]\">coursera</a></div><div class=related__item><a class=\"link link_ajax_yes link_theme_normal i-bem\" data-bem='{\"link\":{}}' data-log-node=893i tabindex=0 href=\"/search/?text=%D1%83%D0%BD%D0%B8%D0%B2%D0%B5%D1%80%D1%81%D0%B0%D1%80%D0%B8%D1%83%D0%BC&amp;lr=35&amp;rq=1\" data-counter=\"[&quot;w&quot;,&quot;1108.391&quot;,&quot;84=86&quot;]\">универсариум</a></div><div class=related__item><a class=\"link link_ajax_yes link_theme_normal i-bem\" data-bem='{\"link\":{}}' data-log-node=893j tabindex=0 href=\"/search/?text=%D0%BB%D0%B5%D0%BA%D1%82%D0%BE%D1%80%D0%B8%D1%83%D0%BC&amp;lr=35&amp;rq=1\" data-counter=\"[&quot;w&quot;,&quot;1108.391&quot;,&quot;84=87&quot;]\">лекториум</a></div><div class=related__item><a class=\"link link_ajax_yes link_theme_normal i-bem\" data-bem='{\"link\":{}}' data-log-node=893k tabindex=0 href=\"/search/?text=udemy&amp;lr=35&amp;rq=1\" data-counter=\"[&quot;w&quot;,&quot;1108.391&quot;,&quot;84=88&quot;]\">udemy</a></div><div class=related__item><a class=\"link link_ajax_yes link_theme_normal i-bem\" data-bem='{\"link\":{}}' data-log-node=893l tabindex=0 href=\"/search/?text=hexlet&amp;lr=35&amp;rq=1\" data-counter=\"[&quot;w&quot;,&quot;1108.391&quot;,&quot;84=89&quot;]\">hexlet</a></div></div><div class=related__column><div class=related__item><a class=\"link link_ajax_yes link_theme_normal i-bem\" data-bem='{\"link\":{}}' data-log-node=893m tabindex=0 href=\"/search/?text=4brain&amp;lr=35&amp;rq=1\" data-counter=\"[&quot;w&quot;,&quot;1108.391&quot;,&quot;84=85&quot;]\">4brain</a></div><div class=related__item><a class=\"link link_ajax_yes link_theme_normal i-bem\" data-bem='{\"link\":{}}' data-log-node=893n tabindex=0 href=\"/search/?text=openedu&amp;lr=35&amp;rq=1\" data-counter=\"[&quot;w&quot;,&quot;1108.391&quot;,&quot;84=86&quot;]\">openedu</a></div><div class=related__item><a class=\"link link_ajax_yes link_theme_normal i-bem\" data-bem='{\"link\":{}}' data-log-node=893o tabindex=0 href=\"/search/?text=edx&amp;lr=35&amp;rq=1\" data-counter=\"[&quot;w&quot;,&quot;1108.391&quot;,&quot;84=87&quot;]\">edx</a></div><div class=related__item><a class=\"link link_ajax_yes link_theme_normal i-bem\" data-bem='{\"link\":{}}' data-log-node=893p tabindex=0 href=\"/search/?text=geekbrains&amp;lr=35&amp;rq=1\" data-counter=\"[&quot;w&quot;,&quot;1108.391&quot;,&quot;84=88&quot;]\">geekbrains</a></div><div class=related__item><a class=\"link link_ajax_yes link_theme_normal i-bem\" data-bem='{\"link\":{}}' data-log-node=893q tabindex=0 href=\"/search/?text=intuit&amp;lr=35&amp;rq=1\" data-counter=\"[&quot;w&quot;,&quot;1108.391&quot;,&quot;84=89&quot;]\">intuit</a></div></div></div><div class=\"pager-counter i-bem\" data-bem='{\"pager-counter\":{\"counter\":[\"690.405.487\"]}}'></div><div class=\"pager i-bem\" data-bem='{\"pager\":{\"id\":\"pager\",\"nextPage\":1,\"prevPage\":false}}' role=navigation aria-label=\"Страницы\" data-log-node=893r><span class=\"pager__item pager__item_current_yes pager__item_kind_page\">1</span><a class=\"link link_target_serp link_theme_normal pager__item pager__item_kind_page\" data-log-node=893s tabindex=0 href=\"/search/?text=stepic&amp;lr=35&amp;p=1\" data-counter=\"[&quot;w&quot;,&quot;405.86&quot;]\">2</a><a class=\"link link_target_serp link_theme_normal pager__item pager__item_kind_page\" data-log-node=893t tabindex=0 href=\"/search/?text=stepic&amp;lr=35&amp;p=2\" data-counter=\"[&quot;w&quot;,&quot;405.87&quot;]\">3</a><a class=\"link link_target_serp link_theme_normal pager__item pager__item_kind_page\" data-log-node=893u tabindex=0 href=\"/search/?text=stepic&amp;lr=35&amp;p=3\" data-counter=\"[&quot;w&quot;,&quot;405.88&quot;]\">4</a><a class=\"link link_target_serp link_theme_normal pager__item pager__item_kind_page\" data-log-node=893v tabindex=0 href=\"/search/?text=stepic&amp;lr=35&amp;p=4\" data-counter=\"[&quot;w&quot;,&quot;405.89&quot;]\">5</a><a class=\"link link_target_serp link_theme_normal pager__item pager__item_kind_next\" data-log-node=893w tabindex=0 href=\"/search/?text=stepic&amp;lr=35&amp;p=1\" data-counter=\"[&quot;w&quot;,&quot;405.407&quot;]\">дальше</a></div><div class=competitors role=region aria-label=\"Искать в других поисковых системах\" data-log-node=893x><div class=competitors__list><a class=\"link link_theme_normal competitors__link i-bem\" data-bem='{\"link\":{}}' rel=\"noopener noreferrer\" data-log-node=893y target=_blank tabindex=0 href=\"//www.bing.com/search?q=stepic\" data-counter=\"[&quot;w&quot;,&quot;65.568&quot;,&quot;71=72&quot;]\">Bing</a><a class=\"link link_theme_normal competitors__link i-bem\" data-bem='{\"link\":{}}' rel=\"noopener noreferrer\" data-log-node=893z target=_blank tabindex=0 href=\"//www.google.ru/search?ie=UTF-8&amp;hl=ru&amp;q=stepic\" data-counter=\"[&quot;w&quot;,&quot;65.66&quot;,&quot;71=72&quot;]\">Google</a><a class=\"link link_theme_normal competitors__link i-bem\" data-bem='{\"link\":{}}' rel=\"noopener noreferrer\" data-log-node=8940 target=_blank tabindex=0 href=\"//go.mail.ru/search?mailru=1&amp;q=stepic\" data-counter=\"[&quot;w&quot;,&quot;65.176&quot;,&quot;71=72&quot;]\">Mail.ru</a></div></div></div><div class=\"content__right content__right_cols_12\" data-log-node=8941><style nonce=3938 data-stylesheet=progressive>.entity-search{word-wrap:break-word;overflow-wrap:break-word}.entity-search__rating .text-container{padding:4px 0;word-wrap:normal}.entity-search__header-wrapper .entity-search__figures:first-of-type{margin-top:0}.entity-search__subtitle .label{margin:-1px 0;vertical-align:1px}.entity-search__header .entity-search__title+.entity-search__subtitle{margin-top:5px}.entity-search__list .showcase{margin-top:8px}.entity-search__clear{clear:both}.entity-search__afisha-schedule{margin:15px 0}.entity-search__afisha-title{display:inline-block}.entity-search__afisha:not(:last-child)::after{display:block;clear:both;margin:20px 0;content:'';border-top:1px solid rgba(0,0,0,.1)}.entity-search_new-view .entity-search__badge,.entity-search_new-view .entity-search__figures{margin-top:20px}.entity-search_new-view .entity-search__buttons{margin-bottom:20px}.content__right_cols_6 .entity-search__title,.content__right_cols_8 .entity-search__title{font-size:24px;line-height:28px}.entity-search__badge,.entity-search__figures,.entity-search__header+.entity-search__ugc,.entity-search__homonyms:not(:first-child),.entity-search__list:not(:first-child){margin-top:26px}.entity-search__buttons{margin-bottom:26px}.entity-search__facts-wrapper,.entity-search__rating{margin-top:10px}.entity-search__geo-actions{margin-bottom:10px}.object-figures .image{max-width:none}.object-figures_type_gallery .gallery__main{margin-right:10px}.object-figures_type_gallery .gallery__main .image{max-width:200px}.content__right_cols_6 .object-figures_type_gallery .gallery__main .image,.content__right_cols_8 .object-figures_type_gallery .gallery__main .image{max-width:150px}.object-figures_type_gallery .gallery__main .video2 .image{max-width:none}.object-figures_type_gallery.object-figures_hide-main-offset .gallery__main{margin-right:1px}.object-figures_type_map,.object-figures_type_map .object-figures__thumb-inner{display:-webkit-flex;display:-ms-flexbox;display:flex}.object-figures_type_map .object-figures__thumb{overflow:hidden;-webkit-flex-shrink:0;-ms-flex-negative:0;flex-shrink:0;border-right:1px solid rgba(0,0,0,.06)}.object-figures_type_map .object-figures__thumb-inner{-webkit-flex-direction:column;-ms-flex-direction:column;flex-direction:column;-webkit-align-items:center;-ms-flex-align:center;align-items:center}.object-figures_type_map .object-figures__map{-webkit-flex-grow:1;-ms-flex-positive:1;flex-grow:1}.object-figures_type_map .object-figures__thumb .image{height:182px}.object-figures_type_map .object-figures__thumb{max-width:168px}.content__right_cols_6 .object-figures_type_map .object-figures__thumb,.content__right_cols_8 .object-figures_type_map .object-figures__thumb{max-width:122px}.object-figures_type_thumb .image{max-height:150px;height:auto;max-width:122px}.object-figures_type_thumb{float:right;margin-bottom:10px;margin-left:16px}.content__right_cols_6 .object-figures_type_thumb .image,.content__right_cols_8 .object-figures_type_thumb .image{max-height:130px;width:auto}.content__right_cols_6 .object-figures_type_thumb .image{max-width:76px}.object-figures_type_video{position:relative;height:201px}.object-figures_type_video .object-figures__poster{position:absolute;z-index:1;top:0;right:0;bottom:0}.object-figures_type_video .object-figures__poster .thumb{display:block;background:#000}.object-figures_type_video .object-figures__video{z-index:0;margin-right:144px}.object-figures_type_video .object-figures__gallery{margin-top:10px}.object-figures_type_video.object-figures_full-width{height:253px}.object-figures_type_video.object-figures_full-width .object-figures__video{margin-right:0}.object-figures_type_video.object-figures_video-gallery{height:auto}.content__right_cols_6 .object-figures_type_video.object-figures_video-gallery .object-figures__poster,.content__right_cols_8 .object-figures_type_video.object-figures_video-gallery .object-figures__poster,.page-layout__right_cols_6 .object-figures_type_video.object-figures_video-gallery .object-figures__poster,.page-layout__right_cols_8 .object-figures_type_video.object-figures_video-gallery .object-figures__poster{bottom:100px}.content__right_cols_6 .object-figures_type_video .object-figures__poster,.content__right_cols_8 .object-figures_type_video .object-figures__poster,.page-layout__right_cols_6 .object-figures_type_video .object-figures__poster,.page-layout__right_cols_8 .object-figures_type_video .object-figures__poster{top:auto;right:10px;bottom:-10px;box-shadow:0 2px 3px rgba(0,0,0,.3)}.content__right_cols_6 .object-figures_type_video .object-figures__video,.content__right_cols_8 .object-figures_type_video .object-figures__video,.page-layout__right_cols_6 .object-figures_type_video .object-figures__video,.page-layout__right_cols_8 .object-figures_type_video .object-figures__video{margin-right:0}.content__right_cols_6 .object-figures_type_video .object-figures__video .video2__modern-info,.content__right_cols_8 .object-figures_type_video .object-figures__video .video2__modern-info,.page-layout__right_cols_6 .object-figures_type_video .object-figures__video .video2__modern-info,.page-layout__right_cols_8 .object-figures_type_video .object-figures__video .video2__modern-info{right:0;border-top-right-radius:0}.content__right_cols_8 .object-figures_type_video .object-figures__poster .image,.page-layout__right_cols_8 .object-figures_type_video .object-figures__poster .image{width:100px;height:150px}.content__right_cols_8 .object-figures_type_video .object-figures__poster_square .image,.page-layout__right_cols_8 .object-figures_type_video .object-figures__poster_square .image{height:100px}.content__right_cols_6 .object-figures_type_video .object-figures__poster .image,.page-layout__right_cols_6 .object-figures_type_video .object-figures__poster .image{width:67px;height:100px}.content__right_cols_6 .object-figures_type_video .object-figures__poster_square .image,.page-layout__right_cols_6 .object-figures_type_video .object-figures__poster_square .image{height:67px}.object-figures__thumb{line-height:0}.object-figures__thumb_format_Ux150 .image{max-height:150px}.object-figures__thumb_format_122xU .image{max-width:122px}.object-figures__thumb_format_90x168 .image{max-width:90px;max-height:168px}.object-figures__thumb_format_Ux168 .image{max-height:168px}.object-figures__thumb_format_168xU .image{max-width:168px}.object-figures__thumb_format_122x122 .image{max-width:122px;max-height:122px}.object-figures__thumb_format_168x90 .image{max-width:168px;max-height:90px}.object-figures__thumb_format_168x126 .image{max-width:168px;max-height:126px}.object-figures__thumb_format_122x183 .image{max-width:122px;max-height:183px}.object-figures__thumb_format_260x146 .image{max-width:260px;max-height:146px}.object-figures__thumb_format_122x91 .image{max-width:122px;max-height:91px}.object-figures__thumb_format_122x162 .image{max-width:122px;max-height:162px}.object-figures__thumb_format_76x76 .image{max-width:76px;max-height:76px}.object-figures__thumb_format_76x101 .image{max-width:76px;max-height:101px}.object-figures__thumb_format_76x114 .image{max-width:76px;max-height:114px}.object-figures__thumb_format_76x57 .image{max-width:76px;max-height:57px}.serp-title{position:relative}.serp-title_type_supertitle+.serp-title_type_subtitle{margin-top:2px}.serp-title_type_subtitle{color:#999}.serp-title_font-weight_bold{font-weight:700}.serp-title_ellipsis_yes{overflow:hidden;white-space:nowrap;text-overflow:ellipsis}.serp-title__verified-tooltip.verified__tooltip{font-size:13px;font-size:var(--text-m);padding:calc(13px/2)13px;padding:calc(var(--text-m)/2) var(--text-m);max-width:75%;box-shadow:0 4px 14px 0 rgba(29,29,29,.29)}.serp-title .verified{margin-left:5px}.serp-title_black_yes,.serp-title_black_yes .link,.serp-title_black_yes .link:visited{color:#333}.serp-title_blue_yes{color:#00c}.serp-title_black_yes .link:active,.serp-title_black_yes .link:hover,.serp-title_black_yes .link:visited:active,.serp-title_black_yes .link:visited:hover{color:#333!important}.object-footer{font:verdana,sans-serif;margin-top:12px;text-align:right}.object-footer_separated_yes{padding-top:6px;margin-top:28px;border-top:1px solid rgba(0,0,0,.1)}.object-footer__link{display:inline-block}.object-footer__link+.object-footer__link{margin-left:16px}</style><div class=\"serp-list serp-list_right_yes\" role=complementary aria-label=\"Дополнительная информация по запросу\"><div class=serp-item data-cid=11 data-log-node=8942><div class=\"entity-search entity-search_entref_0oCgpydXc2MDY2NDg2GAK2GzWT\" data-log-node=8943><div class=entity-search__header-wrapper><div class=entity-search__figures><div class=\"object-figures object-figures_type_thumb\"><div class=\"object-figures__thumb object-figures__thumb_format_122x122\"><div class=object-figures__thumb-inner><a class=\"link link_theme_normal i-bem\" data-bem='{\"link\":{}}' data-log-node=8944 rel=noopener target=_blank tabindex=0 href=\"https://yandex.ru/images/search?rpt=simage&amp;noreask=1&amp;source=qa&amp;text=Stepik&amp;stype=image&amp;lr=35&amp;parent-reqid=1534880720591518-87297817111631953049859-vla1-2704\" data-counter=\"[&quot;w&quot;,&quot;419.884.254.1950.2080.184&quot;,&quot;-source=wizard,-adapters=entity-card,84=96&quot;]\"><div class=\"thumb thumb_hover_fade\"><img class=\"image thumb__image\" src=\"//avatars.mds.yandex.net/get-entity_search/118532/273787019/S122x122Fit_2x\" alt=\"\" width=122 height=122 style=\"background-color:#FFFFFF\"><div class=thumb__handle></div></div></a></div></div></div></div><div class=entity-search__header><div class=\"serp-title serp-title_type_supertitle serp-title_font-weight_bold typo typo_text_xl typo_line_m entity-search__title\" data-log-node=8945>Stepik</div></div></div><div class=entity-search__badge><div class=entity-search__description><span class=\"text-cut2 typo typo_text_m typo_line_m\">Российская образовательная платформа и конструктор бесплатных открытых онлайн-курсов и уроков. Позволяет любому зарегистрированному пользователю создавать интерактивные обучающие уроки и онлайн-курсы, используя видео, тексты и разнообразные задачи с автоматической проверкой и моментальной обратной связью. <a class=\"link link_outer_yes link_theme_outer i-bem\" data-bem='{\"link\":{}}' data-log-node=8946 rel=noopener target=_blank tabindex=0 href=\"http://ru.wikipedia.org/wiki/Stepik\" data-counter=\"[&quot;rc&quot;,&quot;http://yandex.ru/clck/jsredir?from=yandex.ru%3Bsearch%2F%3Bweb%3B%3B&amp;text=&amp;etext=1886.43DAoI7ud_n81M26gcNPw7pVw-Xz3QfaRfC9knjTiVc.61987fba5f7763e71ecea511bf7e40e88eb15440&amp;uuid=&amp;state=WkI1WI4IbJHybCQJFouMIVy2s9lddBPkd-g9xOOz14FmyioMNX-ncj_N8jCwoFmGl0bYKKcuV13lVN6_x2hxNLQTStOFURLSB9D94XIpad4,&amp;&amp;cst=AiuY0DBWFJ4EhnbxqmjDhe7I0te9Lb9TE4X0i-PihUx-V39Nul4TJocsbOjuFYIDB8YS6_pk3NeYXFoByoiWRNBpbLYUfXgGurU5xnC-NVtW5_5S2k-kpUShcFVbHL4bqAemGEADhviCXDslU7OXzMZeQqjtF7vKH_Eqb81JSbQZkqZA-ejxSx3dqimOpTRr-B2VT6ktx1zTZLh6ue49jLUeOproXtmSeVDBM7SqmzV_5JB7oCUPfCSreNozABvaoT2AbFt0EQ314Dna3H-mya47DDeBSF26BxzJnUSZj27-bgJXdLnovqtgEOVrVR58iulbhtrWYs4POWXQYr7frqHmmLXGozQn_JoQXx5IZ3QmY4bi8Mvu5L9xQVSHU_Hth5np1T1qSnosn-SUl1KlpU7X3jgEc-2OMEZVvyIWdh5f2o0wsjbeQjwU-gIhvikWQ19MXlbRC3yJrE5stpAkCKAPH7NvIekzH8mQcm1hDdpcrlPvuq9gW7XR4l1RfM2Xj-keyl3fGsg9SuR7JL5Gcxa86vAQp4bD82UK9E1Asa46yKlBF7rWNZFdaQIMjOaF_Ajv0K6tIliE7HoSBTVOnWi-3tZl4Mrv70BMCDcsViu6ihiDFT-6pCw4npTMirTOngHpAYClXrhrWBQvRwQFMQ,,&amp;data=UlNrNmk5WktYejR0eWJFYk1LdmtxamVnNEJRWnJseWwyX0JzSlhyc2l1YUpDWmZVRlU4RUVPak42VjBOb1hBbnlUTlpSNzYzRGhVcHJ5aXNuc0hJanlLLW9pOU5tN3VVNnNkR1FPSjVWMHh6UnAwYU1vd1RXUSws&amp;sign=e372be5c03e8f7bf553c1b5a18559e9d&amp;keyno=8&amp;b64e=2&amp;ref=orjY4mGPRjk5boDnW0uvlrrd71vZw9kpjly_ySFdX80,&amp;l10n=ru&quot;]\">Википедия</a></span></div></div><div class=entity-search__clear></div><div class=entity-search__footer><div class=\"object-footer object-footer_separated_yes typo typo_line_m typo_text_s\"><a class=\"link link_ghost_yes link_theme_normal object-footer__link i-bem\" data-bem='{\"link\":{}}' data-log-node=8947 rel=noopener target=_blank tabindex=0 href=\"http://ru.wikipedia.org/wiki/Stepik\" data-counter=\"[&quot;rc&quot;,&quot;http://yandex.ru/clck/jsredir?from=yandex.ru%3Bsearch%2F%3Bweb%3B%3B&amp;text=&amp;etext=1886.43DAoI7ud_n81M26gcNPw7pVw-Xz3QfaRfC9knjTiVc.61987fba5f7763e71ecea511bf7e40e88eb15440&amp;uuid=&amp;state=WkI1WI4IbJHybCQJFouMIVy2s9lddBPk-NHRLvNSnbGmArfxePBt2gJup69hWDvd6zI4GJtZ_8ymqoK_igMS2qf3bdhM_MyqkQaOLFOSAVo,&amp;&amp;cst=AiuY0DBWFJ4EhnbxqmjDhe7I0te9Lb9TE4X0i-PihUx-V39Nul4TJocsbOjuFYIDB8YS6_pk3NeYXFoByoiWRNBpbLYUfXgGurU5xnC-NVtW5_5S2k-kpUShcFVbHL4bqAemGEADhviCXDslU7OXzMZeQqjtF7vKH_Eqb81JSbQZkqZA-ejxSx3dqimOpTRr-B2VT6ktx1zTZLh6ue49jLUeOproXtmSeVDBM7SqmzV_5JB7oCUPfCSreNozABvaoT2AbFt0EQ314Dna3H-mya47DDeBSF26BxzJnUSZj27-bgJXdLnovqtgEOVrVR58iulbhtrWYs4POWXQYr7frqHmmLXGozQn_JoQXx5IZ3QmY4bi8Mvu5L9xQVSHU_Hth5np1T1qSnosn-SUl1KlpU7X3jgEc-2OMEZVvyIWdh5f2o0wsjbeQjwU-gIhvikWQ19MXlbRC3yJrE5stpAkCKAPH7NvIekzH8mQcm1hDdpcrlPvuq9gW7XR4l1RfM2Xj-keyl3fGsg9SuR7JL5Gcxa86vAQp4bD82UK9E1Asa46yKlBF7rWNZFdaQIMjOaF_Ajv0K6tIliE7HoSBTVOnWi-3tZl4Mrv70BMCDcsViu6ihiDFT-6pCw4npTMirTOngHpAYClXrhrWBQvRwQFMQ,,&amp;data=UlNrNmk5WktYejR0eWJFYk1LdmtxamVnNEJRWnJseWwyX0JzSlhyc2l1YUpDWmZVRlU4RUVPak42VjBOb1hBbnlUTlpSNzYzRGhVcHJ5aXNuc0hJanlLLW9pOU5tN3VVNnNkR1FPSjVWMHh6UnAwYU1vd1RXUSws&amp;sign=5c2b964d5ac54476efe32773e1a7db10&amp;keyno=8&amp;b64e=2&amp;ref=orjY4mGPRjk5boDnW0uvlrrd71vZw9kpjly_ySFdX80,&amp;l10n=ru&quot;]\">Википедия</a><span class=\"link link_ghost_yes link_theme_normal show-feedback show-feedback_type_entity object-footer__link i-bem\" data-bem='{\"link\":{},\"show-feedback\":{\"abuseLink\":\"https://yandex.ru/search/abuse?sign=15ce5b86ce856a65911e90502dcca848&amp;keyno=0\",\"reqid\":\"1534880720591518-87297817111631953049859-vla1-2704\",\"type\":\"entity\",\"service\":\"entity-search.yandex.ru\",\"hide\":[]}}' data-log-node=8948 rel=noopener target=_blank tabindex=0 role=button data-counter=\"[&quot;w&quot;,&quot;419.884.254.1950.2082.1436&quot;,&quot;-source=wizard,-adapters=entity-card,84=96&quot;]\">Сообщить об ошибке</span></div></div></div></div></div><div class=serp-list><div class=serp-adv__counter style=\"background-image: url(&quot;https://yabs.yandex.ru/resource/spacer.gif&quot;);\"></div><div class=serp-adv__found>Нашлось 2 млн результатов</div><div class=serp-adv__displayed>3 074 показа в месяц</div><div class=serp-adv__add><a class=\"link link_theme_normal i-bem\" data-bem='{\"link\":{}}' data-log-node=8949 rel=noopener target=_blank tabindex=0 href=\"//direct.yandex.ru?from=yasearch_button_control_promoi\" data-counter=\"[&quot;w&quot;,&quot;155.78&quot;,&quot;159=180&quot;]\">Дать объявление</a></div></div></div></div><div class=\"inquire i-bem\" data-bem='{\"inquire\":{\"inquire\":{},\"detectUsersWithoutAdb\":null,\"directMapleInquire\":null,\"directMapleInquireAfterLoad\":null,\"directVisForce\":1}}'></div></div></div><div class=\"serp-user serp-user_hidden_yes serp-user_enter_yes serp main__serp-auth serp-header__user i-bem\" data-bem='{\"serp-user\":{\"uniqId\":\"user-place\",\"counter\":false},\"serp\":{\"uniqId\":\"search\"},\"main__serp-auth\":{}}' data-log-node=894a><a class=\"link link_theme_normal serp-user__registration-link i-bem\" data-bem='{\"link\":{}}' data-log-node=894b target=_self tabindex=0 href=\"https://passport.yandex.ru/registration?retpath=https%3A%2F%2Fyandex.ru%2Fsearch%2F%3Ftext%3Dstepic%26lr%3D35%26ncrnd%3D44370&amp;reqid=1534880720591518-87297817111631953049859-vla1-2704&amp;origin=serp_desktop_auth_new\" data-counter=\"[&quot;w&quot;,&quot;175.290.727&quot;,&quot;-adapters=user-auth&quot;]\">Регистрация</a><a class=\"button2 button2_size_m button2_theme_action button2_type_link button2_view_classic serp-user__login-link i-bem\" data-bem='{\"button2\":{}}' tabindex=0 target=_self href=\"https://passport.yandex.ru/auth?retpath=https%3A%2F%2Fyandex.ru%2Fsearch%2F%3Ftext%3Dstepic%26lr%3D35%26ncrnd%3D44370&amp;reqid=1534880720591518-87297817111631953049859-vla1-2704&amp;origin=serp_desktop_auth_new\" data-counter=\"[&quot;w&quot;,&quot;175.290.290&quot;,&quot;-adapters=user-auth&quot;]\" data-log-node=894c><span class=button2__text><span class=\"icon icon_type_user button2__text-icon\"></span>Войти</span></a><div class=\"popup2 popup2_target_anchor popup2_theme_clear popup2_hiding_yes popup2_view_classic promo-popup promo-popup_theme_ffffff promo-popup_shadow_yes promo-popup_type_promo promo-popup_social_yes serp-user serp-user__promo-popup i-bem\" data-bem='{\"popup2\":{\"mainOffset\":12,\"directions\":[\"bottom-right\"]},\"promo-popup\":{\"counters\":{\"show\":[\"690.175.290.2731.487\",\"-adapters=user-auth,689=1086\"],\"close\":[\"690.175.290.2731.486\",\"-adapters=user-auth,689=1086\"]}},\"serp-user\":{\"uniqId\":\"user-place\"},\"serp-user__promo-popup\":{\"counters\":{\"closeByClick\":[\"175.290.2731.486\",\"-adapters=user-auth,689=1086,-type=promo\"]},\"index\":1}}'><div class=\"popup2__content promo-popup__content\"><div class=promo-popup__message><div class=html>Войдите через соцcеть</div></div><div class=promo-popup__icons><a class=\"link link_theme_normal promo-popup__social-icon promo-popup__social-icon_type_vk i-bem\" data-bem='{\"link\":{}}' data-log-node=894d target=_self tabindex=0 href=\"https://passport.yandex.ru/auth/social/start?retpath=https%3A%2F%2Fyandex.ru%2Fsearch%2F%3Ftext%3Dstepic%26lr%3D35%26ncrnd%3D44370&amp;reqid=1534880720591518-87297817111631953049859-vla1-2704&amp;provider=vk&amp;consumer=serp&amp;display=page&amp;place=fragment\" data-counter=\"[&quot;w&quot;,&quot;175.290.2731.496&quot;,&quot;-adapters=user-auth&quot;]\"></a><a class=\"link link_theme_normal promo-popup__social-icon promo-popup__social-icon_type_ok i-bem\" data-bem='{\"link\":{}}' data-log-node=894e target=_self tabindex=0 href=\"https://passport.yandex.ru/auth/social/start?retpath=https%3A%2F%2Fyandex.ru%2Fsearch%2F%3Ftext%3Dstepic%26lr%3D35%26ncrnd%3D44370&amp;reqid=1534880720591518-87297817111631953049859-vla1-2704&amp;provider=ok&amp;consumer=serp&amp;display=page&amp;place=fragment\" data-counter=\"[&quot;w&quot;,&quot;175.290.2731.526&quot;,&quot;-adapters=user-auth&quot;]\"></a><a class=\"link link_theme_normal promo-popup__social-icon promo-popup__social-icon_type_fb i-bem\" data-bem='{\"link\":{}}' data-log-node=894f target=_self tabindex=0 href=\"https://passport.yandex.ru/auth/social/start?retpath=https%3A%2F%2Fyandex.ru%2Fsearch%2F%3Ftext%3Dstepic%26lr%3D35%26ncrnd%3D44370&amp;reqid=1534880720591518-87297817111631953049859-vla1-2704&amp;provider=fb&amp;consumer=serp&amp;display=page&amp;place=fragment\" data-counter=\"[&quot;w&quot;,&quot;175.290.2731.520&quot;,&quot;-adapters=user-auth&quot;]\"></a><a class=\"link link_theme_normal promo-popup__social-icon promo-popup__social-icon_type_tw i-bem\" data-bem='{\"link\":{}}' data-log-node=894g target=_self tabindex=0 href=\"https://passport.yandex.ru/auth/social/start?retpath=https%3A%2F%2Fyandex.ru%2Fsearch%2F%3Ftext%3Dstepic%26lr%3D35%26ncrnd%3D44370&amp;reqid=1534880720591518-87297817111631953049859-vla1-2704&amp;provider=tw&amp;consumer=serp&amp;display=page&amp;place=fragment\" data-counter=\"[&quot;w&quot;,&quot;175.290.2731.521&quot;,&quot;-adapters=user-auth&quot;]\"></a><a class=\"link link_theme_normal promo-popup__social-icon promo-popup__social-icon_type_mr i-bem\" data-bem='{\"link\":{}}' data-log-node=894h target=_self tabindex=0 href=\"https://passport.yandex.ru/auth/social/start?retpath=https%3A%2F%2Fyandex.ru%2Fsearch%2F%3Ftext%3Dstepic%26lr%3D35%26ncrnd%3D44370&amp;reqid=1534880720591518-87297817111631953049859-vla1-2704&amp;provider=mr&amp;consumer=serp&amp;display=page&amp;place=fragment\" data-counter=\"[&quot;w&quot;,&quot;175.290.2731.1270&quot;,&quot;-adapters=user-auth&quot;]\"></a></div><div class=promo-popup__cross></div></div><div class=\"popup2__tail promo-popup__tail\"></div></div></div><div class=\"main__extra-content serp i-bem\" data-bem='{\"main__extra-content\":{\"uniqId\":\"extra-content\",\"names\":{}},\"serp\":{\"uniqId\":\"search\"}}'></div><div class=\"main__distr-popup serp i-bem\" data-bem='{\"serp\":{\"uniqId\":\"search\"}}'></div><div class=\"main__direct-abuse-modal serp i-bem\" data-bem='{\"serp\":{\"uniqId\":\"search\"}}'></div><div class=\"no-connection i-bem\" data-bem='{\"no-connection\":{}}' data-log-node=894i><div class=no-connection__wrapper><div class=no-connection__message></div><button class=\"button2 button2_theme_default button2_size_m button2_view_classic no-connection__reload i-bem\" data-bem='{\"button2\":{}}' type=button autocomplete=off tabindex=0 data-counter=\"[&quot;w&quot;,&quot;143.1395&quot;]\" data-log-node=894j><span class=button2__text>Попробовать еще раз</span></button></div></div></div><div class=\"serp-footer scroll-spy typo typo_text_m typo_line_m serp i-bem\" data-bem='{\"serp-footer\":{\"counter\":[\"690.295.714.487\"]},\"scroll-spy\":{\"visibilityConditions\":{\"area\":0,\"x\":0,\"y\":0.01}},\"serp\":{\"uniqId\":\"search\"}}' role=contentinfo data-log-node=894k><div class=\"yaplus yaplus_available_yes yaplus_hidden_yes i-bem\" data-bem='{\"yaplus\":{\"live\":false,\"opened\":\"\"}}'><a class=\"link link_theme_normal yaplus__link i-bem\" data-bem='{\"link\":{}}' data-log-node=894l rel=noopener target=_blank tabindex=0 href=\"https://plus.yandex.ru?from=header_search&amp;utm_campaign=plus&amp;utm_medium=header_search&amp;utm_source=yandex&amp;source=header_search&amp;origin=serp_desktop_plus\" data-counter=\"[&quot;w&quot;,&quot;175.1412.10&quot;]\"><span class=link__inner>Включить</span><span class=yaplus__badge><span class=yaplus__badge-main></span></span></a></div><div class=serp-footer__search-settings><div class=serp-footer__wrapper><span class=\"region-change serp-footer__region\" role=complementary aria-label=\"Изменить регион\" data-log-node=894m><a class=\"link link_theme_normal region-change__link serp-footer__retpath i-bem\" data-bem='{\"link\":{}}' data-log-node=894n tabindex=0 href=\"https://tune.yandex.ru/region/?retpath=https%3A%2F%2Fyandex.ru%2Fsearch%2F%3Ftext%3Dstepic\" data-counter=\"[&quot;w&quot;,&quot;471.287.614.513&quot;]\">Краснодар</a></span><a class=\"link link_theme_normal serp-footer__link serp-footer__link_title_yes serp-footer__settings footer__settings serp serp-footer__retpath i-bem\" data-bem='{\"link\":{},\"serp\":{\"uniqId\":\"search\"}}' data-log-node=894o target=_self tabindex=0 href=\"//yandex.ru/search/customize?retpath=https%3A%2F%2Fyandex.ru%2Fsearch%2F%3Ftext%3Dstepic%26lr%3D35%26ncrnd%3D44370\" data-counter=\"[&quot;w&quot;,&quot;295.1137&quot;]\">Настройки</a><span class=\"link link_pseudo_yes link_theme_pseudo serp-footer__link serp-footer__keyboard keyboard-loader serp-footer__link i-bem\" data-bem='{\"link\":{},\"keyboard-loader\":{\"lang\":\"ru\",\"storeState\":true,\"css\":\"//yastatic.net/web4/_/nmIMkc5_L3yxOIP4hG_bhyRCERY.css\",\"js\":\"//yastatic.net/web4/_/3ukEfooIoXtsQD_JpqPzbzffW8c.js\"}}' data-log-node=894p tabindex=0 role=button data-counter=\"[&quot;w&quot;,&quot;295.492&quot;]\">Клавиатура</span><a class=\"link link_theme_normal serp-footer__link serp-footer__help i-bem\" data-bem='{\"link\":{}}' data-log-node=894q rel=noopener target=_blank tabindex=0 href=\"https://help.yandex.ru/search/\" data-counter=\"[&quot;w&quot;,&quot;295.177&quot;]\">Помощь</a><a class=\"link link_theme_normal serp-footer__link serp-footer__feedback i-bem\" data-bem='{\"link\":{}}' data-log-node=894r rel=noopener target=_blank tabindex=0 href=\"https://feedback2.yandex.ru/newserp/\" data-counter=\"[&quot;w&quot;,&quot;295.296&quot;]\">Обратная связь</a></div></div><div class=serp-footer__main><div class=serp-footer__wrapper><div class=serp-footer__left><div class=\"serp-footer__cols serp-footer__cols_num_3\"><div class=serp-footer__col><a class=\"link link_theme_normal serp-footer__link serp-footer__link_title_yes serp-footer__business serp-footer__col-item i-bem\" data-bem='{\"link\":{}}' data-log-node=894s rel=noopener target=_blank tabindex=0 href=\"//yandex.ru/all\" data-counter=\"[&quot;w&quot;,&quot;295.1592&quot;]\">Для бизнеса</a><a class=\"link link_theme_normal serp-footer__link serp-footer__direct serp-footer__col-item i-bem\" data-bem='{\"link\":{}}' data-log-node=894t rel=noopener target=_blank tabindex=0 href=\"//direct.yandex.ru/?utm_source=yandex_portal&amp;utm_medium=serp_navi_links&amp;utm_campaign=20180516\" data-counter=\"[&quot;w&quot;,&quot;295.155&quot;]\">Директ</a><a class=\"link link_theme_normal serp-footer__link serp-footer__metrika serp-footer__col-item i-bem\" data-bem='{\"link\":{}}' data-log-node=894u rel=noopener target=_blank tabindex=0 href=\"https://metrika.yandex.ru/promo?utm_source=yandexru.v14w&amp;utm_medium=web&amp;utm_campaign=static\" data-counter=\"[&quot;w&quot;,&quot;295.1218&quot;]\">Метрика</a><a class=\"link link_theme_normal serp-footer__link serp-footer__kassa serp-footer__col-item i-bem\" data-bem='{\"link\":{}}' data-log-node=894v rel=noopener target=_blank tabindex=0 href=\"//kassa.yandex.ru/?_openstat=promo;serp_footer&amp;source=serp_footer\" data-counter=\"[&quot;w&quot;,&quot;295.2982&quot;]\">Касса</a><a class=\"link link_theme_normal serp-footer__link serp-footer__telephony serp-footer__col-item i-bem\" data-bem='{\"link\":{}}' data-log-node=894w rel=noopener target=_blank tabindex=0 href=\"//telephony.yandex.ru/?utm_source=link&amp;utm_medium=499&amp;utm_campaign=serpfooter&amp;utm_content=redirect\" data-counter=\"[&quot;w&quot;,&quot;295.2221&quot;]\">Телефония</a></div><div class=serp-footer__col><a class=\"link link_theme_normal serp-footer__link serp-footer__link_title_yes serp-footer__soul serp-footer__col-item i-bem\" data-bem='{\"link\":{}}' data-log-node=894x rel=noopener target=_blank tabindex=0 href=\"//yandex.ru/all\" data-counter=\"[&quot;w&quot;,&quot;295.2981&quot;]\">Для души</a><a class=\"link link_theme_normal serp-footer__link serp-footer__health serp-footer__col-item i-bem\" data-bem='{\"link\":{}}' data-log-node=894y rel=noopener target=_blank tabindex=0 href=\"//health.yandex.ru/?utm_source=portal&amp;utm_medium=link_morda&amp;utm_campaign=podval\" data-counter=\"[&quot;w&quot;,&quot;295.2703&quot;]\">Здоровье</a><a class=\"link link_theme_normal serp-footer__link serp-footer__music serp-footer__col-item i-bem\" data-bem='{\"link\":{}}' data-log-node=894z rel=noopener target=_blank tabindex=0 href=\"//music.yandex.ru/home?utm_source=serp&amp;utm_medium=footer-test&amp;utm_campaign=general\" data-counter=\"[&quot;w&quot;,&quot;295.56&quot;]\">Музыка</a><a class=\"link link_theme_normal serp-footer__link serp-footer__market serp-footer__col-item i-bem\" data-bem='{\"link\":{}}' data-log-node=8950 rel=noopener target=_blank tabindex=0 href=\"//market.yandex.ru/?clid=576&amp;utm_source=new_dt_search\" data-counter=\"[&quot;w&quot;,&quot;295.4&quot;]\">Маркет</a><a class=\"link link_theme_normal serp-footer__link serp-footer__edadeal serp-footer__col-item i-bem\" data-bem='{\"link\":{}}' data-log-node=8951 rel=noopener target=_blank tabindex=0 href=\"//edadeal.ru/?utm_campaign=main&amp;utm_content=desktop&amp;utm_medium=footernavigation&amp;utm_source=portal\" data-counter=\"[&quot;w&quot;,&quot;295.2342&quot;]\">Едадил</a></div><div class=serp-footer__col><a class=\"link link_theme_normal serp-footer__link serp-footer__link_title_yes serp-footer__yandex serp-footer__col-item i-bem\" data-bem='{\"link\":{}}' data-log-node=8952 rel=noopener target=_blank tabindex=0 href=\"//yandex.ru\" data-counter=\"[&quot;w&quot;,&quot;295.606&quot;]\">Яндекс</a><a class=\"link link_theme_normal serp-footer__link serp-footer__about serp-footer__col-item i-bem\" data-bem='{\"link\":{}}' data-log-node=8953 rel=noopener target=_blank tabindex=0 href=\"https://company.yandex.ru/\" data-counter=\"[&quot;w&quot;,&quot;295.280&quot;]\">О компании</a><a class=\"link link_theme_normal serp-footer__link serp-footer__vacancy serp-footer__col-item i-bem\" data-bem='{\"link\":{}}' data-log-node=8954 rel=noopener target=_blank tabindex=0 href=\"//yandex.ru/jobs\" data-counter=\"[&quot;w&quot;,&quot;295.2979&quot;]\">Вакансии</a><a class=\"link link_theme_normal serp-footer__link serp-footer__blog serp-footer__col-item i-bem\" data-bem='{\"link\":{}}' data-log-node=8955 rel=noopener target=_blank tabindex=0 href=\"//yandex.ru/blog\" data-counter=\"[&quot;w&quot;,&quot;295.2980&quot;]\">Блог</a><a class=\"link link_theme_normal serp-footer__link serp-footer__contacts serp-footer__col-item i-bem\" data-bem='{\"link\":{}}' data-log-node=8956 rel=noopener target=_blank tabindex=0 href=\"//yandex.ru/company/contacts\" data-counter=\"[&quot;w&quot;,&quot;295.1802&quot;]\">Контакты</a></div></div><div class=serp-footer__mob-app><a class=\"link link_theme_normal serp-footer__link serp-footer__link_title_yes serp-footer__title i-bem\" data-bem='{\"link\":{}}' data-log-node=8957 rel=noopener target=_blank tabindex=0 href=\"https://mobile.yandex.ru\" data-counter=\"[&quot;w&quot;,&quot;295.1006.82&quot;]\">Мобильный поиск</a><a class=\"link link_theme_normal mobile-store-badge mobile-store-badge_platform_android i-bem\" data-bem='{\"link\":{}}' data-log-node=8958 rel=noopener target=_blank tabindex=0 href=\"https://mobile.yandex.ru/apps/android/search?utm_source=serp_footer_desktop\" data-counter=\"[&quot;w&quot;,&quot;295.1006.2983.723&quot;]\"></a><a class=\"link link_theme_normal mobile-store-badge mobile-store-badge_platform_ios i-bem\" data-bem='{\"link\":{}}' data-log-node=8959 rel=noopener target=_blank tabindex=0 href=\"https://mobile.yandex.ru/apps/iphone/search?utm_source=serp_footer_desktop\" data-counter=\"[&quot;w&quot;,&quot;295.1006.2983.2012&quot;]\"></a></div><div class=serp-footer__copyright-links><div class=serp-footer__links-separated><div class=copyright data-log-node=895a>© <span class=copyright__dates>1997–2018</span>  <span class=copyright__name>ООО «Яндекс»</span></div><a class=\"link link_theme_normal serp-footer__link serp-footer__license i-bem\" data-bem='{\"link\":{}}' data-log-node=895b rel=noopener target=_blank tabindex=0 href=\"https://yandex.ru/legal/termsofuse/\" data-counter=\"[&quot;w&quot;,&quot;295.990&quot;]\">Лицензия на поиск</a><a class=\"link link_theme_normal serp-footer__link serp-footer__stat i-bem\" data-bem='{\"link\":{}}' data-log-node=895c rel=noopener target=_blank tabindex=0 href=\"https://stat.yandex.ru/stats.xml?ReportID=-225&amp;ProjectID=1\" data-counter=\"[&quot;w&quot;,&quot;295.989&quot;]\">Статистика</a></div><div class=serp-footer__link-protect><a class=\"link link_theme_normal serp-footer__link serp-footer__protect i-bem\" data-bem='{\"link\":{}}' data-log-node=895d rel=noopener target=_blank tabindex=0 href=\"https://yandex.ru/promo/safesearch/main\" data-counter=\"[&quot;w&quot;,&quot;295.2786&quot;]\">Поиск защищён технологией Protect</a></div></div></div><div class=serp-footer__right><div class=\"serp-footer__promo serp-footer__promo_gradient_blue i-bem\" data-bem='{\"serp-footer__promo\":{\"atomCounters\":null,\"bkCounters\":{\"show\":\"https://yabs.yandex.ru/count/6uovaee27Cu50740488GCT1hV5i00000EFBR7TW20l02a-RnzWpu0f3nWkRbsDlyg07m1G6W1aQf1r0xdFrIZJL3yGVSM1r9CKtFre0A0OWA0QeB45DhcVnGEm00GruZHFTp1G3m2mNo3G3w3G223W00=WPALGhO048AGW1105aW2OAGOSEJ9WeiEW049a06A_ApbBRW1vCc2YmxO0VZ5wnFe0Qe2i0C2w0JbM8W5geSRa0MgXnl01O2juWJW1GMO1eBGhFCEg0P6q0SIyGVSM1r9CKtFrlW70O080T08W8Y0WO0GW0e1mGgMNUnoVhAcFzWA_uXwu0g0YNhP2r0xdFrIZJL3w0kgXnk93W0000000F0_a0x0X3sW3i24FQ4F00000000y3y0\"},\"type\":\"landing\"}}'><div class=\"app typo typo_text_m typo_line_m serp-footer__app\"><div class=app__thumb><div class=app-icon><a class=\"link link_theme_normal click i-bem\" data-bem='{\"link\":{},\"click\":{\"action\":true}}' data-log-node=895e rel=noopener target=_blank tabindex=0 href=\"https://yabs.yandex.ru/count/6uovajMlOjC502m148AGW10nq6jyMm00000uyjiTG1P80c2a673aoOAB3e012P01YloivIsO0OhyhEKjk07aoOAB3i019jW1-CNh4-W1gWBO0WBm0fFcyVOC-0AGyOBcvTZR_AW1i0C4w0JbMFW4geSRY0MgXnkG1Qg76y05WAtY1E051UW50V050PW6Wj2iymwW1aQe1aQf1r0xdFrIZJL3i0U0W9Wqq0SIyGVSM1r9CKtFrlW70O080T08W8Y0WO0GW0e1mGgMNUnoVhAcFzWA_uXwu0g0YNgg2n1JQvdyK3i004DU8qJtSmK0sGjGEvpzKeqrG-WBgeSRy0i5yWq0-Wq0WWu0YGu00000003mFv0Em8Gze0x0X3sm3W7O3WMX3m0000000F0_\" data-counter=\"[&quot;w&quot;,&quot;295.714.184&quot;,&quot;-product=plus,-type=landing&quot;]\"><div class=\"thumb thumb_hover_fade\"><img class=\"image thumb__image\" src=\"https://avatars.mds.yandex.net/get-banana/26007/x250H0jFBRjYAloq4rmvC8C4_banana_20161021_icon.svg/svg\" alt=\"\" width=72 height=72><div class=thumb__handle></div></div></a></div></div><div class=app__content><div class=app__title><a class=\"link link_theme_normal i-bem\" data-bem='{\"link\":{}}' data-log-node=895f rel=noopener target=_blank tabindex=0 href=\"https://yabs.yandex.ru/count/6uovajMlOjC502m148AGW10nq6jyMm00000uyjiTG1P80c2a673aoOAB3e012P01YloivIsO0OhyhEKjk07aoOAB3i019jW1-CNh4-W1gWBO0WBm0fFcyVOC-0AGyOBcvTZR_AW1i0C4w0JbMFW4geSRY0MgXnkG1Qg76y05WAtY1E051UW50V050PW6Wj2iymwW1aQe1aQf1r0xdFrIZJL3i0U0W9Wqq0SIyGVSM1r9CKtFrlW70O080T08W8Y0WO0GW0e1mGgMNUnoVhAcFzWA_uXwu0g0YNgg2n1JQvdyK3i004DU8qJtSmK0sGjGEvpzKeqrG-WBgeSRy0i5yWq0-Wq0WWu0YGu00000003mFv0Em8Gze0x0X3sm3W7O3WMX3m0000000F0_\" data-counter=\"[&quot;w&quot;,&quot;295.714.82&quot;,&quot;-product=plus,-type=landing&quot;]\">Подписка Яндекс.Плюс</a></div><div class=app__description>Музыка без интернета, скидки на такси и многое другое</div><a class=\"button2 button2_size_m button2_theme_default button2_has-color button2_type_link button2_view_classic colorize-1er1zev colorize-e-i5xqgh colorize-p-1p0a0my app__button i-bem\" data-bem='{\"button2\":{}}' tabindex=0 rel=noopener target=_blank href=\"https://yabs.yandex.ru/count/6uovajMlOjC502m148AGW10nq6jyMm00000uyjiTG1P80c2a673aoOAB3e012P01YloivIsO0OhyhEKjk07aoOAB3i019jW1-CNh4-W1gWBO0WBm0fFcyVOC-0AGyOBcvTZR_AW1i0C4w0JbMFW4geSRY0MgXnkG1Qg76y05WAtY1E051UW50V050PW6Wj2iymwW1aQe1aQf1r0xdFrIZJL3i0U0W9Wqq0SIyGVSM1r9CKtFrlW70O080T08W8Y0WO0GW0e1mGgMNUnoVhAcFzWA_uXwu0g0YNgg2n1JQvdyK3i004DU8qJtSmK0sGjGEvpzKeqrG-WBgeSRy0i5yWq0-Wq0WWu0YGu00000003mFv0Em8Gze0x0X3sm3W7O3WMX3m0000000F0_\" data-counter=\"[&quot;w&quot;,&quot;295.714.494&quot;,&quot;-product=plus,-type=landing&quot;]\" data-log-node=895g><span class=button2__text>Получить</span></a></div></div></div></div></div></div></div><div class=\"paranja paranja_state_close paranja_theme_normal z-index-group\"></div><div class=\"serp serp__spin i-bem\" data-bem='{\"serp\":{\"uniqId\":\"search\",\"connectionError\":{\"message\":\"Проверьте соединение с интернетом\"},\"resultError\":{\"message\":\"Не удалось получить результаты\"}}}'></div><div class=overlay__panel data-bem='{\"overlay__panel\":{\"uniqId\":\"overlay-panel\"}}' data-log-node=895h><div class=overlay__panel-inner><div class=overlay__header data-log-node=895i><button class=\"button2 button2_size_m button2_theme_clear button2_view_classic overlay__action-left i-bem\" data-bem='{\"button2\":{}}' type=button autocomplete=off tabindex=0 data-counter=\"[&quot;w&quot;,&quot;2951.221.440&quot;]\" data-log-node=895j><span class=\"icon icon_size_m icon_type_back button2__icon\"></span></button><button class=\"button2 button2_size_m button2_theme_clear button2_view_classic overlay__action-right i-bem\" data-bem='{\"button2\":{}}' type=button autocomplete=off tabindex=0 data-counter=\"[&quot;w&quot;,&quot;2951.486.440&quot;]\" data-log-node=895k><span class=\"icon icon_size_m icon_type_close-x button2__icon\"></span></button></div><div class=overlay__content data-log-node=895l></div><div class=\"overlay__spin overlay__spin_hidden\"><div class=\"spin2 spin2_size_l spin2_progress_yes spin2_view_default spin2_tone_default\"></div></div></div></div><style nonce=3938></style><div class=\"ugc-lost-updater i-bem\" data-bem='{\"ugc-lost-updater\":{\"counter\":[\"690.2139.2497\"],\"ugcUpdaterBundle\":{\"id\":\"i-ugc-updater\",\"url\":\"//yastatic.net/web4/_/pqYojAhTjc0bDWlE9xMJHhxmCDA.js\"}}}'></div><script nonce=3938 id=before-static>(function($pt){w(null,$pt,\"-nav-type=\"+(window.performance?window.performance.navigation.type:\"load\")+\",-vis=\"+(Ya.Rum.vsStart||\"unknown\")+\",-vis-changed=\"+Ya.Rum.vsChanged,{sts:Ya.startPageLoad});})(\"471.143.842\");Ya.Rum.sendTimeMark(\"2417\");Ya.jserrorsPrev=Ya.jserrors,Ya.jserrors=[],Ya.logSerpJsErrorPrev=window.logSerpJsError,window.logSerpJsError=function(r){Ya.onerror(r.message,r.fileName,r.lineNumber,r.columnNumber,r,r.catchType||\"unknown\"),Ya.logSerpJsErrorPrev&&Ya.logSerpJsErrorPrev.apply(this,arguments)},Ya.isExternalError=function(r,e,o){return Boolean(r&&(/kaspersky-labs\\.com\\//.test(r)||/(miscellaneous|extension)_bindings/.test(r)||/^(chrome|file):/.test(r))||e&&/(__adgRemoveDirect|ucapi|gj\\.track\\.uc\\.cn)/.test(e)||o&&/(moz|chrome)-extension:\\/\\//.test(o))},Ya.onerror=function(r,e,o,n,s,a){var l=s&&s.stack,t=Ya.isExternalError(e,r,l)?\"690.2854\":null==a?\"690.2361\":\"690.2354\",c={143:\"28.1034.153\",\"-label\":a,\"-msg\":r,\"-url\":e,\"-line\":o,\"-col\":n,\"-stack\":l,\"-block\":s&&s.blockName,\"-ua\":navigator.userAgent,\"-number\":Ya.jserrors.length},i=[];for(var u in c)c.hasOwnProperty(u)&&null!=c[u]&&i.push(u+\"=\"+encodeURIComponent(c[u]));wb(null,t,i.join(\",\"),{counterParams:[\"dtype=stred\",\"pid=1\",\"cid=73018\"]}),Ya.jserrors.push({message:r,url:e,line:o,col:n,error:s})},Ya.jserrorsPrev.forEach(function(r){Ya.onerror.apply(null,r)});window.addEventListener(\"error\",function(e){var r=e.target;if(r&&\"SCRIPT\"===r.nodeName){var t=encodeURIComponent(r.getAttribute(\"data-rcid\")||r.src);wb(document.body,\"690.2270.1724.1030\",\"-name=\"+t,getTechCounter(\"script-load-error\",{name:t}))}},!0);Ya.IS_LEGO_POINTERCLICK=250;</script><script src=\"//yastatic.net/web4/_/kikhcb107KEIYqQLbJTMaHe7qb8.js\" crossorigin=\"\" async></script><script src=\"//yastatic.net/jquery/2.1.4/jquery.min.js\" crossorigin=\"\" id=jquery data-rCid=2104></script><script src=\"//yastatic.net/web4/_/WnW39xDwomDpMinyHQEMZye1lIY.js\" crossorigin=\"\" data-rCid=2095></script><script nonce=3938 id=after-static>Ya.Rum.sendTimeMark('2300');Ya.logAjaxTriggers=0;(function(e){e.innerHTML=\"stepic — Яндекс: нашлось 2 млн результатов\";document.title=e.firstChild?e.firstChild.nodeValue:\"\"})(document.createElement(\"i\"));!function(e){for(var t=document.querySelectorAll(\".search2 .input__control[name=text]\"),n=0;n<t.length;n++)t[n].value=e}(\"stepic\");Ya.headerData={\"value\":\"stepic\",\"hiddenInputs\":\"\\u003cinput type=hidden name=lr value=35>\"};_borschik(\"K2ZEy\")&&(_borschik(\"5PuEM\")&&BEM.decl(\"user-locator\",{},{STATUS_UNKNOWN:\"statusUnknown\",STATUS_CHANGED:\"statusChanged\",STATUS_UNCHANGED:\"statusUnchanged\",STATUS_GEOLOCATION_ERROR:\"statusGeolocationError\",STATUS_REGION_ERROR:\"statusRegionError\",MIN_ACCURACY_FOR_IE:3e3,MAX_ACCURACY_FOR_IE:25e3,FAKE_ACCURACY_FOR_IE:2999,setupRegion:function(e){return e=e||{},e.lang=e.lang||BEM.blocks[\"i-global\"].param(\"lang\"),e.sk=e.sk||BEM.blocks[\"i-global\"].param(\"sk\"),this.lr=BEM.blocks[\"i-global\"].param(\"lr\"),this.detectRegion(e)},checkUserRegion:function(){var e=$.Deferred();return BEM.blocks[\"i-geolocation\"].get({enableHighAccuracy:!1},this._onGeoData.bind(this,e)),e},getUserLocation:function(){var e=$.Deferred();return BEM.blocks[\"i-geolocation\"].get({enableHighAccuracy:!1},function(t){this._onGeoData(e,t),t.error&&e.resolve(this._createResponse(this.STATUS_GEOLOCATION_ERROR,t)),e.resolve(this._createResponse(this.STATUS_UNKNOWN,t.coords))}.bind(this)),e},_onGeoData:function(e,t){return t.error?e.resolve(this._createResponse(this.STATUS_GEOLOCATION_ERROR,t)):void this.setupRegion(t.coords).then(this._createRegionResp.bind(this)).then(e.resolve,e.reject)},_createResponse:function(e,t){return{status:e,data:t}},_createRegionResp:function(e){return e.regionID=parseInt(e.regionID),e.error||!e.regionID?this._createResponse(this.STATUS_REGION_ERROR,e):e.shouldReload||e.regionChanged||e.regionID!==this.lr||e.distance>500?this._createResponse(this.STATUS_CHANGED,e):this._createResponse(this.STATUS_UNCHANGED,e)},relocateUser:function(e){return this.sk=e.sk,this.lr=parseInt(e.lr,10),this.checkUserRegion().then(e.ajax?this._relocateOnRegionDataWithAjax.bind(this):this._relocateOnRegionData.bind(this))},saveRegionSettings:function(e,t){var i=BEM.blocks[\"i-global\"].param(\"tld\"),n=BEM.blocks.uri.parse(window.location.href).deleteParam(\"p\").replaceParam(\"lr\",e).toString(),o=\"https://www.yandex.\"+i+\"/portal/set/region/\";$('<form style=\"display:none\" target=\"_self\" action=\"'+o+'\"><input type=\"hidden\" name=\"retpath\" value=\"'+n+'\"/><input type=\"hidden\" name=\"id\" value=\"'+e+'\"/><input type=\"hidden\" name=\"sk\" value=\"'+BEM.blocks[\"i-global\"].param(\"sk\")+'\"/><input type=\"hidden\" name=\"auto\" value=\"'+(t?\"\":\"1\")+'\"/></form>').appendTo(BEM.DOM.scope).submit().remove()},setYguCookie:function(e){BEM.blocks[\"i-cookie\"].get().yp({name:\"ygu\",value:e})},_relocateOnRegionData:function(e){var t=BEM.blocks[\"serp-request\"];return e.status===this.STATUS_CHANGED&&t.reloadPage(t.RELOAD_GEO_RELOCATION,{lr:e.data.regionID,reqid:BEM.blocks[\"i-global\"].param(\"reqid\")}),e},_relocateOnRegionDataWithAjax:function(e){return e.status===this.STATUS_CHANGED&&this.saveRegionSettings(e.data.regionID),e},detectRegion:function(e){var t,i=$.cookie(\"yandexuid\"),n=$.Deferred(),o=BEM.blocks[\"i-global\"].param(\"tld\");return i?(/msie|trident/i.test(navigator.userAgent)&&e.accuracy>this.MIN_ACCURACY_FOR_IE&&e.accuracy<this.MAX_ACCURACY_FOR_IE&&(t=this.FAKE_ACCURACY_FOR_IE),BEM.create(\"i-request_type_ajax\",{url:\"//www.yandex.\"+o+\"/gpsave\",dataType:\"jsonp\",timeout:1e4,cache:!1}).get({yu:i,precision:t||e.accuracy,device:1,lat:e.latitude||\"\",lon:e.longitude||\"\",format:\"jsonp\",lang:e.lang||\"\",sk:e.sk||this.sk},this._onRegionData.bind(this,n,e),this._onRegionDataError.bind(this,n)),n):n.reject(new Error(\"No yandexuid\"))},_onRegionData:function(e,t,i){if(i.error)return e.reject(i);var n={latitude:t.latitude,longitude:t.longitude,altitude:t.altitude,altitudeAccuracy:t.altitudeAccuracy,distance:i.distance,distance_great:i.distance_great,speed:t.speed,heading:t.heading,address:i.address,accuracy:t.accuracy,regionChanged:i.region_changed,shouldReload:i.should_reload,poorPrecision:i.poor_precision,regionID:i.region_id,regionName:i.region_name,regionPreposition:i.region_preposition,regionLocative:i.region_locative,regionDative:i.region_dative,regionGenitive:i.region_genitive,regionImIn:i.im_in_region};e.resolve(n)},_onRegionDataError:function(e,t){e.reject({error:t.statusText})}}),_borschik(\"iXSfa\")&&BEM.DOM.decl(\"i-geolocation\",{},{get:function(e,t){if(1===arguments.length&&(t=e,e={}),e=$.extend({enableHighAccuracy:!0,timeout:15,cacheTime:15},e),e.timeout*=1e3,e.maximumAge=1e3*e.cacheTime*60,delete e.cacheTime,\"geolocation\"in navigator){var i=!1,n=setTimeout(function(){i=!0,t({error:4})},e.timeout+300);navigator.geolocation.getCurrentPosition(function(e){i||(clearTimeout(n),t(e))},function(e){i||(clearTimeout(n),t({error:e.code}))},e)}else t({error:0})}}),_borschik(\"ZS_5w\")&&BEM.DOM.decl(\"user-location-updater\",{onSetMod:{js:function(){if(!(\"permissions\"in navigator))return void this._sendCounter(\"off\");this._sendCounter(\"on\"),this._latitude=this.params.latitude,this._longitude=this.params.longitude;var e=1e3*parseInt(this.params.delay,10);setTimeout(this.updateUserLocation.bind(this),e)}},_sendCounter:function(e){w(this,this.params.counters[e][0],\"\",getTechCounter(e))},updateUserLocation:function(){var e=this;navigator.permissions.query({name:\"geolocation\"}).then(function(t){var i=t.state||t.status;e.params.counters[i]&&e._sendCounter(i),\"granted\"===i&&BEM.blocks[\"user-locator\"].checkUserRegion().then(function(t){var i=Math.abs(t.data.latitude-e._latitude)>.01||Math.abs(t.data.longitude-e._longitude)>.01;i&&(e._latitude=t.data.latitude,e._longitude=t.data.longitude),e._sendCounter(i?\"new\":\"old\")},function(){e._sendCounter(\"unknown\")});var n=1e3*parseInt(e.params.period,10);setTimeout(e.updateUserLocation.bind(e),n)})}}));_borschik(\"mapEz\")&&_borschik(\"KccUa\")&&BEM.DOM.decl(\"extralinks\",{},{live:function(){this.liveBindTo(\"click\",function(i){this._popup=this._popup||this.findBlockInside(\"popup2\").setAnchor(i.data.domElem),this._popup.toggleMod(\"visible\",\"yes\")})}});_borschik(\"7wN7-\")&&_borschik(\"3PVhy\")&&BEM.DOM.decl({block:\"extended-text\",modName:\"mode\",modVal:\"js\"},{adjustScrollPosition:function(){var o=this.domElem.offset().top;o<window.pageYOffset&&window.scrollTo&&window.scrollTo(0,o)},onToggle:function(){this.expanded?this.collapse():this.expand()},expand:function(){this.expanded=!0,this.setMod(\"state\",\"full\")},collapse:function(){this.expanded=!1,this.setMod(\"state\",\"short\"),this.adjustScrollPosition()}},{live:function(){this.liveBindTo(\"toggle\",\"click\",this.prototype.onToggle)}});_borschik(\"Sfucv\")&&(_borschik(\"D_T6T\")&&BEM.DOM.decl(\"showcase\",{show:function(){this.domElem.show()},hide:function(){this.domElem.hide()}},{live:function(){this.liveInitOnEvent(\"mouseover\")}}),_borschik(\"7-l6d\")&&BEM.DOM.decl({block:\"showcase\",modName:\"overflow\",modVal:\"scroll\"},{onSetMod:{js:function(){this.showedItems=[],this._scroller=this.findBlockInside(\"scroller\"),this.on({\"ajax-update-succeed\":this._onAjaxSuccess,\"ajax-update-failed\":this._onAjaxError},this),this._scroller.on(\"scroll\",this._onScroll,this),this.bindTo(this.getScrollerWrap(),\"scroll\",$.throttle(this._onWrapScroll,100,this))},scrolling:function(){$.each(this.elem(\"item\"),this._checkVisiblity.bind(this))}},destruct:function(){this.un({\"ajax-update-succeed\":this._onAjaxSuccess,\"ajax-update-failed\":this._onAjaxError},this),this._scroller.un(\"scroll\",this._onScroll,this),this.__base.apply(this,arguments)},_onAjaxSuccess:function(t,o){var e=o.html;e&&(this.trigger(\"set-loaded-content\"),\"all\"===o.params.reqType?this._scroller.replaceContent(e):this._scroller.setContent(e))},_onAjaxError:function(t,o){\"function\"==typeof o.error&&o.error(),\"function\"==typeof o.complete&&o.complete()},_onScroll:function(){this.trigger(\"scroll\")},_onWrapScroll:function(){clearTimeout(this._afterScrollTimer),this.setMod(\"scrolling\",\"yes\"),this._afterScrollTimer=setTimeout(function(){this.delMod(\"scrolling\")}.bind(this),50)},_checkVisiblity:function(t,o){if(this.showedItems.indexOf(t)===-1){var e=BEM.DOM.win.width(),s=BEM.DOM.win.height(),i=o.getBoundingClientRect(),l=i.top>=0&&i.top<s,r=i.bottom>0&&i.bottom<=s,n=i.left>=0&&i.left<e,c=i.right>0&&i.right<=e,h=l&&r,a=n&&c;h&&a&&(this.showedItems.push(t),this.trigger(\"showItem\",{element:o,index:t}))}},getScrollerWrap:function(){return this._scroller.elem(\"wrap\")},getScrollMod:function(){return this._scroller.getMod(\"scroll\")},scrollTo:function(t,o){this._scroller.scrollTo(t,o)},reset:function(){this._scroller.reset()},setOnScrollHandler:function(t){this._scroller.getLazyImage(t)}}),_borschik(\"QBslN\")&&BEM.DOM.decl({block:\"showcase\",modName:\"overflow\",modVal:\"scroll\"},{onSetMod:{js:function(){this.__base.apply(this,arguments),this.on(\"ajax-update-completed\",this._onAjaxCompleted,this),this.params.autoLoadMore&&this._scroller.on(\"right-scroll-end\",this._onRightScrollEnd,this)}},destruct:function(){this.un(\"ajax-update-completed\",this._onAjaxCompleted,this),this._scroller.un(\"right-scroll-end\",this._onRightScrollEnd,this),this.__base.apply(this,arguments)},_onRightScrollEnd:function(){this.loadMore()},_onAjaxCompleted:function(){this.loading=!1},loadMore:function(t){this.loading||(this.loading=!0,t.log={event:BEM.blocks.counter.AJAX_EVENTS.APPEND,node:this._scroller},this.trigger(\"ajax-update\",t))},empty:function(){this._scroller.empty()}}));_borschik(\"M3G_y\")&&_borschik(\"Yx8js\")&&BEM.DOM.decl({block:\"video2\",modName:\"deephd\",modVal:\"yes\"},{onSetMod:{js:{inited:function(){this._deepHd=this.elem(\"deephd\"),this._deepHdTooltip=this.findBlockInside(\"label\",\"popup2\"),this._shouldShowTooltip=!1,this._deepHd&&this._deepHdTooltip&&(this._mouseEnterBound=this._deepHdTooltipMouseEnterHandler.bind(this),this._mouseLeaveBound=this._mouseLeaveHandler.bind(this),this._deepHdTooltip.setAnchor(this._deepHd),this.bindTo(this._deepHd,\"mouseleave\",this._mouseLeaveBound),this._deepHdTooltip.bindTo(\"mouseenter\",this._mouseEnterBound),this._deepHdTooltip.bindTo(\"mouseleave\",this._mouseLeaveBound))}}},destruct:function(){this._timeout&&clearTimeout(this._timeout),this._deepHd&&this._deepHdTooltip&&(this.unbindFrom(this._deepHd,\"mouseleave\"),this._deepHdTooltip.domElem&&(this._deepHdTooltip.unbindFrom(\"mouseenter\",this._mouseEnterBound),this._deepHdTooltip.unbindFrom(\"mouseleave\",this._mouseLeaveBound))),this.__base.apply(this,arguments)},_showTooltip:function(){this._deepHdTooltip.setMod(\"visible\",\"yes\")},_hideTooltip:function(){this._timeout=null,this._shouldShowTooltip||this._deepHdTooltip.delMod(\"visible\")},_mouseLeaveHandler:function(){this._shouldShowTooltip=!1,this._timeout&&clearTimeout(this._timeout),this._timeout=setTimeout(this._hideTooltip.bind(this),100)},_deepHdTooltipMouseEnterHandler:function(){this._shouldShowTooltip=!0}},{live:function(){this.liveBindTo(\"deephd\",\"mouseover\",function(){this._deepHd&&this._deepHdTooltip&&(this._shouldShowTooltip=!0,this._showTooltip())})}});_borschik(\"tp71I\")&&(_borschik(\"Yx8js\")&&BEM.DOM.decl({block:\"video2\",modName:\"deephd\",modVal:\"yes\"},{onSetMod:{js:{inited:function(){this._deepHd=this.elem(\"deephd\"),this._deepHdTooltip=this.findBlockInside(\"label\",\"popup2\"),this._shouldShowTooltip=!1,this._deepHd&&this._deepHdTooltip&&(this._mouseEnterBound=this._deepHdTooltipMouseEnterHandler.bind(this),this._mouseLeaveBound=this._mouseLeaveHandler.bind(this),this._deepHdTooltip.setAnchor(this._deepHd),this.bindTo(this._deepHd,\"mouseleave\",this._mouseLeaveBound),this._deepHdTooltip.bindTo(\"mouseenter\",this._mouseEnterBound),this._deepHdTooltip.bindTo(\"mouseleave\",this._mouseLeaveBound))}}},destruct:function(){this._timeout&&clearTimeout(this._timeout),this._deepHd&&this._deepHdTooltip&&(this.unbindFrom(this._deepHd,\"mouseleave\"),this._deepHdTooltip.domElem&&(this._deepHdTooltip.unbindFrom(\"mouseenter\",this._mouseEnterBound),this._deepHdTooltip.unbindFrom(\"mouseleave\",this._mouseLeaveBound))),this.__base.apply(this,arguments)},_showTooltip:function(){this._deepHdTooltip.setMod(\"visible\",\"yes\")},_hideTooltip:function(){this._timeout=null,this._shouldShowTooltip||this._deepHdTooltip.delMod(\"visible\")},_mouseLeaveHandler:function(){this._shouldShowTooltip=!1,this._timeout&&clearTimeout(this._timeout),this._timeout=setTimeout(this._hideTooltip.bind(this),100)},_deepHdTooltipMouseEnterHandler:function(){this._shouldShowTooltip=!0}},{live:function(){this.liveBindTo(\"deephd\",\"mouseover\",function(){this._deepHd&&this._deepHdTooltip&&(this._shouldShowTooltip=!0,this._showTooltip())})}}),_borschik(\"soNI_\")&&BEM.DOM.decl({block:\"video2\",modName:\"preview\",modVal:\"yes\"},{onSetMod:{js:{inited:function(){this.__base.apply(this,arguments),this.bindTo(\"pointerleave\",function(){this._onItemPointerleave()})}}},_sendCounter:function(t){t&&w(null,t[0],t[1])},_onItemPointerover:function(){var t=this.findBlockOn(\"thumb-preview\");t&&!this.hasMod(\"preview-ended\")&&t.setMod(\"active\",\"yes\")},_onItemPointerleave:function(t){var e=this.findBlockOn(t,\"thumb-preview\");e&&(e.delMod(\"active\"),this.delMod(\"preview-ended\"))}},{live:function(){return this.liveInitOnBlockEvent(\"start\",\"thumb-preview\",function(){this.delMod(\"preview-ended\"),this._sendCounter(this.params.counters.start)}),this.liveInitOnBlockEvent(\"change\",\"thumb-preview\",function(){this._sendCounter(this.params.counters.change)}),this.liveInitOnBlockEvent(\"end\",\"thumb-preview\",function(){this.setMod(\"preview-ended\",\"yes\")}),this.liveBindTo(\"pointerover\",function(t){this._onItemPointerover()}),BEM.DOM.win.on(\"blur\",this.stop.bind(this)),this.__base.apply(this,arguments)},stop:function(){BEM.blocks[\"thumb-preview\"]&&BEM.blocks[\"thumb-preview\"].stop()}}),_borschik(\"9IslO\")&&BEM.DOM.decl(\"thumb-preview\",{onSetMod:{js:{inited:function(){this.hasMod(\"video\")||(this._loaded=[],this._preloader=BEM.create({block:\"i-preloader\",mods:{nosize:\"yes\",batch:\"yes\"}}),this._preloader.on(\"success\",this._onPreloaderSuccess,this),this._preloader.on(\"notfound error\",this._onPreloaderError,this))}},active:{yes:function(){this._isActive=!0,this._activeStartTime=Date.now();var t=this._getCurrent();t&&t.delMod(\"active\"),this._setCurrent(this),this._start()},\"\":function(){this._isActive=!1,this._stop()}}},destruct:function(){this._preloader&&(this._preloader.un(\"success\",this._onPreloaderSuccess,this),this._preloader.un(\"notfound error\",this._onPreloaderError,this),this._preloader.destruct()),clearTimeout(this._tick),this._getCurrent()===this?(this._stop(),this._setCurrent(null)):(clearTimeout(this._timer),clearTimeout(this._startTimer)),this.__base.apply(this,arguments)},start:function(){this._outTimer&&clearTimeout(this._outTimer),this._isActive||this.hasMod(\"disabled\",!0)||(clearTimeout(this._startTimer),this._startTimer=setTimeout(function(){this.setMod(\"active\",\"yes\")}.bind(this),this.params.startDelay))},stop:function(){clearTimeout(this._startTimer),this.delMod(\"active\")},_getCurrent:function(){return this.__self.getCurrent()},_setCurrent:function(t){return this.__self._current=t,this},_start:function(){return delete this._currentIndex,this._saveState(),this._loaded.length?(this._onStart(),void this._restartTimer()):this._preload(1)},_stop:function(){this.trigger(\"stop\"),clearTimeout(this._timer),this._restoreState()},_restartTimer:function(){return clearTimeout(this._timer),!this.params.infinite&&this._isLast()?(this.trigger(\"end\"),this._stop(),void this.setMod(\"disabled\",!0)):(this._next(),this.trigger(\"change\",this._currentIndex),BEM.blocks[\"thumb-preview\"].trigger(\"thumb-change\",this._currentIndex),void(this._timer=setTimeout(this._restartTimer.bind(this),this.params.delay)))},_isLast:function(){var t=this._loaded.length-1;return this._currentIndex===t&&0===this.params.thumbs.length},_onPreloaderSuccess:function(t,e){var i=this._findThumb(e.url);i&&(this._isActive&&!this._loaded.length&&(this._onStart(),this._tick=setTimeout(this._restartTimer.bind(this))),this._loaded.push(i))},_onPreloaderError:function(t,e){this._findThumb(e)&&this._preload(this.params.step)},_onStart:function(){this.trigger(\"start\")},_findThumb:function(t){for(var e=null,i=this.params.thumbs,s=0;s<i.length;s++)if(i[s].indexOf(t)!==-1){e=i.splice(s,1)[0];break}return e},_preload:function(t){this._preloader.setImages(this._getImagesForPreload(t)).batchLoad()},_getImagesForPreload:function(t){var e=this.__self.getPixelRatio();return this.params.thumbs.slice(0,t).map(function(t){var i;return i=e>t.length?t.length:e,[{url:t[i-1]}]})},_next:function(){this._setImageById(this._getNextIndex()),this._preload(this.params.step)},_getNextIndex:function(){var t=\"undefined\"!=typeof this._currentIndex?this._currentIndex+1:0;return t>=this._loaded.length&&(t=this.params.thumbs.length?t-1:0),this._currentIndex=t},_saveState:function(){var t=this.elem(\"target\");this._isImg()?this._state={src:t.attr(\"src\"),srcset:t.attr(\"srcset\")}:this._state=t.css(\"background-image\")},_restoreState:function(){var t=this.elem(\"target\");this._state&&(this._isImg()?(t.attr(\"src\",this._state.src),t.attr(\"srcset\",this._state.srcset||null)):t.css(\"background-image\",this._state))},_setImageById:function(t){var e=this.elem(\"target\");this._isImg()?(e.attr(\"srcset\",this._loaded[t].map(function(t,e){return t+\" \"+(e+1)+\"x\"}).join(\", \")),e.attr(\"src\",this._loaded[t][0])):e.css(\"background-image\",\"url(\"+this._loaded[t][0]+\")\")},_isImg:function(){return this.elem(\"target\").is(\"img\")}},{getCurrent:function(){return this._current},live:function(){BEM.blocks[\"b-page\"].on(\"blur\",this.stop,this)},getPixelRatio:function(){return this._pixelRatio||(this._pixelRatio=Math.ceil(window.devicePixelRatio||1)),this._pixelRatio},stop:function(){this._current&&this._current.delMod(\"active\")}}),_borschik(\"R1yMl\")&&BEM.decl(\"i-preloader\",{onSetMod:{js:function(){var t=\"position: absolute;top: -9999px; left: -9999px;overflow: hidden;width: 10px; height: 10px;\";this.__self._history||(this.__self._history=$('<div class=\"i-preloader__history\" style=\"'+t+'\" />').appendTo(\"body\"))}},getDefaultParams:function(){return{checkImageSize:!1}},load:function(t){return t&&t.length?(this.stop(),this.duplicates=t.slice(0),this.preload(this.getNextDuplicate()),this):this},getSuccessfulDup:function(t){for(var e=0,i=t.length;e<i;e++)if(\"complete\"===this.getState(t[e]))return t[e]},preload:function(t){switch(this.image=t,this.getState(t)){case\"error\":this._onError(t);break;case\"complete\":this._onSuccess(t);break;default:this.startLoad(t)}},startLoad:function(t){return this.loadImage(t)},loadImage:function(t){return this.setState(t,\"loading\"),this._loader=this.createLoader(t),this._loader&&this._loader.complete&&this._loader.width>0&&this._loader.height>0&&this._onLoad(this._loader,t),this},stop:function(){return this.destroyLoader()},createLoader:function(t){var e=new Image,i=this;return e.onload=function(){i._onLoad(this,t)},e.onerror=function(){i._onError(this,t)},e.src=t.url,e},destroyLoader:function(){return this._loader&&(this._loader.onload=this._loader.onerror=null,this._loader=null),this},_onLoad:function(t,e){t=this.toObject(t,e),this.params.checkImageSize&&e&&!this._isSizeMatch(t,this.toObject(e))?(this._onError(t,e),this.trigger(\"wrongsize\",t)):this._onSuccess(t)},_onSuccess:function(t){this.stop(),\"complete\"!==this.getState(t)&&this.setState(t,\"complete\").saveImage(t),this.trigger(\"success\",t)},_onError:function(t,e){t=this.toObject(t,e),\"loading\"===this.getState(t)&&(this.setState(t,\"error\"),this.stop(),this.trigger(\"notfound\",t)),this.duplicates&&this.duplicates.length?this.preload(this.getNextDuplicate()):this.hasMod(\"batch\",\"yes\")||this.trigger(\"error\",t)},_isSizeMatch:function(t,e){return t.width===e.width||t.height===e.height},setState:function(t,e){return this.__self._state[t.url]=e,this},getState:function(t){return this.__self._state[t.url]},saveImage:function(t){return this.__self._history.append('<img src=\"'+t.url+'\" />'),this},getNextDuplicate:function(){return this.toObject(this.duplicates.shift())},toObject:function(t,e){return{url:t.url||t.src,origin:e&&e.url,width:parseInt(t.w,10)||parseInt(t.width,10),height:parseInt(t.h,10)||parseInt(t.height,10)}}},{_state:{},_history:null}),_borschik(\"-MnuT\")&&BEM.decl({block:\"i-preloader\",modName:\"nosize\",modVal:\"yes\"},{_isSizeMatch:function(){return!0}}),_borschik(\"aNYcz\")&&BEM.DOM.decl({block:\"i-preloader\",modName:\"batch\",modVal:\"yes\"},{images:[],onSetMod:{js:function(){this.__base.apply(this,arguments),this.on(\"success error\",this.batchLoad)}},batchLoad:function(){return this.load(this.images.shift()),this},setImages:function(t){return this.images=t,this}}),_borschik(\"W_GZn\")&&BEM.decl({block:\"thumb-preview\",modName:\"video\",modVal:!0},{onSetMod:{js:{inited:function(){this.__base.apply(this,arguments),this.setMod(this.elem(\"target\"),\"loading\",!0),BEM.DOM.append(this.elem(\"target\"),this.__self._getBemHtml())}},active:{yes:function(){var t=this._getCurrent();this._activeStartTime=Date.now(),t&&t!==this&&t.delMod(\"active\"),this._setCurrent(this),this.start()},\"\":function(){this.stop()}}},destruct:function(){var t=this._getCurrent();t===this&&(t.stop(),t._setCurrent(null)),this.__base.apply(this,arguments)},start:function(){this.hasMod(\"active\",\"yes\")||this.hasMod(\"disabled\",!0)||(this._addPlayer(),this._player[0].play(),this.setMod(\"active\",\"yes\"),this.trigger(\"start\"))},stop:function(){this.delMod(\"active\"),this._playing&&(this._player[0].pause(),this._player[0].currentTime=0,this.delMod(this.elem(\"target\"),\"playing\"),delete this._playing),this.trigger(\"stop\")},_addPlayer:function(){var t=this.params.preview,e={src:t.url,type:t.type};this.params.loop&&(e.loop=\"loop\"),this._player||(this._player=this.__self._getPlayer()),BEM.DOM.prepend(this.elem(\"target\"),this._player),this._player.attr(e)},_onError:$.noop,_onPlay:function(){this._playing=!0,this.delMod(this.elem(\"target\"),\"loading\"),this.setMod(this.elem(\"target\"),\"playing\",!0)},_onEnded:function(){this.stop(),this.trigger(\"end\")},_onWait:function(){this.setMod(this.elem(\"target\"),\"loading\",!0)},_getCurrent:function(){return this.__self.getCurrent()},_setCurrent:function(t){return this.__self._current=t,this}},{_getBemHtml:function(){return this._videoBemHtml||(this._videoBemHtml=BEMHTML.apply({block:this.getName(),elem:\"loader\",content:{block:\"spin2\",mods:{progress:\"yes\",size:\"xxs\"}}})),this._videoBemHtml},_getPlayer:function(){return this._player||(this._player=BEM.DOM.append(BEM.DOM.scope,BEMHTML.apply({block:this.getName(),elem:\"video\",tag:\"video\",attrs:{autoplay:\"autoplay\",muted:\"muted\",\"x-webkit-airplay\":\"deny\",playsinline:\"playsinline\"}})),[\"Ended\",\"Playing\",\"Waiting\",\"Error\"].forEach(this._addEvent.bind(this))),this._player},_addEvent:function(t){this._player[0].addEventListener(t.toLowerCase(),function(){this._current&&this[\"_on\"+t]()}.bind(this))},_onEnded:function(){this._current._onEnded()},_onPlaying:function(){this._current._onPlay()},_onWaiting:function(){this._current._onWait()},_onError:function(){this._current._onError()}}));_borschik(\"o8X8c\")&&(_borschik(\"At2Ze\")&&BEM.DOM.decl(\"scroller\",{onSetMod:{js:{inited:function(){this._wrap=this.elem(\"wrap\"),this._lazyImage=this.findBlockOn(this._wrap,\"lazy-image\"),this.bindTo(this._wrap,\"scroll\",$.throttle(this._onScroll,50,this)),this.bindToWin(\"resize\",$.throttle(this._onResize,50),this),this.reset()}}},_setTouched:function(){!this.hasMod(\"touched\",\"yes\")&&this.toggleMod(\"touched\",\"no\",\"yes\")},_onScroll:function(){this.trigger(\"scroll\"),this._setTouched(),this._setScrollMod()},_onResize:function(){this.reset()},_setScrollMod:function(){var t,i=this._getWrapScrollLeft(),s=this._getHiddenWidth();t=s<=0?\"no\":0===i?\"right\":i<s?\"both\":\"left\",\"left\"===t&&this.trigger(\"right-scroll-end\"),this.setMod(\"scroll\",t)},_getWrapScrollLeft:function(){return this._wrap.scrollLeft()},_getHiddenWidth:function(){return this._wrap.get(0).scrollWidth-this._wrap.outerWidth()},_sendCounter:function(){if(this._skipScrollCtr)return void(this._skipScrollCtr=!1);var t=this.params.counter;t&&w(this,t[0],t[1])},getWidth:function(){return this._wrap.width()},getLazyImage:function(){return this._lazyImage},scrollTo:function(t,i){this._wrap.stop().animate({scrollLeft:t},i?0:300,this._setScrollMod.bind(this))},setContent:function(t){BEM.DOM.append(this._wrap,t),this.reset()},replaceContent:function(t){BEM.DOM.update(this._wrap,t),this.reset()},empty:function(){this._wrap.empty().scrollLeft(0)},reset:function(){this._hiddenWidth=this._wrap.get(0).scrollWidth-this._wrap.width(),this.dropElemCache(),this._setScrollMod(),this._lazyImage&&(this._lazyImage.update(),this._lazyImage.bindEvents())}},{live:function(){this.liveInitOnEvent(\"mouseover\"),BEM.DOM.win.on(\"resize\",function(){$(\".scroller\").each(function(){$(this).bem(\"scroller\")})})}}),_borschik(\"tdOhT\")&&BEM.DOM.decl(\"scroller\",{onSetMod:{js:{inited:function(){this.__base.apply(this,arguments),this.bindTo(this._wrap,\"scroll\",$.debounce(this._sendCounter,200,this))}}},_skipOnscrollCounter:function(){this._skipScrollCtr=!0},scrollTo:function(t,i){this._skipOnscrollCounter(),this._wrap.stop().animate({scrollLeft:t},i?0:300,this._setScrollMod.bind(this))}}));_borschik(\"jXXhH\")&&(_borschik(\"iSCL6\")&&BEM.DOM.decl({block:\"scroller\",modName:\"controls\",modVal:\"arrow\"},{_onArrowClick:$.noop},{live:function(){return this.liveBindTo(\"arrow\",\"leftclick tap\",function(i){this._onArrowClick(i)}),this.__base()}}),_borschik(\"hlq85\")&&BEM.DOM.decl(\"overflow\",{onSetMod:{js:{inited:function(){this.afterCurrentEvent(this.checkOverflow),this.bindToWin(\"resize\",$.throttle(this.checkOverflow,50))}}},checkOverflow:function(){if(!this._isDestructing){if(this.hasMod(\"update\",\"yes\"))return this.domElem.resize().trigger(\"overflow-resize\");var i=this.domElem.width(),e=this.findElem(\"content\").get(0).scrollWidth;this.setMod(\"scroll\",e>i?\"yes\":\"no\")}}}));_borschik(\"yiRQ-\")&&_borschik(\"P4Lme\")&&BEM.DOM.decl({block:\"scroller\",modName:\"scroll-step\",modVal:\"screen\"},{_onArrowClick:function(t){var e=this.getMod(t.data.domElem,\"direction\"),r=this._getCarouselScrollStep(e);this._setTouched(),this.scrollTo(r)},_getCarouselScrollStep:function(t){var e=this.elem(\"item\"),r=0;if(!e.length)return 0;e.length>1&&(r=this._getCarouselMargin(e[1]));var o=e.length?e.outerWidth()+r:0,l=this._getCarouselWidth();return\"right\"===t?Math.floor((this._getWrapScrollLeft()+l+r)/o)*o:Math.ceil(this._getWrapScrollLeft()/o)*o-r-l},_getWrapScrollLeft:function(){return this._wrap.scrollLeft()},_getCarouselWidth:function(){return this.domElem.width()||0},_getCarouselMargin:function(t){return t.offsetLeft-t.offsetWidth}});_borschik(\"PhJ8E\")&&_borschik(\"UKFM6\")&&BEM.DOM.decl({block:\"scroller\",modName:\"more\",modVal:\"yes\"},{onSetMod:{js:function(){this.__base(),this._more=this.findBlockInside(\"more-item\"),this._skipMoreShowCtr=!1}},_setScrollMod:function(){this.__base(),!this._skipMoreShowCtr&&this._isMoreVisible()&&this._sendMoreCounter()},_isMoreVisible:function(){return this._getHiddenWidth()-this._wrap.scrollLeft()<this._getMoreWidth()},_getMoreWidth:function(){if(this._more&&this._more.domElem)return this._more.domElem.width()},_sendMoreCounter:function(){if(this._skipMoreShowCtr=!0,this._more.params&&this._more.params.counter){var e=this._more.params.counter;e&&wd(this._more.domElem[0],e[0],e[1])}}});_borschik(\"Ptgrz\")&&_borschik(\"nd762\")&&BEM.DOM.decl({block:\"object-figures\",modName:\"type\",modVal:\"map\"},{onSetMod:{js:function(){this.map=this.findBlockInside(\"map2\"),this.content=this.map&&this.findBlockOutside(\"content\"),this.content&&this.content.on(\"resized\",this._onGridResize,this)}},destruct:function(){this.content&&this.content.un(\"resized\",this._onGridResize,this),this.__base.apply(this,arguments)},_onGridResize:function(t,i){$.contains(i.gridElem[0],this.domElem[0])&&this.map.reload()}});_borschik(\"cBFfL\")&&(_borschik(\"Rn6Zp\")&&BEM.DOM.decl({block:\"serp-user\"},{onSetMod:{js:function(){this.insertIntoHeader()}},insertIntoHeader:function(){BEM.DOM.append(this._getSerpHeader().elem(\"nav\"),this.domElem.detach()),this.delMod(\"hidden\")},_getSerpHeader:function(){return this._getPage().findBlockInside(\"serp-header\")},_getPage:function(){return this._page||(this._page=this.findBlockOn(BEM.DOM.scope,\"b-page\"))}},{live:function(){this.liveInitOnBlockEvent(\"init\",\"serp\")}}),_borschik(\"7_FCE\")&&BEM.DOM.decl({block:\"serp-user\",modName:\"enter\",modVal:\"yes\"},{onSetMod:{js:function(){this.__base.apply(this,arguments),this._initPopups()}},_initPopups:function(){var o=this.findBlockOn(\"login-popup\",\"popup2\");o&&this._initLoginPopup(o)},_initLoginPopup:function(o){if(!BEM.blocks[\"i-cookie\"].get().yp(\"ln_pp\")){this._setLnCookie(this.__self.INITIAL_DELAY),o.bindTo(\"close\",\"pointerclick\",function(){var i=(this.elemParams(\"login-popup\").counters||{}).close;i&&BEM.blocks.counter.log(i,void 0,{node:this.elem(\"login-popup\")[0]}),this._setLnCookie(this.__self.CLOSE_DELAY),o.delMod(\"visible\")}.bind(this)),BEM.channel(\"suggest2\").onFirst(\"show\",function(){o.delMod(\"visible\")});var i=this.__self._getLoginPopupPosition();o.setPosition(i.top,i.right),o.setMod(\"visible\",\"yes\")}},_setLnCookie:function(o){var i=BEM.blocks[\"i-cookie\"].get();i.yp(\"ln_pp\",!0,Math.round(Date.now()/1e3+60*o))},onAjaxSuccess:function(o){var i=(o||{}).params||{};i.login&&this.findBlocksOn(\"login-link\",\"button2\").forEach(function(o){o.setUrl(i.login)}),i.switch&&this.findBlocksOn(\"switch-account-link\",\"link\").forEach(function(o){o.domElem.attr(\"href\",i.switch)}),i.registration&&this.findBlocksOn(\"registration-link\",\"link\").forEach(function(o){o.domElem.attr(\"href\",i.registration)})}},{_getLoginPopupPosition:function(){return{top:14,right:14}},INITIAL_DELAY:960,CLOSE_DELAY:10080}),_borschik(\"vz-Wz\")&&BEM.DOM.decl({block:\"serp-user\",modName:\"enter\",modVal:\"yes\"},{_initPopups:function(){this.__base.apply(this,arguments);var o=this.findBlockOn(\"promo-popup\",\"promo-popup\"),i=this.findBlockOn(\"login-popup\",\"popup\");o&&!i&&this._initPromoPopup(o)},_initPromoPopup:function(o){var i=this.elemParams(\"promo-popup\").index||0,n=BEM.blocks[\"i-cookie\"].get(),t=o.elem(\"cross\"),e=Boolean(t.length);n.ypBit(\"ln_tp\",i)||(o.bindTo(e?t:\"\",\"click\",function(){n.ypBit(\"ln_tp\",i,!0,n.getExpirationDate(365));var t=(this.elemParams(\"promo-popup\").counters||{}).closeByClick;t&&BEM.blocks.counter.log(t),o.hidePopup()}.bind(this)),setTimeout(function(){o.showPopup(this.elem(\"login-link\")),n.ypBit(\"ln_tp\",i,!0,n.getExpirationDate(1)),this._listenAnotherPopupsShown(o,function(){o.hidePopup()})}.bind(this),600))},_listenAnotherPopupsShown:function(o,i){var n=this._getPage();n.findBlocksInside(\"popup2\").forEach(function(o){o.onFirst(\"beforeOpen\",i)}),n.findBlocksInside(\"popup\").forEach(function(o){o.onFirst(\"show\",i)})},onAjaxSuccess:function(o){this.__base.apply(this,arguments);var i=this.findBlockInside(\"promo-popup\");i&&i.findBlocksOn(\"icon\",\"link\").forEach(function(i){var n=BEM.blocks.uri.parse(i.domElem.attr(\"href\")).replaceParam(\"retpath\",decodeURIComponent(o.params.retpath)).toString();i.domElem.attr(\"href\",n)})}}));_borschik(\"J-pzK\")&&\"undefined\"!=typeof BEM&&BEM.I18N&&(BEM.I18N.decl(\"user\",{\"Почта\":\"Почта\"},{lang:\"ru\"}),BEM.I18N.lang(\"ru\"));_borschik(\"YIfmT\")&&(_borschik(\"3Dthf\")&&BEM.DOM.decl({block:\"button2\",modName:\"has-control\",modVal:\"yes\"},{onSetMod:{checked:{yes:function(){this.__base.apply(this,arguments),this.elem(\"control\").prop(\"checked\",!0).attr(\"aria-checked\",\"true\")},\"\":function(){this.__base.apply(this,arguments),this.elem(\"control\").prop(\"checked\",!1).removeAttr(\"aria-checked\").removeAttr(\"checked\")}}},getVal:function(){return this.elem(\"control\").val()},setVal:function(e){return this.elem(\"control\").val(e),this},_processClick:function(e){this.__base.apply(this,arguments),this.hasMod(\"type\",\"radio\")&&this.setMod(\"checked\",\"yes\"),this.hasMod(\"type\",\"check\")&&this.toggleMod(\"checked\",\"yes\")},getDefaultParams:function(){return $.extend(this.__base(),{prvntKeys:[\"SPACE\"],clickKeys:[\"SPACE\"]})}}),_borschik(\"hHJiP\")&&BEM.DOM.decl({block:\"button2\",modName:\"type\",modVal:\"check\"},{_onClick:function(){this.__base.apply(this,arguments),this.toggleMod(\"checked\",\"yes\")}}));_borschik(\"wQHm-\")&&(_borschik(\"UavU_\")&&BEM.DOM.decl(\"promo-popup\",{onSetMod:{js:function(){this._popup=this.findBlockOn(\"popup2\"),this._popup.hasMod(\"target\",\"anchor\")&&this._popup.setAnchor(this.domElem),this._bindEvents()}},hidePopup:function(){this._popup.delMod(\"visible\")},showPopup:function(t){t&&this._popup.setAnchor(t),this._popup.setMod(\"visible\",\"yes\")},changeText:function(t){BEM.DOM.update(this.elem(\"text\"),t)},changeTitle:function(t){BEM.DOM.update(this.elem(\"title\"),t)},hideTitle:function(){this.setMod(this.elem(\"title\"),\"hide\",\"yes\")},showTitle:function(){this.delMod(this.elem(\"title\"),\"hide\")},destruct:function(){this._popup.un(\"beforeOpen\",this._onPopupShow,this),this._popup.un(\"beforeClose\",this._onPopupHide,this),BEM.channel(\"overlay\").un(\"stateChanged\",this.hidePopup,this),BEM.channel(\"advanced-search\").un(\"opened closed\",this._onAdvSearchToggle,this),this.__base.apply(this,arguments)},_bindEvents:function(){this._popup.onFirst(\"beforeOpen\",this._onPopupShow,this),this._popup.on(\"beforeClose\",this._onPopupHide,this),BEM.channel(\"overlay\").on(\"stateChanged\",this.hidePopup,this),BEM.channel(\"advanced-search\").on(\"opened closed\",this._onAdvSearchToggle,this)},_onAdvSearchToggle:function(){this.afterCurrentEvent(function(){this._popup.hasMod(\"visible\",\"yes\")&&this._popup.redraw()})},_onPopupShow:function(){this.count(this.params.counters.show)},_onPopupHide:function(){!this.hasMod(\"withoutCounterCloseAuto\",\"yes\")&&this.params.counters.closeAuto&&this.count(this.params.counters.closeAuto),this.params.counters.close&&this.count(this.params.counters.close),this.trigger(\"close\"),BEM.channel(\"overlay\").un(\"stateChanged\",this.hidePopup,this)},count:function(t){var o=this.getMod(\"type\")||\"normal\",e=t[1]+\",-type=\"+o;w(null,t[0],e)}},{live:!0}),_borschik(\"CHP_m\")&&BEM.decl(\"social-broker\",{_windowWidth:500,_windowHeight:280,onSetMod:{js:{inited:function(){this._window=null,this._timer=0,this._seed=0}}},start:function(t,o,e){var i,s,n=this;return this._onSuccess=t,this._onFailure=o,this._hasLocalStorage()?(this._cleanup(),e=$.extend({},n._getDefaultParams(),e),i=e.startUrl+\"?\",delete e.startUrl,delete e.popupName,s=e.display,this._seed=\"_\"+Number(new Date)+Math.floor(1e9*Math.random()).toString(16).slice(0,6),s&&\"popup\"!==s&&(e.retpath=e.retnopopup||e.retpath||window.location.href,delete e.retnopopup),e.retpath+=(e.retpath.indexOf(\"?\")!==-1?\"&\":\"?\")+\"social-broker_seed=\"+encodeURIComponent(this._seed),i+=Object.keys(e).reduce(function(t,o){return t.push(encodeURIComponent(o)+\"=\"+encodeURIComponent(e[o])),t},[]).join(\"&\"),s&&\"popup\"!==s?void this._navigate(i):(this._lsLoginStatusKey=\"login_status_from\"+this._seed,this._window=window.open(i,this._seed,this._getPopupParams(),!1),this._window?(this._window.focus(),clearInterval(this._timer),void(this._timer=setInterval(function(){var t;try{t=window.localStorage.getItem(n._lsLoginStatusKey)}catch(t){}if(n.isClosed()&&(clearInterval(n._timer),!t))return void n.onFailure({status:\"error\"});if(t){var o=n._deserialize(t);n._handleStatus(o)===!1&&n.onFailure({status:\"error\"})}},500))):void this.onFailure({status:\"error\"}))):void this.onFailure({status:\"error\"})},_hasLocalStorage:function(){return Boolean(window.localStorage)},_deserialize:function(t){var o;try{o=JSON.parse(t)}catch(e){o={raw:t}}return o},_handleStatus:function(t){return\"ok\"===t.status?(this.onSuccess(t),!0):\"error\"===t.status&&(this.onFailure(t),!0)},isClosed:function(){return!this._window||this._window.closed},_navigate:function(t){window.location.href=t},_getDefaultParams:function(){var t=BEM.blocks[\"i-global\"],o=t.param(\"id\");return{startUrl:t.param(\"social-startUrl\")||t.param(\"social-host\")+\"/broker/start\",retpath:t.param(\"social-retpath\")||[location.protocol,\"//\",location.host,t.param(\"lego-path\"),\"/common.blocks/social-broker/__closer/social-broker__closer.html\"].join(\"\"),retnopopup:t.param(\"social-retnopopup\")||!1,consumer:o||\"morda\",popupName:\"social_\"+(o||\"morda\"),action_if_anonymous:\"authorize\",result_location:\"fragment\"}},_getPositionedParams:function(t,o,e,i){return[\"scrollbars=yes, resizable=1, menubar=0, toolbar=0, status=0, location=0, directories=0\",\", left=\",o,\", top=\",t,\", width=\",e,\", height=\",i].join(\"\")},_getPopupParams:function(){var t,o,e=this._windowWidth,i=this._windowHeight;return window.opera?(t=(screen.availWidth-e)/2,o=(screen.availHeight-i)/2):(t=(window.innerWidth-e)/2,o=(window.innerHeight-i)/2),t=Math.round(t),o=Math.round(o),this._getPositionedParams(o,t,e,i)},_cleanup:function(){if(clearInterval(this._timer),this._lsLoginStatusKey)try{window.localStorage.removeItem(this._lsLoginStatusKey)}catch(t){}this.isClosed()||this._window.close(),this._window=null},onSuccess:function(t){this._cleanup(),this._onSuccess&&this._onSuccess(t)},onFailure:function(t){this._cleanup(),this._onFailure&&this._onFailure(t)},destruct:function(){this._cleanup(),this.__base.apply(this,arguments)}}),_borschik(\"PLAYp\")&&BEM.DOM.decl({block:\"promo-popup\",modName:\"social\",modVal:\"yes\"},{_bindEvents:function(){this.__base.apply(this,arguments),this.findBlocksOn(\"social-icon\",\"link\").map(function(t){this.bindTo(t.domElem,\"click\",this._onSocialClick)}.bind(this))},_onSocialClick:function(t){var o=t.data.domElem,e=this.getMod(o,\"type\");if(e){t.preventDefault();var i=BEM.blocks.uri.parse(o.attr(\"href\"));i.queryParams={},this._socialBroker&&this._socialBroker.destruct(),this._socialBroker=BEM.create(\"social-broker\"),this._socialBroker.start(this._reloadPage.bind(this),null,{startUrl:i.toString(),retpath:\"//yandex.ru/i-social__closer.html\",provider:e,consumer:\"serp\",display:\"popup\",place:\"fragment\"})}},_reloadPage:function(){location.reload()}},{live:!0}));_borschik(\"6yz9B\")&&(_borschik(\"A3Lg-\")&&BEM.DOM.decl(\"serp-footer\",{onSetMod:{js:function(){BEM.channel(\"serp-request\").on(\"success\",this.retpathUpdate,this);var e=this.findBlockOn(\"scroll-spy\"),t=this.findElem(\"promo\")[0]&&this.elemParams(\"promo\");e&&e.onFirstBecameVisible(function(){if(this.setMod(\"shown\",\"yes\"),this.params.counter&&w(null,this.params.counter[0]),t){var e=t.atomCounters,n=t.bkCounters;e?Lego.cp(e.pid,e.cid,e.path,e.body+\",\"+e.vars+\"show\"):this._sendCounter(n.show)}},this)}},retpathUpdate:function(){var e=this.elem(\"retpath\"),t=decodeURIComponent(BEM.blocks[\"i-global\"].param(\"retpath\"));e.each(function(){var e=$(this),n=BEM.blocks.uri.parse(e.attr(\"href\")).replaceParam(\"retpath\",t).toString();e.attr(\"href\",n)})},_sendCounter:function(e){e&&((new Image).src=e)}}),_borschik(\"AUomT\")&&BEM.DOM.decl(\"serp-footer__promo\",{onSetMod:{js:{inited:function(){var e=this,t=this.elemParams(this.domElem),n=this.findBlockInside(\"app\"),o=n?n.findBlocksInside(\"link\").concat(n.findBlocksInside(\"button2\")):[],i=this.atomCounters=t.atomCounters;!this.inline&&(this.inline=this.findBlockInside(\"promo-curtain\")),o.forEach(function(n){n.bindTo(\"click\",function(){i&&Lego.cp(i.pid,i.cid,i.path,i.body+\",\"+i.vars+\"click\"),\"inline\"===t.type&&e.inline&&(e._sendCounter(t.bkCounters.install),e.inline.on(\"installed\",e._onInstalled,e).on(\"installationFailed\",e._onInstallationFailed,e).on(\"installationCancelled\",e._onInstallationCancelled,e).install())})})}}},_sendCounter:function(e){e&&((new Image).src=e)},_onInstalled:function(){if(this.atomCounters){var e=this.atomCounters.body+\",\"+this.atomCounters.vars;Lego.cp(this.atomCounters.pid,this.atomCounters.cid,this.atomCounters.path,e+\"install\")}this._clearInlineEvents()},_onInstallationFailed:function(){this._clearInlineEvents()},_onInstallationCancelled:function(){this._clearInlineEvents()},_clearInlineEvents:function(){this.inline&&this.inline.un(\"installed\").un(\"installationFailed\").un(\"installationCancelled\")}},{live:function(){this.liveInitOnEvent(\"mouseover pointerdown touchstart\")}}),_borschik(\"5sECe\")&&(BEM.DOM.decl(\"keyboard-loader\",{onSetMod:{js:{inited:function(){Lego.block[\"keyboard-loader\"].call(this.domElem,this.params)}}}}),function(e,t){t.block[\"keyboard-loader\"]=function(n){function o(n){var o=BEM.INTERNAL.buildClass,i=o(\"keyboard-popup\",\"visibility\",\"hidden\"),a=o(\"keyboard-popup\",\"gap\",\"visibility\",\"hidden\"),r=n?\"addClass\":\"toggleClass\",l=s.find(\".keyboard-popup\"),c=t.block.keyboard._lastFocusedIn;l.length&&(s.find(\".keyboard-popup__gap\")[r](a),s.find(\".keyboard-popup\")[r](i).hasClass(i)?(d.trigger(\"keyboardClosed\"),e(document).trigger(\"popupsClose.lego\"),c&&c.focus()):d.trigger(\"keyboardOpened.lego\"),l.data(\"isHidden\",!1))}function i(e){return a()[e]}function a(){var t={};return e.each(window.name.split(\"&\"),function(){if(this.toString()){var e=this.split(\"=\");t[e[0]]=e[1]}}),t}function r(t,n){var o=a(),i=[];o[t]=n,e.each(o,function(e,t){i.push(e+\"=\"+t)}),window.name=i.join(\"&\")}var s=e(document.body),d=e(window),l=this;l.click(function(i){i.preventDefault();var a=e(this),r=n.lang||\"ru\";s.find(\".keyboard\")[0]?o():(a.append('<i class=\"keyboard-loader__progress\"/>'),e.xLazyLoader({name:\"keyboard\",js:n.js,css:n.css,success:function(){s.find(\".keyboard\")[0]||(t.block[\"keyboard-popup\"]({lang:r,for:n.for}),e(\"<div>\",{class:\"keyboard i-bem\",\"data-bem\":JSON.stringify({keyboard:{lang:r}})}).appendTo(document.body),BEM.DOM.init(e(\".keyboard\")),a.find(\".keyboard-loader__progress\").remove(),d.trigger(\"keyboardOpened.lego\",{afterLoad:!0}))}}))}),d.bind(\"keyboardOpen.lego\",function(){l.click()}).bind(\"keyboardClose.lego\",o),n.for&&d.bind(\"keyboardOpened.lego\",function(t,o){!(o&&o.afterLoad&&n.autoLoad)&&e(n.for).focus()}),n.storeState=n.storeState!==!1,n.storeState&&d.bind(\"keyboardOpened.lego\",function(){r(\"keyboard_state\",\"open\");var t=i(\"keyboard_lang\");t&&e(window).trigger(\"keyboardSetLang.lego\",t)}).bind(\"keyboardClosed.lego\",function(){r(\"keyboard_state\",\"close\")}).bind(\"keyboardLangChanged.lego\",function(e,t){r(\"keyboard_lang\",t)}),(n.autoLoad=n.autoLoad||n.storeState&&\"open\"===i(\"keyboard_state\"))&&l.click(),d.bind(\"keyboardOpened.lego\",function(){e(\"input:focus\").focus()})}}(jQuery,window.Lego)),_borschik(\"O40EP\")&&!function(e){function t(){function t(e,t){c[e](t,function(e){\"error\"===e?h.push(t):u.push(t)&&r.each(t),i()},\"lazy-loaded-\"+(r.name?r.name:(new Date).getTime()))}function o(e){r.complete(e,u,h),r[e](\"error\"===e?h:u),clearTimeout(s),clearTimeout(d)}function i(){u.length===p.length?o(\"success\"):u.length+h.length===p.length&&o(\"error\")}function a(){h.push(this.src),i()}var r,s,d,l,c=this,u=[],h=[],p=[];this.init=function(n){if(n){if(r=e.extend({},e.xLazyLoader.defaults,n),l={js:r.js,css:r.css,img:r.img},e.each(l,function(e,t){\"string\"==typeof t&&(t=t.split(\",\")),p=p.concat(t)}),!p.length)return void o(\"error\");r.timeout&&(s=setTimeout(function(){var t=u.concat(h);e.each(p,function(n,o){e.inArray(o,t)===-1&&h.push(o)}),o(\"error\")},r.timeout)),e.each(l,function(n,o){e.isArray(o)?e.each(o,function(e,o){t(n,o)}):\"string\"==typeof o&&t(n,o)})}},this.js=function(t,o,i){var r=e('script[src*=\"'+t+'\"]');if(r.length)return void(r.attr(\"pending\")?r.bind(\"scriptload\",o):o());var s=document.createElement(\"script\");s.setAttribute(\"type\",\"text/javascript\"),s.setAttribute(\"charset\",\"utf-8\"),s.setAttribute(\"src\",t),s.setAttribute(\"pending\",1),s.onerror=a,e(s).bind(\"scriptload\",function(){e(this).removeAttr(\"pending\"),o(),setTimeout(function(){e(s).unbind(\"scriptload\")},10)});var d=!1;s.onload=s.onreadystatechange=function(){d||this.readyState&&!/loaded|complete/.test(this.readyState)||(d=!0,s.onload=s.onreadystatechange=null,e(s).trigger(\"scriptload\"))},n.appendChild(s)},this.css=function(t,o,i){if(e('link[href*=\"'+t+'\"]').length)return void o();var a=document.createElement(\"link\");a.setAttribute(\"type\",\"text/css\"),a.setAttribute(\"rel\",\"stylesheet\"),a.setAttribute(\"href\",t);var r=navigator.userAgent.toLowerCase().indexOf(\"msie\")>-1,s=window.opera&&window.opera.version()<13;r?a.onreadystatechange=function(){/loaded|complete/.test(a.readyState)&&o()}:s?a.onload=o:!function(){a&&a.sheet?o():d=setTimeout(arguments.callee,20)}(),n.appendChild(a)},this.img=function(e,t){var n=new Image;n.onload=t,n.onerror=a,n.src=e},this.disable=function(t){e(\"#lazy-loaded-\"+t,n).attr(\"disabled\",\"disabled\")},this.enable=function(t){e(\"#lazy-loaded-\"+t,n).removeAttr(\"disabled\")},this.destroy=function(t){e(\"#lazy-loaded-\"+t,n).remove()}}e.xLazyLoader=function(e,n){\"object\"==typeof e&&(n=e,e=\"init\"),(new t)[e](n)},e.xLazyLoader.defaults={js:[],css:[],img:[],name:null,timeout:2e4,success:function(){},error:function(){},complete:function(){},each:function(){}};var n=document.getElementsByTagName(\"head\")[0]}(jQuery));_borschik(\"FlA8D\")&&\"undefined\"!=typeof BEM&&BEM.I18N&&(BEM.I18N.decl(\"copyright\",{link:function(n){return\"ООО «\"+n.content+\"»\"},yandex:\"Яндекс\"},{lang:\"ru\"}),BEM.I18N.lang(\"ru\"));_borschik(\"0fVqZ\")&&(_borschik(\"1yDb4\")&&BEM.DOM.decl(\"yaplus\",{onSetMod:{js:{inited:function(){this.__base.apply(this,arguments),this.insertIntoHeader()}}},insertIntoHeader:function(){BEM.DOM.prepend(this._getSerpHeader().elem(\"nav\"),this.domElem.detach()),this.delMod(\"hidden\")},_getSerpHeader:function(){return this._getPage().findBlockInside(\"serp-header\")},_getPage:function(){return this._page||(this._page=this.findBlockOn(BEM.DOM.scope,\"b-page\"))}}),_borschik(\"Qoy7Z\")&&BEM.DOM.decl({block:\"yaplus\",modName:\"available\",modVal:\"yes\"},{onLinkPonterover:function(e){if(!this.pageHasOpenedPopups())return this.__base.apply(this,arguments)}}));_borschik(\"c2PB0\")&&\"undefined\"!=typeof BEM&&BEM.I18N&&(BEM.I18N.decl(\"yaplus\",{btn_left:\"Не сейчас\",btn_right:\"Интересно\",btn_right_enabled:\"Подробнее\",enable:\"Включить\",tooltip_descr:\"Скидки в Такси, полный доступ к Музыке и многое другое\",tooltip_descr_enabled:\"Теперь у вас есть скидки в Такси, полный доступ к Музыке и многое другое\",tooltip_header:\"Подписка Яндекс.Плюс\"},{lang:\"ru\"}),BEM.I18N.lang(\"ru\"));_borschik(\"EMGQF\")&&(_borschik(\"ej3tl\"),_borschik(\"jLlcG\")&&BEM.DOM.decl(\"notifier\",{onSetMod:{js:{inited:function(){this.__base.apply(this,arguments),this.insertIntoHeader()}},opened:{yes:function(){this.__base.apply(this,arguments),this._firstOpen===!1&&this.updateCounterWithParams(this._updateCounterParams(),location.href)}}},insertIntoHeader:function(){BEM.blocks[\"serp-header\"].replacePlaceholder(\"notifier\",this)},_getSerpHeader:function(){return this._getPage().findBlockInside(\"serp-header\")},_getPage:function(){return this._page||(this._page=this.findBlockOn(BEM.DOM.scope,\"b-page\"))},_updateCounterParams:function(){return this.params.counterParams.reqid=BEM.blocks[\"i-global\"].param(\"reqid\"),this.params.counterParams}}));_borschik(\"OHD23\")&&_borschik(\"LT24f\")&&BEM.DOM.decl(\"distr-default-search\",{sendPortalCounter:function(s){1===this.params.atomtobk?s&&((new Image).src=s):this.__base.apply(this,arguments)}});_borschik(\"iH9Wh\")&&_borschik(\"moMPz\")&&BEM.DOM.decl({block:\"scroller\",modName:\"scroll-step\",modVal:\"fixed\"},{onSetMod:{js:{inited:function(){this._moreThumb=this.elem(\"item\",\"more\",\"yes\"),this.__base.apply(this,arguments)}}},_onArrowClick:function(o){var t=this.getMod(o.data.domElem,\"direction\"),i=this._getFixedOffset(t);this._setTouched(),this.params.scrollWithMore&&this._moreThumb.get(0)?this._scrollWithMore(i,t):this.scrollTo(i)},_scrollWithMore:function(o,t){var i=this._moreThumb.position().left;\"right\"===t?o+this._wrap.outerWidth()>=i?this.scrollToEnd():this.scrollTo(o):this.scrollTo(o>=i?i:o)},scrollToEnd:function(){this.scrollTo(this._wrap.get(0).scrollWidth-this._wrap.outerWidth())}});_borschik(\"PlWCz\")&&(_borschik(\"fxroM\")&&BEM.DOM.decl(\"yaplus\",{insertIntoHeader:function(){BEM.blocks[\"serp-header\"].replacePlaceholder(\"yaplus\",this)}}),_borschik(\"Uud_6\"),_borschik(\"3_iQZ\"),_borschik(\"V8YDv\")&&BEM.DOM.decl({block:\"yaplus\",modName:\"available\",modVal:\"yes\"},{onSetMod:{js:{inited:function(){this.__base.apply(this,arguments);var o=BEM.blocks[\"i-cookie\"].get();o&&!o.yp(\"yaplustooltip\")&&this.params.opened&&!this.pageHasOpenedPopups()&&this._tooltip&&(this._tooltip.setMod(\"shown\",\"yes\"),o.yp(\"yaplustooltip\",\"1\",o.getExpirationDate(1)))}}},pageHasOpenedPopups:function(){var o=\".popup_visibility_visible\",t=\".popup2_visible_yes\";return $(o+\".promo-popup\").length||$(o+\".serp-user\").length||$(o+\".multi-auth\").length||$(t+\".notifier__popup\").length||$(t+\".distr-popup\").length},_onClearButtonClick:function(){var o=BEM.blocks[\"i-cookie\"].get();return o&&o.yp(\"yaplustooltip\",\"1\",o.getExpirationDate(36500)),this.__base.apply(this,arguments)},_onActionButtonClick:function(){var o=BEM.blocks[\"i-cookie\"].get();return o&&o.yp(\"yaplustooltip\",\"1\",o.getExpirationDate(36500)),this.__base.apply(this,arguments)}}),_borschik(\"3_iQZ\"),_borschik(\"ooogn\")&&BEM.DOM.decl({block:\"yaplus\",modName:\"has-tooltip\",modVal:\"yes\"},{onLinkPonterover:function(o){if(!this.pageHasOpenedPopups())return this.__base.apply(this,arguments)}}));_borschik(\"kZaW0\")&&(_borschik(\"6YrR2\")&&BEM.DOM.decl(\"direct-info-right\",{},{live:function(){this.liveBindTo(\"button\",\"click\",function(){var i=BEM.blocks[\"i-cookie\"].get();i.ys(\"dptc\",1),this.destruct()})}}),_borschik(\"Hp68n\")&&BEM.DOM.decl(\"direct-tooltip\",{onSetMod:{js:function(){setTimeout(function(){this._initTooltip()}.bind(this),0)}},_initTooltip:function(){this.directNavTab=this.findBlockOn(BEM.DOM.scope,\"b-page\").findBlockInside(\"navigation\").findElem(\"item\",\"name\",\"direct-page\"),this._popup=this.findBlockOn(\"popup2\"),this._popup&&(this._popup.setAnchor(this.directNavTab),this._popup.setMod(\"visible\",\"yes\"),this._popup.on(\"hide\",function(){this.destruct()}.bind(this)),this._popup.elem(\"close\")&&this.bindTo(\"close\",\"click\",this.onCloseClick))},onCloseClick:function(){var i=BEM.blocks[\"i-cookie\"].get();w(null,this.params.close[0]),i.ys(\"dptc\",1),this._popup.delMod(\"visible\")}}),_borschik(\"rdr2M\")&&BEM.DOM.decl(\"main__direct-tooltip\",{getAjaxData:function(){return{exists:null!==this._getPage().findBlockInside(\"direct-tooltip\")}},onAjaxSuccess:function(i){var t=this._getPage().findBlockInside(\"direct-tooltip\");t&&t.destruct(),i.html&&BEM.DOM.update(this.domElem,i.html)},_getPage:function(){return this._page||(this._page=this.findBlockOn(BEM.DOM.scope,\"b-page\")),this._page}}));_borschik(\"ATGjj\")&&_borschik(\"OwCxy\")&&BEM.DOM.decl(\"chat-loader\",{onSetMod:{js:function(){this._openChat(this._getChatParams()),BEM.channel(\"chat-loader\").on(\"open-window\",function(a,t){this._openChat(t)},this)}},_getChatParams:function(){var a,t=this.params.key;try{a=JSON.parse(Ya.localStorage.getItem(t))}catch(a){}if(a){var e=a.expires;return!e||new Date(e).getTime()<Date.now()?void Ya.localStorage.removeItem(t):a}return window.__YChatAutoOpenParams&&window.__YChatAutoOpenParams[0]},_openChat:function(a){function t(a){var t=window.__YChatIframeContainer;return!!t&&(t.open(a,function(){BEM.channel(\"chat-loader\").trigger(\"ready\",{params:a,container:t})}),!0)}if(a&&!t(a)){var e=document.createElement(\"script\");e.src=this.params.src,e.type=\"text/javascript\",e.async=!0,e.crossOrigin=\"\",document.getElementsByTagName(\"head\")[0].appendChild(e),e.addEventListener(\"load\",function(){t(a)})}}});(function init(t){BEM.blocks.metrika.createCounter(t)})({\"id\":\"731962\",\"accurateTrackBounce\":true,\"clickmap\":false,\"experiments\":\"BM2vbv1KuFToZbfLGhuyc2qhFaze1kAmrJBT3TelI9nIXTylAGQjkA00zipor3QOhX4YV8nvQTKP0Wxc8Dk6t8Ag3jVxFkEhK52WsaipdQn5XqXlm7PUGrJvzBs85P2Pg_QOWzrm3WjQZVA4SyS6_cnwV-xoZiI3wnZRoSThWqkSO72hwyfy0JlNiQ7eRqAPG0n89eUAzzE0jHGF9kd3rNqmnEnCnd3MDSn2WFA7PR96icd4bim-fFhUjBVlmQhUsoYHnXrBwxJ2e9_XZ6Op9X8neDF9T2rP4vvY-KH3RvXWwfCxQUjQf339LVhr2cKatEdysO-fxjBuOP8rZVYBeS1mK3GekovUiVbkfspj4Cs8b8krn5w1h7Z3Ob29Dq0UMYAPI3pi6c7uB6Vfz5QfZ2JEgoVnAhSqpy-l3dLoLCMX9rXLSkrr7tD0V4MRO3aIPIyB4HLNT79gd4m8LCkkiXE7PFADPGY8\",\"trackLinks\":true,\"webvisor\":false});$(function(){BEM.afterCurrentEvent(function(){BEM.blocks[\"i-global\"].setParams({\"assetsMetadata\":{\"las\":\"colorize-1er1zev;colorize-e-i5xqgh;colorize-p-1p0a0my;content__left_width_custom;direct_organic_titlesitelinks_color;favicons;overlay_base;promo-popup_theme_ffffff\"},\"bundlesMetadata\":{\"lb\":\"lMBhfujNk0k7l0jCkiiVjGlcgSk5gdlEkmkcmjlQmdmWmymNqDnhiSkAkBlrjJjQfgkXjLjTg8khBkl6jvqAfDflf7gIiZjVkOk6gGlNiEeLeRfamEg5gm986qex9ZeGe665\"}})});});</script><noscript><i style=\"background:url('//yandex.ru/clck/click/reqid=1534880720591518-87297817111631953049859-vla1-2704/path=690.627/vars=143=28.1034.153/*')\"></i></noscript><div class=\"popup2 popup2_autoclosable_yes popup2_theme_clear popup2_fixed_yes popup2_view_classic suggest2 suggest2_history_yes suggest2_search_yes suggest2_adaptive_yes suggest2_theme_large suggest2_type_advanced suggest2_adjustable_yes suggest2_group_label suggest2-detect suggest2-history serp i-bem\" data-bem='{\"popup2\":{\"directions\":[\"bottom-left\"]},\"suggest2\":{\"onFocus\":\"request\",\"submitBySelect\":true,\"requestOnEmptyInput\":true,\"sequentialQueriesTimeout\":500,\"url\":\"//suggest.yandex.ru/suggest-ya.cgi?\",\"data\":{\"srv\":\"serp_ru_desktop\",\"wiz\":\"TrWth\",\"yu\":\"7163195301534880720\",\"lr\":35,\"uil\":\"ru\",\"fact\":1,\"icon\":1,\"hl\":1,\"v\":4,\"n\":10,\"bemjson\":1,\"html\":1,\"mob\":0,\"portal\":1,\"platform\":\"desktop\",\"show_experiment\":[\"222\",\"224\"]},\"providerMods\":{\"history\":\"yes\"},\"needRequestWithHistory\":true,\"deleteHistoryUrl\":\"//suggest.yandex.ru/suggest-delete-text?srv=web&amp;text_to_delete=\",\"dataType\":\"json\",\"xhrFields\":{\"withCredentials\":true}},\"suggest2-detect\":{},\"suggest2-history\":{\"ajaxKey\":\"suggest2-history\",\"other\":[],\"running\":[],\"enabled\":true},\"serp\":{\"uniqId\":\"search\"}}' id=main-search-suggest></div><script nonce=3938>var MOUSE_TRACKING_SETTINGS={}</script><script src=\"//yastatic.net/web4/_/xU550TUyhLko4TxcEgq1Qpu01Ic.js\" crossorigin=\"\" async></script><div class=\"unread-letters-updater i-bem\" data-bem='{\"unread-letters-updater\":{}}'></div><div class=\"b-counters serp i-bem\" data-bem='{\"b-counters\":{\"reqid\":\"1534880720591518-87297817111631953049859-vla1-2704\",\"ajaxKey\":\"b-cntrs\"},\"serp\":{\"uniqId\":\"search\"}}'><i class=b-statcounter><i style=\"background: url(//www.tns-counter.ru/V13a****yandex_ru/ru/UTF-8/tmsec=yandex_serp/871386033)\"></i></i></div><div class=\"chat-loader i-bem\" data-bem='{\"chat-loader\":{\"src\":\"//yastatic.net/chat/0x6b34ef2d/build/freeze/yandex-chat-container.js\",\"key\":\"ychat\"}}'></div><div class=\"detect-scripts i-bem\" data-bem='{\"detect-scripts\":{\"host\":\"csp.yandex.net\"}}'></div>\n",
      "<!-- vla1-2704 --><!-- 0.489241 -->\n"
     ]
    }
   ],
   "source": [
    "res = requests.get('https://yandex.ru/search/',\n",
    "                  params = {'text':'stepic'}) # также, у каждого ресурсы есть параметры\\методы, \n",
    "# их можно указать. Но они варьируются в от домена к домену \n",
    "\n",
    "print(res.status_code)\n",
    "print(res.headers['Content-Type'])\n",
    "print(res.url)\n",
    "print(res.text)"
   ]
  },
  {
   "cell_type": "markdown",
   "metadata": {},
   "source": [
    "----"
   ]
  },
  {
   "cell_type": "markdown",
   "metadata": {},
   "source": [
    "Рассмотрим два HTML-документа A и B. <br>\n",
    "Из A можно перейти в B за один переход, если в A есть ссылка на B, т. е. внутри A есть тег ```<a href=\"B\">```, возможно с дополнительными параметрами внутри тега. <br>\n",
    "Из A можно перейти в B за два перехода если существует такой документ C, что из A в C можно перейти за один переход и из C в B можно перейти за один переход.\n",
    "\n",
    "Вашей программе на вход подаются две строки, содержащие url двух документов A и B. <br>\n",
    "Выведите Yes, если из A в B можно перейти за два перехода, иначе выведите No. \n",
    "\n",
    "Обратите внимание на то, что не все ссылки внутри HTML документа могут вести на существующие HTML документы.\n",
    "\n",
    "**Sample Input 1:**\n",
    "```\n",
    "https://stepic.org/media/attachments/lesson/24472/sample0.html\n",
    "https://stepic.org/media/attachments/lesson/24472/sample2.html\n",
    "```\n",
    "**Sample Output 1:**\n",
    "```\n",
    "Yes\n",
    "```\n",
    "**Sample Input 2:**\n",
    "```\n",
    "https://stepic.org/media/attachments/lesson/24472/sample0.html\n",
    "https://stepic.org/media/attachments/lesson/24472/sample1.html\n",
    "```\n",
    "**Sample Output 2:**\n",
    "```\n",
    "No\n",
    "```\n",
    "**Sample Input 3:**\n",
    "```\n",
    "https://stepic.org/media/attachments/lesson/24472/sample1.html\n",
    "https://stepic.org/media/attachments/lesson/24472/sample2.html\n",
    "```\n",
    "**Sample Output 3:**\n",
    "```\n",
    "Yes```\n"
   ]
  },
  {
   "cell_type": "code",
   "execution_count": 97,
   "metadata": {},
   "outputs": [],
   "source": [
    "# Your code complexity score is 23.66 (best for this step is 6.48).\n",
    "class Refs:\n",
    "    \"\"\"\n",
    "    Class verify wheather hyperreference b can be reached in two \n",
    "    clicks from start hyperrefererence.\n",
    "    a - start hyperreference \n",
    "    b - destination hyperreference\n",
    "    # refs - list of found hrefs in source\n",
    "    Class uses two exre modules re and requests that should be preinstalled in machine.\n",
    "    \"\"\"\n",
    "    def __init__(self, a = 0, b = 0):\n",
    "        self.a = input()\n",
    "        self.b = input()\n",
    "        self.re = __import__('re')\n",
    "        self.requests = __import__('requests')\n",
    "    def req(self, query):\n",
    "        return self.requests.get(query).text\n",
    "        '''\n",
    "        Form response 'a' from request 'a' hypperreference \n",
    "        '''\n",
    "    def find_href(self, source): \n",
    "        self.pattern = self.re.compile(r'(http\\w*:\\/\\/(\\w*[.:\\/\\?\\=\\-]*\\w*)+)')\n",
    "        refs = self.pattern.findall(source)\n",
    "        refs = [i[0] for i in refs]\n",
    "        return refs    \n",
    "        '''\n",
    "        find all hrefs which starts with http\\w*:// and returns list of sources\n",
    "        '''\n",
    "    def check(self):\n",
    "        self.a = self.req(self.a)\n",
    "        lst = self.find_href(self.a)\n",
    "        for i in lst:\n",
    "            i = self.req(i)\n",
    "            lst_sub  = self.find_href(i)\n",
    "            if self.b in lst_sub: \n",
    "                return True\n",
    "            else:\n",
    "                next\n",
    "    def tell_me(self):\n",
    "        if self.check()==True:\n",
    "            print('Yes')\n",
    "        else: \n",
    "            print('No')\n",
    "            \n",
    "r = Refs()\n",
    "r.tell_me()"
   ]
  },
  {
   "cell_type": "code",
   "execution_count": null,
   "metadata": {},
   "outputs": [],
   "source": [
    "# пример Кости Зайцева \n",
    "\n",
    "import re\n",
    "import requests\n",
    "\n",
    "start_url = input()\n",
    "end_url = input()\n",
    "\n",
    "found = False\n",
    "\n",
    "link_pattern = re.compile(r'<a[^>]*?href=\"(.*?)\"[^>]*?>')\n",
    "\n",
    "resp = requests.get(start_url).text\n",
    "for url in link_pattern.findall(resp):\n",
    "    cur_resp = requests.get(url).text\n",
    "    if end_url in link_pattern.findall(cur_resp):\n",
    "        found = True\n",
    "        break\n",
    "\n",
    "print(\"Yes\" if found else \"No\")"
   ]
  },
  {
   "cell_type": "markdown",
   "metadata": {},
   "source": [
    "----"
   ]
  },
  {
   "cell_type": "markdown",
   "metadata": {},
   "source": [
    "Вашей программе на вход подается ссылка на HTML файл. <br>\n",
    "Вам необходимо скачать этот файл, затем найти в нем все ссылки вида ```<a ... href=\"...\" ... > ```и вывести список сайтов, на которые есть ссылка.\n",
    "\n",
    "Сайтом в данной задаче будем называть имя домена вместе с именами поддоменов. То есть, это последовательность символов, которая следует сразу после символов протокола, если он есть, до символов порта или пути, если они есть, за исключением случаев с относительными ссылками вида\n",
    "```<a href=\"../some_path/index.html\">```.\n",
    "\n",
    "Сайты следует выводить в алфавитном порядке.\n",
    "\n",
    "**Пример HTML файла:**\n",
    "```\n",
    "<a href=\"http://stepic.org/courses\">\n",
    "<a href='https://stepic.org'>\n",
    "<a href='http://neerc.ifmo.ru:1345'>\n",
    "<a href=\"ftp://mail.ru/distib\" >\n",
    "<a href=\"ya.ru\">\n",
    "<a href=\"www.ya.ru\">\n",
    "<a href=\"../skip_relative_links\">\n",
    "```\n",
    "**Пример ответа:**\n",
    "```\n",
    "mail.ru\n",
    "neerc.ifmo.ru\n",
    "stepic.org\n",
    "www.ya.ru\n",
    "ya.ru```"
   ]
  },
  {
   "cell_type": "code",
   "execution_count": 278,
   "metadata": {},
   "outputs": [
    {
     "name": "stdout",
     "output_type": "stream",
     "text": [
      "banner.rbc.ru\n",
      "biztorg.ru\n",
      "redir.rbc.ru\n",
      "static.feed.rbc.ru\n",
      "www.biztorg.ru\n",
      "www.m-2.ru\n"
     ]
    }
   ],
   "source": [
    "# Your code complexity score is 12.21 (best for this step is 5.0).\n",
    "import re\n",
    "import requests\n",
    "\n",
    "res = requests.get(input())\n",
    "docs = res.text\n",
    "pattern = re.compile(r'(<a.*href=[\\'\\\"htpsf\\:]+[\\//]+(www.)*(\\w+[\\-]*\\w+\\.\\w*\\.*\\w*\\.*\\w*))')\n",
    "lst = pattern.findall(docs)\n",
    "lst1 = [list(i)[1:3] for i in lst]\n",
    "lst1 = [''.join(i) for i in lst1 ]\n",
    "lst1 = list(set(lst1))\n",
    "lst1.sort()\n",
    "print(*lst1, sep = '\\n')"
   ]
  },
  {
   "cell_type": "code",
   "execution_count": null,
   "metadata": {},
   "outputs": [],
   "source": [
    "# пример решения кости зайцева \n",
    "# Но проблема в том, что другие ребята не довольны, так как это решение не проходит их тесты \n",
    "import re\n",
    "import requests\n",
    "\n",
    "resp = requests.get(input()).text\n",
    "sites = set()\n",
    "for site in re.findall(r'<a.*?href=\".*?:\\/\\/((?:\\w|-)+(?:\\.(?:\\w|-)+)+)', resp):\n",
    "    sites.add(site)\n",
    "\n",
    "for site in sorted(sites):\n",
    "    print(site)"
   ]
  },
  {
   "cell_type": "code",
   "execution_count": null,
   "metadata": {},
   "outputs": [],
   "source": [
    "# интересный пример\n",
    "import requests, re\n",
    "for i in sorted({i.group(2) for i in re.finditer(\n",
    "    r'<a.*?href=[\\'|\"](\\w+://)?(([\\w|-]+\\.)+\\w+).*?>', requests.get(input('')).text)}):\n",
    "    print(i)"
   ]
  },
  {
   "cell_type": "code",
   "execution_count": null,
   "metadata": {},
   "outputs": [],
   "source": [
    "# рекордсмен\n",
    "# Your code complexity score is 5.1 (best for this step is 5.1).\n",
    "import re\n",
    "import requests\n",
    "\n",
    "\n",
    "regex = r'<a.*?href=\".*?:\\/\\/((?:\\w|-)+(?:\\.(?:\\w|-)+)+)'\n",
    "\n",
    "print(\n",
    "    *sorted(\n",
    "        set(\n",
    "            re.findall(\n",
    "                regex, requests.get(input()).text\n",
    "            )\n",
    "        )\n",
    "    ), sep='\\n')"
   ]
  },
  {
   "cell_type": "markdown",
   "metadata": {},
   "source": [
    "---"
   ]
  },
  {
   "cell_type": "markdown",
   "metadata": {},
   "source": [
    "# 3.5 Распространённые форматы текстовых файлов: CSV, JSON"
   ]
  },
  {
   "cell_type": "code",
   "execution_count": 307,
   "metadata": {},
   "outputs": [
    {
     "name": "stdout",
     "output_type": "stream",
     "text": [
      "['first_name', ' last_name', ' module1', ' module2', ' module3', ' description ']\n",
      "['stedent', ' good', ' 100', ' 100', ' 100', ' excellent score']\n",
      "['student', ' best', ' 100', ' 90', ' \"100', '2\"', ' \"good score ']\n",
      "['but could be better\" ']\n"
     ]
    }
   ],
   "source": [
    "# у меня почему-то не работают кавычки как в видео\n",
    "import csv\n",
    "\n",
    "with open('commasep.csv') as f: \n",
    "    reader = csv.reader(f, delimiter = ',')            # reader - пока файл открыт\n",
    "    for row in reader:\n",
    "        print(row)"
   ]
  },
  {
   "cell_type": "code",
   "execution_count": 300,
   "metadata": {},
   "outputs": [
    {
     "name": "stdout",
     "output_type": "stream",
     "text": [
      "['first_name', ' last_name', ' module1', ' module2', ' module3', ' description']\n",
      "['stedent', ' good', ' 100', ' 100', ' 100', ' excellent score']\n",
      "['student', ' best', ' 100', ' 90', ' \"100', '2\"', ' \"good score']\n",
      "['but could be better\"']\n"
     ]
    }
   ],
   "source": [
    "# тоже самое без библиотеки csv\n",
    "r = []\n",
    "with open('commasep.csv') as f: \n",
    "    for line in f:\n",
    "        line = line.strip()\n",
    "        r.append(line.split(','))\n",
    "for line in r:     \n",
    "    print(line)"
   ]
  },
  {
   "cell_type": "code",
   "execution_count": 305,
   "metadata": {},
   "outputs": [
    {
     "name": "stdout",
     "output_type": "stream",
     "text": [
      "['first_name', 'last_name', 'module1', 'module2', 'module3', 'description ']\n",
      "['stedent', 'good', '100', '100', '100', 'excellent score']\n",
      "['student', 'best', '100', '90', '100.2', 'good score \\nbut could be better ']\n"
     ]
    }
   ],
   "source": [
    "# как быть с tsv, здесь лучше распозналось  \n",
    "import csv\n",
    "\n",
    "with open('commasep.tsv') as f: \n",
    "    reader = csv.reader(f, delimiter='\\t')            # reader - пока файл открыт\n",
    "    for row in reader:\n",
    "        print(row)"
   ]
  },
  {
   "cell_type": "code",
   "execution_count": 312,
   "metadata": {},
   "outputs": [],
   "source": [
    "# можно также дозаписывать с файл с помощью этого пакета\n",
    "import csv\n",
    "\n",
    "students = [\n",
    "    ['Grag','Dean', '70', '80', '90', 'Good job, Grag'], \n",
    "    ['Wirt', 'Wood', '80', '80.2','80', 'Nicely done' ]\n",
    "]\n",
    "\n",
    "with open('commasep.csv', 'a') as f: \n",
    "    writer = csv.writer(f)            # reader - пока файл открыт\n",
    "    for row in students:\n",
    "        writer.writerow(row)\n",
    "# можно это сделать по-другому, без итераций. Но в таком случае это может произойти неккоректно\n",
    "with open('commasep.csv', 'a') as f: \n",
    "    writer = csv.writer(f) \n",
    "    writer.writerow(students)\n",
    "# также в данной библиотеке есть спецаильные метки поведения. К прмиеру можно поместить в кавычки что-то\n",
    "with open('commasep.csv', 'a') as f: \n",
    "    writer = csv.writer(f,  quoting = csv.QUOTE_NONNUMERIC)            # почему-то все равно работает не так \n",
    "    for row in students:\n",
    "        writer.writerow(row)"
   ]
  },
  {
   "cell_type": "markdown",
   "metadata": {},
   "source": [
    "----"
   ]
  },
  {
   "cell_type": "markdown",
   "metadata": {},
   "source": [
    "Вам дана частичная выборка из датасета зафиксированных преступлений, совершенных в городе Чикаго с 2001 года по настоящее время.\n",
    "\n",
    "Одним из атрибутов преступления является его тип – Primary Type.\n",
    "\n",
    "Вам необходимо узнать тип преступления, которое было зафиксировано максимальное число раз в 2015 году.\n",
    "\n",
    "Файл с данными:\n",
    "Crimes.csv"
   ]
  },
  {
   "cell_type": "code",
   "execution_count": 409,
   "metadata": {},
   "outputs": [
    {
     "data": {
      "text/plain": [
       "{'THEFT': 759,\n",
       " 'INTIMIDATION': 2,\n",
       " 'INTERFERENCE WITH PUBLIC OFFICER': 13,\n",
       " 'OFFENSE INVOLVING CHILDREN': 24,\n",
       " 'SEX OFFENSE': 13,\n",
       " 'MOTOR VEHICLE THEFT': 161,\n",
       " 'GAMBLING': 2,\n",
       " 'HOMICIDE': 5,\n",
       " 'CRIMINAL DAMAGE': 379,\n",
       " 'OTHER OFFENSE': 231,\n",
       " 'BURGLARY': 170,\n",
       " 'STALKING': 3,\n",
       " 'WEAPONS VIOLATION': 33,\n",
       " 'LIQUOR LAW VIOLATION': 4,\n",
       " 'ARSON': 3,\n",
       " 'ASSAULT': 221,\n",
       " 'PUBLIC PEACE VIOLATION': 32,\n",
       " 'ROBBERY': 115,\n",
       " 'CRIM SEXUAL ASSAULT': 17,\n",
       " 'CRIMINAL TRESPASS': 79,\n",
       " 'KIDNAPPING': 2,\n",
       " 'NARCOTICS': 296,\n",
       " 'PROSTITUTION': 16,\n",
       " 'DECEPTIVE PRACTICE': 194,\n",
       " 'BATTERY': 613}"
      ]
     },
     "execution_count": 409,
     "metadata": {},
     "output_type": "execute_result"
    }
   ],
   "source": [
    "import csv\n",
    "import datetime as dt\n",
    "\n",
    "com = []\n",
    "with open('Crimes.csv') as f: \n",
    "    reader = csv.reader(f)\n",
    "    for line in reader:\n",
    "        com.append(line) # вчитка базы\n",
    "\n",
    "for i in com[1:]:\n",
    "    i[2] = dt.datetime.strptime(i[2], '%m/%d/%Y %I:%M:%S %p') # приведение даты к виду\n",
    "\n",
    "doc = []\n",
    "for line in com[1:]:\n",
    "    if line[2]>=dt.datetime(2015, 1, 1, 1, 1, 1): # формирование выборки \n",
    "        doc.append(line)\n",
    "\n",
    "s = set()\n",
    "for i in doc:               # узнать количество и виды уникальных преступлений\n",
    "     s.add(i[5])\n",
    "        \n",
    "dic = {}\n",
    "for i in s:                 # с помощью словарика подсчитываем\n",
    "    count = 0\n",
    "    for ii in doc: \n",
    "        if i==ii[5]:\n",
    "            count+=1\n",
    "        dic[i] = count\n",
    "dic "
   ]
  },
  {
   "cell_type": "code",
   "execution_count": null,
   "metadata": {},
   "outputs": [],
   "source": [
    "# можно было проще,хорошее решение\n",
    "\n",
    "import csv\n",
    "crimes = [row[5] for row in csv.reader(open(\"Crimes.csv\"))]\n",
    "print(max(set(crimes), key=lambda x: crimes.count(x)))"
   ]
  },
  {
   "cell_type": "markdown",
   "metadata": {},
   "source": [
    "---"
   ]
  },
  {
   "cell_type": "markdown",
   "metadata": {},
   "source": [
    "## json\n",
    "JavaScript Object Notation"
   ]
  },
  {
   "cell_type": "code",
   "execution_count": 413,
   "metadata": {},
   "outputs": [],
   "source": [
    "import json\n",
    "# В читом json ключем может быть только строка, null(js)==None(py), true(js)==True(py)\n",
    "student1 = {\n",
    "    'first_name': 'Greg',\n",
    "    'last_name': 'Dean',\n",
    "    'scores': [70, 80, 90],\n",
    "    'description': \"Good job, Greg\",\n",
    "    'certificate': True                                # словари. То есть json - список словарей\n",
    "}\n",
    "\n",
    "student2 = {\n",
    "    'first_name': 'Wirt',\n",
    "    'last_name': 'Wood',\n",
    "    'scores': [80, 80.2, 80],\n",
    "    'description': \"Nicely Done\",\n",
    "    'certificate': True\n",
    "}"
   ]
  },
  {
   "cell_type": "markdown",
   "metadata": {},
   "source": [
    "### dumps\n",
    "1 аргумент - объект языка python. Возвращается объект в формате json. доп. аргументы по вкусу"
   ]
  },
  {
   "cell_type": "code",
   "execution_count": 415,
   "metadata": {},
   "outputs": [
    {
     "name": "stdout",
     "output_type": "stream",
     "text": [
      "[\n",
      "    {\n",
      "        \"certificate\": true,\n",
      "        \"description\": \"Good job, Greg\",\n",
      "        \"first_name\": \"Greg\",\n",
      "        \"last_name\": \"Dean\",\n",
      "        \"scores\": [\n",
      "            70,\n",
      "            80,\n",
      "            90\n",
      "        ]\n",
      "    },\n",
      "    {\n",
      "        \"certificate\": true,\n",
      "        \"description\": \"Nicely Done\",\n",
      "        \"first_name\": \"Wirt\",\n",
      "        \"last_name\": \"Wood\",\n",
      "        \"scores\": [\n",
      "            80,\n",
      "            80.2,\n",
      "            80\n",
      "        ]\n",
      "    }\n",
      "]\n"
     ]
    }
   ],
   "source": [
    "data = [student1, student2]\n",
    "data_json = json.dumps(data, indent=4, sort_keys=True)\n",
    "\n",
    "print(data_json)"
   ]
  },
  {
   "cell_type": "markdown",
   "metadata": {},
   "source": [
    "### dump\n",
    "Эта функция в отличии от предыдущей записывает в файл еще"
   ]
  },
  {
   "cell_type": "code",
   "execution_count": 416,
   "metadata": {},
   "outputs": [],
   "source": [
    "with open(\"students.json\", \"w\") as f:\n",
    "    json.dump(data, f, indent=4, sort_keys=True) "
   ]
  },
  {
   "cell_type": "markdown",
   "metadata": {},
   "source": [
    "### loads\n",
    "Делает наоборот dumps - принимает json, возвращает python object"
   ]
  },
  {
   "cell_type": "code",
   "execution_count": 421,
   "metadata": {},
   "outputs": [
    {
     "name": "stdout",
     "output_type": "stream",
     "text": [
      "{'certificate': True, 'description': 'Good job, Greg', 'first_name': 'Greg', 'last_name': 'Dean', 'scores': [70, 80, 90]}\n",
      "{'certificate': True, 'description': 'Nicely Done', 'first_name': 'Wirt', 'last_name': 'Wood', 'scores': [80, 80.2, 80]}\n",
      "240\n"
     ]
    }
   ],
   "source": [
    "data_again = json.loads(data_json) # в нашем случае возвращается список словарей\n",
    "print(*data_again, sep = '\\n')\n",
    "print(sum(data_again[0][\"scores\"]))"
   ]
  },
  {
   "cell_type": "markdown",
   "metadata": {},
   "source": [
    "### load\n",
    "эта функция для того, чтобы сделать то же самое, но из файла"
   ]
  },
  {
   "cell_type": "code",
   "execution_count": 422,
   "metadata": {},
   "outputs": [
    {
     "name": "stdout",
     "output_type": "stream",
     "text": [
      "240.2\n"
     ]
    }
   ],
   "source": [
    "with open(\"students.json\", \"r\") as f:\n",
    "    data_again = json.load(f)\n",
    "    print(sum(data_again[1][\"scores\"]))"
   ]
  },
  {
   "cell_type": "markdown",
   "metadata": {},
   "source": [
    "---"
   ]
  },
  {
   "cell_type": "markdown",
   "metadata": {},
   "source": [
    "Вам дано описание наследования классов в формате JSON. <br>\n",
    "Описание представляет из себя массив JSON-объектов, которые соответствуют классам. У каждого JSON-объекта есть поле name, которое содержит имя класса, и поле parents, которое содержит список имен прямых предков.\n",
    "\n",
    "**Пример:**\n",
    "```json\n",
    "[{\"name\": \"A\", \"parents\": []}, {\"name\": \"B\", \"parents\": [\"A\", \"C\"]}, {\"name\": \"C\", \"parents\": [\"A\"]}]\n",
    "```\n",
    "**Эквивалент на Python:**\n",
    "```python\n",
    "class A:\n",
    "    pass\n",
    "\n",
    "class B(A, C):\n",
    "    pass\n",
    "\n",
    "class C(A):\n",
    "    pass\n",
    "```\n",
    "\n",
    "Гарантируется, что никакой класс не наследуется от себя явно или косвенно, и что никакой класс не наследуется явно от одного класса более одного раза.\n",
    "\n",
    "Для каждого класса вычислите предком скольких классов он является и выведите эту информацию в следующем формате.\n",
    "\n",
    "```<имя класса> : <количество потомков>```\n",
    "\n",
    "Выводить классы следует в лексикографическом порядке.\n",
    "\n",
    "**Sample Input:**\n",
    "\n",
    "```json \n",
    "[{\"name\": \"A\", \"parents\": []}, {\"name\": \"B\", \"parents\": [\"A\", \"C\"]}, {\"name\": \"C\", \"parents\": [\"A\"]}]```\n",
    "\n",
    "**Sample Output:**\n",
    "```\n",
    "A : 3\n",
    "B : 1\n",
    "C : 2\n",
    "```"
   ]
  },
  {
   "cell_type": "code",
   "execution_count": 156,
   "metadata": {},
   "outputs": [
    {
     "name": "stdout",
     "output_type": "stream",
     "text": [
      "[{\"name\": \"B\", \"parents\": [\"A\", \"C\"]}, {\"name\": \"C\", \"parents\": [\"A\"]}, {\"name\": \"A\", \"parents\": []}, {\"name\": \"D\", \"parents\":[\"C\", \"F\"]}, {\"name\": \"E\", \"parents\":[\"D\"]}, {\"name\": \"F\", \"parents\":[]}]\n",
      "A : 5\n",
      "B : 1\n",
      "C : 4\n",
      "D : 2\n",
      "E : 1\n",
      "F : 3\n"
     ]
    }
   ],
   "source": [
    "# Your code complexity score is 22.14 (best for this step is 12.53). \n",
    "import json\n",
    "jsn = json.loads(input()) # загрузка\n",
    "\n",
    "#jsn.sort(key= lambda x: x['name'])   # подсмотрел в решениях, можно сортровать на этапе списка\n",
    "#jsn\n",
    "\n",
    "js = {}\n",
    "for i in jsn:                    # превращение в привычный словарь\n",
    "    js[i['name']]=i['parents'] \n",
    "\n",
    "def anc(node):\n",
    "    '''\n",
    "    function takes one argument - node, returns the set of nodes, which are heritates from in-node\n",
    "    '''\n",
    "    for i in js:\n",
    "        if node in js[i]:\n",
    "            s.add(i)              # работает бля!\n",
    "            if node!=i:\n",
    "                anc(i)\n",
    "    return s\n",
    "dic = {}\n",
    "for i in js:                          # столько сколько надо  (считаем)\n",
    "    s = set()\n",
    "    dic[i] = len(anc(i)) + 1 \n",
    "\n",
    "    \n",
    "    \n",
    "l = list(dic)         # сортируем\n",
    "l.sort()\n",
    "dic2 = {}\n",
    "for i in l: \n",
    "    for ii in dic: \n",
    "        if i==ii:\n",
    "            dic2[i]=dic[ii]\n",
    "            \n",
    "\n",
    "        \n",
    "for i in dic2:                   # печатаем\n",
    "    print(i,':', dic2[i])"
   ]
  },
  {
   "cell_type": "markdown",
   "metadata": {},
   "source": [
    "```[{\"name\": \"B\", \"parents\": [\"A\", \"C\"]}, {\"name\": \"C\", \"parents\": [\"A\"]}, {\"name\": \"A\", \"parents\": []}, {\"name\": \"D\", \"parents\":[\"C\", \"F\"]}, {\"name\": \"E\", \"parents\":[\"D\"]}, {\"name\": \"F\", \"parents\":[]}]```"
   ]
  },
  {
   "cell_type": "code",
   "execution_count": 149,
   "metadata": {},
   "outputs": [
    {
     "data": {
      "image/png": "[encoded data removed]",
      "text/plain": [
       "<Figure size 432x288 with 1 Axes>"
      ]
     },
     "metadata": {},
     "output_type": "display_data"
    }
   ],
   "source": [
    "# визуализация, может пригодится)\n",
    "import networkx as nx                      \n",
    "import matplotlib.pyplot as plt\n",
    "\n",
    "g = nx.DiGraph(js).reverse()\n",
    "\n",
    "#nx.draw(g)\n",
    "nx.draw_spring(g, with_labels=True)"
   ]
  },
  {
   "cell_type": "code",
   "execution_count": null,
   "metadata": {},
   "outputs": [],
   "source": [
    "# решение Кости Зайцева\n",
    "import json\n",
    "\n",
    "data = json.loads(input())\n",
    "children = dict()\n",
    "\n",
    "for cls in data:\n",
    "    for par in cls[\"parents\"]:\n",
    "        if par not in children:\n",
    "            children[par] = []\n",
    "        children[par].append(cls[\"name\"])\n",
    "\n",
    "def dfs(v, used):\n",
    "    size = 1\n",
    "    used.add(v)\n",
    "    if v not in children:\n",
    "        return size\n",
    "\n",
    "    for child in children[v]:\n",
    "        if child not in used:\n",
    "            size += dfs(child, used)\n",
    "\n",
    "    return size\n",
    "\n",
    "ans = []\n",
    "\n",
    "for cls in data:\n",
    "    ans.append((cls[\"name\"], dfs(cls[\"name\"], set())))\n",
    "\n",
    "for i in sorted(ans):\n",
    "    print(i[0], \":\", i[1])"
   ]
  },
  {
   "cell_type": "markdown",
   "metadata": {},
   "source": [
    "---"
   ]
  },
  {
   "cell_type": "markdown",
   "metadata": {},
   "source": [
    "# API\n",
    "предоставление расширенной функциональности <br>\n",
    "здесь будет рассмотрен web-api"
   ]
  },
  {
   "cell_type": "code",
   "execution_count": 6,
   "metadata": {},
   "outputs": [
    {
     "name": "stdout",
     "output_type": "stream",
     "text": [
      "200\n",
      "application/json; charset=utf-8\n",
      "{'coord': {'lon': 30.32, 'lat': 59.94}, 'weather': [{'id': 800, 'main': 'Clear', 'description': 'clear sky', 'icon': '01n'}], 'base': 'stations', 'main': {'temp': 286.15, 'pressure': 1016, 'humidity': 87, 'temp_min': 286.15, 'temp_max': 286.15}, 'visibility': 10000, 'wind': {'speed': 1}, 'clouds': {'all': 0}, 'dt': 1535401800, 'sys': {'type': 1, 'id': 7267, 'message': 0.0025, 'country': 'RU', 'sunrise': 1535337814, 'sunset': 1535390092}, 'id': 498817, 'name': 'Saint Petersburg', 'cod': 200}\n"
     ]
    }
   ],
   "source": [
    "# https://openweathermap.org/\n",
    "# раздел api \n",
    "# выбрав нужный раздел, нужно обратить внимание на параметры и пример, и далее это можно использовать \n",
    "# нам нужен \"API call\"\n",
    "\n",
    "import requests \n",
    "\n",
    "api_url = 'http://api.openweathermap.org/data/2.5/weather?'\n",
    " \n",
    "params = {                  # словарь с ключами - названиями параметров\n",
    "    'q': 'Saint Petersburg', # Saint-Petersburg - status_code 404\n",
    "    'appid': '1fb1b976b99052c8634bfa6827f1ebcb'\n",
    "}\n",
    "\n",
    "res = requests.get(api_url, params = params)\n",
    "print(res.status_code)\n",
    "print(res.headers['Content-Type']) # здесь видно, что наши данные в формате json\n",
    "print(res.json()) # res.json = json.loads(res.text) # чтобы вытащить именно градусы, нужно вначале понять\n",
    "# где они лежат"
   ]
  },
  {
   "cell_type": "code",
   "execution_count": 28,
   "metadata": {},
   "outputs": [
    {
     "data": {
      "text/plain": [
       "286.15"
      ]
     },
     "execution_count": 28,
     "metadata": {},
     "output_type": "execute_result"
    }
   ],
   "source": [
    "data= res.json()\n",
    "data['main']['temp']"
   ]
  },
  {
   "cell_type": "markdown",
   "metadata": {},
   "source": [
    "### Сформируем утилиту"
   ]
  },
  {
   "cell_type": "code",
   "execution_count": 37,
   "metadata": {},
   "outputs": [
    {
     "name": "stdout",
     "output_type": "stream",
     "text": [
      "назови город, родной - Maykop\n",
      "Щас в городе Maykop 19.84 градусов\n"
     ]
    },
    {
     "data": {
      "text/plain": [
       "'http://api.openweathermap.org/data/2.5/weather?q=Maykop&appid=1fb1b976b99052c8634bfa6827f1ebcb&units=metric'"
      ]
     },
     "execution_count": 37,
     "metadata": {},
     "output_type": "execute_result"
    }
   ],
   "source": [
    "city = input('назови город, родной - ')\n",
    "\n",
    "api_url = 'http://api.openweathermap.org/data/2.5/weather?'\n",
    " \n",
    "params = {                  # словарь с ключами - названиями параметров\n",
    "    'q': city, # Saint-Petersburg - status_code 404\n",
    "    'appid': '1fb1b976b99052c8634bfa6827f1ebcb', \n",
    "    'units': 'metric'\n",
    "}\n",
    "\n",
    "res = requests.get(api_url, params = params)\n",
    "data = res.json()\n",
    "\n",
    "print(\"Щас в городе {} {} градусов\".format(city, data['main']['temp']))\n",
    "\n",
    "res.url"
   ]
  },
  {
   "cell_type": "markdown",
   "metadata": {},
   "source": [
    "---"
   ]
  },
  {
   "cell_type": "markdown",
   "metadata": {},
   "source": [
    "В этой задаче вам необходимо воспользоваться API сайта [numbersapi.com](numbersapi.com)\n",
    "\n",
    "Вам дается набор чисел. Для каждого из чисел необходимо узнать, существует ли интересный математический факт об этом числе.\n",
    "\n",
    "Для каждого числа выведите Interesting, если для числа существует интересный факт, и Boring иначе. <br>\n",
    "Выводите информацию об интересности чисел в таком же порядке, в каком следуют числа во входном файле.\n",
    "\n",
    "Пример запроса к интересному числу: <br>\n",
    "http://numbersapi.com/31/math?json=true\n",
    "\n",
    "Пример запроса к скучному числу:<br>\n",
    "http://numbersapi.com/999/math?json=true\n",
    "\n",
    "**Пример входного файла:**\n",
    "```\n",
    "31\n",
    "999\n",
    "1024\n",
    "502\n",
    "```\n",
    "**Пример выходного файла:**\n",
    "```\n",
    "Interesting\n",
    "Boring\n",
    "Interesting\n",
    "Boring```"
   ]
  },
  {
   "cell_type": "code",
   "execution_count": 98,
   "metadata": {},
   "outputs": [
    {
     "name": "stdout",
     "output_type": "stream",
     "text": [
      "Boring\n",
      "Interesting\n",
      "Interesting\n",
      "Interesting\n",
      "Interesting\n",
      "Interesting\n",
      "Interesting\n",
      "Interesting\n",
      "Interesting\n",
      "Boring\n",
      "Interesting\n",
      "Interesting\n",
      "Interesting\n",
      "Interesting\n",
      "Interesting\n"
     ]
    }
   ],
   "source": [
    "# решение верно\n",
    "import requests\n",
    "\n",
    "\n",
    "doc = []\n",
    "with open('dataset_24476_3.txt') as f: \n",
    "    for line in f: \n",
    "        line = line.strip()\n",
    "        doc.append(int(line))\n",
    "        \n",
    "        \n",
    "params = {\n",
    "    'json':'true'\n",
    "    \n",
    "}\n",
    "for i in doc: \n",
    "    res = requests.get('http://numbersapi.com/{}/math'.format(i), params=params)\n",
    "    js = res.json()\n",
    "    #print(res.url)\n",
    "    if js['found']== False: \n",
    "        print('Boring')\n",
    "    else: \n",
    "        print('Interesting')"
   ]
  },
  {
   "cell_type": "markdown",
   "metadata": {},
   "source": [
    "---"
   ]
  },
  {
   "cell_type": "markdown",
   "metadata": {},
   "source": [
    "В этой задаче вам необходимо воспользоваться API сайта [artsy.net](https://developers.artsy.net/start)\n",
    "\n",
    "API проекта Artsy предоставляет информацию о некоторых деятелях искусства, их работах, выставках.\n",
    "\n",
    "В рамках данной задачи вам понадобятся сведения о деятелях искусства (назовем их, условно, художники).\n",
    "\n",
    "Вам даны идентификаторы художников в базе Artsy.<br>\n",
    "Для каждого идентификатора получите информацию о имени художника и годе рождения.<br>\n",
    "Выведите имена художников в порядке неубывания года рождения. В случае если у художников одинаковый год рождения, выведите их имена в лексикографическом порядке.\n",
    "\n",
    "**Работа с API Artsy**\n",
    "\n",
    "Полностью открытое и свободное API предоставляют совсем немногие проекты. В большинстве случаев, для получения доступа к API необходимо зарегистрироваться в проекте, создать свое приложение, и получить уникальный ключ (или токен), и в дальнейшем все запросы к API осуществляются при помощи этого ключа.\n",
    "\n",
    "Чтобы начать работу с API проекта Artsy, вам необходимо пройти на стартовую страницу документации к API https://developers.artsy.net/start и выполнить необходимые шаги, а именно зарегистрироваться, создать приложение, и получить пару идентификаторов Client Id и Client Secret. Не публикуйте эти идентификаторы.\n",
    "\n",
    "После этого необходимо получить токен доступа к API. На стартовой странице документации есть примеры того, как можно выполнить запрос и как выглядит ответ сервера. Мы приведем пример запроса на Python.\n",
    "```python\n",
    "import requests\n",
    "import json\n",
    "\n",
    "client_id = '...'\n",
    "client_secret = '...'\n",
    "\n",
    "# инициируем запрос на получение токена\n",
    "r = requests.post(\"https://api.artsy.net/api/tokens/xapp_token\",\n",
    "                  data={\n",
    "                      \"client_id\": client_id,\n",
    "                      \"client_secret\": client_secret\n",
    "                  })\n",
    "\n",
    "# разбираем ответ сервера\n",
    "j = json.loads(r.text)\n",
    "\n",
    "# достаем токен\n",
    "token = j[\"token\"]\n",
    "```\n",
    "Теперь все готово для получения информации о художниках. На стартовой странице документации есть пример того, как осуществляется запрос и как выглядит ответ сервера. Пример запроса на Python.\n",
    "```python\n",
    "# создаем заголовок, содержащий наш токен\n",
    "headers = {\"X-Xapp-Token\" : token}\n",
    "\n",
    "\n",
    "# инициируем запрос с заголовком\n",
    "r = requests.get(\"https://api.artsy.net/api/artists/4d8b92b34eb68a1b2c0003f4\", headers=headers)\n",
    "\n",
    "# разбираем ответ сервера\n",
    "j = json.loads(r.text)\n",
    "\n",
    "```\n",
    "**Примечание:**\n",
    "﻿В качестве имени художника используется параметр sortable_name в кодировке UTF-8.\n",
    "\n",
    "**Пример входных данных:**\n",
    "```\n",
    "4d8b92b34eb68a1b2c0003f4\n",
    "537def3c139b21353f0006a6\n",
    "4e2ed576477cc70001006f99\n",
    "```\n",
    "**Пример выходных данных:**\n",
    "```\n",
    "Abbott Mary\n",
    "Warhol Andy\n",
    "Abbas Hamra\n",
    "```\n",
    "**Примечание для пользователей Windows**<br>\n",
    "При открытии файла для записи на Windows по умолчанию используется кодировка CP1251, в то время как для записи имен на сайте используется кодировка UTF-8, что может привести к ошибке при попытке записать в файл имя с необычными символами. Вы можете использовать print, или аргумент encoding функции open."
   ]
  },
  {
   "cell_type": "markdown",
   "metadata": {},
   "source": [
    "**Name** --------------```Serge_app``` <br>\n",
    "**Client Id** ----------```3c4d54210c4df9c961ed``` <br>\n",
    "**Client Secret** ---```2fdc3185bd03f35c1820f9998e07ab77```"
   ]
  },
  {
   "cell_type": "code",
   "execution_count": null,
   "metadata": {},
   "outputs": [],
   "source": [
    "import requests\n",
    "import json\n",
    "\n",
    "client_id = '3c4d54210c4df9c961ed'\n",
    "client_secret = '2fdc3185bd03f35c1820f9998e07ab77'\n",
    "\n",
    "# инициируем запрос на получение токена\n",
    "r = requests.post(\"https://api.artsy.net/api/tokens/xapp_token\",\n",
    "                  data={\n",
    "                      \"client_id\": client_id,\n",
    "                      \"client_secret\": client_secret\n",
    "                  })\n",
    "\n",
    "# разбираем ответ сервера\n",
    "j = json.loads(r.text)\n",
    "\n",
    "# достаем токен\n",
    "token = j[\"token\"]"
   ]
  },
  {
   "cell_type": "code",
   "execution_count": 104,
   "metadata": {},
   "outputs": [],
   "source": [
    "exm_lst = ['4d8b92b34eb68a1b2c0003f4',\n",
    "'537def3c139b21353f0006a',\n",
    "'4e2ed576477cc70001006f99']"
   ]
  },
  {
   "cell_type": "code",
   "execution_count": 108,
   "metadata": {},
   "outputs": [],
   "source": [
    "# создаем заголовок, содержащий наш токен\n",
    "headers = {\"X-Xapp-Token\" : token}\n",
    "\n",
    "\n",
    "# инициируем запрос с заголовком\n",
    "r = requests.get(\"https://api.artsy.net/api/artists/4d8b92b34eb68a1b2c0003f4\", headers=headers)\n",
    "\n",
    "# разбираем ответ сервера\n",
    "j = json.loads(r.text)"
   ]
  },
  {
   "cell_type": "code",
   "execution_count": 140,
   "metadata": {},
   "outputs": [
    {
     "name": "stdout",
     "output_type": "stream",
     "text": [
      "Abraham Roentgen\n",
      "Abastenia St. Leger Eberle\n",
      "Aarnio Eero\n",
      "Abend Harry\n",
      "Abate Claudio\n",
      "Abramović Marina\n",
      "Ackling Roger\n",
      "Ableton Miguel\n",
      "Aaron Joseph\n",
      "Abts Tomma\n",
      "Acea Francis\n",
      "Ackermann Rita\n",
      "Abidin Adel\n",
      "Ackerman Fiona\n",
      "Adam D. Miller\n"
     ]
    }
   ],
   "source": [
    "# работает как надо\n",
    "import requests\n",
    "import json\n",
    "\n",
    "doc = []\n",
    "with open('dataset_24476_4.txt') as f: \n",
    "    for line in f: \n",
    "        line = line.strip()\n",
    "        doc.append(line)\n",
    "artists = []\n",
    "for i in doc: \n",
    "    res = requests.get(\"https://api.artsy.net/api/artists/{}\".format(i), headers=headers)\n",
    "    if res.status_code!=404:\n",
    "        js = json.loads(res.text)\n",
    "        artists.append((js['birthday'],js['sortable_name']))\n",
    "\n",
    "artists.sort()\n",
    "for i in artists:\n",
    "    print(i[1])    "
   ]
  },
  {
   "cell_type": "markdown",
   "metadata": {},
   "source": [
    "---"
   ]
  },
  {
   "cell_type": "markdown",
   "metadata": {},
   "source": [
    "# 3.7 XML, библиотека ElementTree, библиотека lxml"
   ]
  },
  {
   "cell_type": "markdown",
   "metadata": {},
   "source": [
    "![](Selection_002.png)"
   ]
  },
  {
   "cell_type": "markdown",
   "metadata": {},
   "source": [
    "в териминологии xml присутствует метафора дерева \n",
    "![](Selection_003.png)\n",
    "\n",
    "Кроме того, у каждого элемента могут быть аттрибуты. Это какая-то дополнительная инф. об элементы (id = '1'). Значение аттрибута всегда в кавычках"
   ]
  },
  {
   "cell_type": "code",
   "execution_count": 143,
   "metadata": {},
   "outputs": [],
   "source": [
    "from xml.etree import ElementTree\n",
    "\n",
    "tree = ElementTree.parse('example.xml')"
   ]
  },
  {
   "cell_type": "code",
   "execution_count": 147,
   "metadata": {},
   "outputs": [],
   "source": [
    "root = tree.getroot()"
   ]
  },
  {
   "cell_type": "code",
   "execution_count": 151,
   "metadata": {},
   "outputs": [
    {
     "name": "stdout",
     "output_type": "stream",
     "text": [
      "studentsList {}\n"
     ]
    }
   ],
   "source": [
    "print(root.tag, root.attrib) # пара элемент аттрибут"
   ]
  },
  {
   "cell_type": "code",
   "execution_count": 166,
   "metadata": {},
   "outputs": [
    {
     "name": "stdout",
     "output_type": "stream",
     "text": [
      "student {'id': '1'}\n",
      "student {'id': '2'}\n",
      "Greg\n"
     ]
    }
   ],
   "source": [
    "for child in root:\n",
    "    print(child.tag, child.attrib)\n",
    "# можно также через индексацию обращаться к детям детей\n",
    "\n",
    "print(root[0][0].text) # пара tag - text представляют собой пару элемент - хранимое значение\n",
    "\n",
    "# все элементы дерева, имеют класс element"
   ]
  },
  {
   "cell_type": "code",
   "execution_count": 204,
   "metadata": {},
   "outputs": [
    {
     "name": "stdout",
     "output_type": "stream",
     "text": [
      "<Element 'firstName' at 0x7f2a2016ef48>\n",
      "<Element 'firstName' at 0x7f2a2016ee58>\n"
     ]
    }
   ],
   "source": [
    "for element in root.iter('scores'): # находит элемент(scores), и возвращает его итератор\n",
    "    print(element)"
   ]
  },
  {
   "cell_type": "code",
   "execution_count": 207,
   "metadata": {},
   "outputs": [
    {
     "name": "stdout",
     "output_type": "stream",
     "text": [
      "240.0\n",
      "240.2\n"
     ]
    }
   ],
   "source": [
    "for element in root.iter('scores'): \n",
    "    score_sum = 0\n",
    "    for child in element:\n",
    "        score_sum+=float(child.text)\n",
    "    print(score_sum)"
   ]
  },
  {
   "cell_type": "markdown",
   "metadata": {},
   "source": [
    "### Запись в файл"
   ]
  },
  {
   "cell_type": "code",
   "execution_count": 208,
   "metadata": {},
   "outputs": [],
   "source": [
    "tree.write('example_copy.xml')"
   ]
  },
  {
   "cell_type": "code",
   "execution_count": 212,
   "metadata": {},
   "outputs": [
    {
     "name": "stdout",
     "output_type": "stream",
     "text": [
      "<Element 'module1' at 0x7f2a2016ed18> 100.0\n"
     ]
    }
   ],
   "source": [
    "greg = root[0]\n",
    "module1 = next(greg.iter('module1')) # оператор next нужен для того, чтобы избавится от итератора, \n",
    "# и работать со значением\n",
    "print(module1, module1.text)\n",
    "module1.text = str(float(module1.text) + 30) # то есть все изменения происходят прямо в дерево\n",
    "tree.write('example_copy.xml')"
   ]
  },
  {
   "cell_type": "code",
   "execution_count": 217,
   "metadata": {},
   "outputs": [],
   "source": [
    "# изменить теперь Грегу сертификат \n",
    "\n",
    "tree = ElementTree.parse('example_copy.xml')\n",
    "root = tree.getroot()\n",
    "\n",
    "greg = root[0]\n",
    "#cert = next(greg.iter('certificate'))   # один вариант, он работает \n",
    "#cert.text = 'with distinction'\n",
    "#tree.write('example_copy.xml')\n",
    "\n",
    "cert = greg[2]\n",
    "cert.set('type', 'with_distinction') # здесь мы меняем атрибут\n",
    "tree.write('example_copy.xml')"
   ]
  },
  {
   "cell_type": "markdown",
   "metadata": {},
   "source": [
    "### Как добавить или создать элемент из другого элемента"
   ]
  },
  {
   "cell_type": "code",
   "execution_count": 221,
   "metadata": {},
   "outputs": [],
   "source": [
    "description = ElementTree.Element('description')\n",
    "description.text = \"Showed_Exelent_skils_durring_the_course\"\n",
    "greg.append(description)\n",
    "\n",
    "tree.write('example_copy.xml')"
   ]
  },
  {
   "cell_type": "code",
   "execution_count": 226,
   "metadata": {},
   "outputs": [],
   "source": [
    "# как убрать\n",
    "\n",
    "description = greg.find('description') # метод find находит первое вхождение в таким названием\n",
    "greg.remove(description)\n",
    "tree.write('example_copy.xml')"
   ]
  },
  {
   "cell_type": "markdown",
   "metadata": {},
   "source": [
    "### creation\n",
    "как создать с самого начало"
   ]
  },
  {
   "cell_type": "code",
   "execution_count": 231,
   "metadata": {},
   "outputs": [],
   "source": [
    "from xml.etree import ElementTree\n",
    "\n",
    "root = ElementTree.Element(\"student\")\n",
    "\n",
    "first_name = ElementTree.SubElement(root, \"firstName\") # 1 arg, чей ребенок, кто \n",
    "first_name.text = \"Greg\"\n",
    "\n",
    "second_name = ElementTree.SubElement(root, \"secondName\")\n",
    "second_name.text = \"Dean\"\n",
    "\n",
    "scores = ElementTree.SubElement(root, \"scores\")\n",
    "\n",
    "module1 = ElementTree.SubElement(scores, \"module1\")\n",
    "module1.text = \"100\"\n",
    "\n",
    "module2 = ElementTree.SubElement(scores, \"module2\")\n",
    "module2.text = \"80\"\n",
    "\n",
    "module3 = ElementTree.SubElement(scores, \"module3\")\n",
    "module3.text = \"90\"\n",
    "\n",
    "tree = ElementTree.ElementTree(root)\n",
    "tree.write(\"student.xml\")"
   ]
  },
  {
   "cell_type": "markdown",
   "metadata": {},
   "source": [
    "### LXML"
   ]
  },
  {
   "cell_type": "code",
   "execution_count": 234,
   "metadata": {},
   "outputs": [
    {
     "name": "stdout",
     "output_type": "stream",
     "text": [
      "200\n",
      "text/html\n"
     ]
    }
   ],
   "source": [
    "from lxml import etree\n",
    "import requests\n",
    "\n",
    "res = requests.get('https://docs.python.org/3/')\n",
    "print(res.status_code)\n",
    "print(res.headers['Content-Type'])"
   ]
  },
  {
   "cell_type": "code",
   "execution_count": 237,
   "metadata": {},
   "outputs": [
    {
     "name": "stdout",
     "output_type": "stream",
     "text": [
      "<Element div at 0x7f2a0a4d3ac8> {'class': 'related', 'role': 'navigation', 'aria-label': 'related navigation'}\n",
      "<Element div at 0x7f2a09a67588> {'class': 'inline-search', 'style': 'display: none', 'role': 'search'}\n",
      "<Element div at 0x7f2a09a67f88> {'class': 'document'}\n",
      "<Element div at 0x7f2a0a4d3ac8> {'class': 'documentwrapper'}\n",
      "<Element div at 0x7f2a09a67588> {'class': 'bodywrapper'}\n",
      "<Element div at 0x7f2a09a67f88> {'class': 'body', 'role': 'main'}\n",
      "<Element div at 0x7f2a0a4d3ac8> {'class': 'sphinxsidebar', 'role': 'navigation', 'aria-label': 'main navigation'}\n",
      "<Element div at 0x7f2a09a67588> {'class': 'sphinxsidebarwrapper'}\n",
      "<Element div at 0x7f2a09a67f88> {'class': 'clearer'}\n",
      "<Element div at 0x7f2a0a4d3ac8> {'class': 'related', 'role': 'navigation', 'aria-label': 'related navigation'}\n",
      "<Element div at 0x7f2a09a67588> {'class': 'inline-search', 'style': 'display: none', 'role': 'search'}\n",
      "<Element div at 0x7f2a09a67f88> {'class': 'footer'}\n"
     ]
    }
   ],
   "source": [
    "parser = etree.HTMLParser() # 'умная часть пакета', так ка кпозволяет работать с 'плохими' html страницами \n",
    "root = etree.fromstring(res.text, parser) # эта функция, превращает грязные данные в чистые\n",
    "\n",
    "for i in root.iter('div'):\n",
    "    print(i, i.attrib)"
   ]
  },
  {
   "cell_type": "markdown",
   "metadata": {},
   "source": [
    "\n",
    "---"
   ]
  },
  {
   "cell_type": "markdown",
   "metadata": {},
   "source": [
    "Вам дано описание пирамиды из кубиков в формате XML. <br>\n",
    "Кубики могут быть трех цветов: красный (**red**), зеленый (**green**) и синий (**blue**). <br>\n",
    "Для каждого кубика известны его цвет, и известны кубики, расположенные прямо под ним.\n",
    "\n",
    "**Пример:**\n",
    "```xml\n",
    "<cube color=\"blue\">\n",
    "  <cube color=\"red\">\n",
    "    <cube color=\"green\">\n",
    "    </cube>\n",
    "  </cube>\n",
    "  <cube color=\"red\">\n",
    "  </cube>\n",
    "</cube>\n",
    "```\n",
    " \n",
    "\n",
    "Введем понятие ценности для кубиков. Самый верхний кубик, соответствующий корню XML документа имеет ценность **1**. Кубики, расположенные прямо под ним, имеют ценность **2**. Кубики, расположенные прямо под нижележащими кубиками, имеют ценность **3**. И т. д.\n",
    "\n",
    "Ценность цвета равна сумме ценностей всех кубиков этого цвета.\n",
    "\n",
    "Выведите через пробел три числа: ценности красного, зеленого и синего цветов.\n",
    "\n",
    "**Sample Input:**\n",
    "\n",
    "```html\n",
    "<cube color=\"blue\"><cube color=\"red\"><cube color=\"green\"></cube></cube><cube color=\"red\"></cube></cube>\n",
    "```\n",
    "**Sample Output:**\n",
    "```\n",
    "4 3 1\n",
    "```\n"
   ]
  },
  {
   "cell_type": "code",
   "execution_count": 46,
   "metadata": {},
   "outputs": [
    {
     "name": "stdout",
     "output_type": "stream",
     "text": [
      "<cube color=\"blue\"><cube color=\"red\"><cube color=\"green\"></cube></cube><cube color=\"red\"></cube></cube>\n"
     ]
    }
   ],
   "source": [
    "# разные способы распарсить\n",
    "\n",
    "# 1-------------------------------------------------------\n",
    "from xml.etree import ElementTree\n",
    "\n",
    "x = input() \n",
    "root = ElementTree.fromstring(x)\n",
    "tree = ElementTree.ElementTree(root)\n",
    "\n",
    "# 2-------------------------------------------------------\n",
    "from lxml import etree\n",
    "\n",
    "x = input()\n",
    "parser = etree.HTMLParser() \n",
    "root = etree.fromstring(x, parser)\n",
    "\n",
    "# 3-------------------------------------------------------\n",
    "from xml.etree import ElementTree\n",
    "\n",
    "x = input() \n",
    "parser = ElementTree.XMLParser()\n",
    "root = ElementTree.fromstring(x, parser)"
   ]
  },
  {
   "cell_type": "code",
   "execution_count": 111,
   "metadata": {},
   "outputs": [
    {
     "name": "stdout",
     "output_type": "stream",
     "text": [
      "<cube color=\"blue\"><cube color=\"red\"><cube color=\"green\"></cube></cube><cube color=\"red\"></cube></cube>\n",
      "4 3 1\n"
     ]
    }
   ],
   "source": [
    "# Your code complexity score is 10.2 (best for this step is 6.32)\n",
    "root = ElementTree.fromstring(input())\n",
    "dic = {}\n",
    "def chld(el, lvl = 0): \n",
    "    lvl+=1\n",
    "    if el.attrib['color'] not in dic:\n",
    "        dic[el.attrib['color']]=lvl\n",
    "    else:\n",
    "        dic[el.attrib['color']] += lvl\n",
    "    ls = el.getchildren()\n",
    "    #print(el.attrib, lvl)\n",
    "    for i in ls:\n",
    "        chld(i, lvl)\n",
    "chld(root)\n",
    "\n",
    "print(dic['red'], dic['green'], dic['blue'])"
   ]
  },
  {
   "cell_type": "code",
   "execution_count": 100,
   "metadata": {},
   "outputs": [
    {
     "name": "stdout",
     "output_type": "stream",
     "text": [
      "<cube color=\"blue\"><cube color=\"red\"><cube color=\"green\"></cube></cube><cube color=\"red\"></cube></cube>\n",
      "4 3 1\n"
     ]
    }
   ],
   "source": [
    "# хороший способ, без рекурсии, но не работает \n",
    "from xml.etree import ElementTree\n",
    "\n",
    "x = input() \n",
    "root = ElementTree.fromstring(x)\n",
    "\n",
    "it  = root.iter('cube')\n",
    "\n",
    "lst = []\n",
    "for i in it: \n",
    "    if i.attrib:\n",
    "        lst.append(i.attrib['color'])\n",
    "\n",
    "dic = {}\n",
    "for i, ii in enumerate(lst):\n",
    "    dic[ii] = i+1\n",
    "\n",
    "print(dic['red'], dic['green'], dic['blue'])"
   ]
  },
  {
   "cell_type": "code",
   "execution_count": null,
   "metadata": {},
   "outputs": [],
   "source": [
    "# решение модератора, более чистый код, нежели у меня\n",
    "\n",
    "from xml.etree import ElementTree\n",
    "\n",
    "root = ElementTree.fromstring(input())\n",
    "colors = {\"red\": 0, \"green\": 0, \"blue\": 0}\n",
    "\n",
    "def getcubes(root, value):\n",
    "    colors[root.attrib['color']] += value\n",
    "    for child in root:\n",
    "        getcubes(child, value+1)\n",
    "\n",
    "getcubes(root,1)\n",
    "print(colors[\"red\"], colors[\"green\"], colors[\"blue\"])"
   ]
  }
 ],
 "metadata": {
  "kernelspec": {
   "display_name": "Python 3",
   "language": "python",
   "name": "python3"
  },
  "language_info": {
   "codemirror_mode": {
    "name": "ipython",
    "version": 3
   },
   "file_extension": ".py",
   "mimetype": "text/x-python",
   "name": "python",
   "nbconvert_exporter": "python",
   "pygments_lexer": "ipython3",
   "version": "3.6.7"
  }
 },
 "nbformat": 4,
 "nbformat_minor": 2
}
